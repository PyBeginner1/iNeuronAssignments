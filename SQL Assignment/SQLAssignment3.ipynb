{
 "cells": [
  {
   "cell_type": "markdown",
   "id": "55c08b64",
   "metadata": {},
   "source": [
    "# SQL Assignment 3"
   ]
  },
  {
   "cell_type": "code",
   "execution_count": 1,
   "id": "ff01db06",
   "metadata": {},
   "outputs": [],
   "source": [
    "import mysql.connector as conn\n",
    "\n",
    "mydb = conn.connect(host = 'localhost', user = 'root', passwd = 'Cricket', use_pure = True)\n",
    "cursor = mydb.cursor(buffered=True)"
   ]
  },
  {
   "cell_type": "code",
   "execution_count": 2,
   "id": "ba716ea4",
   "metadata": {},
   "outputs": [],
   "source": [
    "cursor.execute('use Worker')"
   ]
  },
  {
   "cell_type": "markdown",
   "id": "e69ee2e7",
   "metadata": {},
   "source": [
    "# Q-1. Write an SQL query to print the FIRST_NAME from Worker table after removing white spaces from the right side."
   ]
  },
  {
   "cell_type": "code",
   "execution_count": 3,
   "id": "6b17ab46",
   "metadata": {},
   "outputs": [
    {
     "data": {
      "text/plain": [
       "[('Vishal',),\n",
       " ('Rahul',),\n",
       " ('Anisha',),\n",
       " ('Saksham',),\n",
       " ('Aakash',),\n",
       " ('Ankit',),\n",
       " ('Riya',),\n",
       " ('Nishit',),\n",
       " ('Samay',),\n",
       " ('Aman',),\n",
       " ('Sarthak',),\n",
       " ('Ashutosh',),\n",
       " ('Harshit',),\n",
       " ('Ayush',),\n",
       " ('Shreyansh',),\n",
       " ('Aryan',),\n",
       " ('Snehal',),\n",
       " ('Shubham',),\n",
       " ('Rakshit',)]"
      ]
     },
     "execution_count": 3,
     "metadata": {},
     "output_type": "execute_result"
    }
   ],
   "source": [
    "cursor.execute('select rtrim(first_name) from Worker')\n",
    "cursor.fetchall()"
   ]
  },
  {
   "cell_type": "markdown",
   "id": "ad06d5a3",
   "metadata": {},
   "source": [
    "## Q-2. Write an SQL query that fetches the unique values of DEPARTMENT from Worker table and prints its length."
   ]
  },
  {
   "cell_type": "code",
   "execution_count": 7,
   "id": "76ed8f7e",
   "metadata": {},
   "outputs": [
    {
     "data": {
      "text/plain": [
       "[('Finance', 7), ('HR', 2), ('Purchase', 8), ('Marketing', 9), ('PR', 2)]"
      ]
     },
     "execution_count": 7,
     "metadata": {},
     "output_type": "execute_result"
    }
   ],
   "source": [
    "cursor.execute('select distinct department, length(department) from Worker')\n",
    "cursor.fetchall()"
   ]
  },
  {
   "cell_type": "markdown",
   "id": "5bf1810c",
   "metadata": {},
   "source": [
    "## Q-3. Write an SQL query to fetch nth max salaries from a table."
   ]
  },
  {
   "cell_type": "code",
   "execution_count": 13,
   "id": "8cf7e636",
   "metadata": {},
   "outputs": [
    {
     "data": {
      "text/plain": [
       "[('Shashvath', 'Analyst', 1200000),\n",
       " ('SD', 'Finance', 322010),\n",
       " ('SC', 'Finance', 122010),\n",
       " ('SE', 'Analyst', 122010),\n",
       " ('SR', 'Finance', 120000),\n",
       " ('SB', 'HR', 22010),\n",
       " ('SF', 'Analyst', 22010),\n",
       " ('SA', 'HR', 12010),\n",
       " ('SD', 'HR', 12000)]"
      ]
     },
     "execution_count": 13,
     "metadata": {},
     "output_type": "execute_result"
    }
   ],
   "source": [
    "cursor.execute('select * from Worker1 order by salary desc')\n",
    "cursor.fetchall()"
   ]
  },
  {
   "cell_type": "code",
   "execution_count": 19,
   "id": "5cd3c49c",
   "metadata": {
    "scrolled": true
   },
   "outputs": [
    {
     "data": {
      "text/plain": [
       "[('Shashvath', 1200000)]"
      ]
     },
     "execution_count": 19,
     "metadata": {},
     "output_type": "execute_result"
    }
   ],
   "source": [
    "#n = 1\n",
    "cursor.execute('select first_name, salary from Worker1 w1 where 1-1 = (select count(distinct salary) from Worker1 w2 where w2.salary > w1.salary)')\n",
    "cursor.fetchall()"
   ]
  },
  {
   "cell_type": "code",
   "execution_count": 20,
   "id": "ff3a1876",
   "metadata": {},
   "outputs": [
    {
     "data": {
      "text/plain": [
       "[('SD', 322010)]"
      ]
     },
     "execution_count": 20,
     "metadata": {},
     "output_type": "execute_result"
    }
   ],
   "source": [
    "#n = 2\n",
    "cursor.execute('select first_name, salary from Worker1 w1 where 2-1 = (select count(distinct salary) from Worker1 w2 where w2.salary > w1.salary)')\n",
    "cursor.fetchall()"
   ]
  },
  {
   "cell_type": "code",
   "execution_count": 21,
   "id": "40c6b2a0",
   "metadata": {},
   "outputs": [
    {
     "data": {
      "text/plain": [
       "[('SC', 122010), ('SE', 122010)]"
      ]
     },
     "execution_count": 21,
     "metadata": {},
     "output_type": "execute_result"
    }
   ],
   "source": [
    "#n = 3\n",
    "cursor.execute('select first_name, salary from Worker1 w1 where 3-1 = (select count(distinct salary) from Worker1 w2 where w2.salary > w1.salary)')\n",
    "cursor.fetchall()"
   ]
  },
  {
   "cell_type": "markdown",
   "id": "60c6b18d",
   "metadata": {},
   "source": [
    "## using limit<br>\n",
    "formula = limit N-1, 1"
   ]
  },
  {
   "cell_type": "code",
   "execution_count": 23,
   "id": "56933adc",
   "metadata": {},
   "outputs": [
    {
     "data": {
      "text/plain": [
       "[('Shashvath', 'Analyst', 1200000)]"
      ]
     },
     "execution_count": 23,
     "metadata": {},
     "output_type": "execute_result"
    }
   ],
   "source": [
    "#n = 1\n",
    "cursor.execute('select * from Worker1 order by salary desc limit 1')\n",
    "cursor.fetchall()"
   ]
  },
  {
   "cell_type": "code",
   "execution_count": 26,
   "id": "a9df373f",
   "metadata": {},
   "outputs": [
    {
     "data": {
      "text/plain": [
       "[('SD', 'Finance', 322010)]"
      ]
     },
     "execution_count": 26,
     "metadata": {},
     "output_type": "execute_result"
    }
   ],
   "source": [
    "#n = 2\n",
    "cursor.execute('select * from Worker1 order by salary desc limit 1, 1')\n",
    "cursor.fetchall()"
   ]
  },
  {
   "cell_type": "code",
   "execution_count": 27,
   "id": "9b7f13fe",
   "metadata": {},
   "outputs": [
    {
     "data": {
      "text/plain": [
       "[('SC', 'Finance', 122010)]"
      ]
     },
     "execution_count": 27,
     "metadata": {},
     "output_type": "execute_result"
    }
   ],
   "source": [
    "#n = 3\n",
    "cursor.execute('select * from Worker1 order by salary desc limit 2, 1')\n",
    "cursor.fetchall()"
   ]
  },
  {
   "cell_type": "code",
   "execution_count": null,
   "id": "cca7da0a",
   "metadata": {},
   "outputs": [],
   "source": []
  }
 ],
 "metadata": {
  "kernelspec": {
   "display_name": "Python 3",
   "language": "python",
   "name": "python3"
  },
  "language_info": {
   "codemirror_mode": {
    "name": "ipython",
    "version": 3
   },
   "file_extension": ".py",
   "mimetype": "text/x-python",
   "name": "python",
   "nbconvert_exporter": "python",
   "pygments_lexer": "ipython3",
   "version": "3.8.8"
  }
 },
 "nbformat": 4,
 "nbformat_minor": 5
}
