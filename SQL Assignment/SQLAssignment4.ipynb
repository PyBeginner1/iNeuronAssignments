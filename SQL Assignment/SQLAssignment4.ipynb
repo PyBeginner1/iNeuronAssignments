{
 "cells": [
  {
   "cell_type": "markdown",
   "id": "6a5ea19f",
   "metadata": {},
   "source": [
    "# SQL Assignment 4"
   ]
  },
  {
   "cell_type": "code",
   "execution_count": 3,
   "id": "e7a90430",
   "metadata": {},
   "outputs": [],
   "source": [
    "import mysql.connector as conn\n",
    "\n",
    "mydb = conn.connect(host = 'localhost', user = 'root', passwd = 'Cricket', use_pure = True)\n",
    "cursor = mydb.cursor(buffered=True)\n",
    "cursor.execute('use Worker')"
   ]
  },
  {
   "cell_type": "markdown",
   "id": "042fad4c",
   "metadata": {},
   "source": [
    "## Q-1. Write an SQL query to print the FIRST_NAME from Worker table after replacing ‘a’ with ‘A’."
   ]
  },
  {
   "cell_type": "code",
   "execution_count": 7,
   "id": "521ca286",
   "metadata": {},
   "outputs": [
    {
     "data": {
      "text/plain": [
       "[('VishAl',),\n",
       " ('RAhul',),\n",
       " ('AnishA',),\n",
       " ('SAkshAm',),\n",
       " ('AAkAsh',),\n",
       " ('Ankit',),\n",
       " ('RiyA',),\n",
       " ('Nishit',),\n",
       " ('SAmAy',),\n",
       " ('AmAn',),\n",
       " ('SArthAk',),\n",
       " ('Ashutosh',),\n",
       " ('HArshit',),\n",
       " ('Ayush',),\n",
       " ('ShreyAnsh',),\n",
       " ('AryAn',),\n",
       " ('SnehAl',),\n",
       " ('ShubhAm',),\n",
       " ('RAkshit',)]"
      ]
     },
     "execution_count": 7,
     "metadata": {},
     "output_type": "execute_result"
    }
   ],
   "source": [
    "cursor.execute(\"select replace(first_name,'a', 'A') from Worker\")\n",
    "cursor.fetchall()"
   ]
  },
  {
   "cell_type": "markdown",
   "id": "b155d69a",
   "metadata": {},
   "source": [
    "## Q-2. Write an SQL query to print all Worker details from the Worker table order by FIRST_NAME Ascending and DEPARTMENT Descending."
   ]
  },
  {
   "cell_type": "code",
   "execution_count": 12,
   "id": "c2870760",
   "metadata": {},
   "outputs": [
    {
     "data": {
      "text/plain": [
       "[(5, 'Aakash', 'Singh', 'Purchase'),\n",
       " (10, 'Aman', 'Singh', 'Finance'),\n",
       " (3, 'Anisha', 'Gour', 'Purchase'),\n",
       " (6, 'Ankit', 'Kumar', 'Marketing'),\n",
       " (16, 'Aryan', 'Sharma', 'Finance'),\n",
       " (12, 'Ashutosh', 'Patil', 'PR'),\n",
       " (14, 'Ayush', 'Srivastav', 'Purchase'),\n",
       " (13, 'Harshit', 'Kumar', 'HR'),\n",
       " (8, 'Nishit', 'Sharma', 'Purchase'),\n",
       " (2, 'Rahul', 'Sarathe', 'HR'),\n",
       " (19, 'Rakshit', 'Rao', 'Marketing'),\n",
       " (7, 'Riya', 'Agarwal', 'Finance'),\n",
       " (4, 'Saksham', 'Mahajan', 'Finance'),\n",
       " (9, 'Samay', 'Raina', 'Marketing'),\n",
       " (11, 'Sarthak', 'Jain', 'Purchase'),\n",
       " (15, 'Shreyansh', 'Deriya', 'PR'),\n",
       " (18, 'Shubham', 'Mittal', 'PR'),\n",
       " (17, 'Snehal', 'Reddy', 'HR'),\n",
       " (1, 'Vishal', 'Rathore', 'Finance')]"
      ]
     },
     "execution_count": 12,
     "metadata": {},
     "output_type": "execute_result"
    }
   ],
   "source": [
    "cursor.execute(\"select * from Worker order by first_name asc, department desc\")\n",
    "cursor.fetchall()"
   ]
  },
  {
   "cell_type": "markdown",
   "id": "00cb9da0",
   "metadata": {},
   "source": [
    "## Q-3. Write an SQL query to fetch the names of workers who earn the highest salary."
   ]
  },
  {
   "cell_type": "code",
   "execution_count": 15,
   "id": "88f3976d",
   "metadata": {},
   "outputs": [
    {
     "data": {
      "text/plain": [
       "[('Shashvath', 1200000)]"
      ]
     },
     "execution_count": 15,
     "metadata": {},
     "output_type": "execute_result"
    }
   ],
   "source": [
    "cursor.execute('select first_name, max(salary) from Worker1')\n",
    "cursor.fetchall()"
   ]
  },
  {
   "cell_type": "code",
   "execution_count": 18,
   "id": "3761f9f2",
   "metadata": {},
   "outputs": [
    {
     "data": {
      "text/plain": [
       "[('Shashvath', 'Analyst', 1200000)]"
      ]
     },
     "execution_count": 18,
     "metadata": {},
     "output_type": "execute_result"
    }
   ],
   "source": [
    "cursor.execute('select * from Worker1 order by salary desc limit 1')\n",
    "cursor.fetchall()"
   ]
  },
  {
   "cell_type": "code",
   "execution_count": null,
   "id": "0bebfe1e",
   "metadata": {},
   "outputs": [],
   "source": []
  }
 ],
 "metadata": {
  "kernelspec": {
   "display_name": "Python 3",
   "language": "python",
   "name": "python3"
  },
  "language_info": {
   "codemirror_mode": {
    "name": "ipython",
    "version": 3
   },
   "file_extension": ".py",
   "mimetype": "text/x-python",
   "name": "python",
   "nbconvert_exporter": "python",
   "pygments_lexer": "ipython3",
   "version": "3.8.8"
  }
 },
 "nbformat": 4,
 "nbformat_minor": 5
}
