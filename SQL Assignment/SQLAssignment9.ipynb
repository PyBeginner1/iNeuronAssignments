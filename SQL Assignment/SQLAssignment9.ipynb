{
 "cells": [
  {
   "cell_type": "markdown",
   "id": "de5108b9",
   "metadata": {},
   "source": [
    "# SQL Assignment 9"
   ]
  },
  {
   "cell_type": "code",
   "execution_count": 1,
   "id": "d77f817b",
   "metadata": {},
   "outputs": [],
   "source": [
    "import mysql.connector as conn\n",
    "\n",
    "mydb = conn.connect(host = 'localhost', user = 'root', passwd = 'Cricket', use_pure = True)\n",
    "cursor = mydb.cursor(buffered=True)\n",
    "cursor.execute('use Worker')"
   ]
  },
  {
   "cell_type": "markdown",
   "id": "28cf4e19",
   "metadata": {},
   "source": [
    "## Q-17.  Write an SQL query to show the top n (say 10) records of a table."
   ]
  },
  {
   "cell_type": "code",
   "execution_count": 5,
   "id": "2ce94186",
   "metadata": {},
   "outputs": [
    {
     "data": {
      "text/plain": [
       "[(1, 'Vishal', 'Rathore', 'Finance'),\n",
       " (2, 'Rahul', 'Sarathe', 'HR'),\n",
       " (3, 'Anisha', 'Gour', 'Purchase'),\n",
       " (4, 'Saksham', 'Mahajan', 'Finance'),\n",
       " (5, 'Aakash', 'Singh', 'Purchase'),\n",
       " (6, 'Ankit', 'Kumar', 'Marketing'),\n",
       " (7, 'Riya', 'Agarwal', 'Finance'),\n",
       " (8, 'Nishit', 'Sharma', 'Purchase'),\n",
       " (9, 'Samay', 'Raina', 'Marketing'),\n",
       " (10, 'Aman', 'Singh', 'Finance')]"
      ]
     },
     "execution_count": 5,
     "metadata": {},
     "output_type": "execute_result"
    }
   ],
   "source": [
    "cursor.execute('select * from Worker limit 10')\n",
    "cursor.fetchall()"
   ]
  },
  {
   "cell_type": "markdown",
   "id": "143d00f6",
   "metadata": {},
   "source": [
    "## Q-18. Write an SQL query to determine the nth (say n=5) highest salary from a table.\n",
    "limit N-1,1"
   ]
  },
  {
   "cell_type": "code",
   "execution_count": 7,
   "id": "30d42ea0",
   "metadata": {},
   "outputs": [],
   "source": [
    "cursor.execute('use employees')"
   ]
  },
  {
   "cell_type": "code",
   "execution_count": 11,
   "id": "5153dfca",
   "metadata": {},
   "outputs": [
    {
     "data": {
      "text/plain": [
       "[(122, 'Ibrahim', 'IT', 8000)]"
      ]
     },
     "execution_count": 11,
     "metadata": {},
     "output_type": "execute_result"
    }
   ],
   "source": [
    "cursor.execute('select * from employee order by salary desc limit 4,1')\n",
    "cursor.fetchall()"
   ]
  },
  {
   "cell_type": "code",
   "execution_count": null,
   "id": "3b0299de",
   "metadata": {},
   "outputs": [],
   "source": []
  }
 ],
 "metadata": {
  "kernelspec": {
   "display_name": "Python 3",
   "language": "python",
   "name": "python3"
  },
  "language_info": {
   "codemirror_mode": {
    "name": "ipython",
    "version": 3
   },
   "file_extension": ".py",
   "mimetype": "text/x-python",
   "name": "python",
   "nbconvert_exporter": "python",
   "pygments_lexer": "ipython3",
   "version": "3.8.8"
  }
 },
 "nbformat": 4,
 "nbformat_minor": 5
}
