{
 "cells": [
  {
   "cell_type": "markdown",
   "id": "948d7675",
   "metadata": {},
   "source": [
    "# SQL Assignment 1"
   ]
  },
  {
   "cell_type": "code",
   "execution_count": 57,
   "id": "86338ed5",
   "metadata": {},
   "outputs": [],
   "source": [
    "import mysql.connector as conn\n",
    "\n",
    "mydb = conn.connect(host = 'localhost', user = 'root', passwd = 'Cricket', use_pure = True)\n",
    "cursor = mydb.cursor(buffered=True)"
   ]
  },
  {
   "cell_type": "code",
   "execution_count": 63,
   "id": "b5027f9c",
   "metadata": {},
   "outputs": [
    {
     "data": {
      "text/plain": [
       "[(1, 'Vishal', 'Rathore', 'Finance'),\n",
       " (2, 'Rahul', 'Sarathe', 'HR'),\n",
       " (3, 'Anisha', 'Gour', 'Purchase'),\n",
       " (4, 'Saksham', 'Mahajan', 'Finance'),\n",
       " (5, 'Aakash', 'Singh', 'Purchase'),\n",
       " (6, 'Ankit', 'Kumar', 'Marketing'),\n",
       " (7, 'Riya', 'Agarwal', 'Finance'),\n",
       " (8, 'Nishit', 'Sharma', 'Purchase'),\n",
       " (9, 'Samay', 'Raina', 'Marketing'),\n",
       " (10, 'Aman', 'Singh', 'Finance'),\n",
       " (11, 'Sarthak', 'Jain', 'Purchase'),\n",
       " (12, 'Ashutosh', 'Patil', 'PR'),\n",
       " (13, 'Harshit', 'Kumar', 'HR'),\n",
       " (14, 'Ayush', 'Srivastav', 'Purchase'),\n",
       " (15, 'Shreyansh', 'Deriya', 'PR'),\n",
       " (16, 'Aryan', 'Sharma', 'Finance'),\n",
       " (17, 'Snehal', 'Reddy', 'HR'),\n",
       " (18, 'Shubham', 'Mittal', 'PR'),\n",
       " (19, 'Rakshit', 'Rao', 'Marketing')]"
      ]
     },
     "execution_count": 63,
     "metadata": {},
     "output_type": "execute_result"
    }
   ],
   "source": [
    "#Dataset\n",
    "cursor.execute('Select * from Worker.Worker')\n",
    "cursor.fetchall()"
   ]
  },
  {
   "cell_type": "markdown",
   "id": "d603e159",
   "metadata": {},
   "source": [
    "# Q-1. Write an SQL query to fetch “FIRST_NAME” from Worker table using the alias name as WORKER_NAME."
   ]
  },
  {
   "cell_type": "code",
   "execution_count": 59,
   "id": "fbcac45d",
   "metadata": {},
   "outputs": [
    {
     "data": {
      "text/plain": [
       "[('Vishal',),\n",
       " ('Rahul',),\n",
       " ('Anisha',),\n",
       " ('Saksham',),\n",
       " ('Aakash',),\n",
       " ('Ankit',),\n",
       " ('Riya',),\n",
       " ('Nishit',),\n",
       " ('Samay',),\n",
       " ('Aman',),\n",
       " ('Sarthak',),\n",
       " ('Ashutosh',),\n",
       " ('Harshit',),\n",
       " ('Ayush',),\n",
       " ('Shreyansh',),\n",
       " ('Aryan',),\n",
       " ('Snehal',),\n",
       " ('Shubham',),\n",
       " ('Rakshit',)]"
      ]
     },
     "execution_count": 59,
     "metadata": {},
     "output_type": "execute_result"
    }
   ],
   "source": [
    "cursor.execute('select first_name from Worker.Worker;')\n",
    "cursor.fetchall()"
   ]
  },
  {
   "cell_type": "markdown",
   "id": "35e1cef9",
   "metadata": {},
   "source": [
    "## Q-2. Write an SQL query to fetch unique values of DEPARTMENT from Worker table."
   ]
  },
  {
   "cell_type": "code",
   "execution_count": 61,
   "id": "b57193d9",
   "metadata": {},
   "outputs": [
    {
     "data": {
      "text/plain": [
       "[('Finance',), ('HR',), ('Purchase',), ('Marketing',), ('PR',)]"
      ]
     },
     "execution_count": 61,
     "metadata": {},
     "output_type": "execute_result"
    }
   ],
   "source": [
    "cursor.execute('SELECT DISTINCT department from Worker.Worker')\n",
    "cursor.fetchall()"
   ]
  },
  {
   "cell_type": "markdown",
   "id": "97b31c26",
   "metadata": {},
   "source": [
    "## Q-3. Write an SQL query to show the last 5 record from a table."
   ]
  },
  {
   "cell_type": "code",
   "execution_count": 72,
   "id": "cc637067",
   "metadata": {},
   "outputs": [
    {
     "data": {
      "text/plain": [
       "[(19, 'Rakshit', 'Rao', 'Marketing'),\n",
       " (18, 'Shubham', 'Mittal', 'PR'),\n",
       " (17, 'Snehal', 'Reddy', 'HR'),\n",
       " (16, 'Aryan', 'Sharma', 'Finance'),\n",
       " (15, 'Shreyansh', 'Deriya', 'PR')]"
      ]
     },
     "execution_count": 72,
     "metadata": {},
     "output_type": "execute_result"
    }
   ],
   "source": [
    "cursor.execute('SELECT * from Worker.Worker ORDER BY ID DESC LIMIT 5')\n",
    "cursor.fetchall()"
   ]
  },
  {
   "cell_type": "code",
   "execution_count": null,
   "id": "390fc904",
   "metadata": {},
   "outputs": [],
   "source": []
  }
 ],
 "metadata": {
  "kernelspec": {
   "display_name": "Python 3",
   "language": "python",
   "name": "python3"
  },
  "language_info": {
   "codemirror_mode": {
    "name": "ipython",
    "version": 3
   },
   "file_extension": ".py",
   "mimetype": "text/x-python",
   "name": "python",
   "nbconvert_exporter": "python",
   "pygments_lexer": "ipython3",
   "version": "3.8.8"
  }
 },
 "nbformat": 4,
 "nbformat_minor": 5
}
