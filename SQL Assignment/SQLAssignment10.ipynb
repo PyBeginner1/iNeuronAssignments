{
 "cells": [
  {
   "cell_type": "markdown",
   "id": "8a82197d",
   "metadata": {},
   "source": [
    "# SQL Assignment 10"
   ]
  },
  {
   "cell_type": "code",
   "execution_count": 3,
   "id": "b78e0e73",
   "metadata": {},
   "outputs": [],
   "source": [
    "import mysql.connector as conn\n",
    "\n",
    "mydb = conn.connect(host = 'localhost', user = 'root', passwd = 'Cricket', use_pure = True)\n",
    "cursor = mydb.cursor(buffered=True)\n",
    "cursor.execute('use employees')"
   ]
  },
  {
   "cell_type": "markdown",
   "id": "5639bf38",
   "metadata": {},
   "source": [
    "## Q-19. Write an SQL query to determine the 5th highest salary without using TOP or limit method."
   ]
  },
  {
   "cell_type": "code",
   "execution_count": 15,
   "id": "103abbf6",
   "metadata": {},
   "outputs": [
    {
     "data": {
      "text/plain": [
       "[('Dheeraj', 1),\n",
       " ('Komal', 2),\n",
       " ('Melinda', 3),\n",
       " ('Cory', 4),\n",
       " ('Ibrahim', 5),\n",
       " ('Vikram', 6),\n",
       " ('Preet', 7),\n",
       " ('Vasudha', 8),\n",
       " ('Dorvin', 9),\n",
       " ('Sanjay', 10),\n",
       " ('Satya', 11),\n",
       " ('Rosalin', 12),\n",
       " ('Tejaswi', 13),\n",
       " ('Rajesh', 14),\n",
       " ('Monica', 15),\n",
       " ('Chandni', 16),\n",
       " ('Mohan', 17),\n",
       " ('Akbar', 18),\n",
       " ('Maryam', 19),\n",
       " ('Adarsh', 20),\n",
       " ('Rajkumar', 21),\n",
       " ('Rohit', 22),\n",
       " ('Manisha', 23),\n",
       " ('Gautham', 24)]"
      ]
     },
     "execution_count": 15,
     "metadata": {},
     "output_type": "execute_result"
    }
   ],
   "source": [
    "cursor.execute('select emp_name, row_number() over (order by salary desc)r from employee')\n",
    "cursor.fetchall()"
   ]
  },
  {
   "cell_type": "code",
   "execution_count": 23,
   "id": "225a826c",
   "metadata": {},
   "outputs": [
    {
     "data": {
      "text/plain": [
       "[('Ibrahim', 5)]"
      ]
     },
     "execution_count": 23,
     "metadata": {},
     "output_type": "execute_result"
    }
   ],
   "source": [
    "cursor.execute('select * from (select emp_name, row_number() over (order by salary desc)r from employee) a where r = 5')\n",
    "cursor.fetchall()"
   ]
  },
  {
   "cell_type": "markdown",
   "id": "0bacf2b5",
   "metadata": {},
   "source": [
    "## Q-20. Write an SQL query to fetch the list of employees with the same salary."
   ]
  },
  {
   "cell_type": "code",
   "execution_count": 35,
   "id": "9ccea8c2",
   "metadata": {},
   "outputs": [
    {
     "data": {
      "text/plain": [
       "[(102, 'Rajkumar', 'HR', 3000),\n",
       " (105, 'Rohit', 'HR', 3000),\n",
       " (114, 'Manisha', 'HR', 3000),\n",
       " (101, 'Mohan', 'Admin', 4000),\n",
       " (103, 'Akbar', 'IT', 4000),\n",
       " (108, 'Maryam', 'Admin', 4000),\n",
       " (106, 'Rajesh', 'Finance', 5000),\n",
       " (120, 'Monica', 'Admin', 5000),\n",
       " (104, 'Dorvin', 'Finance', 6500),\n",
       " (109, 'Sanjay', 'IT', 6500),\n",
       " (116, 'Satya', 'Finance', 6500),\n",
       " (107, 'Preet', 'HR', 7000),\n",
       " (110, 'Vasudha', 'IT', 7000),\n",
       " (111, 'Melinda', 'IT', 8000),\n",
       " (119, 'Cory', 'HR', 8000),\n",
       " (122, 'Ibrahim', 'IT', 8000),\n",
       " (123, 'Vikram', 'IT', 8000)]"
      ]
     },
     "execution_count": 35,
     "metadata": {},
     "output_type": "execute_result"
    }
   ],
   "source": [
    "cursor.execute('select * from employee where salary in (select salary from employee group by salary having count(*) > 1) order by salary')\n",
    "cursor.fetchall()"
   ]
  },
  {
   "cell_type": "code",
   "execution_count": null,
   "id": "534920f7",
   "metadata": {},
   "outputs": [],
   "source": []
  }
 ],
 "metadata": {
  "kernelspec": {
   "display_name": "Python 3",
   "language": "python",
   "name": "python3"
  },
  "language_info": {
   "codemirror_mode": {
    "name": "ipython",
    "version": 3
   },
   "file_extension": ".py",
   "mimetype": "text/x-python",
   "name": "python",
   "nbconvert_exporter": "python",
   "pygments_lexer": "ipython3",
   "version": "3.8.8"
  }
 },
 "nbformat": 4,
 "nbformat_minor": 5
}
