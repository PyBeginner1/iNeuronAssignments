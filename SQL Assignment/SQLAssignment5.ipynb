{
 "cells": [
  {
   "cell_type": "markdown",
   "id": "8b407c53",
   "metadata": {},
   "source": [
    "# SQL Assignment 5"
   ]
  },
  {
   "cell_type": "code",
   "execution_count": 14,
   "id": "53919b2a",
   "metadata": {},
   "outputs": [],
   "source": [
    "import mysql.connector as conn\n",
    "\n",
    "mydb = conn.connect(host = 'localhost', user = 'root', passwd = 'Cricket', use_pure = True)\n",
    "cursor = mydb.cursor(buffered=True)\n",
    "cursor.execute('use Worker')"
   ]
  },
  {
   "cell_type": "code",
   "execution_count": 15,
   "id": "8e327cea",
   "metadata": {},
   "outputs": [
    {
     "data": {
      "text/plain": [
       "[(1, 'Vishal', 'Rathore', 'Finance'),\n",
       " (2, 'Rahul', 'Sarathe', 'HR'),\n",
       " (3, 'Anisha', 'Gour', 'Purchase'),\n",
       " (4, 'Saksham', 'Mahajan', 'Finance'),\n",
       " (5, 'Aakash', 'Singh', 'Purchase'),\n",
       " (6, 'Ankit', 'Kumar', 'Marketing'),\n",
       " (7, 'Riya', 'Agarwal', 'Finance'),\n",
       " (8, 'Nishit', 'Sharma', 'Purchase'),\n",
       " (9, 'Samay', 'Raina', 'Marketing'),\n",
       " (10, 'Aman', 'Singh', 'Finance'),\n",
       " (11, 'Sarthak', 'Jain', 'Purchase'),\n",
       " (12, 'Ashutosh', 'Patil', 'PR'),\n",
       " (13, 'Harshit', 'Kumar', 'HR'),\n",
       " (14, 'Ayush', 'Srivastav', 'Purchase'),\n",
       " (15, 'Shreyansh', 'Deriya', 'PR'),\n",
       " (16, 'Aryan', 'Sharma', 'Finance'),\n",
       " (17, 'Snehal', 'Reddy', 'HR'),\n",
       " (18, 'Shubham', 'Mittal', 'PR'),\n",
       " (19, 'Rakshit', 'Rao', 'Marketing')]"
      ]
     },
     "execution_count": 15,
     "metadata": {},
     "output_type": "execute_result"
    }
   ],
   "source": [
    "#data\n",
    "cursor.execute('select * from Worker')\n",
    "cursor.fetchall()"
   ]
  },
  {
   "cell_type": "markdown",
   "id": "51da783d",
   "metadata": {},
   "source": [
    "## Q-1. Write an SQL query to print details of workers excluding first names, “Vipul” and “Satish” from Worker table."
   ]
  },
  {
   "cell_type": "code",
   "execution_count": 23,
   "id": "0f09b08a",
   "metadata": {},
   "outputs": [
    {
     "data": {
      "text/plain": [
       "[(2, 'Rahul', 'Sarathe', 'HR'),\n",
       " (3, 'Anisha', 'Gour', 'Purchase'),\n",
       " (5, 'Aakash', 'Singh', 'Purchase'),\n",
       " (6, 'Ankit', 'Kumar', 'Marketing'),\n",
       " (7, 'Riya', 'Agarwal', 'Finance'),\n",
       " (8, 'Nishit', 'Sharma', 'Purchase'),\n",
       " (9, 'Samay', 'Raina', 'Marketing'),\n",
       " (10, 'Aman', 'Singh', 'Finance'),\n",
       " (11, 'Sarthak', 'Jain', 'Purchase'),\n",
       " (12, 'Ashutosh', 'Patil', 'PR'),\n",
       " (13, 'Harshit', 'Kumar', 'HR'),\n",
       " (14, 'Ayush', 'Srivastav', 'Purchase'),\n",
       " (15, 'Shreyansh', 'Deriya', 'PR'),\n",
       " (16, 'Aryan', 'Sharma', 'Finance'),\n",
       " (17, 'Snehal', 'Reddy', 'HR'),\n",
       " (18, 'Shubham', 'Mittal', 'PR'),\n",
       " (19, 'Rakshit', 'Rao', 'Marketing')]"
      ]
     },
     "execution_count": 23,
     "metadata": {},
     "output_type": "execute_result"
    }
   ],
   "source": [
    "#We will exclude \"Vishal\" and \"Saksham\"\n",
    "cursor.execute(\"select * from Worker where first_name not in ('Vishal', 'Saksham')\")\n",
    "cursor.fetchall()"
   ]
  },
  {
   "cell_type": "markdown",
   "id": "a6953b6f",
   "metadata": {},
   "source": [
    "## Q-2. Write an SQL query to print details of the Workers whose FIRST_NAME ends with ‘h’ and contains six alphabets."
   ]
  },
  {
   "cell_type": "code",
   "execution_count": 24,
   "id": "c73084ce",
   "metadata": {},
   "outputs": [
    {
     "data": {
      "text/plain": [
       "[(5, 'Aakash', 'Singh', 'Purchase')]"
      ]
     },
     "execution_count": 24,
     "metadata": {},
     "output_type": "execute_result"
    }
   ],
   "source": [
    "cursor.execute('select * from worker where first_name like \"_____h\"')\n",
    "cursor.fetchall()"
   ]
  },
  {
   "cell_type": "markdown",
   "id": "bd15fc75",
   "metadata": {},
   "source": [
    "## Q-3. Write a query to validate Email of Employee."
   ]
  },
  {
   "cell_type": "code",
   "execution_count": null,
   "id": "ed1a58e1",
   "metadata": {},
   "outputs": [],
   "source": [
    "cursor.execute('select * from Worker where email like \"%@gmail.com\"')"
   ]
  },
  {
   "cell_type": "code",
   "execution_count": null,
   "id": "dde9797f",
   "metadata": {},
   "outputs": [],
   "source": []
  }
 ],
 "metadata": {
  "kernelspec": {
   "display_name": "Python 3",
   "language": "python",
   "name": "python3"
  },
  "language_info": {
   "codemirror_mode": {
    "name": "ipython",
    "version": 3
   },
   "file_extension": ".py",
   "mimetype": "text/x-python",
   "name": "python",
   "nbconvert_exporter": "python",
   "pygments_lexer": "ipython3",
   "version": "3.8.8"
  }
 },
 "nbformat": 4,
 "nbformat_minor": 5
}
