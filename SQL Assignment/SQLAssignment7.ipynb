{
 "cells": [
  {
   "cell_type": "markdown",
   "id": "a861b9b8",
   "metadata": {},
   "source": [
    "# SQL Assignment 7"
   ]
  },
  {
   "cell_type": "code",
   "execution_count": 1,
   "id": "f7596e22",
   "metadata": {},
   "outputs": [],
   "source": [
    "import mysql.connector as conn\n",
    "\n",
    "mydb = conn.connect(host = 'localhost', user = 'root', passwd = 'Cricket', use_pure = True)\n",
    "cursor = mydb.cursor(buffered=True)\n",
    "cursor.execute('use Worker')"
   ]
  },
  {
   "cell_type": "markdown",
   "id": "341aa71f",
   "metadata": {},
   "source": [
    "## Q-13. Write an SQL query to show only odd rows from a table."
   ]
  },
  {
   "cell_type": "code",
   "execution_count": 5,
   "id": "d802943a",
   "metadata": {},
   "outputs": [
    {
     "data": {
      "text/plain": [
       "[(1, 'Vishal', 'Rathore', 'Finance'),\n",
       " (3, 'Anisha', 'Gour', 'Purchase'),\n",
       " (5, 'Aakash', 'Singh', 'Purchase'),\n",
       " (7, 'Riya', 'Agarwal', 'Finance'),\n",
       " (9, 'Samay', 'Raina', 'Marketing'),\n",
       " (11, 'Sarthak', 'Jain', 'Purchase'),\n",
       " (13, 'Harshit', 'Kumar', 'HR'),\n",
       " (15, 'Shreyansh', 'Deriya', 'PR'),\n",
       " (17, 'Snehal', 'Reddy', 'HR'),\n",
       " (19, 'Rakshit', 'Rao', 'Marketing')]"
      ]
     },
     "execution_count": 5,
     "metadata": {},
     "output_type": "execute_result"
    }
   ],
   "source": [
    "cursor.execute('select * from Worker where (ID%2) = 1')\n",
    "cursor.fetchall()"
   ]
  },
  {
   "cell_type": "markdown",
   "id": "cddb7c7a",
   "metadata": {},
   "source": [
    "## Q-14. Write an SQL query to clone a new table from another table."
   ]
  },
  {
   "cell_type": "code",
   "execution_count": 8,
   "id": "621959e7",
   "metadata": {},
   "outputs": [],
   "source": [
    "#Create clone of table\n",
    "cursor.execute('create table new_Worker like Worker')"
   ]
  },
  {
   "cell_type": "code",
   "execution_count": 10,
   "id": "c880a675",
   "metadata": {},
   "outputs": [],
   "source": [
    "#insert values from original\n",
    "cursor.execute('insert into new_Worker select * from Worker')"
   ]
  },
  {
   "cell_type": "code",
   "execution_count": 12,
   "id": "12eaee20",
   "metadata": {},
   "outputs": [
    {
     "data": {
      "text/plain": [
       "[(1, 'Vishal', 'Rathore', 'Finance'),\n",
       " (2, 'Rahul', 'Sarathe', 'HR'),\n",
       " (3, 'Anisha', 'Gour', 'Purchase'),\n",
       " (4, 'Saksham', 'Mahajan', 'Finance'),\n",
       " (5, 'Aakash', 'Singh', 'Purchase'),\n",
       " (6, 'Ankit', 'Kumar', 'Marketing'),\n",
       " (7, 'Riya', 'Agarwal', 'Finance'),\n",
       " (8, 'Nishit', 'Sharma', 'Purchase'),\n",
       " (9, 'Samay', 'Raina', 'Marketing'),\n",
       " (10, 'Aman', 'Singh', 'Finance'),\n",
       " (11, 'Sarthak', 'Jain', 'Purchase'),\n",
       " (12, 'Ashutosh', 'Patil', 'PR'),\n",
       " (13, 'Harshit', 'Kumar', 'HR'),\n",
       " (14, 'Ayush', 'Srivastav', 'Purchase'),\n",
       " (15, 'Shreyansh', 'Deriya', 'PR'),\n",
       " (16, 'Aryan', 'Sharma', 'Finance'),\n",
       " (17, 'Snehal', 'Reddy', 'HR'),\n",
       " (18, 'Shubham', 'Mittal', 'PR'),\n",
       " (19, 'Rakshit', 'Rao', 'Marketing')]"
      ]
     },
     "execution_count": 12,
     "metadata": {},
     "output_type": "execute_result"
    }
   ],
   "source": [
    "cursor.execute('select * from new_Worker')\n",
    "cursor.fetchall()"
   ]
  },
  {
   "cell_type": "code",
   "execution_count": null,
   "id": "6bb9a9e8",
   "metadata": {},
   "outputs": [],
   "source": []
  }
 ],
 "metadata": {
  "kernelspec": {
   "display_name": "Python 3",
   "language": "python",
   "name": "python3"
  },
  "language_info": {
   "codemirror_mode": {
    "name": "ipython",
    "version": 3
   },
   "file_extension": ".py",
   "mimetype": "text/x-python",
   "name": "python",
   "nbconvert_exporter": "python",
   "pygments_lexer": "ipython3",
   "version": "3.8.8"
  }
 },
 "nbformat": 4,
 "nbformat_minor": 5
}
