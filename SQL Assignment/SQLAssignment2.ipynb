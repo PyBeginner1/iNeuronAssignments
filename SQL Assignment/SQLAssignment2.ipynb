{
 "cells": [
  {
   "cell_type": "markdown",
   "id": "e525228d",
   "metadata": {},
   "source": [
    "# SQL Assignment 2"
   ]
  },
  {
   "cell_type": "code",
   "execution_count": 1,
   "id": "04b53d8e",
   "metadata": {},
   "outputs": [],
   "source": [
    "import mysql.connector as conn\n",
    "\n",
    "mydb = conn.connect(host = 'localhost', user = 'root', passwd = 'Cricket', use_pure = True)\n",
    "cursor = mydb.cursor(buffered=True)"
   ]
  },
  {
   "cell_type": "code",
   "execution_count": 2,
   "id": "2453a3b1",
   "metadata": {},
   "outputs": [],
   "source": [
    "cursor.execute('use Worker')"
   ]
  },
  {
   "cell_type": "code",
   "execution_count": 6,
   "id": "1aa2218b",
   "metadata": {},
   "outputs": [
    {
     "data": {
      "text/plain": [
       "[(1, 'Vishal', 'Rathore', 'Finance'),\n",
       " (2, 'Rahul', 'Sarathe', 'HR'),\n",
       " (3, 'Anisha', 'Gour', 'Purchase'),\n",
       " (4, 'Saksham', 'Mahajan', 'Finance'),\n",
       " (5, 'Aakash', 'Singh', 'Purchase'),\n",
       " (6, 'Ankit', 'Kumar', 'Marketing'),\n",
       " (7, 'Riya', 'Agarwal', 'Finance'),\n",
       " (8, 'Nishit', 'Sharma', 'Purchase'),\n",
       " (9, 'Samay', 'Raina', 'Marketing'),\n",
       " (10, 'Aman', 'Singh', 'Finance'),\n",
       " (11, 'Sarthak', 'Jain', 'Purchase'),\n",
       " (12, 'Ashutosh', 'Patil', 'PR'),\n",
       " (13, 'Harshit', 'Kumar', 'HR'),\n",
       " (14, 'Ayush', 'Srivastav', 'Purchase'),\n",
       " (15, 'Shreyansh', 'Deriya', 'PR'),\n",
       " (16, 'Aryan', 'Sharma', 'Finance'),\n",
       " (17, 'Snehal', 'Reddy', 'HR'),\n",
       " (18, 'Shubham', 'Mittal', 'PR'),\n",
       " (19, 'Rakshit', 'Rao', 'Marketing')]"
      ]
     },
     "execution_count": 6,
     "metadata": {},
     "output_type": "execute_result"
    }
   ],
   "source": [
    "cursor.execute('select * from Worker')\n",
    "cursor.fetchall()"
   ]
  },
  {
   "cell_type": "markdown",
   "id": "d6abf0fc",
   "metadata": {},
   "source": [
    "## Q-1. Write an SQL query to print the first three characters of  FIRST_NAME from Worker table."
   ]
  },
  {
   "cell_type": "code",
   "execution_count": 8,
   "id": "5aec1e04",
   "metadata": {},
   "outputs": [
    {
     "data": {
      "text/plain": [
       "[('Vis',),\n",
       " ('Rah',),\n",
       " ('Ani',),\n",
       " ('Sak',),\n",
       " ('Aak',),\n",
       " ('Ank',),\n",
       " ('Riy',),\n",
       " ('Nis',),\n",
       " ('Sam',),\n",
       " ('Ama',),\n",
       " ('Sar',),\n",
       " ('Ash',),\n",
       " ('Har',),\n",
       " ('Ayu',),\n",
       " ('Shr',),\n",
       " ('Ary',),\n",
       " ('Sne',),\n",
       " ('Shu',),\n",
       " ('Rak',)]"
      ]
     },
     "execution_count": 8,
     "metadata": {},
     "output_type": "execute_result"
    }
   ],
   "source": [
    "cursor.execute('select substring(first_name,1,3) from Worker')\n",
    "cursor.fetchall()"
   ]
  },
  {
   "cell_type": "markdown",
   "id": "4d98f222",
   "metadata": {},
   "source": [
    "## Q-2. Write an SQL query to find the position of the alphabet (‘a’) in the first name column ‘Amitabh’ from Worker table."
   ]
  },
  {
   "cell_type": "code",
   "execution_count": 16,
   "id": "7b9b0046",
   "metadata": {},
   "outputs": [
    {
     "data": {
      "text/plain": [
       "[(5,)]"
      ]
     },
     "execution_count": 16,
     "metadata": {},
     "output_type": "execute_result"
    }
   ],
   "source": [
    "#No Amitabh hence used diff name\n",
    "cursor.execute(\"Select INSTR(FIRST_NAME, BINARY'a') from Worker where FIRST_NAME = 'Vishal'\")\n",
    "cursor.fetchall()"
   ]
  },
  {
   "cell_type": "markdown",
   "id": "bec409bc",
   "metadata": {},
   "source": [
    "## Q-3. Write an SQL query to print the name of employees having the highest salary in each department."
   ]
  },
  {
   "cell_type": "code",
   "execution_count": 4,
   "id": "7b6737c2",
   "metadata": {},
   "outputs": [
    {
     "data": {
      "text/plain": [
       "[('Shashvath', 'Analyst', 1200000),\n",
       " ('SR', 'Finance', 120000),\n",
       " ('SD', 'HR', 12000),\n",
       " ('SA', 'HR', 12010),\n",
       " ('SB', 'HR', 22010),\n",
       " ('SC', 'Finance', 122010),\n",
       " ('SD', 'Finance', 322010),\n",
       " ('SE', 'Analyst', 122010),\n",
       " ('SF', 'Analyst', 22010)]"
      ]
     },
     "execution_count": 4,
     "metadata": {},
     "output_type": "execute_result"
    }
   ],
   "source": [
    "#Dataset\n",
    "cursor.execute('select * from Worker1')\n",
    "cursor.fetchall()"
   ]
  },
  {
   "cell_type": "code",
   "execution_count": 6,
   "id": "3a5570fc",
   "metadata": {},
   "outputs": [
    {
     "data": {
      "text/plain": [
       "[('Shashvath', 'Analyst', 1200000),\n",
       " ('SR', 'Finance', 322010),\n",
       " ('SD', 'HR', 22010)]"
      ]
     },
     "execution_count": 6,
     "metadata": {},
     "output_type": "execute_result"
    }
   ],
   "source": [
    "cursor.execute('select first_name, department, max(salary) from Worker1 group by department')\n",
    "cursor.fetchall()"
   ]
  },
  {
   "cell_type": "code",
   "execution_count": null,
   "id": "50e576b8",
   "metadata": {},
   "outputs": [],
   "source": []
  }
 ],
 "metadata": {
  "kernelspec": {
   "display_name": "Python 3",
   "language": "python",
   "name": "python3"
  },
  "language_info": {
   "codemirror_mode": {
    "name": "ipython",
    "version": 3
   },
   "file_extension": ".py",
   "mimetype": "text/x-python",
   "name": "python",
   "nbconvert_exporter": "python",
   "pygments_lexer": "ipython3",
   "version": "3.8.8"
  }
 },
 "nbformat": 4,
 "nbformat_minor": 5
}
