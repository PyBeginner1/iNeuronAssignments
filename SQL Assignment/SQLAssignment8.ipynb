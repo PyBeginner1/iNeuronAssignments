{
 "cells": [
  {
   "cell_type": "markdown",
   "id": "3fd579ef",
   "metadata": {},
   "source": [
    "# SQL Assignment 8"
   ]
  },
  {
   "cell_type": "code",
   "execution_count": 2,
   "id": "55c7f1b9",
   "metadata": {},
   "outputs": [],
   "source": [
    "import mysql.connector as conn\n",
    "\n",
    "mydb = conn.connect(host = 'localhost', user = 'root', passwd = 'Cricket', use_pure = True)\n",
    "cursor = mydb.cursor(buffered=True)\n",
    "cursor.execute('use Worker')"
   ]
  },
  {
   "cell_type": "markdown",
   "id": "0780f4d2",
   "metadata": {},
   "source": [
    "## Q-15. Write an SQL query to fetch intersecting records of two tables."
   ]
  },
  {
   "cell_type": "code",
   "execution_count": 18,
   "id": "88e6491e",
   "metadata": {},
   "outputs": [
    {
     "data": {
      "text/plain": [
       "[(1, 'Vishal', 'Rathore'),\n",
       " (2, 'Rahul', 'Sarathe'),\n",
       " (3, 'Anisha', 'Gour'),\n",
       " (4, 'Saksham', 'Mahajan'),\n",
       " (5, 'Aakash', 'Singh'),\n",
       " (6, 'Ankit', 'Kumar'),\n",
       " (7, 'Riya', 'Agarwal'),\n",
       " (8, 'Nishit', 'Sharma'),\n",
       " (9, 'Samay', 'Raina'),\n",
       " (10, 'Aman', 'Singh'),\n",
       " (11, 'Sarthak', 'Jain'),\n",
       " (12, 'Ashutosh', 'Patil'),\n",
       " (13, 'Harshit', 'Kumar'),\n",
       " (14, 'Ayush', 'Srivastav'),\n",
       " (15, 'Shreyansh', 'Deriya'),\n",
       " (16, 'Aryan', 'Sharma'),\n",
       " (17, 'Snehal', 'Reddy'),\n",
       " (18, 'Shubham', 'Mittal'),\n",
       " (19, 'Rakshit', 'Rao')]"
      ]
     },
     "execution_count": 18,
     "metadata": {},
     "output_type": "execute_result"
    }
   ],
   "source": [
    "cursor.execute('select w1.id, w1.first_name, w1.last_name from Worker w1 inner join new_Worker1 w2 on w1.id = w2.id')\n",
    "cursor.fetchall()"
   ]
  },
  {
   "cell_type": "markdown",
   "id": "58afcd06",
   "metadata": {},
   "source": [
    "## Q-16. Write an SQL query to show records from one table that another table does not have."
   ]
  },
  {
   "cell_type": "code",
   "execution_count": 20,
   "id": "946f47dc",
   "metadata": {},
   "outputs": [
    {
     "data": {
      "text/plain": [
       "[]"
      ]
     },
     "execution_count": 20,
     "metadata": {},
     "output_type": "execute_result"
    }
   ],
   "source": [
    "cursor.execute('select * from new_Worker')\n",
    "cursor.fetchall()"
   ]
  },
  {
   "cell_type": "code",
   "execution_count": 19,
   "id": "15cea48c",
   "metadata": {},
   "outputs": [
    {
     "data": {
      "text/plain": [
       "[(1, 'Vishal', 'Rathore'),\n",
       " (2, 'Rahul', 'Sarathe'),\n",
       " (3, 'Anisha', 'Gour'),\n",
       " (4, 'Saksham', 'Mahajan'),\n",
       " (5, 'Aakash', 'Singh'),\n",
       " (6, 'Ankit', 'Kumar'),\n",
       " (7, 'Riya', 'Agarwal'),\n",
       " (8, 'Nishit', 'Sharma'),\n",
       " (9, 'Samay', 'Raina'),\n",
       " (10, 'Aman', 'Singh'),\n",
       " (11, 'Sarthak', 'Jain'),\n",
       " (12, 'Ashutosh', 'Patil'),\n",
       " (13, 'Harshit', 'Kumar'),\n",
       " (14, 'Ayush', 'Srivastav'),\n",
       " (15, 'Shreyansh', 'Deriya'),\n",
       " (16, 'Aryan', 'Sharma'),\n",
       " (17, 'Snehal', 'Reddy'),\n",
       " (18, 'Shubham', 'Mittal'),\n",
       " (19, 'Rakshit', 'Rao')]"
      ]
     },
     "execution_count": 19,
     "metadata": {},
     "output_type": "execute_result"
    }
   ],
   "source": [
    "#new_Worker table has no values\n",
    "cursor.execute('select w1.id, w1.first_name, w1.last_name from Worker w1 left join new_Worker w2 on w1.id = w2.id')\n",
    "cursor.fetchall()"
   ]
  },
  {
   "cell_type": "code",
   "execution_count": 7,
   "id": "8e19ecd4",
   "metadata": {},
   "outputs": [
    {
     "data": {
      "text/plain": [
       "[]"
      ]
     },
     "execution_count": 7,
     "metadata": {},
     "output_type": "execute_result"
    }
   ],
   "source": [
    "#since the tables are clone it will return none\n",
    "cursor.execute('select first_name from new_Worker1 where first_name not in (select first_name from Worker)')\n",
    "cursor.fetchall()"
   ]
  },
  {
   "cell_type": "code",
   "execution_count": 10,
   "id": "5063aa6a",
   "metadata": {},
   "outputs": [
    {
     "data": {
      "text/plain": [
       "[('Vishal',),\n",
       " ('Rahul',),\n",
       " ('Anisha',),\n",
       " ('Saksham',),\n",
       " ('Aakash',),\n",
       " ('Ankit',),\n",
       " ('Riya',),\n",
       " ('Nishit',),\n",
       " ('Samay',),\n",
       " ('Aman',),\n",
       " ('Sarthak',),\n",
       " ('Ashutosh',),\n",
       " ('Harshit',),\n",
       " ('Ayush',),\n",
       " ('Shreyansh',),\n",
       " ('Aryan',),\n",
       " ('Snehal',),\n",
       " ('Shubham',),\n",
       " ('Rakshit',)]"
      ]
     },
     "execution_count": 10,
     "metadata": {},
     "output_type": "execute_result"
    }
   ],
   "source": [
    "cursor.execute('select first_name from Worker where first_name not in (select first_name from new_Worker)')\n",
    "cursor.fetchall()"
   ]
  },
  {
   "cell_type": "code",
   "execution_count": null,
   "id": "fd653edd",
   "metadata": {},
   "outputs": [],
   "source": []
  }
 ],
 "metadata": {
  "kernelspec": {
   "display_name": "Python 3",
   "language": "python",
   "name": "python3"
  },
  "language_info": {
   "codemirror_mode": {
    "name": "ipython",
    "version": 3
   },
   "file_extension": ".py",
   "mimetype": "text/x-python",
   "name": "python",
   "nbconvert_exporter": "python",
   "pygments_lexer": "ipython3",
   "version": "3.8.8"
  }
 },
 "nbformat": 4,
 "nbformat_minor": 5
}
