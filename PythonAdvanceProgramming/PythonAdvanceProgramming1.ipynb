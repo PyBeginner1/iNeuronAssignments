{
 "cells": [
  {
   "cell_type": "markdown",
   "id": "f373daf6",
   "metadata": {},
   "source": [
    "# Python Advance Programming1"
   ]
  },
  {
   "cell_type": "markdown",
   "id": "e6c5de5c",
   "metadata": {},
   "source": [
    "## 1. Write a function that takes a list of lists and returns the value of all of the symbols in it, where each symbol adds or takes something from the total score. Symbol values:\n",
    "\n",
    "'#' = 5<br>\n",
    "O = 3<br>\n",
    "X = 1<br>\n",
    "! = -1<br>\n",
    "!! = -3<br>\n",
    "!!! = -5<br>\n",
    "\n",
    "A list of lists containing 2 #s, a O, and a !!! would equal (0 + 5 + 5 + 3 - 5) 8.\n",
    "\n",
    "If the final score is negative, return 0 (e.g. 3 #s, 3 !!s, 2 !!!s and a X would be (0 + 5 + 5 + 5 - 3 - 3 - 3 - 5 - 5 + 1) -3, so return 0.\n",
    "\n",
    "Examples\n",
    "\n",
    "check_score([\n",
    "  [\"#\", \"!\"],\n",
    "  [\"!!\", \"X\"]\n",
    "]) ➞ 2\n",
    "\n",
    "check_score([\n",
    "  [\"!!!\", \"O\", \"!\"],\n",
    "  [\"X\", \"#\", \"!!!\"],\n",
    "  [\"!!\", \"X\", \"O\"]\n",
    "]) ➞ -1"
   ]
  },
  {
   "cell_type": "code",
   "execution_count": 22,
   "id": "029f185b",
   "metadata": {},
   "outputs": [
    {
     "data": {
      "text/plain": [
       "2"
      ]
     },
     "execution_count": 22,
     "metadata": {},
     "output_type": "execute_result"
    }
   ],
   "source": [
    "def check_score(ls):\n",
    "    try:\n",
    "        dict1 = {'#' : 5,\n",
    "        'O' : 3,\n",
    "        'X' : 1,\n",
    "        '!' : -1,\n",
    "        '!!' : -3,\n",
    "        '!!!' : -5}\n",
    "        sum = 0\n",
    "\n",
    "        for i in ls:\n",
    "            for j in i:\n",
    "                sum += dict1[j]\n",
    "\n",
    "        return sum\n",
    "    except Exception as e:\n",
    "        print(e)\n",
    "        \n",
    "check_score([\n",
    "  [\"#\", \"!\"],\n",
    "  [\"!!\", \"X\"]\n",
    "])"
   ]
  },
  {
   "cell_type": "code",
   "execution_count": 23,
   "id": "1eed242a",
   "metadata": {},
   "outputs": [
    {
     "data": {
      "text/plain": [
       "-1"
      ]
     },
     "execution_count": 23,
     "metadata": {},
     "output_type": "execute_result"
    }
   ],
   "source": [
    "check_score([\n",
    "  [\"!!!\", \"O\", \"!\"],\n",
    "  [\"X\", \"#\", \"!!!\"],\n",
    "  [\"!!\", \"X\", \"O\"]\n",
    "])"
   ]
  },
  {
   "cell_type": "markdown",
   "id": "ae96e576",
   "metadata": {},
   "source": [
    "## 2. Create a function that takes a variable number of arguments, each argument representing the number of items in a group, and returns the number of permutations (combinations) of items that you could get by taking one item from each group.\n",
    "\n",
    "Examples\n",
    "\n",
    "combinations(2, 3) ➞ 6\n",
    "\n",
    "combinations(3, 7, 4) ➞ 84\n",
    "\n",
    "combinations(2, 3, 4, 5) ➞ 120"
   ]
  },
  {
   "cell_type": "code",
   "execution_count": 27,
   "id": "dc3a63a2",
   "metadata": {},
   "outputs": [
    {
     "name": "stdout",
     "output_type": "stream",
     "text": [
      "6\n",
      "84\n",
      "120\n"
     ]
    }
   ],
   "source": [
    "def combinations(*args):\n",
    "    mul = 1\n",
    "    for i in args:\n",
    "        mul *= i\n",
    "    return mul\n",
    "\n",
    "print(combinations(2, 3))\n",
    "print(combinations(3, 7, 4))\n",
    "print(combinations(2, 3, 4, 5))"
   ]
  },
  {
   "cell_type": "markdown",
   "id": "df53882f",
   "metadata": {},
   "source": [
    "## 3. Create a function that takes a string as an argument and returns the Morse code equivalent.\n",
    "\n",
    "Examples\n",
    "\n",
    "encode_morse(\"EDABBIT CHALLENGE\") ➞ \". -.. .- -... -... .. -   -.-. .... .- .-.. .-.. . -. --. .\"\n",
    "\n",
    "encode_morse(\"HELP ME !\") ➞ \".... . .-.. .--.   -- .   -.-.--\"\n",
    "\n",
    "This dictionary can be used for coding:\n",
    "\n",
    "char_to_dots = {\n",
    "  'A': '.-', 'B': '-...', 'C': '-.-.', 'D': '-..', 'E': '.', 'F': '..-.',<br>\n",
    "  'G': '--.', 'H': '....', 'I': '..', 'J': '.---', 'K': '-.-', 'L': '.-..',<br>\n",
    "  'M': '--', 'N': '-.', 'O': '---', 'P': '.--.', 'Q': '--.-', 'R': '.-.',<br>\n",
    "  'S': '...', 'T': '-', 'U': '..-', 'V': '...-', 'W': '.--', 'X': '-..-',<br>\n",
    "  'Y': '-.--', 'Z': '--..', ' ': ' ', '0': '-----',<br>\n",
    "  '1': '.----', '2': '..---', '3': '...--', '4': '....-', '5': '.....',<br>\n",
    "  '6': '-....', '7': '--...', '8': '---..', '9': '----.',<br>\n",
    "  '&': '.-...', \"'\": '.----.', '@': '.--.-.', ')': '-.--.-', '(': '-.--.',<br>\n",
    "  ':': '---...', ',': '--..--', '=': '-...-', '!': '-.-.--', '.': '.-.-.-',<br>\n",
    "  '-': '-....-', '+': '.-.-.', '\"': '.-..-.', '?': '..--..', '/': '-..-.'<br>\n",
    "}"
   ]
  },
  {
   "cell_type": "code",
   "execution_count": 32,
   "id": "fbf816f8",
   "metadata": {},
   "outputs": [
    {
     "name": "stdout",
     "output_type": "stream",
     "text": [
      "EDABBIT CHALLENGE ➞ .-...--...-.....- -.-......-.-...-...-.--..\n",
      "HELP ME ! ➞ ......-...--. --. -.-.--\n"
     ]
    }
   ],
   "source": [
    "def encode_morse(chars):\n",
    "    try:\n",
    "        code = {\n",
    "          'A': '.-', 'B': '-...', 'C': '-.-.', 'D': '-..', 'E': '.', 'F': '..-.',\n",
    "          'G': '--.', 'H': '....', 'I': '..', 'J': '.---', 'K': '-.-', 'L': '.-..',\n",
    "          'M': '--', 'N': '-.', 'O': '---', 'P': '.--.', 'Q': '--.-', 'R': '.-.',\n",
    "          'S': '...', 'T': '-', 'U': '..-', 'V': '...-', 'W': '.--', 'X': '-..-',\n",
    "          'Y': '-.--', 'Z': '--..', ' ': ' ', '0': '-----',\n",
    "          '1': '.----', '2': '..---', '3': '...--', '4': '....-', '5': '.....',\n",
    "          '6': '-....', '7': '--...', '8': '---..', '9': '----.',\n",
    "          '&': '.-...', \"'\": '.----.', '@': '.--.-.', ')': '-.--.-', '(': '-.--.',\n",
    "          ':': '---...', ',': '--..--', '=': '-...-', '!': '-.-.--', '.': '.-.-.-',\n",
    "          '-': '-....-', '+': '.-.-.', '\"': '.-..-.', '?': '..--..', '/': '-..-.'\n",
    "        }\n",
    "\n",
    "        converted_code = ''\n",
    "\n",
    "        for i in chars:\n",
    "            converted_code += code[i]\n",
    "\n",
    "        print(f'{chars} ➞ {converted_code}')\n",
    "    except Exception as e:\n",
    "        print(e)\n",
    "        \n",
    "encode_morse(\"EDABBIT CHALLENGE\")\n",
    "encode_morse(\"HELP ME !\") "
   ]
  },
  {
   "cell_type": "markdown",
   "id": "268f0e0c",
   "metadata": {},
   "source": [
    "## 4.  Write a function that takes a number and returns True if it's a prime; False otherwise. The number can be 2^64-1 (2 to the power of 63, not XOR). With the standard technique it would be O(2^64-1), which is much too large for the 10 second time limit.\n",
    "\n",
    "Examples\n",
    "\n",
    "prime(7) ➞ True\n",
    "\n",
    "prime(56963) ➞ True\n",
    "\n",
    "prime(5151512515524) ➞ False"
   ]
  },
  {
   "cell_type": "code",
   "execution_count": 45,
   "id": "11647c39",
   "metadata": {},
   "outputs": [
    {
     "name": "stdout",
     "output_type": "stream",
     "text": [
      "True\n",
      "True\n",
      "False\n"
     ]
    }
   ],
   "source": [
    "def prime(num):\n",
    "    try:\n",
    "\n",
    "        if num > 1:\n",
    "            for i in range(2, num):\n",
    "                if (num%i) == 0:\n",
    "                    return False\n",
    "                    break\n",
    "                else:\n",
    "                    return True\n",
    "    except Exception as e:\n",
    "        print(e)\n",
    "        \n",
    "print(prime(7))\n",
    "print(prime(56963))\n",
    "print(prime(5151512515524))"
   ]
  },
  {
   "cell_type": "raw",
   "id": "eb233bda",
   "metadata": {},
   "source": [
    "## 5.  Create a function that converts a word to a bitstring and then to a boolean list based on the following criteria:\n",
    "\n",
    "    1. Locate the position of the letter in the English alphabet (from 1 to 26).\n",
    "    2. Odd positions will be represented as 1 and 0 otherwise.\n",
    "    3. Convert the represented positions to boolean values, 1 for True and 0 for False.\n",
    "    4. Store the conversions into an array.\n",
    "\n",
    " Examples\n",
    "\n",
    "to_boolean_list(\"deep\") ➞ [False, True, True, False]\n",
    "# deep converts to 0110\n",
    "# d is the 4th alphabet - 0\n",
    "# e is the 5th alphabet - 1\n",
    "# e is the 5th alphabet - 1\n",
    "# p is the 16th alphabet - 0\n",
    "\n",
    "to_boolean_list(\"loves\") ➞ [False, True, False, True, True]\n",
    "\n",
    "to_boolean_list(\"tesh\") ➞ [False, True, True, False]"
   ]
  },
  {
   "cell_type": "code",
   "execution_count": 54,
   "id": "ea6a5285",
   "metadata": {},
   "outputs": [
    {
     "name": "stdout",
     "output_type": "stream",
     "text": [
      "['False', 'True', 'False', 'True', 'True']\n"
     ]
    }
   ],
   "source": [
    "import string\n",
    "\n",
    "def to_boolean_list(chars):\n",
    "    try:\n",
    "        ls = []\n",
    "\n",
    "        for i in chars:\n",
    "            num = string.ascii_lowercase.index(i) + 1 \n",
    "            #odd = 1(True), even = 0(False)\n",
    "            if num % 2 == 0:\n",
    "                ls.append('False')\n",
    "            else:\n",
    "                ls.append('True')\n",
    "\n",
    "        print(ls)\n",
    "    except Exception as e:\n",
    "        print(e)\n",
    "        \n",
    "\n",
    "to_boolean_list(\"loves\")\n"
   ]
  },
  {
   "cell_type": "code",
   "execution_count": null,
   "id": "86172a9e",
   "metadata": {},
   "outputs": [],
   "source": []
  }
 ],
 "metadata": {
  "kernelspec": {
   "display_name": "Python 3",
   "language": "python",
   "name": "python3"
  },
  "language_info": {
   "codemirror_mode": {
    "name": "ipython",
    "version": 3
   },
   "file_extension": ".py",
   "mimetype": "text/x-python",
   "name": "python",
   "nbconvert_exporter": "python",
   "pygments_lexer": "ipython3",
   "version": "3.8.8"
  }
 },
 "nbformat": 4,
 "nbformat_minor": 5
}
