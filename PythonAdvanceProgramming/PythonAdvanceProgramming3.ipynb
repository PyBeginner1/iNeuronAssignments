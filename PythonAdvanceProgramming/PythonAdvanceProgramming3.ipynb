{
 "cells": [
  {
   "cell_type": "markdown",
   "id": "8fbdf252",
   "metadata": {},
   "source": [
    "## Python Advance Programming3"
   ]
  },
  {
   "cell_type": "markdown",
   "id": "d48c17df",
   "metadata": {},
   "source": [
    "## 1. Create a function to perform basic arithmetic operations that includes addition, subtraction, multiplication and division on a string number (e.g. \"12 + 24\" or \"23 - 21\" or \"12 // 12\" or \"12 * 21\").\n",
    "\n",
    "Here, we have 1 followed by a space, operator followed by another space and 2. For the challenge, we are going to have only two numbers between 1 valid operator. The return value should be a number.\n",
    "\n",
    "eval() is not allowed. In case of division, whenever the second number equals \"0\" return -1.\n",
    "\n",
    "For example:\n",
    "\n",
    "\"15 // 0\"  ➞ -1\n",
    "\n",
    "Examples\n",
    "\n",
    "arithmetic_operation(\"12 + 12\") ➞ 24 // 12 + 12 = 24\n",
    "\n",
    "arithmetic_operation(\"12 - 12\") ➞ 24 // 12 - 12 = 0\n",
    "\n",
    "arithmetic_operation(\"12 * 12\") ➞ 144 // 12 * 12 = 144\n",
    "\n",
    "arithmetic_operation(\"12 // 0\") ➞ -1 // 12 / 0 = -1"
   ]
  },
  {
   "cell_type": "code",
   "execution_count": 7,
   "id": "0bd0e5d1",
   "metadata": {},
   "outputs": [
    {
     "name": "stdout",
     "output_type": "stream",
     "text": [
      "12 + 12 ➞ 24\n",
      "12 - 12 ➞ 0\n",
      "12 * 12 ➞ 144\n",
      "12 // 0 ➞ -1\n"
     ]
    }
   ],
   "source": [
    "def arithmetic_operation(n_str):\n",
    "    try:\n",
    "        s_str = n_str.split()\n",
    "        op = s_str[1]\n",
    "        res = 1\n",
    "\n",
    "        if op == '+':\n",
    "            res = int(s_str[0]) + int(s_str[2])\n",
    "        elif op == '-':\n",
    "            res = int(s_str[0]) - int(s_str[2])\n",
    "        elif op == '*':\n",
    "            res = int(s_str[0]) * int(s_str[2])\n",
    "        elif op == '//':\n",
    "            if int(s_str[2]) == 0:\n",
    "                res = -1\n",
    "            else:\n",
    "                res = int(s_str[0]) // int(s_str[2])\n",
    "\n",
    "        print(f'{n_str} ➞ {res}')\n",
    "    except Exception as e:\n",
    "        print(e)\n",
    "        \n",
    "arithmetic_operation(\"12 + 12\")\n",
    "arithmetic_operation(\"12 - 12\")\n",
    "arithmetic_operation(\"12 * 12\")\n",
    "arithmetic_operation(\"12 // 0\")"
   ]
  },
  {
   "cell_type": "markdown",
   "id": "74ef260b",
   "metadata": {},
   "source": [
    "## 2. Write a function that takes the coordinates of three points in the form of a 2d array and returns the perimeter of the triangle. The given points are the vertices of a triangle on a two-dimensional plane.\n",
    "\n",
    "Examples\n",
    "\n",
    "perimeter( [ [15, 7], [5, 22], [11, 1] ] ) ➞ 47.08\n",
    "\n",
    "perimeter( [ [0, 0], [0, 1], [1, 0] ] ) ➞ 3.42\n",
    "\n",
    "perimeter( [ [-10, -10], [10, 10 ], [-10, 10] ] ) ➞ 68.28"
   ]
  },
  {
   "cell_type": "code",
   "execution_count": 13,
   "id": "c1cbd62a",
   "metadata": {},
   "outputs": [
    {
     "name": "stdout",
     "output_type": "stream",
     "text": [
      "47.08\n",
      "3.41\n",
      "68.28\n"
     ]
    }
   ],
   "source": [
    "import math\n",
    "\n",
    "def perimeter(ls):\n",
    "    try:\n",
    "        # √(x2−x1)2+(y2−y1)2\n",
    "        AB = math.sqrt((ls[1][0] - ls[0][0])**2 + (ls[1][1]-ls[0][1])**2)\n",
    "        BC = math.sqrt((ls[2][0] - ls[1][0])**2 + (ls[2][1]-ls[1][1])**2)\n",
    "        CA = math.sqrt((ls[2][0] - ls[0][0])**2 + (ls[2][1]-ls[0][1])**2)\n",
    "\n",
    "        #perimeter of triangle ABC = AB+BC+CA\n",
    "        perimeter = AB+BC+CA\n",
    "        print(round(perimeter,2))\n",
    "    except Exception as e:\n",
    "        print(e)\n",
    "        \n",
    "perimeter( [ [15, 7], [5, 22], [11, 1] ] )\n",
    "perimeter( [ [0, 0], [0, 1], [1, 0] ] )\n",
    "perimeter( [ [-10, -10], [10, 10 ], [-10, 10] ] )"
   ]
  },
  {
   "cell_type": "markdown",
   "id": "a321aba6",
   "metadata": {},
   "source": [
    "## 3. A city skyline can be represented as a 2-D list with 1s representing buildings. In the example below, the height of the tallest building is 4 (second-most right column).\n",
    "\n",
    "[[0, 0, 0, 0, 0, 0],<br>\n",
    "[0, 0, 0, 0, 1, 0],<br>\n",
    "[0, 0, 1, 0, 1, 0],<br>\n",
    "[0, 1, 1, 1, 1, 0],<br>\n",
    "[1, 1, 1, 1, 1, 1]]\n",
    "\n",
    "Create a function that takes a skyline (2-D list of 0's and 1's) and returns the height of the tallest skyscraper.\n",
    "\n",
    "Examples\n",
    "\n",
    "tallest_skyscraper([<br>\n",
    "  [0, 0, 0, 0],<br>\n",
    "  [0, 1, 0, 0],<br>\n",
    "  [0, 1, 1, 0],<br>\n",
    "  [1, 1, 1, 1]<br>\n",
    "]) ➞ 3\n",
    "\n",
    "tallest_skyscraper([<br>\n",
    "  [0, 1, 0, 0],<br>\n",
    "  [0, 1, 0, 0],<br>\n",
    "  [0, 1, 1, 0],<br>\n",
    "  [1, 1, 1, 1]<br>\n",
    "]) ➞ 4\n",
    "\n",
    "tallest_skyscraper([<br>\n",
    "  [0, 0, 0, 0],<br>\n",
    "  [0, 0, 0, 0],<br>\n",
    "  [1, 1, 1, 0],<br>\n",
    "  [1, 1, 1, 1]<br>\n",
    "]) ➞ 2"
   ]
  },
  {
   "cell_type": "code",
   "execution_count": 31,
   "id": "196d7f90",
   "metadata": {},
   "outputs": [],
   "source": [
    "def tallest_skyscraper(ls):\n",
    "    try:\n",
    "        num = []\n",
    "        for i in range(len(ls)):\n",
    "            n = 0\n",
    "            for j in range(len(ls[i])):\n",
    "                n += ls[j][i]\n",
    "            num.append(n)\n",
    "\n",
    "        print('Tallest Building: ', max(num))\n",
    "    except Exception as e:\n",
    "        print(e)"
   ]
  },
  {
   "cell_type": "code",
   "execution_count": 32,
   "id": "692d87e7",
   "metadata": {},
   "outputs": [
    {
     "name": "stdout",
     "output_type": "stream",
     "text": [
      "Tallest Building:  3\n",
      "Tallest Building:  4\n",
      "Tallest Building:  2\n"
     ]
    }
   ],
   "source": [
    "tallest_skyscraper([\n",
    "  [0, 0, 0, 0],\n",
    "  [0, 1, 0, 0],\n",
    "  [0, 1, 1, 0],\n",
    "  [1, 1, 1, 1]\n",
    "])\n",
    "\n",
    "tallest_skyscraper([\n",
    "  [0, 1, 0, 0],\n",
    "  [0, 1, 0, 0],\n",
    "  [0, 1, 1, 0],\n",
    "  [1, 1, 1, 1]\n",
    "])\n",
    "\n",
    "tallest_skyscraper([\n",
    "  [0, 0, 0, 0],\n",
    "  [0, 0, 0, 0],\n",
    "  [1, 1, 1, 0],\n",
    "  [1, 1, 1, 1]\n",
    "]) "
   ]
  },
  {
   "cell_type": "markdown",
   "id": "b7d8c9e3",
   "metadata": {},
   "source": [
    "## 4. A financial institution provides professional services to banks and claims charges from the customers based on the number of man-days provided. Internally, it has set a scheme to motivate and reward staff to meet and exceed targeted billable utilization and revenues by paying a bonus for each day claimed from customers in excess of a threshold target.\n",
    "\n",
    "This quarterly scheme is calculated with a threshold target of 32 days per quarter, and the incentive payment for each billable day in excess of such threshold target is shown as follows:\n",
    "\n",
    "Days\t                             Bonus\n",
    "0 to 32 days\t                   Zero\n",
    "33 to 40 days\t         SGD$325 per billable day\n",
    "41 to 48 days\t         SGD$550 per billable day\n",
    "Greater than 48 days      SGD$600 per billable day\n",
    "\n",
    "Please note that incentive payment is calculated progressively. As an example, if an employee reached total billable days of 45 in a quarter, his/her incentive payment is computed as follows:\n",
    "\n",
    "32*0 + 8*325 + 5*550 = 5350\n",
    "\n",
    "Write a function to read the billable days of an employee and return the bonus he/she has obtained in that quarter.\n",
    "\n",
    "Examples\n",
    "\n",
    "bonus(15) ➞ 0\n",
    "\n",
    "bonus(37) ➞ 1625\n",
    "\n",
    "bonus(50) ➞ 8200"
   ]
  },
  {
   "cell_type": "code",
   "execution_count": 39,
   "id": "10ef0e54",
   "metadata": {},
   "outputs": [
    {
     "name": "stdout",
     "output_type": "stream",
     "text": [
      "Bonus for working 15 days : 0\n",
      "Bonus for working 37 days : 1625\n",
      "Bonus for working 50 days : 8200\n"
     ]
    }
   ],
   "source": [
    "def bonus(days):\n",
    "    try:\n",
    "        if days >=0 and days <= 32:\n",
    "            bonus = 0\n",
    "        elif days >=33 and days <=40:\n",
    "            bonus = (days-33+1)*325 \n",
    "        elif days >=41 and days <=48:\n",
    "            bonus = 8*325 + (days-41+1)*550\n",
    "        else:\n",
    "            bonus = 8*325 + 8*550 + (days - 49+1) *600\n",
    "\n",
    "        print(f'Bonus for working {days} days : {bonus}')\n",
    "    except Exception as e:\n",
    "        print(e)\n",
    "        \n",
    "bonus(15) \n",
    "bonus(37)\n",
    "bonus(50)"
   ]
  },
  {
   "cell_type": "markdown",
   "id": "336621d5",
   "metadata": {},
   "source": [
    "## 5. A number is said to be Disarium if the sum of its digits raised to their respective positions is the number itself.\n",
    "\n",
    "Create a function that determines whether a number is a Disarium or not.\n",
    "\n",
    "Examples\n",
    "\n",
    "is_disarium(75) ➞ False<br>\n",
    "# 7^1 + 5^2 = 7 + 25 = 32\n",
    "\n",
    "is_disarium(135) ➞ True<br>\n",
    "# 1^1 + 3^2 + 5^3 = 1 + 9 + 125 = 135\n",
    "\n",
    "is_disarium(544) ➞ False\n",
    "\n",
    "is_disarium(518) ➞ True\n",
    "\n",
    "is_disarium(466) ➞ False\n",
    "\n",
    "is_disarium(8) ➞ True"
   ]
  },
  {
   "cell_type": "code",
   "execution_count": 57,
   "id": "7455d387",
   "metadata": {},
   "outputs": [
    {
     "name": "stdout",
     "output_type": "stream",
     "text": [
      "False\n",
      "True\n",
      "False\n",
      "True\n"
     ]
    }
   ],
   "source": [
    "def is_disarium(num):\n",
    "    try:\n",
    "        d_sum = 0\n",
    "        length = len(str(num))\n",
    "        power = 1\n",
    "\n",
    "        for i in str(num):\n",
    "            d_sum += int(i) ** power\n",
    "            power += 1\n",
    "\n",
    "        if d_sum == num:\n",
    "            return True\n",
    "        else:\n",
    "            return False\n",
    "    except Exception as e:\n",
    "        print(e)\n",
    "        \n",
    "print(is_disarium(544))\n",
    "print(is_disarium(518))\n",
    "print(is_disarium(466))\n",
    "print(is_disarium(8))"
   ]
  },
  {
   "cell_type": "code",
   "execution_count": null,
   "id": "7641e6c9",
   "metadata": {},
   "outputs": [],
   "source": []
  }
 ],
 "metadata": {
  "kernelspec": {
   "display_name": "Python 3",
   "language": "python",
   "name": "python3"
  },
  "language_info": {
   "codemirror_mode": {
    "name": "ipython",
    "version": 3
   },
   "file_extension": ".py",
   "mimetype": "text/x-python",
   "name": "python",
   "nbconvert_exporter": "python",
   "pygments_lexer": "ipython3",
   "version": "3.8.8"
  }
 },
 "nbformat": 4,
 "nbformat_minor": 5
}
