{
 "cells": [
  {
   "cell_type": "markdown",
   "id": "a1c069d0",
   "metadata": {},
   "source": [
    "# Python Advance Programming 8"
   ]
  },
  {
   "cell_type": "markdown",
   "id": "dc5aaf3d",
   "metadata": {},
   "source": [
    "## 1. Given a sentence as txt, return True if any two adjacent words have this property: One word ends with a vowel, while the word immediately after begins with a vowel (a e i o u).\n",
    "\n",
    "Examples\n",
    "\n",
    "vowel_links(\"a very large appliance\") ➞ True\n",
    "\n",
    "vowel_links(\"go to edabit\") ➞ True\n",
    "\n",
    "vowel_links(\"an open fire\") ➞ False\n",
    "\n",
    "vowel_links(\"a sudden applause\") ➞ False"
   ]
  },
  {
   "cell_type": "code",
   "execution_count": 65,
   "id": "17f2c455",
   "metadata": {},
   "outputs": [
    {
     "name": "stdout",
     "output_type": "stream",
     "text": [
      "True\n",
      "True\n",
      "False\n",
      "False\n",
      "Wall time: 0 ns\n"
     ]
    }
   ],
   "source": [
    "%%time\n",
    "def vowel_links(text):\n",
    "    try:\n",
    "        text = text.split()\n",
    "        vowel = ['a', 'e', 'i', 'o', 'u']\n",
    "\n",
    "        t1 = []\n",
    "        t2 = []\n",
    "\n",
    "        for i in range(len(text)):\n",
    "            if text[i][-1] in vowel:\n",
    "                t1.append('True')\n",
    "            else:\n",
    "                t1.append('False')\n",
    "            if text[i][0] in vowel:\n",
    "                t2.append('True')\n",
    "            else:\n",
    "                t2.append('False')\n",
    "\n",
    "        t2.append('Null') \n",
    "\n",
    "        for i in range(len(t1)):\n",
    "            if t1[i] == t2[i+1] == 'True':\n",
    "                return True\n",
    "                break\n",
    "        else:\n",
    "            return False\n",
    "    except Exception as e:\n",
    "        print(e)\n",
    "        \n",
    "print(vowel_links(\"a very large appliance\"))\n",
    "print(vowel_links(\"go to edabit\") )\n",
    "print(vowel_links(\"an open fire\"))\n",
    "print(vowel_links(\"a sudden applause\"))"
   ]
  },
  {
   "cell_type": "markdown",
   "id": "fdc01973",
   "metadata": {},
   "source": [
    "## 2. You are given three inputs: a string, one letter, and a second letter.\n",
    "\n",
    "Write a function that returns True if every instance of the first letter occurs before every instance of the second letter.\n",
    "\n",
    "Examples\n",
    "\n",
    "first_before_second(\"a rabbit jumps joyfully\", \"a\", \"j\") ➞ True\n",
    "# Every instance of \"a\" occurs before every instance of \"j\".\n",
    "\n",
    "first_before_second(\"knaves knew about waterfalls\", \"k\", \"w\") ➞  True\n",
    "\n",
    "first_before_second(\"happy birthday\", \"a\", \"y\") ➞ False\n",
    "# The \"a\" in \"birthday\" occurs after the \"y\" in \"happy\".\n",
    "\n",
    "first_before_second(\"precarious kangaroos\", \"k\", \"a\") ➞ False"
   ]
  },
  {
   "cell_type": "code",
   "execution_count": 14,
   "id": "bafe2d4e",
   "metadata": {},
   "outputs": [
    {
     "name": "stdout",
     "output_type": "stream",
     "text": [
      "True\n",
      "True\n",
      "False\n",
      "False\n"
     ]
    }
   ],
   "source": [
    "def first_before_second(text, first, second):\n",
    "    pos1 = text.rfind(first)\n",
    "    pos2 = text.find(second)\n",
    "\n",
    "    if pos1 < pos2:\n",
    "        return True\n",
    "    else:\n",
    "        return False\n",
    "    \n",
    "print(first_before_second(\"a rabbit jumps joyfully\", \"a\", \"j\"))\n",
    "print(first_before_second(\"knaves knew about waterfalls\", \"k\", \"w\"))\n",
    "print(first_before_second(\"happy birthday\", \"a\", \"y\"))\n",
    "print(first_before_second(\"precarious kangaroos\", \"k\", \"a\"))"
   ]
  },
  {
   "cell_type": "markdown",
   "id": "9510bff8",
   "metadata": {},
   "source": [
    "## 3. Create a function that returns the characters from a list or string r on odd or even positions, depending on the specifier s. The specifier will be \"odd\" for items on odd positions (1, 3, 5, ...) and \"even\" for items on even positions (2, 4, 6, ...).\n",
    "\n",
    "Examples\n",
    "\n",
    "char_at_pos([2, 4, 6, 8, 10], \"even\") ➞ [4, 8]\n",
    "# 4 & 8 occupy the 2nd & 4th positions\n",
    "\n",
    "char_at_pos(\"EDABIT\", \"odd\") ➞ \"EAI\"\n",
    "# \"E\", \"A\" and \"I\" occupy the 1st, 3rd and 5th positions\n",
    "\n",
    "char_at_pos([\"A\", \"R\", \"B\", \"I\", \"T\", \"R\", \"A\", \"R\", \"I\", \"L\", \"Y\"], \"odd\") ➞ [\"A\", \"B\", \"T\", \"A\", \"I\", \"Y\"]"
   ]
  },
  {
   "cell_type": "code",
   "execution_count": 61,
   "id": "40e8201e",
   "metadata": {},
   "outputs": [
    {
     "name": "stdout",
     "output_type": "stream",
     "text": [
      "[4, 8]\n",
      "['E', 'A', 'I']\n",
      "['A', 'B', 'T', 'A', 'I', 'Y']\n"
     ]
    }
   ],
   "source": [
    "def char_at_pos(ls, option):\n",
    "    chars = []\n",
    "\n",
    "    for i in range(len(ls)):\n",
    "        if option == 'even':\n",
    "            if i%2 != 0:\n",
    "                chars.append(ls[i])\n",
    "        else:\n",
    "            if i%2 == 0:\n",
    "                chars.append(ls[i])\n",
    "    return chars\n",
    "\n",
    "print(char_at_pos([2, 4, 6, 8, 10], \"even\"))\n",
    "print(char_at_pos(\"EDABIT\", \"odd\"))\n",
    "print(char_at_pos([\"A\", \"R\", \"B\", \"I\", \"T\", \"R\", \"A\", \"R\", \"I\", \"L\", \"Y\"], \"odd\"))"
   ]
  },
  {
   "cell_type": "markdown",
   "id": "f4d01ecf",
   "metadata": {},
   "source": [
    "## 4. Write a function that returns the greatest common divisor of all list elements. If the greatest common divisor is 1, return 1.\n",
    "\n",
    "Examples\n",
    "\n",
    "GCD([10, 20, 40]) ➞ 10\n",
    "\n",
    "GCD([1, 2, 3, 100]) ➞ 1\n",
    "\n",
    "GCD([1024, 192, 2048, 512]) ➞ 64"
   ]
  },
  {
   "cell_type": "code",
   "execution_count": 83,
   "id": "efd8ceb1",
   "metadata": {},
   "outputs": [
    {
     "name": "stdout",
     "output_type": "stream",
     "text": [
      "10\n",
      "1\n",
      "64\n"
     ]
    }
   ],
   "source": [
    "import math\n",
    "def GCD(ls):\n",
    "    try:\n",
    "        for i in range(len(ls)):\n",
    "            if i == 0:\n",
    "                ans = math.gcd(ls[i], ls[i+1])\n",
    "            else:\n",
    "                return math.gcd(ans, ls[i])\n",
    "    except Exception as e:\n",
    "        print(e)\n",
    "        \n",
    "print(GCD([10, 20, 40]))\n",
    "print(GCD([1, 2, 3, 100]))\n",
    "print(GCD([1024, 192, 2048, 512]))"
   ]
  },
  {
   "cell_type": "markdown",
   "id": "14f5564e",
   "metadata": {},
   "source": [
    "## 5. A number/string is a palindrome if the digits/characters are the same when read both forward and backward. Examples include \"racecar\" and 12321. Given a positive number n, check if n or the binary representation of n is palindromic. Return the following:\n",
    "\n",
    "- \"Decimal only.\" if only n is a palindrome.\n",
    "- \"Binary only.\" if only the binary representation of n is a palindrome.\n",
    "- \"Decimal and binary.\" if both are palindromes.\n",
    "- \"Neither!\" if neither are palindromes.\n",
    "\n",
    "Examples\n",
    "\n",
    "palindrome_type(1306031) ➞ \"Decimal only.\"\n",
    "# decimal = 1306031\n",
    "# binary  = \"100111110110110101111\"\n",
    "\n",
    "palindrome_type(427787) ➞ \"Binary only.\"\n",
    "# decimal = 427787\n",
    "# binary  = \"1101000011100001011\"\n",
    "\n",
    "palindrome_type(313) ➞ \"Decimal and binary.\"\n",
    "# decimal = 313\n",
    "# binary  = 100111001\n",
    "\n",
    "palindrome_type(934) ➞ \"Neither!\"\n",
    "# decimal = 934\n",
    "# binary  = \"1110100110\""
   ]
  },
  {
   "cell_type": "code",
   "execution_count": 99,
   "id": "4bd3c264",
   "metadata": {},
   "outputs": [
    {
     "name": "stdout",
     "output_type": "stream",
     "text": [
      "1306031 ➞ Decimal Only\n",
      "427787 ➞ Binary only\n",
      "313 ➞ Decimal and Binary\n",
      "934 ➞ Neither\n"
     ]
    }
   ],
   "source": [
    "def palindrome_type(n):\n",
    "    n = str(n)\n",
    "    if n == n[::-1] and bin(int(n))[2:] != (bin(int(n))[2:])[::-1]:\n",
    "        print(f'{n} ➞ Decimal Only')\n",
    "    elif n == n[::-1] and bin(int(n))[2:] == (bin(int(n))[2:])[::-1]:\n",
    "        print(f'{n} ➞ Decimal and Binary')\n",
    "    elif n != n[::-1] and bin(int(n))[2:] == (bin(int(n))[2:])[::-1]:\n",
    "        print(f'{n} ➞ Binary only')\n",
    "    else:\n",
    "        print(f'{n} ➞ Neither')\n",
    "        \n",
    "palindrome_type(1306031)\n",
    "palindrome_type(427787)\n",
    "palindrome_type(313)\n",
    "palindrome_type(934)"
   ]
  },
  {
   "cell_type": "code",
   "execution_count": null,
   "id": "dc68d3e3",
   "metadata": {},
   "outputs": [],
   "source": []
  }
 ],
 "metadata": {
  "kernelspec": {
   "display_name": "Python 3",
   "language": "python",
   "name": "python3"
  },
  "language_info": {
   "codemirror_mode": {
    "name": "ipython",
    "version": 3
   },
   "file_extension": ".py",
   "mimetype": "text/x-python",
   "name": "python",
   "nbconvert_exporter": "python",
   "pygments_lexer": "ipython3",
   "version": "3.8.8"
  }
 },
 "nbformat": 4,
 "nbformat_minor": 5
}
