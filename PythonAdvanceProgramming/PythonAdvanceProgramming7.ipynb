{
 "cells": [
  {
   "cell_type": "markdown",
   "id": "9ae80ba8",
   "metadata": {},
   "source": [
    "# Python Advance Programming 7"
   ]
  },
  {
   "cell_type": "markdown",
   "id": "f401dae0",
   "metadata": {},
   "source": [
    "## 1. Write a function that counts how many concentric layers a rug.\n",
    "\n",
    "Examples\n",
    "\n",
    "count_layers([\n",
    "  \"AAAA\",\n",
    "  \"ABBA\",\n",
    "  \"AAAA\"\n",
    "]) ➞ 2\n",
    "\n",
    "count_layers([\n",
    "  \"AAAAAAAAA\",\n",
    "  \"ABBBBBBBA\",\n",
    "  \"ABBAAABBA\",\n",
    "  \"ABBBBBBBA\",\n",
    "  \"AAAAAAAAA\"\n",
    "]) ➞ 3\n",
    "\n",
    "count_layers([\n",
    "  \"AAAAAAAAAAA\",\n",
    "  \"AABBBBBBBAA\",\n",
    "  \"AABCCCCCBAA\",\n",
    "  \"AABCAAACBAA\",\n",
    "  \"AABCADACBAA\",\n",
    "  \"AABCAAACBAA\",\n",
    "  \"AABCCCCCBAA\",\n",
    "  \"AABBBBBBBAA\",\n",
    "  \"AAAAAAAAAAA\"\n",
    "]) ➞ 5"
   ]
  },
  {
   "cell_type": "code",
   "execution_count": 10,
   "id": "658816bf",
   "metadata": {},
   "outputs": [
    {
     "data": {
      "text/plain": [
       "'Concentric layers: 2'"
      ]
     },
     "execution_count": 10,
     "metadata": {},
     "output_type": "execute_result"
    }
   ],
   "source": [
    "def count_layers(ls):\n",
    "    try:\n",
    "        res = []\n",
    "\n",
    "        for i in ls:\n",
    "            if i not in res:\n",
    "                res.append(i)\n",
    "\n",
    "        return f'Concentric layers: {len(res)}'\n",
    "    except Exception as e:\n",
    "        print(e)\n",
    "\n",
    "count_layers([\n",
    "  \"AAAA\",\n",
    "  \"ABBA\",\n",
    "  \"AAAA\"\n",
    "]) "
   ]
  },
  {
   "cell_type": "code",
   "execution_count": 8,
   "id": "02b79095",
   "metadata": {},
   "outputs": [
    {
     "data": {
      "text/plain": [
       "'Concentric layers: 3'"
      ]
     },
     "execution_count": 8,
     "metadata": {},
     "output_type": "execute_result"
    }
   ],
   "source": [
    "count_layers([\n",
    "  \"AAAAAAAAA\",\n",
    "  \"ABBBBBBBA\",\n",
    "  \"ABBAAABBA\",\n",
    "  \"ABBBBBBBA\",\n",
    "  \"AAAAAAAAA\"\n",
    "]) "
   ]
  },
  {
   "cell_type": "code",
   "execution_count": 9,
   "id": "d8109115",
   "metadata": {},
   "outputs": [
    {
     "data": {
      "text/plain": [
       "'Concentric layers: 5'"
      ]
     },
     "execution_count": 9,
     "metadata": {},
     "output_type": "execute_result"
    }
   ],
   "source": [
    "count_layers([\n",
    "  \"AAAAAAAAAAA\",\n",
    "  \"AABBBBBBBAA\",\n",
    "  \"AABCCCCCBAA\",\n",
    "  \"AABCAAACBAA\",\n",
    "  \"AABCADACBAA\",\n",
    "  \"AABCAAACBAA\",\n",
    "  \"AABCCCCCBAA\",\n",
    "  \"AABBBBBBBAA\",\n",
    "  \"AAAAAAAAAAA\"\n",
    "])"
   ]
  },
  {
   "cell_type": "markdown",
   "id": "7a0add9e",
   "metadata": {},
   "source": [
    "## 2. There are many different styles of music and many albums exhibit multiple styles. Create a function that takes a list of musical styles from albums and returns how many styles are unique.\n",
    "\n",
    "Examples\n",
    "\n",
    "unique_styles([\n",
    "  \"Dub,Dancehall\",\n",
    "  \"Industrial,Heavy Metal\",\n",
    "  \"Techno,Dubstep\",\n",
    "  \"Synth-pop,Euro-Disco\",\n",
    "  \"Industrial,Techno,Minimal\"\n",
    "]) ➞ 9\n",
    "\n",
    "unique_styles([\n",
    "  \"Soul\",\n",
    "  \"House,Folk\",\n",
    "  \"Trance,Downtempo,Big Beat,House\",\n",
    "  \"Deep House\",\n",
    "  \"Soul\"\n",
    "]) ➞ 7"
   ]
  },
  {
   "cell_type": "code",
   "execution_count": 31,
   "id": "a5eb3c4f",
   "metadata": {},
   "outputs": [
    {
     "name": "stdout",
     "output_type": "stream",
     "text": [
      "['Dub,Dancehall', 'Industrial,Heavy Metal', 'Techno,Dubstep', 'Synth-pop,Euro-Disco', 'Industrial,Techno,Minimal'] ➞ 9\n",
      "['Soul', 'House,Folk', 'Trance,Downtempo,Big Beat,House', 'Deep House', 'Soul'] ➞ 7\n"
     ]
    }
   ],
   "source": [
    "def unique_styles(ls):\n",
    "    res = []\n",
    "\n",
    "    for i in ls:\n",
    "        for j in i.split(','):\n",
    "            res.append(j)\n",
    "\n",
    "    print(f'{ls} ➞ {len(set(res))}')\n",
    "\n",
    "unique_styles([\n",
    "  \"Dub,Dancehall\",\n",
    "  \"Industrial,Heavy Metal\",\n",
    "  \"Techno,Dubstep\",\n",
    "  \"Synth-pop,Euro-Disco\",\n",
    "  \"Industrial,Techno,Minimal\"\n",
    "]) \n",
    "\n",
    "unique_styles([\n",
    "  \"Soul\",\n",
    "  \"House,Folk\",\n",
    "  \"Trance,Downtempo,Big Beat,House\",\n",
    "  \"Deep House\",\n",
    "  \"Soul\"\n",
    "])"
   ]
  },
  {
   "cell_type": "markdown",
   "id": "00fcc595",
   "metadata": {},
   "source": [
    "## 3. Create a function that finds a target number in a list of prime numbers. Implement a binary search algorithm in your function. The target number will be from 2 through 97. If the target is prime then return \"yes\" else return \"no\".\n",
    "\n",
    "Examples\n",
    "\n",
    "primes = [2, 3, 5, 7, 11, 13, 17, 19, 23, 29, 31, 37, 41, 43, 47, 53, 59, 61, 67, 71, 73, 79, 83, 89, 97]\n",
    "\n",
    "\n",
    "is_prime(primes, 3) ➞ \"yes\"\n",
    "\n",
    "is_prime(primes, 4) ➞ \"no\"\n",
    "\n",
    "is_prime(primes, 67) ➞ \"yes\"\n",
    "\n",
    "is_prime(primes, 36) ➞ \"no\""
   ]
  },
  {
   "cell_type": "code",
   "execution_count": 44,
   "id": "fc74d6d5",
   "metadata": {},
   "outputs": [
    {
     "name": "stdout",
     "output_type": "stream",
     "text": [
      "3 ➞ Yes\n",
      "4 ➞ No\n",
      "67 ➞ Yes\n",
      "36 ➞ No\n"
     ]
    }
   ],
   "source": [
    "def is_prime(primes, n):\n",
    "    try:\n",
    "        primes = [2, 3, 5, 7, 11, 13, 17, 19, 23, 29, 31, 37, 41, 43, 47, 53, 59, 61, 67, 71, 73, 79, 83, 89, 97]\n",
    "\n",
    "        low = 0\n",
    "        upper = len(primes) - 1\n",
    "        flag = False\n",
    "\n",
    "        while low <= upper:\n",
    "            mid = (low + upper) // 2\n",
    "\n",
    "            if  primes[mid] > n:\n",
    "                upper = mid - 1\n",
    "            elif primes[mid] < n:\n",
    "                low = mid + 1\n",
    "            else:\n",
    "                flag = True\n",
    "                break\n",
    "\n",
    "\n",
    "        if flag == True:\n",
    "            print(f'{n} ➞ Yes')\n",
    "        else:\n",
    "            print(f'{n} ➞ No')\n",
    "    except Exceptionn as e:\n",
    "        print(e)\n",
    "        \n",
    "is_prime(primes, 3)\n",
    "is_prime(primes, 4)\n",
    "is_prime(primes, 67)\n",
    "is_prime(primes, 36)"
   ]
  },
  {
   "cell_type": "markdown",
   "id": "64ccdcc7",
   "metadata": {},
   "source": [
    "## 4. Create a function that takes in n, a, b and returns the number of positive values raised to the nth power that lie in the range [a, b], inclusive.\n",
    "\n",
    "Examples\n",
    "\n",
    "power_ranger(2, 49, 65) ➞ 2\n",
    "# 2 squares (n^2) lie between 49 and 65, 49 (7^2) and 64 (8^2)\n",
    "\n",
    "power_ranger(3, 1, 27) ➞ 3\n",
    "# 3 cubes (n^3) lie between 1 and 27, 1 (1^3), 8 (2^3) and 27 (3^3)\n",
    "\n",
    "power_ranger(10, 1, 5) ➞ 1\n",
    "# 1 value raised to the 10th power lies between 1 and 5, 1 (1^10)\n",
    "\n",
    "power_ranger(5, 31, 33) ➞ 1\n",
    "\n",
    "power_ranger(4, 250, 1300) ➞ 3"
   ]
  },
  {
   "cell_type": "code",
   "execution_count": 75,
   "id": "e5960d3d",
   "metadata": {},
   "outputs": [
    {
     "name": "stdout",
     "output_type": "stream",
     "text": [
      "2, 49, 27 ➞ 2\n",
      "3, 1, 27 ➞ 3\n",
      "10, 1, 27 ➞ 1\n",
      "5, 31, 27 ➞ 1\n",
      "4, 250, 27 ➞ 3\n"
     ]
    }
   ],
   "source": [
    "def power_ranger(pow, low, high):    \n",
    "    ans = [0]\n",
    "    i = 1\n",
    "    res = []\n",
    "\n",
    "    while ans[-1] < high:\n",
    "        power = i ** pow\n",
    "        ans.append(power)\n",
    "        i+=1\n",
    "\n",
    "    for i in range(low, high+1):\n",
    "        if i in ans:\n",
    "            res.append(i)\n",
    "    print(f'{pow}, {low}, {upper} ➞ {len(res)}')\n",
    "    \n",
    "power_ranger(2, 49, 65)\n",
    "power_ranger(3, 1, 27)\n",
    "power_ranger(10, 1, 5)\n",
    "power_ranger(5, 31, 33)\n",
    "power_ranger(4, 250, 1300)"
   ]
  },
  {
   "cell_type": "markdown",
   "id": "218e725c",
   "metadata": {},
   "source": [
    "## 5. Given a number, return the difference between the maximum and minimum numbers that can be formed when the digits are rearranged.\n",
    "\n",
    "Examples\n",
    "\n",
    "rearranged_difference(972882) ➞ 760833\n",
    "# 988722 - 227889 = 760833\n",
    "\n",
    "rearranged_difference(3320707) ➞ 7709823\n",
    "# 7733200 - 23377 = 7709823\n",
    "\n",
    "rearranged_difference(90010) ➞ 90981\n",
    "# 91000 - 19 = 90981"
   ]
  },
  {
   "cell_type": "code",
   "execution_count": 104,
   "id": "d4d426df",
   "metadata": {},
   "outputs": [
    {
     "name": "stdout",
     "output_type": "stream",
     "text": [
      "988722 - 227889 = 760833\n",
      "7733200 - 23377 = 7709823\n",
      "91000 - 19 = 90981\n"
     ]
    }
   ],
   "source": [
    "def rearranged_difference(n):\n",
    "    try:\n",
    "        n = str(n)\n",
    "        ls = []\n",
    "\n",
    "        for i in n:\n",
    "            ls.append(i)\n",
    "\n",
    "        min = int(''.join(sorted(ls)))\n",
    "        max= int(''.join(sorted(ls, reverse = True)))\n",
    "\n",
    "        diff = max - min\n",
    "        print(f'{max} - {min} = {diff}')\n",
    "    except Exception as e:\n",
    "        print(e)\n",
    "        \n",
    "rearranged_difference(972882)\n",
    "rearranged_difference(3320707)\n",
    "rearranged_difference(90010)"
   ]
  },
  {
   "cell_type": "code",
   "execution_count": 101,
   "id": "241f82ab",
   "metadata": {},
   "outputs": [
    {
     "data": {
      "text/plain": [
       "['9', '8', '8', '7', '2', '2']"
      ]
     },
     "execution_count": 101,
     "metadata": {},
     "output_type": "execute_result"
    }
   ],
   "source": [
    "sorted(ls, reverse = True)"
   ]
  },
  {
   "cell_type": "code",
   "execution_count": null,
   "id": "cfb0ff4a",
   "metadata": {},
   "outputs": [],
   "source": []
  }
 ],
 "metadata": {
  "kernelspec": {
   "display_name": "Python 3",
   "language": "python",
   "name": "python3"
  },
  "language_info": {
   "codemirror_mode": {
    "name": "ipython",
    "version": 3
   },
   "file_extension": ".py",
   "mimetype": "text/x-python",
   "name": "python",
   "nbconvert_exporter": "python",
   "pygments_lexer": "ipython3",
   "version": "3.8.8"
  }
 },
 "nbformat": 4,
 "nbformat_minor": 5
}
