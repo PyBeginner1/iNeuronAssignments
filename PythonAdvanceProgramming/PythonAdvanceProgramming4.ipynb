{
 "cells": [
  {
   "cell_type": "markdown",
   "id": "399ecbdc",
   "metadata": {},
   "source": [
    "# Python Advance Programming 4"
   ]
  },
  {
   "cell_type": "markdown",
   "id": "0f994ffa",
   "metadata": {},
   "source": [
    "## 1. In mathematics, the Fibonacci numbers, commonly denoted Fn, form a sequence, called the Fibonacci sequence, such that each number is the sum of the two preceding ones, starting from 0 and 1:\n",
    "\n",
    "The beginning of the sequence is this:\n",
    "\n",
    "0, 1, 1, 2, 3, 5, 8, 13, 21, 34, 55, 89, 144, ...\n",
    "\n",
    "The function fastFib(num) returns the fibonacci number Fn, of the given num as an argument.\n",
    "\n",
    "Examples\n",
    "\n",
    "fib_fast(5) ➞ 5\n",
    "\n",
    "fib_fast(10) ➞ 55\n",
    "\n",
    "fib_fast(20) ➞ 6765\n",
    "\n",
    "fib_fast(50) ➞ 12586269025"
   ]
  },
  {
   "cell_type": "code",
   "execution_count": 6,
   "id": "c3443cbe",
   "metadata": {},
   "outputs": [
    {
     "name": "stdout",
     "output_type": "stream",
     "text": [
      "5\n",
      "55\n",
      "6765\n",
      "12586269025\n"
     ]
    }
   ],
   "source": [
    "def fib_fast(n):\n",
    "    a = 0\n",
    "    b = 1\n",
    "    for i in range(n):\n",
    "        a,b = b, a+b\n",
    "    \n",
    "    return a\n",
    "\n",
    "print(fib_fast(5))\n",
    "print(fib_fast(10))\n",
    "print(fib_fast(20))\n",
    "print(fib_fast(50))"
   ]
  },
  {
   "cell_type": "markdown",
   "id": "d645e64f",
   "metadata": {},
   "source": [
    "## 2. Create a function that takes a strings characters as ASCII and returns each characters hexadecimal value as a string.\n",
    "\n",
    "Examples\n",
    "\n",
    "convert_to_hex(\"hello world\") ➞ \"68 65 6c 6c 6f 20 77 6f 72 6c 64\"\n",
    "\n",
    "convert_to_hex(\"Big Boi\") ➞ \"42 69 67 20 42 6f 69\"\n",
    "\n",
    "convert_to_hex(\"Marty Poppinson\") ➞ \"4d 61 72 74 79 20 50 6f 70 70 69 6e 73 6f 6e\""
   ]
  },
  {
   "cell_type": "code",
   "execution_count": 13,
   "id": "d99b788a",
   "metadata": {},
   "outputs": [
    {
     "name": "stdout",
     "output_type": "stream",
     "text": [
      "hello world ➞ 68 65 6c 6c 6f 20 77 6f 72 6c 64\n",
      "Big Boi ➞ 42 69 67 20 42 6f 69\n",
      "Marty Poppinson ➞ 4d 61 72 74 79 20 50 6f 70 70 69 6e 73 6f 6e\n"
     ]
    }
   ],
   "source": [
    "def convert_to_hex(chars):\n",
    "    ascii_values = []\n",
    "    hex_values = ''\n",
    "\n",
    "    #using \"ord\" to convert sring to ascii\n",
    "    for i in chars:\n",
    "        ascii_values.append(ord(i))\n",
    "\n",
    "    #using \"hex\" to convert ascii values\n",
    "    for i in ascii_values:\n",
    "        hex_values += hex(i)\n",
    "\n",
    "    hex_values = (hex_values.replace('0x', ' ')).lstrip()\n",
    "    print(f'{chars} ➞ {hex_values}')\n",
    "    \n",
    "convert_to_hex(\"hello world\")\n",
    "convert_to_hex(\"Big Boi\")\n",
    "convert_to_hex(\"Marty Poppinson\")"
   ]
  },
  {
   "cell_type": "markdown",
   "id": "fa5f983c",
   "metadata": {},
   "source": [
    "## 3. Someone has attempted to censor my strings by replacing every vowel with a *, l*k* th*s. Luckily, I've been able to find the vowels that were removed.\n",
    "\n",
    "Given a censored string and a string of the censored vowels, return the original uncensored string.\n",
    "\n",
    "Example\n",
    "\n",
    "uncensor(\"Wh*r* d*d my v*w*ls g*?\", \"eeioeo\") ➞ \"Where did my vowels go?\"\n",
    "\n",
    "uncensor(\"abcd\", \"\") ➞ \"abcd\"\n",
    "\n",
    "uncensor(\"*PP*RC*S*\", \"UEAE\") ➞ \"UPPERCASE\""
   ]
  },
  {
   "cell_type": "code",
   "execution_count": 33,
   "id": "6ef0f2d6",
   "metadata": {},
   "outputs": [
    {
     "name": "stdout",
     "output_type": "stream",
     "text": [
      "Wh*r* d*d my v*w*ls g*? ➞ Where did my vowels go?\n",
      "abcd ➞ abcd\n",
      "*PP*RC*S* ➞ UPPERCASE\n"
     ]
    }
   ],
   "source": [
    "def uncensor(censored, vowels):\n",
    "    try:\n",
    "        un_censored = ''\n",
    "        count = 0\n",
    "\n",
    "        for i in range(len(censored)):\n",
    "            if censored[i] == \"*\":\n",
    "                un_censored += vowels[count]\n",
    "                count += 1\n",
    "            else:\n",
    "                un_censored += censored[i]\n",
    "\n",
    "        print(f'{censored} ➞ {un_censored}')\n",
    "    except Exception as e:\n",
    "        print(e)\n",
    "    \n",
    "uncensor(\"Wh*r* d*d my v*w*ls g*?\", \"eeioeo\")\n",
    "uncensor(\"abcd\", \"\")\n",
    "uncensor(\"*PP*RC*S*\", \"UEAE\")"
   ]
  },
  {
   "cell_type": "markdown",
   "id": "bf6c4ba1",
   "metadata": {},
   "source": [
    "## 4. Write a function that takes an IP address and returns the domain name using PTR DNS records.\n",
    "\n",
    "Example\n",
    "\n",
    "get_domain(\"8.8.8.8\") ➞ \"dns.google\"\n",
    "\n",
    "get_domain(\"8.8.4.4\") ➞ \"dns.google\""
   ]
  },
  {
   "cell_type": "code",
   "execution_count": 37,
   "id": "564f9c2a",
   "metadata": {},
   "outputs": [
    {
     "name": "stdout",
     "output_type": "stream",
     "text": [
      "8.8.8.8 ➞ dns.google\n",
      "8.8.4.4 ➞ dns.google\n"
     ]
    }
   ],
   "source": [
    "import socket\n",
    "\n",
    "def get_domain(ip):\n",
    "    res = socket.gethostbyaddr(ip)\n",
    "    print(f'{ip} ➞ {res[0]}')\n",
    "\n",
    "get_domain(\"8.8.8.8\")\n",
    "get_domain(\"8.8.4.4\")"
   ]
  },
  {
   "cell_type": "markdown",
   "id": "f25f9757",
   "metadata": {},
   "source": [
    "## 5. Create a function that takes an integer n and returns the factorial of factorials. See below examples for a better understanding:\n",
    "\n",
    "Examples\n",
    "\n",
    "fact_of_fact(4) ➞ 288\n",
    "# 4! * 3! * 2! * 1! = 288\n",
    "\n",
    "fact_of_fact(5) ➞ 34560\n",
    "\n",
    "fact_of_fact(6) ➞ 24883200"
   ]
  },
  {
   "cell_type": "code",
   "execution_count": 48,
   "id": "714ee303",
   "metadata": {},
   "outputs": [
    {
     "name": "stdout",
     "output_type": "stream",
     "text": [
      "Factorial of Factorial of 5 ➞ 34560\n",
      "Factorial of Factorial of 6 ➞ 24883200\n"
     ]
    }
   ],
   "source": [
    "import math\n",
    "\n",
    "def fact_of_fact(n):\n",
    "    mul = 1\n",
    "    for i in range(1,n+1):\n",
    "        mul *= math.factorial(i)\n",
    "\n",
    "    print(f'Factorial of Factorial of {n} ➞ {mul}')\n",
    "    \n",
    "fact_of_fact(5)\n",
    "fact_of_fact(6)"
   ]
  },
  {
   "cell_type": "code",
   "execution_count": 64,
   "id": "538efbf2",
   "metadata": {},
   "outputs": [
    {
     "name": "stdout",
     "output_type": "stream",
     "text": [
      "Factorial of Factorial of 5 ➞ 34560\n",
      "Factorial of Factorial of 6 ➞ 24883200\n"
     ]
    }
   ],
   "source": [
    "#Without importing \"math\"\n",
    "def fact_of_fact(n):\n",
    "    def get_factorial(n):\n",
    "        fact = 1\n",
    "        for i in range(1, n+1):\n",
    "            fact *= i\n",
    "        return fact\n",
    "    \n",
    "    fact_of_fact_value = 1\n",
    "    \n",
    "    for i in range(1, n+1):\n",
    "        fact_of_fact_value *= get_factorial(i)\n",
    "    print(f'Factorial of Factorial of {n} ➞ {fact_of_fact_value}')\n",
    "        \n",
    "fact_of_fact(5)\n",
    "fact_of_fact(6)"
   ]
  },
  {
   "cell_type": "code",
   "execution_count": null,
   "id": "9abeed99",
   "metadata": {},
   "outputs": [],
   "source": []
  },
  {
   "cell_type": "code",
   "execution_count": null,
   "id": "4033a981",
   "metadata": {},
   "outputs": [],
   "source": []
  }
 ],
 "metadata": {
  "kernelspec": {
   "display_name": "Python 3",
   "language": "python",
   "name": "python3"
  },
  "language_info": {
   "codemirror_mode": {
    "name": "ipython",
    "version": 3
   },
   "file_extension": ".py",
   "mimetype": "text/x-python",
   "name": "python",
   "nbconvert_exporter": "python",
   "pygments_lexer": "ipython3",
   "version": "3.8.8"
  }
 },
 "nbformat": 4,
 "nbformat_minor": 5
}
