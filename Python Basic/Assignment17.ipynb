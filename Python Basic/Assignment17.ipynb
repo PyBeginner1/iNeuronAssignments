{
 "cells": [
  {
   "cell_type": "markdown",
   "id": "50804550",
   "metadata": {},
   "source": [
    "# Assignment 17"
   ]
  },
  {
   "cell_type": "markdown",
   "id": "f9b4ffda",
   "metadata": {},
   "source": [
    "## 1. Assign the value 7 to the variable guess_me. Then, write the conditional tests (if, else, and elif) to print the string 'too low' if guess_me is less than 7, 'too high' if greater than 7, and 'just right' if equal to 7."
   ]
  },
  {
   "cell_type": "code",
   "execution_count": 1,
   "id": "3e1bb19b",
   "metadata": {},
   "outputs": [],
   "source": [
    "guess_me = 7"
   ]
  },
  {
   "cell_type": "code",
   "execution_count": 8,
   "id": "0ec1d6ef",
   "metadata": {},
   "outputs": [
    {
     "name": "stdout",
     "output_type": "stream",
     "text": [
      "Enter a number between 1-10: 2\n",
      "Too Low!\n",
      "Enter a number between 1-10: 6\n",
      "Too Low!\n",
      "Enter a number between 1-10: 9\n",
      "Too high!\n",
      "Enter a number between 1-10: 8\n",
      "Too high!\n",
      "Enter a number between 1-10: 7\n",
      "Just Right\n"
     ]
    }
   ],
   "source": [
    "game = True\n",
    "while game:\n",
    "    data = int(input('Enter a number between 1-10: '))\n",
    "    if data == 7:\n",
    "        print('Just Right')\n",
    "        game = False\n",
    "    elif data < 7:\n",
    "        print('Too Low!')\n",
    "    else:\n",
    "        print('Too high!')"
   ]
  },
  {
   "cell_type": "markdown",
   "id": "aa8590b2",
   "metadata": {},
   "source": [
    "## 2. Assign the value 7 to the variable guess_me and the value 1 to the variable start. Write a while loop that compares start with guess_me. Print too low if start is less than guess me. If start equals guess_me, print 'found it!' and exit the loop. If start is greater than guess_me, print 'oops' and exit the loop. Increment start at the end of the loop."
   ]
  },
  {
   "cell_type": "code",
   "execution_count": 18,
   "id": "b0fee86c",
   "metadata": {},
   "outputs": [
    {
     "name": "stdout",
     "output_type": "stream",
     "text": [
      "Enter a digit: 1\n",
      "Too low\n",
      "Too low\n",
      "Too low\n",
      "Too low\n",
      "Too low\n",
      "Too low\n",
      "Found it\n"
     ]
    }
   ],
   "source": [
    "start = int(input('Enter a digit: '))\n",
    "game = True                 #using a flag\n",
    "while game:\n",
    "    if start == guess_me:\n",
    "        print('Found it')\n",
    "        game= False                  #Or we can use Break statement to break out of this loop\n",
    "    elif start<guess_me:\n",
    "        print('Too low')\n",
    "        start+=1\n",
    "    else:\n",
    "        print('Too High!')\n",
    "        start -= 1"
   ]
  },
  {
   "cell_type": "code",
   "execution_count": 16,
   "id": "a2971651",
   "metadata": {},
   "outputs": [
    {
     "name": "stdout",
     "output_type": "stream",
     "text": [
      "Too High!\n",
      "Too High!\n",
      "Too High!\n",
      "Found it\n"
     ]
    }
   ],
   "source": [
    "start = 10\n",
    "while True:\n",
    "    if start == guess_me:\n",
    "        print('Found it')\n",
    "        break\n",
    "    elif start<guess_me:\n",
    "        print('Too low')\n",
    "        start+=1\n",
    "    else:\n",
    "        print('Too High!')\n",
    "        start -= 1"
   ]
  },
  {
   "cell_type": "markdown",
   "id": "79bd480b",
   "metadata": {},
   "source": [
    "## 3. Print the following values of the list [3, 2, 1, 0] using a for loop."
   ]
  },
  {
   "cell_type": "code",
   "execution_count": 19,
   "id": "8b0bd815",
   "metadata": {},
   "outputs": [
    {
     "name": "stdout",
     "output_type": "stream",
     "text": [
      "3\n",
      "2\n",
      "1\n",
      "0\n"
     ]
    }
   ],
   "source": [
    "l = [3,2,1,0]\n",
    "\n",
    "for i in l:\n",
    "    print(i)"
   ]
  },
  {
   "cell_type": "markdown",
   "id": "2b7da1d9",
   "metadata": {},
   "source": [
    "## 4. Use a list comprehension to make a list of the even numbers in range(10)"
   ]
  },
  {
   "cell_type": "code",
   "execution_count": 21,
   "id": "d3d0ea28",
   "metadata": {},
   "outputs": [
    {
     "name": "stdout",
     "output_type": "stream",
     "text": [
      "2\n",
      "4\n",
      "6\n",
      "8\n"
     ]
    }
   ],
   "source": [
    "for i in range(1,10):\n",
    "    if i%2 ==0:\n",
    "        print(i)"
   ]
  },
  {
   "cell_type": "code",
   "execution_count": 26,
   "id": "9c8b2eb7",
   "metadata": {},
   "outputs": [
    {
     "data": {
      "text/plain": [
       "[2, 4, 6, 8]"
      ]
     },
     "execution_count": 26,
     "metadata": {},
     "output_type": "execute_result"
    }
   ],
   "source": [
    "#Using list comprehension\n",
    "l =[i for i in range(1,10) if i%2 ==0]\n",
    "l"
   ]
  },
  {
   "cell_type": "markdown",
   "id": "6bca472f",
   "metadata": {},
   "source": [
    "## 5. Use a dictionary comprehension to create the dictionary squares. Use range(10) to return the keys, and use the square of each key as its value."
   ]
  },
  {
   "cell_type": "code",
   "execution_count": 34,
   "id": "89723fa7",
   "metadata": {},
   "outputs": [
    {
     "data": {
      "text/plain": [
       "{0: 0, 1: 1, 2: 4, 3: 9, 4: 16, 5: 25, 6: 36, 7: 49, 8: 64, 9: 81}"
      ]
     },
     "execution_count": 34,
     "metadata": {},
     "output_type": "execute_result"
    }
   ],
   "source": [
    "d = {i: i**2 for i in range(10)}\n",
    "d"
   ]
  },
  {
   "cell_type": "markdown",
   "id": "a8daecc8",
   "metadata": {},
   "source": [
    "## 6. Construct the set odd from the odd numbers in the range using a set comprehension (10)."
   ]
  },
  {
   "cell_type": "code",
   "execution_count": 38,
   "id": "c3d61643",
   "metadata": {},
   "outputs": [
    {
     "data": {
      "text/plain": [
       "{1, 3, 5, 7, 9}"
      ]
     },
     "execution_count": 38,
     "metadata": {},
     "output_type": "execute_result"
    }
   ],
   "source": [
    "{i for i in range(10) if i%2!=0}"
   ]
  },
  {
   "cell_type": "markdown",
   "id": "c1c24d81",
   "metadata": {},
   "source": [
    "## 7. Use a generator comprehension to return the string 'Got ' and a number for the numbers in range(10). Iterate through this by using a for loop."
   ]
  },
  {
   "cell_type": "code",
   "execution_count": 44,
   "id": "2381fe36",
   "metadata": {},
   "outputs": [
    {
     "name": "stdout",
     "output_type": "stream",
     "text": [
      "Got0 Got1 Got2 Got3 Got4 Got5 Got6 Got7 Got8 Got9 "
     ]
    }
   ],
   "source": [
    "gen = ('Got'+str(i) for i in range(10))\n",
    "for i in gen:\n",
    "    print(i, end = ' ')"
   ]
  },
  {
   "cell_type": "markdown",
   "id": "f7ad3dc2",
   "metadata": {},
   "source": [
    "## 8. Define a function called good that returns the list ['Harry', 'Ron', 'Hermione']."
   ]
  },
  {
   "cell_type": "code",
   "execution_count": 45,
   "id": "21d1210c",
   "metadata": {},
   "outputs": [],
   "source": [
    "def good():\n",
    "    ls = ['Harry', 'Ron', 'Hermione']\n",
    "    return ls"
   ]
  },
  {
   "cell_type": "code",
   "execution_count": 46,
   "id": "40265e4e",
   "metadata": {},
   "outputs": [
    {
     "data": {
      "text/plain": [
       "['Harry', 'Ron', 'Hermione']"
      ]
     },
     "execution_count": 46,
     "metadata": {},
     "output_type": "execute_result"
    }
   ],
   "source": [
    "good()"
   ]
  },
  {
   "cell_type": "markdown",
   "id": "8a38609b",
   "metadata": {},
   "source": [
    "## 9. Define a generator function called get_odds that returns the odd numbers from range(10). Use a for loop to find and print the third value returned."
   ]
  },
  {
   "cell_type": "code",
   "execution_count": 51,
   "id": "84b48c25",
   "metadata": {},
   "outputs": [],
   "source": [
    "def get_odds():\n",
    "    l = []\n",
    "    for i in range(10):\n",
    "        if i%2!=0:\n",
    "            l.append(i)\n",
    "    return l[2]"
   ]
  },
  {
   "cell_type": "code",
   "execution_count": 52,
   "id": "bfb2d273",
   "metadata": {},
   "outputs": [
    {
     "data": {
      "text/plain": [
       "5"
      ]
     },
     "execution_count": 52,
     "metadata": {},
     "output_type": "execute_result"
    }
   ],
   "source": [
    "get_odds()"
   ]
  },
  {
   "cell_type": "markdown",
   "id": "f30b9379",
   "metadata": {},
   "source": [
    "## 10. Define an exception called OopsException. Raise this exception to see what happens. Then write the code to catch this exception and print 'Caught an oops'."
   ]
  },
  {
   "cell_type": "code",
   "execution_count": 55,
   "id": "d28f6ef1",
   "metadata": {},
   "outputs": [
    {
     "name": "stdout",
     "output_type": "stream",
     "text": [
      "Caught an oops\n"
     ]
    }
   ],
   "source": [
    "class OopsException:\n",
    "    print('Caught an oops')\n",
    "\n",
    "def test(a=7):\n",
    "    if a != 5:\n",
    "        raise OopsException     "
   ]
  },
  {
   "cell_type": "markdown",
   "id": "7bfa04ca",
   "metadata": {},
   "source": [
    "## 11. Use zip() to make a dictionary called movies that pairs these lists: titles = ['Creature of Habit', 'Crewel Fate'] and plots = ['A nun turns into a monster', 'A haunted yarn shop']."
   ]
  },
  {
   "cell_type": "code",
   "execution_count": 57,
   "id": "ead6e51e",
   "metadata": {},
   "outputs": [
    {
     "data": {
      "text/plain": [
       "{'Creature of Habit': 'A nun turns into a monster',\n",
       " 'Crewel Fate': 'A haunted yarn shop'}"
      ]
     },
     "execution_count": 57,
     "metadata": {},
     "output_type": "execute_result"
    }
   ],
   "source": [
    "titles = ['Creature of Habit', 'Crewel Fate'] \n",
    "plots = ['A nun turns into a monster', 'A haunted yarn shop']\n",
    "dict = {}\n",
    "for i, j in zip(titles, plots):\n",
    "    dict[i] = j\n",
    "    \n",
    "dict"
   ]
  },
  {
   "cell_type": "code",
   "execution_count": null,
   "id": "b9d67b97",
   "metadata": {},
   "outputs": [],
   "source": []
  }
 ],
 "metadata": {
  "kernelspec": {
   "display_name": "Python 3",
   "language": "python",
   "name": "python3"
  },
  "language_info": {
   "codemirror_mode": {
    "name": "ipython",
    "version": 3
   },
   "file_extension": ".py",
   "mimetype": "text/x-python",
   "name": "python",
   "nbconvert_exporter": "python",
   "pygments_lexer": "ipython3",
   "version": "3.8.8"
  }
 },
 "nbformat": 4,
 "nbformat_minor": 5
}
