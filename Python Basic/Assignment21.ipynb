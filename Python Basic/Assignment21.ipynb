{
 "cells": [
  {
   "cell_type": "markdown",
   "id": "f6e4a555",
   "metadata": {},
   "source": [
    "# Assignment 21"
   ]
  },
  {
   "cell_type": "markdown",
   "id": "4df8eb30",
   "metadata": {},
   "source": [
    "## 1. Add the current date to the text file today.txt as a string."
   ]
  },
  {
   "cell_type": "code",
   "execution_count": 4,
   "id": "585cdd1d",
   "metadata": {},
   "outputs": [],
   "source": [
    "from datetime import date\n",
    "\n",
    "with open('today.txt','w') as f:\n",
    "    date = date.today()\n",
    "    f.write(str(date))\n",
    "    f.close()"
   ]
  },
  {
   "cell_type": "markdown",
   "id": "1769f249",
   "metadata": {},
   "source": [
    "## 2. Read the text file today.txt into the string today_string"
   ]
  },
  {
   "cell_type": "code",
   "execution_count": 8,
   "id": "41108a0b",
   "metadata": {},
   "outputs": [
    {
     "name": "stdout",
     "output_type": "stream",
     "text": [
      "<_io.TextIOWrapper name='today.txt' mode='r' encoding='cp1252'>\n"
     ]
    }
   ],
   "source": [
    "today_string = open('today.txt', 'r')\n",
    "print(today_string)"
   ]
  },
  {
   "cell_type": "code",
   "execution_count": 9,
   "id": "23cb92fd",
   "metadata": {},
   "outputs": [
    {
     "data": {
      "text/plain": [
       "'2022-05-22'"
      ]
     },
     "execution_count": 9,
     "metadata": {},
     "output_type": "execute_result"
    }
   ],
   "source": [
    "f = open('today.txt', 'r')\n",
    "today_string = f.read()\n",
    "today_string"
   ]
  },
  {
   "cell_type": "markdown",
   "id": "cd6accea",
   "metadata": {},
   "source": [
    "## 3. Parse the date from today_string."
   ]
  },
  {
   "cell_type": "code",
   "execution_count": 17,
   "id": "fe193032",
   "metadata": {},
   "outputs": [
    {
     "name": "stdout",
     "output_type": "stream",
     "text": [
      "2022-05-22 00:00:00\n",
      "Format change:  22/05/2022\n"
     ]
    }
   ],
   "source": [
    "import datetime\n",
    "\n",
    "parse = datetime.datetime.strptime(today_string, '%Y-%m-%d')\n",
    "print(parse)\n",
    "\n",
    "#change format\n",
    "parse1 = datetime.datetime.strptime(today_string, '%Y-%m-%d').strftime('%d/%m/%Y')\n",
    "print('Format change: ' ,parse1)"
   ]
  },
  {
   "cell_type": "markdown",
   "id": "a9ae1e26",
   "metadata": {},
   "source": [
    "## 4. List the files in your current directory"
   ]
  },
  {
   "cell_type": "code",
   "execution_count": 22,
   "id": "9ff35c14",
   "metadata": {},
   "outputs": [
    {
     "name": "stdout",
     "output_type": "stream",
     "text": [
      "19.2.MySQL.ipynb\n",
      "19.3.1 mongoDB introduction.ipynb\n",
      "19.3.2 pyMongo.ipynb\n",
      "19.3.3 Atlas.ipynb\n",
      "AdvanceAssignment2.ipynb\n",
      "AdvanceAssignment3.ipynb\n",
      "AdvanceAssignment4.ipynb\n",
      "AdvanceAssignment5.ipynb\n",
      "AdvanceAssignment6.ipynb\n",
      "AdvanceAssignment7.ipynb\n",
      "AdvanceAssignment8.ipynb\n",
      "AdvanceAssignment9.ipynb\n",
      "applied.ipynb\n",
      "Assigment15.ipynb\n",
      "Assignement5.ipynb\n",
      "Assignment 2.ipynb\n",
      "Assignment1.ipynb\n",
      "Assignment10.ipynb\n",
      "Assignment11.ipynb\n",
      "Assignment12.ipynb\n",
      "Assignment13.ipynb\n",
      "Assignment14.ipynb\n",
      "Assignment16.ipynb\n",
      "Assignment17.ipynb\n",
      "Assignment18.ipynb\n",
      "Assignment19.ipynb\n",
      "Assignment20.ipynb\n",
      "Assignment21.ipynb\n",
      "Assignment3.ipynb\n",
      "Assignment4.ipynb\n",
      "Assignment6.ipynb\n",
      "Assignment7.ipynb\n",
      "Assignment8.ipynb\n",
      "Assignment9.ipynb\n",
      "BasicAssignment7.ipynb\n",
      "BasicProgramming1.ipynb\n",
      "BasicProgramming2.ipynb\n",
      "BasicProgramming3.ipynb\n",
      "BasicProgramming4.ipynb\n",
      "BasicProgramming5.ipynb\n",
      "BasicProgramming6.ipynb\n",
      "BasicProgramming8.ipynb\n",
      "BullseyeCoverageError.txt\n",
      "Class.ipynb\n",
      "Inheritance.ipynb\n",
      "Logging.ipynb\n",
      "MongoDB.ipynb\n",
      "MongoDB1.ipynb\n",
      "MySQL.ipynb\n",
      "Optimizing_Agricultural_Production.ipynb\n",
      "Polymorphism.ipynb\n",
      "programLog.txt\n",
      "PythonAdvance1.ipynb\n",
      "SQL Lite.ipynb\n",
      "SQL.ipynb\n",
      "test.txt\n",
      "test2.txt\n",
      "today.txt\n",
      "Untitled.ipynb\n",
      "untitled.txt\n",
      "Untitled1.ipynb\n",
      "Untitled2.ipynb\n",
      "Untitled3.ipynb\n",
      "Untitled4.ipynb\n",
      "vocab.m.txt\n",
      "w_file.txt\n"
     ]
    }
   ],
   "source": [
    "import os\n",
    "\n",
    "for i in os.listdir():\n",
    "    if i.endswith('.txt') or i.endswith(\".ipynb\"):\n",
    "        print(i)"
   ]
  },
  {
   "cell_type": "markdown",
   "id": "09c86119",
   "metadata": {},
   "source": [
    "## 5. Create a list of all of the files in your parent directory (minimum five files should be available)."
   ]
  },
  {
   "cell_type": "code",
   "execution_count": 23,
   "id": "f48e9b35",
   "metadata": {},
   "outputs": [
    {
     "data": {
      "text/plain": [
       "['.aws',\n",
       " '.bash_history',\n",
       " '.conda',\n",
       " '.condarc',\n",
       " '.config',\n",
       " '.continuum',\n",
       " '.gitconfig',\n",
       " '.idlerc',\n",
       " '.ipynb_checkpoints',\n",
       " '.ipython',\n",
       " '.jupyter',\n",
       " '.keras',\n",
       " '.kivy',\n",
       " '.matplotlib',\n",
       " '.node_repl_history',\n",
       " '.Origin',\n",
       " '.popsql.json',\n",
       " '.QtWebEngineProcess',\n",
       " '.spyder-py3',\n",
       " '.ssh',\n",
       " '.swt',\n",
       " '.thumbnails',\n",
       " '.vscode',\n",
       " '19.2.MySQL.ipynb',\n",
       " '19.3.1 mongoDB introduction.ipynb',\n",
       " '19.3.2 pyMongo.ipynb',\n",
       " '19.3.3 Atlas.ipynb',\n",
       " '3D Objects',\n",
       " 'AdvanceAssignment2.ipynb',\n",
       " 'AdvanceAssignment3.ipynb',\n",
       " 'AdvanceAssignment4.ipynb',\n",
       " 'AdvanceAssignment5.ipynb',\n",
       " 'AdvanceAssignment6.ipynb',\n",
       " 'AdvanceAssignment7.ipynb',\n",
       " 'AdvanceAssignment8.ipynb',\n",
       " 'AdvanceAssignment9.ipynb',\n",
       " 'ansel',\n",
       " 'app1.log',\n",
       " 'AppData',\n",
       " 'Application Data',\n",
       " 'applied.ipynb',\n",
       " 'Assigment15.ipynb',\n",
       " 'Assignement5.ipynb',\n",
       " 'Assignment 2.ipynb',\n",
       " 'Assignment1.ipynb',\n",
       " 'Assignment10.ipynb',\n",
       " 'Assignment11.ipynb',\n",
       " 'Assignment12.ipynb',\n",
       " 'Assignment13.ipynb',\n",
       " 'Assignment14.ipynb',\n",
       " 'Assignment16.ipynb',\n",
       " 'Assignment17.ipynb',\n",
       " 'Assignment18.ipynb',\n",
       " 'Assignment19.ipynb',\n",
       " 'Assignment20.ipynb',\n",
       " 'Assignment21.ipynb',\n",
       " 'Assignment3.ipynb',\n",
       " 'Assignment4.ipynb',\n",
       " 'Assignment6.ipynb',\n",
       " 'Assignment7.ipynb',\n",
       " 'Assignment8.ipynb',\n",
       " 'Assignment9.ipynb',\n",
       " 'BasicAssignment7.ipynb',\n",
       " 'BasicProgramming1.ipynb',\n",
       " 'BasicProgramming2.ipynb',\n",
       " 'BasicProgramming3.ipynb',\n",
       " 'BasicProgramming4.ipynb',\n",
       " 'BasicProgramming5.ipynb',\n",
       " 'BasicProgramming6.ipynb',\n",
       " 'BasicProgramming8.ipynb',\n",
       " 'books.csv',\n",
       " 'books.db',\n",
       " 'BullseyeCoverageError.txt',\n",
       " 'Class.ipynb',\n",
       " 'Contacts',\n",
       " 'Cookies',\n",
       " 'Creative Cloud Files',\n",
       " 'Desktop',\n",
       " 'Desktop_SHORTCUT',\n",
       " 'Documents',\n",
       " 'Downloads',\n",
       " 'Favorites',\n",
       " 'file1',\n",
       " 'glass.data',\n",
       " 'hello.cpp',\n",
       " 'ineuron.db',\n",
       " 'Inheritance.ipynb',\n",
       " 'inheritance.log',\n",
       " 'IntelGraphicsProfiles',\n",
       " 'java_error_in_pycharm64_12032.log',\n",
       " 'java_error_in_pycharm64_20024.log',\n",
       " 'java_error_in_pycharm64_23096.log',\n",
       " 'java_error_in_pycharm64_7420.log',\n",
       " 'java_error_in_pycharm64_8196.log',\n",
       " 'java_error_in_pycharm64_9204.log',\n",
       " 'java_error_in_pycharm64_9632.log',\n",
       " 'job.db',\n",
       " 'job.db-journal',\n",
       " 'Links',\n",
       " 'Local Settings',\n",
       " 'Logging',\n",
       " 'Logging.ipynb',\n",
       " 'MicrosoftEdgeBackups',\n",
       " 'MongoDB.ipynb',\n",
       " 'MongoDB1.ipynb',\n",
       " 'Music',\n",
       " 'My Documents',\n",
       " 'mydata.csv',\n",
       " 'MySQL.ipynb',\n",
       " 'my_dict.py',\n",
       " 'NetHood',\n",
       " 'New.jpg',\n",
       " 'NodeProjects',\n",
       " 'NTUSER.DAT',\n",
       " 'ntuser.dat.LOG1',\n",
       " 'ntuser.dat.LOG2',\n",
       " 'NTUSER.DAT{53b39e88-18c4-11ea-a811-000d3aa4692b}.TM.blf',\n",
       " 'NTUSER.DAT{53b39e88-18c4-11ea-a811-000d3aa4692b}.TMContainer00000000000000000001.regtrans-ms',\n",
       " 'NTUSER.DAT{53b39e88-18c4-11ea-a811-000d3aa4692b}.TMContainer00000000000000000002.regtrans-ms',\n",
       " 'ntuser.ini',\n",
       " 'OneDrive',\n",
       " 'oops.log',\n",
       " 'Optimizing_Agricultural_Production.ipynb',\n",
       " 'Person.db',\n",
       " 'Pictures',\n",
       " 'pillow_imagedraw.jpg',\n",
       " 'Polymorphism.ipynb',\n",
       " 'postgresql_10.exe',\n",
       " 'postgresql_10.exe-20220312134228',\n",
       " 'Postman',\n",
       " 'PrintHood',\n",
       " 'programLog.txt',\n",
       " 'PycharmProjects',\n",
       " 'PythonAdvance1.ipynb',\n",
       " 'Recent',\n",
       " 'Roaming',\n",
       " 'Saved Games',\n",
       " 'Searches',\n",
       " 'SendTo',\n",
       " 'source',\n",
       " 'SQL Lite.ipynb',\n",
       " 'SQL.ipynb',\n",
       " 'Start Menu',\n",
       " 'Templates',\n",
       " 'Test',\n",
       " 'test.log',\n",
       " 'test.py',\n",
       " 'test.txt',\n",
       " 'test1',\n",
       " 'test1.py',\n",
       " 'test2',\n",
       " 'test2.txt',\n",
       " 'test5.log',\n",
       " 'test6.log',\n",
       " 'today.txt',\n",
       " 'Untitled.ipynb',\n",
       " 'untitled.txt',\n",
       " 'Untitled1.ipynb',\n",
       " 'Untitled2.ipynb',\n",
       " 'Untitled3.ipynb',\n",
       " 'Untitled4.ipynb',\n",
       " 'Videos',\n",
       " 'vocab.m.txt',\n",
       " 'w_file.txt',\n",
       " 'zoo.py',\n",
       " '__pycache__']"
      ]
     },
     "execution_count": 23,
     "metadata": {},
     "output_type": "execute_result"
    }
   ],
   "source": [
    "import os\n",
    "\n",
    "os.listdir()"
   ]
  },
  {
   "cell_type": "markdown",
   "id": "72fb664c",
   "metadata": {},
   "source": [
    "## 6. Use multiprocessing to create three separate processes. Make each one wait a random number of seconds between one and five, print the current time, and then exit."
   ]
  },
  {
   "cell_type": "code",
   "execution_count": 35,
   "id": "43b50d3e",
   "metadata": {},
   "outputs": [],
   "source": [
    "import multiprocessing\n",
    "import datetime\n",
    "import time\n",
    "import random\n",
    "\n",
    "def process_one():\n",
    "    print('Starting to sleep: ', datetime.datetime.now())\n",
    "    time.sleep(random.randint(1,5))\n",
    "    print('Done sleeping: ', datetime.datetime.now())\n",
    "\n",
    "def process_two():\n",
    "    print('Starting to sleep: ', datetime.datetime.now())\n",
    "    time.sleep(random.randint(1,5))\n",
    "    print('Done sleeping: ', datetime.datetime.now())\n",
    "\n",
    "def process_three():\n",
    "    print('Starting to sleep: ', datetime.datetime.now())\n",
    "    time.sleep(random.randint(1,5))\n",
    "    print('Done sleeping: ', datetime.datetime.now())\n",
    "\n",
    "def run_multi():\n",
    "    p1 =  multiprocessing.Process(target= process_one)\n",
    "    p2 =  multiprocessing.Process(target= process_two)\n",
    "    p3 =  multiprocessing.Process(target= process_three)\n",
    "    \n",
    "    p1.start()\n",
    "    p2.start()\n",
    "    p3.start()\n",
    "    \n",
    "    \n",
    "    \n",
    "run_multi()"
   ]
  },
  {
   "cell_type": "markdown",
   "id": "97781f46",
   "metadata": {},
   "source": [
    "### Above code not executing in jupyter\n",
    "Starting to sleep:  2022-05-22 12:02:49.889175<br>\n",
    "Starting to sleep:  2022-05-22 12:02:49.889935<br>\n",
    "Starting to sleep:  2022-05-22 12:02:49.890352<br>\n",
    "Done sleeping:  2022-05-22 12:02:51.892622<br>\n",
    "Done sleeping:  2022-05-22 12:02:52.892961<br>\n",
    "Done sleeping:  2022-05-22 12:02:54.893962<br>"
   ]
  },
  {
   "cell_type": "markdown",
   "id": "1a68601d",
   "metadata": {},
   "source": [
    "## 7. Create a date object of your day of birth."
   ]
  },
  {
   "cell_type": "code",
   "execution_count": 38,
   "id": "d9345f52",
   "metadata": {},
   "outputs": [
    {
     "name": "stdout",
     "output_type": "stream",
     "text": [
      "1996-04-01 00:00:00\n"
     ]
    }
   ],
   "source": [
    "my_dob = datetime.datetime.strptime('01-04-1996','%d-%m-%Y')\n",
    "print(my_dob)"
   ]
  },
  {
   "cell_type": "markdown",
   "id": "f66aa72b",
   "metadata": {},
   "source": [
    "## 8. What day of the week was your day of birth?"
   ]
  },
  {
   "cell_type": "code",
   "execution_count": 40,
   "id": "f0a0eb08",
   "metadata": {},
   "outputs": [
    {
     "data": {
      "text/plain": [
       "'Monday'"
      ]
     },
     "execution_count": 40,
     "metadata": {},
     "output_type": "execute_result"
    }
   ],
   "source": [
    "my_dob.strftime('%A')"
   ]
  },
  {
   "cell_type": "markdown",
   "id": "b82d6b1a",
   "metadata": {},
   "source": [
    "## 9. When will you be (or when were you) 10,000 days old?"
   ]
  },
  {
   "cell_type": "code",
   "execution_count": 49,
   "id": "dee8ca8e",
   "metadata": {},
   "outputs": [
    {
     "name": "stdout",
     "output_type": "stream",
     "text": [
      "2023-08-18 00:00:00\n"
     ]
    }
   ],
   "source": [
    "import datetime\n",
    "\n",
    "start_date = datetime.datetime(year = 1996, month = 4, day = 1)\n",
    "end_date = start_date + datetime.timedelta(days = 10000)\n",
    "\n",
    "print(end_date)"
   ]
  },
  {
   "cell_type": "code",
   "execution_count": null,
   "id": "46548ebd",
   "metadata": {},
   "outputs": [],
   "source": []
  }
 ],
 "metadata": {
  "kernelspec": {
   "display_name": "Python 3",
   "language": "python",
   "name": "python3"
  },
  "language_info": {
   "codemirror_mode": {
    "name": "ipython",
    "version": 3
   },
   "file_extension": ".py",
   "mimetype": "text/x-python",
   "name": "python",
   "nbconvert_exporter": "python",
   "pygments_lexer": "ipython3",
   "version": "3.8.8"
  }
 },
 "nbformat": 4,
 "nbformat_minor": 5
}
