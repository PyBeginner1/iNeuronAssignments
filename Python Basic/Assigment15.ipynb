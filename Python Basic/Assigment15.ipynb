{
 "cells": [
  {
   "cell_type": "markdown",
   "id": "2c9800be",
   "metadata": {},
   "source": [
    "# Assigment15"
   ]
  },
  {
   "cell_type": "markdown",
   "id": "8e9add68",
   "metadata": {},
   "source": [
    "## 1.How many seconds are in an hour? Use the interactive interpreter as a calculator and multiply the number of seconds in a minute (60) by the number of minutes in an hour (also 60)."
   ]
  },
  {
   "cell_type": "code",
   "execution_count": 1,
   "id": "cfc88d2e",
   "metadata": {},
   "outputs": [
    {
     "name": "stdout",
     "output_type": "stream",
     "text": [
      "3600\n"
     ]
    }
   ],
   "source": [
    "a = 60 * 60\n",
    "print(a)"
   ]
  },
  {
   "cell_type": "code",
   "execution_count": 5,
   "id": "ad962c9f",
   "metadata": {},
   "outputs": [],
   "source": [
    "#Calculate seconds for n hrs\n",
    "def calc_secs(n):\n",
    "    secs = n * 60 * 60\n",
    "    return secs"
   ]
  },
  {
   "cell_type": "code",
   "execution_count": 6,
   "id": "218f74fe",
   "metadata": {},
   "outputs": [
    {
     "data": {
      "text/plain": [
       "3600"
      ]
     },
     "execution_count": 6,
     "metadata": {},
     "output_type": "execute_result"
    }
   ],
   "source": [
    "calc_secs(1)"
   ]
  },
  {
   "cell_type": "code",
   "execution_count": 7,
   "id": "dabf505d",
   "metadata": {},
   "outputs": [
    {
     "data": {
      "text/plain": [
       "7200"
      ]
     },
     "execution_count": 7,
     "metadata": {},
     "output_type": "execute_result"
    }
   ],
   "source": [
    "#For 2 hrs\n",
    "calc_secs(2)"
   ]
  },
  {
   "cell_type": "markdown",
   "id": "145b69e4",
   "metadata": {},
   "source": [
    "## 2. Assign the result from the previous task (seconds in an hour) to a variable called seconds_per_hour."
   ]
  },
  {
   "cell_type": "code",
   "execution_count": 9,
   "id": "e61e7f85",
   "metadata": {},
   "outputs": [
    {
     "data": {
      "text/plain": [
       "3600"
      ]
     },
     "execution_count": 9,
     "metadata": {},
     "output_type": "execute_result"
    }
   ],
   "source": [
    "seconds_per_hour = calc_secs(1)\n",
    "seconds_per_hour"
   ]
  },
  {
   "cell_type": "markdown",
   "id": "2bb8fbcb",
   "metadata": {},
   "source": [
    "## 3. How many seconds do you think there are in a day? Make use of the variables seconds per hour and minutes per hour."
   ]
  },
  {
   "cell_type": "code",
   "execution_count": 10,
   "id": "0d280464",
   "metadata": {},
   "outputs": [
    {
     "name": "stdout",
     "output_type": "stream",
     "text": [
      "There are 86400 seconds in a day\n"
     ]
    }
   ],
   "source": [
    "c = calc_secs(24)\n",
    "print(f\"There are {c} seconds in a day\")"
   ]
  },
  {
   "cell_type": "code",
   "execution_count": 14,
   "id": "1246f3ee",
   "metadata": {},
   "outputs": [
    {
     "data": {
      "text/plain": [
       "86400"
      ]
     },
     "execution_count": 14,
     "metadata": {},
     "output_type": "execute_result"
    }
   ],
   "source": [
    "#Making use of seconds per hour var\n",
    "seconds_per_day = seconds_per_hour*24\n",
    "seconds_per_day"
   ]
  },
  {
   "cell_type": "markdown",
   "id": "5677e15f",
   "metadata": {},
   "source": [
    "## 4. Calculate seconds per day again, but this time save the result in a variable called seconds_per_day"
   ]
  },
  {
   "cell_type": "code",
   "execution_count": 18,
   "id": "941fec7f",
   "metadata": {},
   "outputs": [
    {
     "data": {
      "text/plain": [
       "86400"
      ]
     },
     "execution_count": 18,
     "metadata": {},
     "output_type": "execute_result"
    }
   ],
   "source": [
    "seconds_per_day = seconds_per_hour*24\n",
    "seconds_per_day"
   ]
  },
  {
   "cell_type": "markdown",
   "id": "bca9512d",
   "metadata": {},
   "source": [
    "## 5. Divide seconds_per_day by seconds_per_hour. Use floating-point (/) division."
   ]
  },
  {
   "cell_type": "code",
   "execution_count": 20,
   "id": "73eea559",
   "metadata": {},
   "outputs": [
    {
     "data": {
      "text/plain": [
       "24.0"
      ]
     },
     "execution_count": 20,
     "metadata": {},
     "output_type": "execute_result"
    }
   ],
   "source": [
    "hrs_per_day = seconds_per_day/seconds_per_hour\n",
    "hrs_per_day"
   ]
  },
  {
   "cell_type": "markdown",
   "id": "22a007e4",
   "metadata": {},
   "source": [
    "## 6. Divide seconds_per_day by seconds_per_hour, using integer (//) division. Did this number agree with the floating-point value from the previous question, aside from the final .0?"
   ]
  },
  {
   "cell_type": "code",
   "execution_count": 25,
   "id": "992a5b69",
   "metadata": {},
   "outputs": [
    {
     "name": "stdout",
     "output_type": "stream",
     "text": [
      "24 ,Yes it agrees\n"
     ]
    }
   ],
   "source": [
    "hrs_per_day1 = seconds_per_day//seconds_per_hour\n",
    "print(hrs_per_day1, \",Yes it agrees\")"
   ]
  },
  {
   "cell_type": "markdown",
   "id": "6bb5ee5d",
   "metadata": {},
   "source": [
    "## 7. Write a generator, genPrimes, that returns the sequence of prime numbers on successive calls to its next() method: 2, 3, 5, 7, 11, ..."
   ]
  },
  {
   "cell_type": "code",
   "execution_count": 34,
   "id": "d5cbbd0e",
   "metadata": {},
   "outputs": [],
   "source": [
    "def genPrimes(n):\n",
    "    for i in range(2,n):\n",
    "        for j in range(2,i):\n",
    "            if i%j == 0:\n",
    "                break\n",
    "        else:\n",
    "            yield i"
   ]
  },
  {
   "cell_type": "code",
   "execution_count": 35,
   "id": "72987095",
   "metadata": {},
   "outputs": [
    {
     "name": "stdout",
     "output_type": "stream",
     "text": [
      "2\n",
      "3\n",
      "5\n",
      "7\n",
      "11\n"
     ]
    }
   ],
   "source": [
    "for i in genPrimes(13):\n",
    "    print(i)"
   ]
  }
 ],
 "metadata": {
  "kernelspec": {
   "display_name": "Python 3",
   "language": "python",
   "name": "python3"
  },
  "language_info": {
   "codemirror_mode": {
    "name": "ipython",
    "version": 3
   },
   "file_extension": ".py",
   "mimetype": "text/x-python",
   "name": "python",
   "nbconvert_exporter": "python",
   "pygments_lexer": "ipython3",
   "version": "3.8.8"
  }
 },
 "nbformat": 4,
 "nbformat_minor": 5
}
