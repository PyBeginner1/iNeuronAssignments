{
 "cells": [
  {
   "cell_type": "markdown",
   "id": "3316ac65",
   "metadata": {},
   "source": [
    "# Assignment 13"
   ]
  },
  {
   "cell_type": "markdown",
   "id": "d3273ca1",
   "metadata": {},
   "source": [
    "## 1. What advantages do Excel spreadsheets have over CSV spreadsheets?\n",
    "\n",
    "Ans. Advantages:<br>\n",
    "- Excel not only stores data but can also perform operations whereas CSV is a file which cannot perform operations .<br>\n",
    "- Apart from text data in Excel can be stored as graphs.\n",
    "- Excel file is saved with extension as .xls/.xlsx and CSV is stored as .csv."
   ]
  },
  {
   "cell_type": "markdown",
   "id": "50151654",
   "metadata": {},
   "source": [
    "## 2.What do you pass to csv.reader() and csv.writer() to create reader and writer objects?\n",
    "\n",
    "Ans. we use **f.open()** method and in order to read we use \"r\" and to write we use \"w\"."
   ]
  },
  {
   "cell_type": "code",
   "execution_count": 2,
   "id": "38247c4b",
   "metadata": {},
   "outputs": [],
   "source": [
    "f = open('test.txt', 'w')"
   ]
  },
  {
   "cell_type": "code",
   "execution_count": 3,
   "id": "bbd0dad6",
   "metadata": {},
   "outputs": [
    {
     "data": {
      "text/plain": [
       "9"
      ]
     },
     "execution_count": 3,
     "metadata": {},
     "output_type": "execute_result"
    }
   ],
   "source": [
    "f.write('gsdahdakj')"
   ]
  },
  {
   "cell_type": "code",
   "execution_count": 4,
   "id": "20751cb7",
   "metadata": {},
   "outputs": [],
   "source": [
    "f = open('test.txt', 'r')"
   ]
  },
  {
   "cell_type": "code",
   "execution_count": 5,
   "id": "922f189d",
   "metadata": {},
   "outputs": [
    {
     "data": {
      "text/plain": [
       "'gsdahdakj'"
      ]
     },
     "execution_count": 5,
     "metadata": {},
     "output_type": "execute_result"
    }
   ],
   "source": [
    "f.read()"
   ]
  },
  {
   "cell_type": "markdown",
   "id": "0b07c266",
   "metadata": {},
   "source": [
    "## 3. What modes do File objects for reader and writer objects need to be opened in?\n",
    "\n",
    "\n",
    "Ans. In order to open files in read mode we use **mode = 'r'** and to open files in write mode we use **mode = 'w'**."
   ]
  },
  {
   "cell_type": "markdown",
   "id": "c8826308",
   "metadata": {},
   "source": [
    "## 4. What method takes a list argument and writes it to a CSV file?\n",
    "\n",
    "Ans. **writerows()** - This function takes a list of iterables as parameter and writes each item as a comma separated line of items in the file."
   ]
  },
  {
   "cell_type": "markdown",
   "id": "43a5aba5",
   "metadata": {},
   "source": [
    "## 5. What do the keyword arguments delimiter and line terminator do?\n",
    "\n",
    "Ans. The delimeter is the character that appears between cells in a row. \n",
    "\n",
    "The line terminator is the characer that comes at the end of the row. By default it is a newline. "
   ]
  },
  {
   "cell_type": "markdown",
   "id": "6827cee1",
   "metadata": {},
   "source": [
    "## 6. What function takes a string of JSON data and returns a Python data structure?\n",
    "\n",
    "Ans. **loads()** method takes a string of JSON data and returns a Python data structure."
   ]
  },
  {
   "cell_type": "markdown",
   "id": "719a35b5",
   "metadata": {},
   "source": [
    "## 7. What function takes a Python data structure and returns a string of JSON data?\n",
    "\n",
    "Ans. **dumps()** method takes a Python data structure and returns a string of JSON data."
   ]
  },
  {
   "cell_type": "code",
   "execution_count": null,
   "id": "a890f00c",
   "metadata": {},
   "outputs": [],
   "source": []
  }
 ],
 "metadata": {
  "kernelspec": {
   "display_name": "Python 3",
   "language": "python",
   "name": "python3"
  },
  "language_info": {
   "codemirror_mode": {
    "name": "ipython",
    "version": 3
   },
   "file_extension": ".py",
   "mimetype": "text/x-python",
   "name": "python",
   "nbconvert_exporter": "python",
   "pygments_lexer": "ipython3",
   "version": "3.8.8"
  }
 },
 "nbformat": 4,
 "nbformat_minor": 5
}
