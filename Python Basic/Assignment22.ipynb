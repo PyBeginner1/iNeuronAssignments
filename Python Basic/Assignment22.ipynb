{
 "cells": [
  {
   "cell_type": "markdown",
   "id": "66eeb6ec",
   "metadata": {},
   "source": [
    "# Assignment 22"
   ]
  },
  {
   "cell_type": "markdown",
   "id": "b838a893",
   "metadata": {},
   "source": [
    "## 1. What is the result of the code, and explain?\n",
    "\n",
    "\n",
    "X = 'iNeuron'<br>\n",
    "def func():<br>\n",
    "print(X)\n",
    "\n",
    "\n",
    "func()\n",
    "\n",
    "Ans. It will print **iNeuron** as output. When we call the fuction `func()` it will look for variable within the function, if not found it will look for it outside the fuction."
   ]
  },
  {
   "cell_type": "code",
   "execution_count": 1,
   "id": "27b76ce1",
   "metadata": {},
   "outputs": [
    {
     "name": "stdout",
     "output_type": "stream",
     "text": [
      "iNeuron\n"
     ]
    }
   ],
   "source": [
    "X = 'iNeuron'\n",
    "\n",
    "def func():\n",
    "    print(X)\n",
    "\n",
    "func()"
   ]
  },
  {
   "cell_type": "markdown",
   "id": "36345dbe",
   "metadata": {},
   "source": [
    "## 2. What is the result of the code, and explain?\n",
    "\n",
    "\n",
    "X = 'iNeuron'<br>\n",
    "def func():<br>\n",
    "X = 'NI!'\n",
    "\n",
    "\n",
    "func()\n",
    "print(X)\n",
    "\n",
    "Ans. The result is **iNeuron** as print function is looking for a global varable and it is not looking into a function as it is not called."
   ]
  },
  {
   "cell_type": "code",
   "execution_count": 7,
   "id": "0c864d1a",
   "metadata": {},
   "outputs": [
    {
     "name": "stdout",
     "output_type": "stream",
     "text": [
      "iNeuron\n"
     ]
    }
   ],
   "source": [
    "X = 'iNeuron'\n",
    "\n",
    "def func():\n",
    "    X = 'NI!'\n",
    "\n",
    "\n",
    "func()\n",
    "print(X)"
   ]
  },
  {
   "cell_type": "markdown",
   "id": "97e5d189",
   "metadata": {},
   "source": [
    "## 3. What does this code print, and why?\n",
    "\n",
    "\n",
    "X = 'iNeuron'<br>\n",
    "def func():<br>\n",
    "    X = 'NI'<br>\n",
    "    print(X)<br>\n",
    "\n",
    "\n",
    "func()\n",
    "print(X)\n",
    "\n",
    "Ans. Here function `func()` will be executed which has a print function within for a variable(X) which is also defined within the function and hence this will provide **NI** as output and then it moves onto print(X) statement and it will output global variable and give **iNeuron**."
   ]
  },
  {
   "cell_type": "code",
   "execution_count": 8,
   "id": "57b94409",
   "metadata": {},
   "outputs": [
    {
     "name": "stdout",
     "output_type": "stream",
     "text": [
      "NI\n",
      "iNeuron\n"
     ]
    }
   ],
   "source": [
    "X = 'iNeuron'\n",
    "def func():\n",
    "    X = 'NI'\n",
    "    print(X)\n",
    "\n",
    "\n",
    "func()\n",
    "print(X)"
   ]
  },
  {
   "cell_type": "markdown",
   "id": "ff8f9a58",
   "metadata": {},
   "source": [
    "## 4. What output does this code produce? Why?\n",
    "\n",
    "\n",
    "X = 'iNeuron'<br>\n",
    "def func():<br>\n",
    "    global X<br>\n",
    "    X = 'NI'<br>\n",
    "\n",
    "\n",
    "func()<br>\n",
    "print(X)<br>\n",
    "\n",
    "Ans. Here the `func()` function will get executed and since the function calls global method it will change the global varibale X value to **NI** so when we call **print(X)** it will give **NI** as result."
   ]
  },
  {
   "cell_type": "code",
   "execution_count": 10,
   "id": "d505eb94",
   "metadata": {},
   "outputs": [
    {
     "name": "stdout",
     "output_type": "stream",
     "text": [
      "NI\n"
     ]
    }
   ],
   "source": [
    "X = 'iNeuron'\n",
    "\n",
    "def func():\n",
    "    global X\n",
    "    X = 'NI'\n",
    "\n",
    "\n",
    "func()\n",
    "print(X)"
   ]
  },
  {
   "cell_type": "markdown",
   "id": "089ccfd8",
   "metadata": {},
   "source": [
    "## 5. What about this code—what’s the output, and why?\n",
    "\n",
    "\n",
    "X = 'iNeuron'<br>\n",
    "def func():<br>\n",
    "    X = 'NI'<br>\n",
    "\n",
    "def nested():<br>\n",
    "    print(X)<br>\n",
    "    nested()<br>\n",
    "\n",
    "\n",
    "func()<br>\n",
    "X\n",
    "\n",
    "Ans. **X** will give `iNeuron` as output since we are only calling X and it will automatically look for a global variable **X**."
   ]
  },
  {
   "cell_type": "code",
   "execution_count": 11,
   "id": "120de861",
   "metadata": {},
   "outputs": [
    {
     "data": {
      "text/plain": [
       "'iNeuron'"
      ]
     },
     "execution_count": 11,
     "metadata": {},
     "output_type": "execute_result"
    }
   ],
   "source": [
    "X = 'iNeuron'\n",
    "\n",
    "def func():\n",
    "    X = 'NI'\n",
    "\n",
    "def nested():\n",
    "    print(X)\n",
    "    nested()\n",
    "\n",
    "\n",
    "func()\n",
    "X"
   ]
  },
  {
   "cell_type": "markdown",
   "id": "009311e0",
   "metadata": {},
   "source": [
    "## 6. How about this code: what is its output in Python 3, and explain?\n",
    "\n",
    "\n",
    "def func():<br>\n",
    "    X = 'NI'<br>\n",
    "\n",
    "def nested():<br>\n",
    "    nonlocal X<br>\n",
    "    X = 'Spam'<br>\n",
    "    nested()<br>\n",
    "    print(X)<br>\n",
    "\n",
    "func()\n",
    "\n",
    "Ans. It will sequentially assign `X = 'NI'` at first and then it will proceed with the next line executing **nested()** which then excutes **nonlocal** keyword. We use the keyword **nonlocal** to declare that the variable is not local and now `X = 'Spam'` and hencewe get this output."
   ]
  },
  {
   "cell_type": "code",
   "execution_count": 18,
   "id": "d53db416",
   "metadata": {},
   "outputs": [
    {
     "name": "stdout",
     "output_type": "stream",
     "text": [
      "Spam\n"
     ]
    }
   ],
   "source": [
    "def func():\n",
    "    X = 'NI'\n",
    "    def nested():\n",
    "        nonlocal X\n",
    "        X = 'Spam'\n",
    "    nested()\n",
    "    print(X)\n",
    "\n",
    "\n",
    "func()"
   ]
  },
  {
   "cell_type": "code",
   "execution_count": null,
   "id": "94429d60",
   "metadata": {},
   "outputs": [],
   "source": []
  }
 ],
 "metadata": {
  "kernelspec": {
   "display_name": "Python 3",
   "language": "python",
   "name": "python3"
  },
  "language_info": {
   "codemirror_mode": {
    "name": "ipython",
    "version": 3
   },
   "file_extension": ".py",
   "mimetype": "text/x-python",
   "name": "python",
   "nbconvert_exporter": "python",
   "pygments_lexer": "ipython3",
   "version": "3.8.8"
  }
 },
 "nbformat": 4,
 "nbformat_minor": 5
}
