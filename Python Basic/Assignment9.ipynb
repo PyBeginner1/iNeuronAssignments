{
 "cells": [
  {
   "cell_type": "markdown",
   "id": "869c5557",
   "metadata": {},
   "source": [
    "# Assignment 9"
   ]
  },
  {
   "cell_type": "markdown",
   "id": "30dd8574",
   "metadata": {},
   "source": [
    "## 1. To what does a relative path refer?\n",
    "\n",
    "Ans. relative path refers to a location which is relative to current working directory. "
   ]
  },
  {
   "cell_type": "markdown",
   "id": "9531c7cb",
   "metadata": {},
   "source": [
    "## 2. What does an absolute path start with your operating system?\n",
    "\n",
    "Ans. Absolute path refers to complete pathway to a file or a folder starting from root. On Windows, absolute path start with drive **C:\\**."
   ]
  },
  {
   "cell_type": "markdown",
   "id": "543ba376",
   "metadata": {},
   "source": [
    "## 3. What do the functions os.getcwd() and os.chdir() do?\n",
    "\n",
    "Ans. <br>\n",
    "os.getcwd() - returns the absolute path of current working directory where python is currently running. <br>\n",
    "os.chdir() - used to change the current working directory to specified path."
   ]
  },
  {
   "cell_type": "markdown",
   "id": "d441adc5",
   "metadata": {},
   "source": [
    "## 4. What are the . and .. folders?\n",
    "\n",
    "Ans. **.** is a name for current directory and **..** represents Parent directory. "
   ]
  },
  {
   "cell_type": "markdown",
   "id": "340ffa1e",
   "metadata": {},
   "source": [
    "## 5. In C:\\bacon\\eggs\\spam.txt, which part is the dir name, and which part is the base name?\n",
    "\n",
    "Ans. <br>\n",
    "&emsp; Directory name is **eggs**. Path to dir is - C:\\bacon\\eggs.<br>\n",
    "&emsp; Base name is **spam.txt**"
   ]
  },
  {
   "cell_type": "markdown",
   "id": "400c98cc",
   "metadata": {},
   "source": [
    "## 6. What are the three “mode” arguments that can be passed to the open() function?\n",
    "\n",
    "Ans. Open function opens a file and does certain action based on the mode.<br>\n",
    "&emsp; **r** - Read mode. It is a default value and it opens a file for read only.If file does not exist, it will return a error.<br>\n",
    "&emsp; **w** - Write Mode. It opens a file for writing and if the file does not exist, it will create the file.<br>\n",
    "&emsp; **a** - Append Mode. It opens a file for appending without overwriting. If the file does not exist, it will create one.<br>\n",
    "&emsp; **r+** - Read/Write Mode. It opens a file to Read and write."
   ]
  },
  {
   "cell_type": "markdown",
   "id": "06af41c5",
   "metadata": {},
   "source": [
    "## 7. What happens if an existing file is opened in write mode?\n",
    "\n",
    "Ans. It will open the existing file in Write mode and it will not overwrite any existing data."
   ]
  },
  {
   "cell_type": "markdown",
   "id": "2d8e5f68",
   "metadata": {},
   "source": [
    "## 8. How do you tell the difference between read() and readlines()?\n",
    "\n",
    "Ans. <br>\n",
    "read() - This would print the whole file.<br>\n",
    "readline() - This function only reads a single line of the file."
   ]
  },
  {
   "cell_type": "markdown",
   "id": "f4396bf3",
   "metadata": {},
   "source": [
    "## 9. What data structure does a shelf value resemble?\n",
    "\n",
    "Ans. Shelf value resembles a dictionary as it has keys and values along with keys() and values() methods."
   ]
  },
  {
   "cell_type": "code",
   "execution_count": null,
   "id": "25dcbe6b",
   "metadata": {},
   "outputs": [],
   "source": []
  }
 ],
 "metadata": {
  "kernelspec": {
   "display_name": "Python 3",
   "language": "python",
   "name": "python3"
  },
  "language_info": {
   "codemirror_mode": {
    "name": "ipython",
    "version": 3
   },
   "file_extension": ".py",
   "mimetype": "text/x-python",
   "name": "python",
   "nbconvert_exporter": "python",
   "pygments_lexer": "ipython3",
   "version": "3.8.8"
  }
 },
 "nbformat": 4,
 "nbformat_minor": 5
}
