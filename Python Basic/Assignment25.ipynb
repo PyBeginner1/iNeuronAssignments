{
 "cells": [
  {
   "cell_type": "markdown",
   "id": "25c5e089",
   "metadata": {},
   "source": [
    "# Assignment 25"
   ]
  },
  {
   "cell_type": "markdown",
   "id": "81d0a2e3",
   "metadata": {},
   "source": [
    "## 1) . What is the difference between enclosing a list comprehension in square brackets and parentheses?\n",
    "\n",
    "Ans. Enclosing in a square bracket gives a list and prentheses gives a **generator object**."
   ]
  },
  {
   "cell_type": "code",
   "execution_count": 2,
   "id": "4ee28ef4",
   "metadata": {},
   "outputs": [
    {
     "name": "stdout",
     "output_type": "stream",
     "text": [
      "[0, 1, 2, 3, 4, 5, 6, 7, 8, 9]\n",
      "<generator object <genexpr> at 0x000001CEA9399430>\n"
     ]
    }
   ],
   "source": [
    "ls = [i for i in range(10)]\n",
    "ls1 = (i for i in range(10))\n",
    "\n",
    "print(ls)\n",
    "print(ls1)"
   ]
  },
  {
   "cell_type": "markdown",
   "id": "48fbbcee",
   "metadata": {},
   "source": [
    "## 2) What is the relationship between generators and iterators?\n",
    "\n",
    "Ans. **Iterators** are the objects that use the next() method whereas **generator** is a function that produces or yields a sequence of values using a yield statement. \n",
    "\n",
    "Iterators follows lazy evaluation where the evaluation of the expression will be on hold and stored in the memory until the item is called specifically which helps us to avoid repeated evaluation. Generators also follow lazy evaluation.\n",
    "\n",
    "Iterators are used mostly to iterate or convert other objects to an iterator using iter() function.                          Generators are mostly used in loops to generate an iterator by returning all the values in the loop without affecting the iteration of the loop."
   ]
  },
  {
   "cell_type": "markdown",
   "id": "2e0aeb8d",
   "metadata": {},
   "source": [
    "## 3) What are the signs that a function is a generator function?\n",
    "\n",
    "Ans. If a function contains atleast one yield function then it becomes a generator function. "
   ]
  },
  {
   "cell_type": "markdown",
   "id": "42df8edf",
   "metadata": {},
   "source": [
    "## 4) What is the purpose of a yield statement?\n",
    "\n",
    "Ans. The **yield** statement returns a generator object to the one who calls the function which contains yield, instead of simply returning a value. \n",
    "\n",
    "When you call a function that has a yield statement, as soon as a yield is encountered, the execution of the function stops and returns an object of the generator to the function caller. In simpler words, the yield keyword will convert an expression that is specified along with it to a generator object and return it to the caller. Hence, if you want to get the values stored inside the generator object, you need to iterate over it.\n",
    "\n",
    "It will not destroy the local variables’ states. Whenever a function is called, the execution will start from the last yield expression."
   ]
  },
  {
   "cell_type": "markdown",
   "id": "251769f7",
   "metadata": {},
   "source": [
    "## 5) What is the relationship between map calls and list comprehensions? Make a comparison and contrast between the two.\n",
    "\n",
    "Ans. \n",
    "- List comprehension is more concise and easier to read as compared to map.\n",
    "- List comprehension allows filtering. In map, we have no such facility. For example, to print all even numbers in range of 100, we can write [n for n in range(100) if n%2 == 0]. There is no alternate for it in map\n",
    "- List comprehension are used when a list of results is required as map only returns a map object and does not return any list.\n",
    "- List comprehension is faster than map when we need to evaluate expressions that are too long or complicated to express\n",
    "- Map is faster in case of calling an already defined function (as no lambda is required)."
   ]
  },
  {
   "cell_type": "code",
   "execution_count": null,
   "id": "c1102126",
   "metadata": {},
   "outputs": [],
   "source": []
  }
 ],
 "metadata": {
  "kernelspec": {
   "display_name": "Python 3",
   "language": "python",
   "name": "python3"
  },
  "language_info": {
   "codemirror_mode": {
    "name": "ipython",
    "version": 3
   },
   "file_extension": ".py",
   "mimetype": "text/x-python",
   "name": "python",
   "nbconvert_exporter": "python",
   "pygments_lexer": "ipython3",
   "version": "3.8.8"
  }
 },
 "nbformat": 4,
 "nbformat_minor": 5
}
