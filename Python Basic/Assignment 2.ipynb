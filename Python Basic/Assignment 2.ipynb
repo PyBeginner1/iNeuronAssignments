{
 "cells": [
  {
   "cell_type": "markdown",
   "id": "f5dc46cf",
   "metadata": {},
   "source": [
    "1.What are the two values of the Boolean data type? How do you write them?\n",
    "\n",
    "Ans) True and False. \n",
    "True  ---> 1\n",
    "False ---> 0"
   ]
  },
  {
   "cell_type": "code",
   "execution_count": 2,
   "id": "d86c50f2",
   "metadata": {},
   "outputs": [
    {
     "name": "stdout",
     "output_type": "stream",
     "text": [
      "<class 'bool'>\n",
      "<class 'bool'>\n"
     ]
    }
   ],
   "source": [
    "print(type(True))\n",
    "print(type(False))"
   ]
  },
  {
   "cell_type": "markdown",
   "id": "a90d67a3",
   "metadata": {},
   "source": [
    "##2. What are the three different types of Boolean operators?\n",
    "\n",
    "Ans) 3 types: AND, OR, NOT.\n",
    "\n",
    "AND - (*)<br>\n",
    "True and True = True<br>\n",
    "True and False = False<br>\n",
    "False and True = False<br>\n",
    "False and False = False<br>\n",
    "\n",
    "OR - (+)<br>\n",
    "True or True = True<br>\n",
    "True or False = True<br>\n",
    "False or True = True<br>\n",
    "False or False = False<br>\n",
    "\n",
    "NOT-<br>\n",
    "not(True) = False<br>\n",
    "not(False) = True<br>"
   ]
  },
  {
   "cell_type": "code",
   "execution_count": 2,
   "id": "d0497768",
   "metadata": {},
   "outputs": [
    {
     "name": "stdout",
     "output_type": "stream",
     "text": [
      "True\n",
      "True\n",
      "True\n"
     ]
    }
   ],
   "source": [
    "#Ex: (AND)\n",
    "a = 30\n",
    "b = 50\n",
    "if(a >= 30 and b > 45):\n",
    "   print(\"True\")\n",
    "else:\n",
    "   print(\"False\")\n",
    "\n",
    "print(a>15 or b>5)\n",
    "print(not(a>40))   #30 > 40 --> False ---> not(False) ---> true"
   ]
  },
  {
   "cell_type": "markdown",
   "id": "5cd024e2",
   "metadata": {},
   "source": [
    "##3. Make a list of each Boolean operator's truth tables (i.e. every possible combination of Boolean values for the operator and what it evaluate ).\n",
    "\n",
    "Ans)\n",
    " AND - (*)<br>\n",
    "True and True = True<br>\n",
    "True and False = False<br>\n",
    "False and True = False<br>\n",
    "False and False = False<br>\n",
    "\n",
    "OR - (+)<br>\n",
    "True or True = True<br>\n",
    "True or False = True<br>\n",
    "False or True = True<br>\n",
    "False or False = False<br>\n",
    "\n",
    "NOT-<br>\n",
    "not(True) = False<br>\n",
    "not(False) = True<br>"
   ]
  },
  {
   "cell_type": "markdown",
   "id": "b87ab9b5",
   "metadata": {},
   "source": [
    "##4. What are the values of the following expressions?\n",
    "(5 > 4) and (3 == 5)\n",
    "not (5 > 4)\n",
    "(5 > 4) or (3 == 5)\n",
    "not ((5 > 4) or (3 == 5))\n",
    "(True and True) and (True == False)\n",
    "(not False) or (not True)\n",
    "\n",
    "Ans)<br>\n",
    "(5 > 4) and (3 == 5) => True and False => **False** <br>\n",
    "not (5 > 4) => not(True) => **False** <br>\n",
    "(5 > 4) or (3 == 5) => True or False => **True** <br>\n",
    "not ((5 > 4) or (3 == 5)) => not(True or False) => not(True) => **False** <br>\n",
    "(True and True) and (True == False) => True and False => **False** <br>\n",
    "(not False) or (not True) => True or False => **True**"
   ]
  },
  {
   "cell_type": "code",
   "execution_count": 4,
   "id": "8dd1c6a9",
   "metadata": {},
   "outputs": [
    {
     "name": "stdout",
     "output_type": "stream",
     "text": [
      "False\n"
     ]
    }
   ],
   "source": [
    "print(True == False)"
   ]
  },
  {
   "cell_type": "code",
   "execution_count": 6,
   "id": "f58c5c45",
   "metadata": {},
   "outputs": [
    {
     "name": "stdout",
     "output_type": "stream",
     "text": [
      "True\n"
     ]
    }
   ],
   "source": [
    "print((not False) or (not True))"
   ]
  },
  {
   "cell_type": "markdown",
   "id": "ca612072",
   "metadata": {},
   "source": [
    "##5. What are the six comparison operators?\n",
    "\n",
    "Ans)<br>\n",
    "**Operator**  &emsp;  **Name**<br>\n",
    " '=='         &emsp;     Equal to <br>\n",
    " '!='         &emsp;     Not Equal to <br>\n",
    "  '>'         &emsp;      Greater than <br>\n",
    "  '<'         &emsp;      Lesser than <br>\n",
    "  '>='        &emsp;      Greater than or Equal to<br>\n",
    "  '<='        &emsp;      Lesser than or equal to<br>\n"
   ]
  },
  {
   "cell_type": "markdown",
   "id": "d6ba6554",
   "metadata": {},
   "source": [
    "##6. How do you tell the difference between the equal to and assignment operators?Describe a condition and when you would use one.\n",
    "\n",
    "Ans)<br>\n",
    "a = 1 &emsp;   Here we are assigning a value of 1 to variable named a<br>\n",
    "\n",
    "if a==1: &emsp;   Here we are checking if a is equal to 1<br>\n",
    "&emsp;    print(a)<br>\n",
    " "
   ]
  },
  {
   "cell_type": "code",
   "execution_count": 7,
   "id": "51bf65ee",
   "metadata": {},
   "outputs": [
    {
     "name": "stdout",
     "output_type": "stream",
     "text": [
      "ham\n",
      "spam\n",
      "spam\n"
     ]
    }
   ],
   "source": [
    "#7. Identify the three blocks in this code:\n",
    "spam = 0\n",
    "if spam == 10:\n",
    "    print('eggs')#block1\n",
    "if spam > 5:\n",
    "    print('bacon')#block 2\n",
    "else:\n",
    "    print('ham')#block 3\n",
    "    print('spam')\n",
    "    print('spam')\n"
   ]
  },
  {
   "cell_type": "code",
   "execution_count": 10,
   "id": "a694b0d7",
   "metadata": {},
   "outputs": [
    {
     "name": "stdout",
     "output_type": "stream",
     "text": [
      "Enter a digit: 35\n",
      "Greetings!\n"
     ]
    }
   ],
   "source": [
    "##8. Write code that prints Hello if 1 is stored in spam, prints Howdy if 2 is stored in spam, and prints Greetings! if anything else is stored in spam.\n",
    "\n",
    "spam = int(input('Enter a digit: '))\n",
    "if spam == 1:\n",
    "    print('Hello')\n",
    "elif spam == 2:\n",
    "    print('Howdy')\n",
    "else:\n",
    "    print('Greetings!')"
   ]
  },
  {
   "cell_type": "markdown",
   "id": "464feaa2",
   "metadata": {},
   "source": [
    "##9.If your programme is stuck in an endless loop, what keys you’ll press?\n",
    "\n",
    "Ans)<br>\n",
    "You can stop an infinite loop with CTRL + C"
   ]
  },
  {
   "cell_type": "markdown",
   "id": "9bc4b859",
   "metadata": {},
   "source": [
    "##10. How can you tell the difference between break and continue?\n",
    "\n",
    "Ans) **Break** terminates the loop containing it. If the **Break** is used in a innermost nested loop the it will terminate the innermost nested loop.<br>\n",
    "\n",
    "**Continue** statement is used to skip the rest of the code inside the loop for current iteration. It does not terminate but continues the next iteration"
   ]
  },
  {
   "cell_type": "markdown",
   "id": "769c11e3",
   "metadata": {},
   "source": [
    "##11. In a for loop, what is the difference between range(10), range(0, 10), and range(0, 10, 1)?\n",
    "\n",
    "Ans)<br>\n",
    "**range(10)** - Ranges for 0 to 9<br>\n",
    "**range(0,10)** - Ranges from 0 to 9<br>\n",
    "**range(0, 10, 1)** - Ranges from 0 to 9 with jumps of 1"
   ]
  },
  {
   "cell_type": "code",
   "execution_count": 1,
   "id": "7b908a5e",
   "metadata": {},
   "outputs": [
    {
     "name": "stdout",
     "output_type": "stream",
     "text": [
      "Using For Loop:\n",
      "0 1 2 3 4 5 6 7 8 9 10 \n",
      "\n",
      "Using While loop:\n",
      "1 2 3 4 5 6 7 8 9 10 11 "
     ]
    }
   ],
   "source": [
    "#12. Write a short program that prints the numbers 1 to 10 using a for loop. Then write an equivalent program that prints the numbers 1 to 10 using a while loop.\n",
    "\n",
    "print('Using For Loop:')\n",
    "for i in range(11):\n",
    "    print(i, end = ' ')\n",
    "print('\\n')\n",
    "print('Using While loop:')\n",
    "i = 1\n",
    "while i<=11:\n",
    "    print(i, end=' ')\n",
    "    i+=1"
   ]
  },
  {
   "cell_type": "markdown",
   "id": "f761dd73",
   "metadata": {},
   "source": [
    "##13. If you had a function named bacon() inside a module named spam, how would you call it after importing spam?\n",
    "\n",
    "Ans) We can call using spam.bacon() "
   ]
  },
  {
   "cell_type": "code",
   "execution_count": null,
   "id": "76817cc3",
   "metadata": {},
   "outputs": [],
   "source": []
  }
 ],
 "metadata": {
  "kernelspec": {
   "display_name": "Python 3",
   "language": "python",
   "name": "python3"
  },
  "language_info": {
   "codemirror_mode": {
    "name": "ipython",
    "version": 3
   },
   "file_extension": ".py",
   "mimetype": "text/x-python",
   "name": "python",
   "nbconvert_exporter": "python",
   "pygments_lexer": "ipython3",
   "version": "3.8.8"
  }
 },
 "nbformat": 4,
 "nbformat_minor": 5
}
