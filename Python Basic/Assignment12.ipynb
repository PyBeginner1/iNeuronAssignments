{
 "cells": [
  {
   "cell_type": "markdown",
   "id": "3bf21711",
   "metadata": {},
   "source": [
    "# Assignment 12"
   ]
  },
  {
   "cell_type": "markdown",
   "id": "15821f6e",
   "metadata": {},
   "source": [
    "## 1. In what modes should the PdfFileReader() and PdfFileWriter() File objects will be opened?\n",
    "\n",
    "Ans. **PdfFileReader()** will be opened in `Read Mode(rb)` and **PdfFileWriter()** wil be opened in `Write Mode(wb)`."
   ]
  },
  {
   "cell_type": "markdown",
   "id": "6b8d33cf",
   "metadata": {},
   "source": [
    "## 2. From a PdfFileReader object, how do you get a Page object for page 5?\n",
    "\n",
    "Ans. By using **getPage(page_no)** we can get to the particular page and then we can use **extractText()** to pull text in that page."
   ]
  },
  {
   "cell_type": "code",
   "execution_count": 2,
   "id": "203eb621",
   "metadata": {},
   "outputs": [
    {
     "name": "stdout",
     "output_type": "stream",
     "text": [
      "Collecting PyPDF2\n",
      "  Downloading PyPDF2-1.27.8-py3-none-any.whl (69 kB)\n",
      "Installing collected packages: PyPDF2\n",
      "Successfully installed PyPDF2-1.27.8\n"
     ]
    }
   ],
   "source": [
    "!pip install PyPDF2"
   ]
  },
  {
   "cell_type": "markdown",
   "id": "3ecda854",
   "metadata": {},
   "source": [
    "## 3. What PdfFileReader variable stores the number of pages in the PDF document?\n",
    "\n",
    "Ans. **numPages()** attribute stores the total number of pages in the document."
   ]
  },
  {
   "cell_type": "markdown",
   "id": "16bde9b3",
   "metadata": {},
   "source": [
    "## 4. If a PdfFileReader object’s PDF is encrypted with the password swordfish, what must you do before you can obtain Page objects from it?\n",
    "\n",
    "Ans. If the PDF is encrypted we firstly check it using **isEncrypted** method, if this method returns true then we use **decrypt** method by provding the password which is `swordfish` and then we will be to read/write the PDF file."
   ]
  },
  {
   "cell_type": "code",
   "execution_count": 2,
   "id": "7ab89908",
   "metadata": {
    "collapsed": true
   },
   "outputs": [
    {
     "ename": "FileNotFoundError",
     "evalue": "[Errno 2] No such file or directory: 'myPDF.pdf'",
     "output_type": "error",
     "traceback": [
      "\u001b[1;31m---------------------------------------------------------------------------\u001b[0m",
      "\u001b[1;31mFileNotFoundError\u001b[0m                         Traceback (most recent call last)",
      "\u001b[1;32m<ipython-input-2-49955ce20b44>\u001b[0m in \u001b[0;36m<module>\u001b[1;34m\u001b[0m\n\u001b[0;32m      2\u001b[0m \u001b[1;32mfrom\u001b[0m \u001b[0mPyPDF2\u001b[0m \u001b[1;32mimport\u001b[0m \u001b[0mPdfFileReader\u001b[0m\u001b[1;33m\u001b[0m\u001b[1;33m\u001b[0m\u001b[0m\n\u001b[0;32m      3\u001b[0m \u001b[0mpassword\u001b[0m \u001b[1;33m=\u001b[0m \u001b[1;34m'swordfish'\u001b[0m\u001b[1;33m\u001b[0m\u001b[1;33m\u001b[0m\u001b[0m\n\u001b[1;32m----> 4\u001b[1;33m \u001b[0mfile\u001b[0m\u001b[1;33m=\u001b[0m\u001b[0mPdfFileReader\u001b[0m\u001b[1;33m(\u001b[0m\u001b[1;34m'myPDF.pdf'\u001b[0m\u001b[1;33m)\u001b[0m\u001b[1;33m\u001b[0m\u001b[1;33m\u001b[0m\u001b[0m\n\u001b[0m\u001b[0;32m      5\u001b[0m \u001b[1;32mif\u001b[0m \u001b[0mfile\u001b[0m\u001b[1;33m.\u001b[0m\u001b[0misEncrypted\u001b[0m\u001b[1;33m:\u001b[0m\u001b[1;33m\u001b[0m\u001b[1;33m\u001b[0m\u001b[0m\n\u001b[0;32m      6\u001b[0m     \u001b[0mfile\u001b[0m\u001b[1;33m.\u001b[0m\u001b[0mdecrypt\u001b[0m\u001b[1;33m(\u001b[0m\u001b[0mpassword\u001b[0m\u001b[1;33m)\u001b[0m \u001b[1;31m#file has been decrypted\u001b[0m\u001b[1;33m\u001b[0m\u001b[1;33m\u001b[0m\u001b[0m\n",
      "\u001b[1;32mD:\\Anaconda\\lib\\site-packages\\PyPDF2\\pdf.py\u001b[0m in \u001b[0;36m__init__\u001b[1;34m(self, stream, strict, warndest, overwriteWarnings)\u001b[0m\n\u001b[0;32m   1204\u001b[0m             \u001b[0mwarnings\u001b[0m\u001b[1;33m.\u001b[0m\u001b[0mwarn\u001b[0m\u001b[1;33m(\u001b[0m\u001b[1;34m\"PdfFileReader stream/file object is not in binary mode. It may not be read correctly.\"\u001b[0m\u001b[1;33m,\u001b[0m \u001b[0mPdfReadWarning\u001b[0m\u001b[1;33m)\u001b[0m\u001b[1;33m\u001b[0m\u001b[1;33m\u001b[0m\u001b[0m\n\u001b[0;32m   1205\u001b[0m         \u001b[1;32mif\u001b[0m \u001b[0misString\u001b[0m\u001b[1;33m(\u001b[0m\u001b[0mstream\u001b[0m\u001b[1;33m)\u001b[0m\u001b[1;33m:\u001b[0m\u001b[1;33m\u001b[0m\u001b[1;33m\u001b[0m\u001b[0m\n\u001b[1;32m-> 1206\u001b[1;33m             \u001b[1;32mwith\u001b[0m \u001b[0mopen\u001b[0m\u001b[1;33m(\u001b[0m\u001b[0mstream\u001b[0m\u001b[1;33m,\u001b[0m \u001b[1;34m'rb'\u001b[0m\u001b[1;33m)\u001b[0m \u001b[1;32mas\u001b[0m \u001b[0mfileobj\u001b[0m\u001b[1;33m:\u001b[0m\u001b[1;33m\u001b[0m\u001b[1;33m\u001b[0m\u001b[0m\n\u001b[0m\u001b[0;32m   1207\u001b[0m                 \u001b[0mstream\u001b[0m \u001b[1;33m=\u001b[0m \u001b[0mBytesIO\u001b[0m\u001b[1;33m(\u001b[0m\u001b[0mb_\u001b[0m\u001b[1;33m(\u001b[0m\u001b[0mfileobj\u001b[0m\u001b[1;33m.\u001b[0m\u001b[0mread\u001b[0m\u001b[1;33m(\u001b[0m\u001b[1;33m)\u001b[0m\u001b[1;33m)\u001b[0m\u001b[1;33m)\u001b[0m\u001b[1;33m\u001b[0m\u001b[1;33m\u001b[0m\u001b[0m\n\u001b[0;32m   1208\u001b[0m         \u001b[0mself\u001b[0m\u001b[1;33m.\u001b[0m\u001b[0mread\u001b[0m\u001b[1;33m(\u001b[0m\u001b[0mstream\u001b[0m\u001b[1;33m)\u001b[0m\u001b[1;33m\u001b[0m\u001b[1;33m\u001b[0m\u001b[0m\n",
      "\u001b[1;31mFileNotFoundError\u001b[0m: [Errno 2] No such file or directory: 'myPDF.pdf'"
     ]
    }
   ],
   "source": [
    "#Example\n",
    "from PyPDF2 import PdfFileReader\n",
    "password = 'swordfish'\n",
    "file=PdfFileReader('myPDF.pdf')\n",
    "if file.isEncrypted:\n",
    "    file.decrypt(password) #file has been decrypted        "
   ]
  },
  {
   "cell_type": "markdown",
   "id": "6169c63c",
   "metadata": {},
   "source": [
    "## 5. What methods do you use to rotate a page?\n",
    "\n",
    "Ans. We can use **rotateClockwise** and **rotateCounterClockwise** to rotate a page by 90 degree."
   ]
  },
  {
   "cell_type": "markdown",
   "id": "2a7f2ea2",
   "metadata": {},
   "source": [
    "## 6. What is the difference between a Run object and a Paragraph object?\n",
    "\n",
    "Ans. Word documents are formatted with three object levels. The lowest level is **Run object** , middle level is **Paragraph object** and highest level is **Document object**. <br>\n",
    "`Document object` contains list of `Paragraph objects` and `Paragraph object` contains a list of `Run objects`."
   ]
  },
  {
   "cell_type": "markdown",
   "id": "8c13a04a",
   "metadata": {},
   "source": [
    "## 7. How do you obtain a list of Paragraph objects for a Document object that’s stored in a variable named doc?\n",
    "\n",
    "Ans. We can get a list of paragraphs using **document.paragraphs**."
   ]
  },
  {
   "cell_type": "code",
   "execution_count": null,
   "id": "84e49b6f",
   "metadata": {},
   "outputs": [],
   "source": [
    "from docx import Document\n",
    "doc = Document('file.docx')\n",
    "print(doc.paragraphs)"
   ]
  },
  {
   "cell_type": "markdown",
   "id": "a1e33bf5",
   "metadata": {},
   "source": [
    "## 8. What type of object has bold, underline, italic, strike, and outline variables?\n",
    "\n",
    "Ans. **Run object** has bold, underline, italic, strike, and outline variables."
   ]
  },
  {
   "cell_type": "markdown",
   "id": "64061792",
   "metadata": {},
   "source": [
    "## 9. What is the difference between False, True, and None for the bold variable?\n",
    "\n",
    "Ans. <br>\n",
    "**False** - Bold is always disabled.<br>\n",
    "**True** - Bold is always enabled.<br>\n",
    "**None** - Defaults to whatever the style is set to."
   ]
  },
  {
   "cell_type": "markdown",
   "id": "791b1593",
   "metadata": {},
   "source": [
    "## 10. How do you create a Document object for a new Word document?"
   ]
  },
  {
   "cell_type": "code",
   "execution_count": null,
   "id": "6ce03420",
   "metadata": {},
   "outputs": [],
   "source": [
    "import docx\n",
    "doc = docx.Document('file.docx') #This will return a Document object"
   ]
  },
  {
   "cell_type": "markdown",
   "id": "6f3194f0",
   "metadata": {},
   "source": [
    "## 11. How do you add a paragraph with the text 'Hello, there!' to a Document object stored in a variable named doc?\n",
    "\n",
    "Ans. We can use **add_paragraph** method."
   ]
  },
  {
   "cell_type": "code",
   "execution_count": null,
   "id": "305e250b",
   "metadata": {},
   "outputs": [],
   "source": [
    "#Example\n",
    "import docx\n",
    "doc = docx.Document('file.docx')\n",
    "doc.add_paragraph('Hello, there!')   #This will add to the document"
   ]
  },
  {
   "cell_type": "markdown",
   "id": "9c2a45f3",
   "metadata": {},
   "source": [
    "## 12. What integers represent the levels of headings available in Word documents?\n",
    "\n",
    "Ans. We use **add_heading** method. Integer 0 is the heading Title which is used at the top of the document. Integer 1 to 4 are various heading levels with 1 being main heading and 4 being lowest heading."
   ]
  },
  {
   "cell_type": "code",
   "execution_count": null,
   "id": "29e6ae9c",
   "metadata": {},
   "outputs": [],
   "source": []
  }
 ],
 "metadata": {
  "kernelspec": {
   "display_name": "Python 3",
   "language": "python",
   "name": "python3"
  },
  "language_info": {
   "codemirror_mode": {
    "name": "ipython",
    "version": 3
   },
   "file_extension": ".py",
   "mimetype": "text/x-python",
   "name": "python",
   "nbconvert_exporter": "python",
   "pygments_lexer": "ipython3",
   "version": "3.8.8"
  }
 },
 "nbformat": 4,
 "nbformat_minor": 5
}
