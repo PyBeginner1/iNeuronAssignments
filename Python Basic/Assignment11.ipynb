{
 "cells": [
  {
   "cell_type": "markdown",
   "id": "012ecee0",
   "metadata": {},
   "source": [
    "# Assignment11"
   ]
  },
  {
   "cell_type": "markdown",
   "id": "7e51dd14",
   "metadata": {},
   "source": [
    "## 1. Create an assert statement that throws an AssertionError if the variable spam is a negative integer."
   ]
  },
  {
   "cell_type": "code",
   "execution_count": 2,
   "id": "bdb2f68e",
   "metadata": {},
   "outputs": [
    {
     "ename": "AssertionError",
     "evalue": "Invalid number",
     "output_type": "error",
     "traceback": [
      "\u001b[1;31m---------------------------------------------------------------------------\u001b[0m",
      "\u001b[1;31mAssertionError\u001b[0m                            Traceback (most recent call last)",
      "\u001b[1;32m<ipython-input-2-252762b2e0f6>\u001b[0m in \u001b[0;36m<module>\u001b[1;34m\u001b[0m\n\u001b[0;32m      1\u001b[0m \u001b[0mspam\u001b[0m \u001b[1;33m=\u001b[0m \u001b[1;33m-\u001b[0m\u001b[1;36m1\u001b[0m\u001b[1;33m\u001b[0m\u001b[1;33m\u001b[0m\u001b[0m\n\u001b[1;32m----> 2\u001b[1;33m \u001b[1;32massert\u001b[0m \u001b[0mspam\u001b[0m \u001b[1;33m>\u001b[0m \u001b[1;36m0\u001b[0m\u001b[1;33m,\u001b[0m \u001b[1;34m\"Invalid number\"\u001b[0m\u001b[1;33m\u001b[0m\u001b[1;33m\u001b[0m\u001b[0m\n\u001b[0m",
      "\u001b[1;31mAssertionError\u001b[0m: Invalid number"
     ]
    }
   ],
   "source": [
    "spam = -1\n",
    "assert spam > 0, \"Invalid number\""
   ]
  },
  {
   "cell_type": "markdown",
   "id": "4a6a8578",
   "metadata": {},
   "source": [
    "## 2. Write an assert statement that triggers an AssertionError if the variables eggs and bacon contain strings that are the same as each other, even if their cases are different (that is, 'hello' and 'hello' are considered the same, and 'goodbye' and 'GOODbye' are also considered the same)."
   ]
  },
  {
   "cell_type": "code",
   "execution_count": 5,
   "id": "350cec6a",
   "metadata": {},
   "outputs": [
    {
     "ename": "AssertionError",
     "evalue": "eggs and bacon variable should have different values",
     "output_type": "error",
     "traceback": [
      "\u001b[1;31m---------------------------------------------------------------------------\u001b[0m",
      "\u001b[1;31mAssertionError\u001b[0m                            Traceback (most recent call last)",
      "\u001b[1;32m<ipython-input-5-f494f6ae6ef4>\u001b[0m in \u001b[0;36m<module>\u001b[1;34m\u001b[0m\n\u001b[0;32m      1\u001b[0m \u001b[0meggs\u001b[0m \u001b[1;33m=\u001b[0m \u001b[1;34m'hello'\u001b[0m\u001b[1;33m\u001b[0m\u001b[1;33m\u001b[0m\u001b[0m\n\u001b[0;32m      2\u001b[0m \u001b[0mbacon\u001b[0m \u001b[1;33m=\u001b[0m \u001b[1;34m'Hello'\u001b[0m\u001b[1;33m\u001b[0m\u001b[1;33m\u001b[0m\u001b[0m\n\u001b[1;32m----> 3\u001b[1;33m \u001b[1;32massert\u001b[0m \u001b[0meggs\u001b[0m \u001b[1;33m==\u001b[0m \u001b[0mbacon\u001b[0m\u001b[1;33m,\u001b[0m \u001b[1;34m'eggs and bacon variable should have different values'\u001b[0m\u001b[1;33m\u001b[0m\u001b[1;33m\u001b[0m\u001b[0m\n\u001b[0m",
      "\u001b[1;31mAssertionError\u001b[0m: eggs and bacon variable should have different values"
     ]
    }
   ],
   "source": [
    "eggs = 'hello'\n",
    "bacon = 'Hello'\n",
    "assert eggs == bacon, 'eggs and bacon variable should have different values'"
   ]
  },
  {
   "cell_type": "markdown",
   "id": "36da957a",
   "metadata": {},
   "source": [
    "## 3. Create an assert statement that throws an AssertionError every time."
   ]
  },
  {
   "cell_type": "code",
   "execution_count": 7,
   "id": "5e57a147",
   "metadata": {},
   "outputs": [
    {
     "ename": "AssertionError",
     "evalue": "Invalid",
     "output_type": "error",
     "traceback": [
      "\u001b[1;31m---------------------------------------------------------------------------\u001b[0m",
      "\u001b[1;31mAssertionError\u001b[0m                            Traceback (most recent call last)",
      "\u001b[1;32m<ipython-input-7-f8cf59506f3c>\u001b[0m in \u001b[0;36m<module>\u001b[1;34m\u001b[0m\n\u001b[1;32m----> 1\u001b[1;33m \u001b[1;32massert\u001b[0m \u001b[1;32mFalse\u001b[0m\u001b[1;33m,\u001b[0m \u001b[1;34m'Invalid'\u001b[0m\u001b[1;33m\u001b[0m\u001b[1;33m\u001b[0m\u001b[0m\n\u001b[0m",
      "\u001b[1;31mAssertionError\u001b[0m: Invalid"
     ]
    }
   ],
   "source": [
    "assert False, 'Invalid'"
   ]
  },
  {
   "cell_type": "code",
   "execution_count": 10,
   "id": "68405d56",
   "metadata": {},
   "outputs": [],
   "source": [
    "def show_assert():\n",
    "    assert False, 'Invalid'"
   ]
  },
  {
   "cell_type": "code",
   "execution_count": 11,
   "id": "2b06d681",
   "metadata": {},
   "outputs": [
    {
     "ename": "AssertionError",
     "evalue": "Invalid",
     "output_type": "error",
     "traceback": [
      "\u001b[1;31m---------------------------------------------------------------------------\u001b[0m",
      "\u001b[1;31mAssertionError\u001b[0m                            Traceback (most recent call last)",
      "\u001b[1;32m<ipython-input-11-f3cbc42e1789>\u001b[0m in \u001b[0;36m<module>\u001b[1;34m\u001b[0m\n\u001b[1;32m----> 1\u001b[1;33m \u001b[0mshow_assert\u001b[0m\u001b[1;33m(\u001b[0m\u001b[1;33m)\u001b[0m\u001b[1;33m\u001b[0m\u001b[1;33m\u001b[0m\u001b[0m\n\u001b[0m",
      "\u001b[1;32m<ipython-input-10-d946bb6529dc>\u001b[0m in \u001b[0;36mshow_assert\u001b[1;34m()\u001b[0m\n\u001b[0;32m      1\u001b[0m \u001b[1;32mdef\u001b[0m \u001b[0mshow_assert\u001b[0m\u001b[1;33m(\u001b[0m\u001b[1;33m)\u001b[0m\u001b[1;33m:\u001b[0m\u001b[1;33m\u001b[0m\u001b[1;33m\u001b[0m\u001b[0m\n\u001b[1;32m----> 2\u001b[1;33m     \u001b[1;32massert\u001b[0m \u001b[1;32mFalse\u001b[0m\u001b[1;33m,\u001b[0m \u001b[1;34m'Invalid'\u001b[0m\u001b[1;33m\u001b[0m\u001b[1;33m\u001b[0m\u001b[0m\n\u001b[0m",
      "\u001b[1;31mAssertionError\u001b[0m: Invalid"
     ]
    }
   ],
   "source": [
    "show_assert()"
   ]
  },
  {
   "cell_type": "markdown",
   "id": "8522e28b",
   "metadata": {},
   "source": [
    "## 4. What are the two lines that must be present in your software in order to call logging.debug()?\n",
    "\n",
    "Ans. import logging <br>\n",
    "logging.basicConfig(level=logging.DEBUG, format=' %(asctime)s - %(levelname)s - %(message)s')"
   ]
  },
  {
   "cell_type": "markdown",
   "id": "cccc00a7",
   "metadata": {},
   "source": [
    "## 5. What are the two lines that your program must have in order to have logging.debug() send a logging message to a file named programLog.txt?"
   ]
  },
  {
   "cell_type": "code",
   "execution_count": 12,
   "id": "de7ffcdb",
   "metadata": {},
   "outputs": [],
   "source": [
    "import logging\n",
    "logging.basicConfig(filename = 'programLog.txt', level = logging.DEBUG, format=' %(asctime)s - %(levelname)s - %(message)s')\n",
    "logging.debug('Message sent by logging method')"
   ]
  },
  {
   "cell_type": "code",
   "execution_count": 29,
   "id": "7878b062",
   "metadata": {},
   "outputs": [
    {
     "data": {
      "text/plain": [
       "' 2022-04-23 17:39:07,918 - DEBUG - Message sent by logging method\\n 2022-04-23 18:05:19,211 - DEBUG - Message sent by logging method\\n 2022-04-23 18:05:22,043 - DEBUG - Message sent by logging method\\n 2022-04-23 18:08:33,603 - DEBUG - Message sent by logging method\\n'"
      ]
     },
     "execution_count": 29,
     "metadata": {},
     "output_type": "execute_result"
    }
   ],
   "source": [
    "f = open('programLog.txt', 'r')\n",
    "f.read()"
   ]
  },
  {
   "cell_type": "markdown",
   "id": "d69eb984",
   "metadata": {},
   "source": [
    "## 6. What are the five levels of logging?\n",
    "\n",
    "Ans. The five levels of logging are **Debug**, **Error**, **Emergency**, **Alert**, **Critical**."
   ]
  },
  {
   "cell_type": "markdown",
   "id": "0bb1c3ee",
   "metadata": {},
   "source": [
    "## 7. What line of code would you add to your software to disable all logging messages?\n",
    "\n",
    "Ans. **logger.disable = True**"
   ]
  },
  {
   "cell_type": "code",
   "execution_count": 37,
   "id": "c516a648",
   "metadata": {},
   "outputs": [],
   "source": [
    "#Another way\n",
    "import logging\n",
    "logging.getLogger().setLevel(100)"
   ]
  },
  {
   "cell_type": "code",
   "execution_count": 38,
   "id": "8c94e3f2",
   "metadata": {},
   "outputs": [],
   "source": [
    "#ran at 6:22PM\n",
    "logging.debug('Message sent by logging method')"
   ]
  },
  {
   "cell_type": "code",
   "execution_count": 39,
   "id": "22bdd479",
   "metadata": {},
   "outputs": [
    {
     "data": {
      "text/plain": [
       "' 2022-04-23 17:39:07,918 - DEBUG - Message sent by logging method\\n 2022-04-23 18:05:19,211 - DEBUG - Message sent by logging method\\n 2022-04-23 18:05:22,043 - DEBUG - Message sent by logging method\\n 2022-04-23 18:08:33,603 - DEBUG - Message sent by logging method\\n'"
      ]
     },
     "execution_count": 39,
     "metadata": {},
     "output_type": "execute_result"
    }
   ],
   "source": [
    "f = open('programLog.txt', 'r')\n",
    "f.read()"
   ]
  },
  {
   "cell_type": "markdown",
   "id": "519ef17f",
   "metadata": {},
   "source": [
    "## 8.Why is using logging messages better than using print() to display the same message?\n",
    "\n",
    "Ans. We can define what types of information we want to include in our logs.<br>\n",
    "We can disable logging method easily.<br>\n",
    "We can set the destination for our logs."
   ]
  },
  {
   "cell_type": "markdown",
   "id": "c8bc424b",
   "metadata": {},
   "source": [
    "## 9. What are the differences between the Step Over, Step In, and Step Out buttons in the debugger?\n",
    "\n",
    "Ans. **Step Over** - This will step over a given line. If a line contains a function then the function will be executed.\n",
    "**Step In** - This will execute the net line of code.<br>\n",
    "**Step Out** - Action taken in the debugger that returns to the line where current function is called."
   ]
  },
  {
   "cell_type": "markdown",
   "id": "5c924c37",
   "metadata": {},
   "source": [
    "## 10.After you click Continue, when will the debugger stop ?\n",
    "\n",
    "Ans. This will continue the debugging until it reaches end."
   ]
  },
  {
   "cell_type": "markdown",
   "id": "1a5db6f6",
   "metadata": {},
   "source": [
    "## 11. What is the concept of a breakpoint?\n",
    "\n",
    "Ans. **Breakpoint** is a stopping or pausing place used for debugging process."
   ]
  },
  {
   "cell_type": "code",
   "execution_count": null,
   "id": "160d06e2",
   "metadata": {},
   "outputs": [],
   "source": []
  }
 ],
 "metadata": {
  "kernelspec": {
   "display_name": "Python 3",
   "language": "python",
   "name": "python3"
  },
  "language_info": {
   "codemirror_mode": {
    "name": "ipython",
    "version": 3
   },
   "file_extension": ".py",
   "mimetype": "text/x-python",
   "name": "python",
   "nbconvert_exporter": "python",
   "pygments_lexer": "ipython3",
   "version": "3.8.8"
  }
 },
 "nbformat": 4,
 "nbformat_minor": 5
}
