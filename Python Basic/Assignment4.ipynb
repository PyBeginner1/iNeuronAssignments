{
 "cells": [
  {
   "cell_type": "markdown",
   "id": "23987b3f",
   "metadata": {},
   "source": [
    "# Assignment 4"
   ]
  },
  {
   "cell_type": "markdown",
   "id": "ebcbf5e1",
   "metadata": {},
   "source": [
    "## 1. What exactly is [ ]?\n",
    "\n",
    "Ans. Empty list."
   ]
  },
  {
   "cell_type": "code",
   "execution_count": 11,
   "id": "7fabdeb4",
   "metadata": {},
   "outputs": [
    {
     "data": {
      "text/plain": [
       "[2, 4, 'hello', 8, 10]"
      ]
     },
     "execution_count": 11,
     "metadata": {},
     "output_type": "execute_result"
    }
   ],
   "source": [
    "##2. In a list of values stored in a variable called spam, how would you assign the value 'hello' as the third value? (Assume [2, 4, 6, 8, 10] are in spam.)\n",
    "spam = [2, 4, 6, 8, 10] \n",
    "spam[2] = 'hello'\n",
    "spam"
   ]
  },
  {
   "cell_type": "markdown",
   "id": "6c8f2b9f",
   "metadata": {},
   "source": [
    "##Let's pretend the spam includes the list ['a', 'b', 'c', 'd'] for the next three queries."
   ]
  },
  {
   "cell_type": "code",
   "execution_count": 16,
   "id": "3de99e13",
   "metadata": {},
   "outputs": [],
   "source": [
    "spam = ['a', 'b', 'c', 'd']"
   ]
  },
  {
   "cell_type": "markdown",
   "id": "b5261348",
   "metadata": {},
   "source": [
    "## 3. What is the value of spam[int(int('3' * 2) / 11)]?\n",
    "\n",
    "Ans. '3' * 2 = int(33)/11 = 3 ---> We have 'd' at the 3rd place in a list as lsit starts from 0."
   ]
  },
  {
   "cell_type": "code",
   "execution_count": 17,
   "id": "36d9267b",
   "metadata": {},
   "outputs": [
    {
     "data": {
      "text/plain": [
       "'d'"
      ]
     },
     "execution_count": 17,
     "metadata": {},
     "output_type": "execute_result"
    }
   ],
   "source": [
    "#Solution\n",
    "spam[int(int('3' * 2) / 11)]"
   ]
  },
  {
   "cell_type": "markdown",
   "id": "4be0405d",
   "metadata": {},
   "source": [
    "## 4. What is the value of spam[-1]?\n",
    "\n",
    "Ans. It is 'd'. [-1] represents to start from the end of the list. List supports negative indexing which begins from -1 and normal or positive indexing begins from 0."
   ]
  },
  {
   "cell_type": "code",
   "execution_count": 18,
   "id": "7c2bc4aa",
   "metadata": {},
   "outputs": [
    {
     "data": {
      "text/plain": [
       "'d'"
      ]
     },
     "execution_count": 18,
     "metadata": {},
     "output_type": "execute_result"
    }
   ],
   "source": [
    "spam[-1]"
   ]
  },
  {
   "cell_type": "markdown",
   "id": "4d10172b",
   "metadata": {},
   "source": [
    "## 5. What is the value of spam[:2]?\n",
    "\n",
    "Ans. [:2] means 0th pos to 2nd position(n-1) and hence we get elements in 1st position and 2nd position(a and b)."
   ]
  },
  {
   "cell_type": "code",
   "execution_count": 19,
   "id": "027c5a17",
   "metadata": {},
   "outputs": [
    {
     "data": {
      "text/plain": [
       "['a', 'b']"
      ]
     },
     "execution_count": 19,
     "metadata": {},
     "output_type": "execute_result"
    }
   ],
   "source": [
    "spam[:2]"
   ]
  },
  {
   "cell_type": "markdown",
   "id": "11793b18",
   "metadata": {},
   "source": [
    "##Let's pretend bacon has the list [3.14, 'cat,' 11, 'cat,' True] for the next three questions."
   ]
  },
  {
   "cell_type": "code",
   "execution_count": 22,
   "id": "e6e09445",
   "metadata": {},
   "outputs": [],
   "source": [
    "bacon = [3.14, 'cat', 11, 'cat', True] "
   ]
  },
  {
   "cell_type": "markdown",
   "id": "f0eeebf2",
   "metadata": {},
   "source": [
    "## 6. What is the value of bacon.index('cat')?\n",
    "\n",
    "Ans. 'cat' is located at 1st and 3rd but it will return the first instance of the word 'cat' which is at 1."
   ]
  },
  {
   "cell_type": "code",
   "execution_count": 24,
   "id": "bb61adfa",
   "metadata": {},
   "outputs": [
    {
     "data": {
      "text/plain": [
       "1"
      ]
     },
     "execution_count": 24,
     "metadata": {},
     "output_type": "execute_result"
    }
   ],
   "source": [
    "bacon.index('cat')"
   ]
  },
  {
   "cell_type": "markdown",
   "id": "23597cc4",
   "metadata": {},
   "source": [
    "## 7. How does bacon.append(99) change the look of the list value in bacon?\n",
    "\n",
    "Ans. Any new value added will be appended to the end of the list."
   ]
  },
  {
   "cell_type": "code",
   "execution_count": 29,
   "id": "f9f3e456",
   "metadata": {},
   "outputs": [
    {
     "data": {
      "text/plain": [
       "[3.14, 'cat', 11, 'cat', True, 99, 99, 99, 99]"
      ]
     },
     "execution_count": 29,
     "metadata": {},
     "output_type": "execute_result"
    }
   ],
   "source": [
    "bacon.append(99)\n",
    "bacon"
   ]
  },
  {
   "cell_type": "markdown",
   "id": "7e3b5c92",
   "metadata": {},
   "source": [
    "## 8. How does bacon.remove('cat') change the look of the list in bacon?\n",
    "\n",
    "Ans. It will remove the first appearnce of the word 'cat'."
   ]
  },
  {
   "cell_type": "code",
   "execution_count": 30,
   "id": "bf289cf9",
   "metadata": {},
   "outputs": [
    {
     "data": {
      "text/plain": [
       "[3.14, 11, 'cat', True, 99, 99, 99, 99]"
      ]
     },
     "execution_count": 30,
     "metadata": {},
     "output_type": "execute_result"
    }
   ],
   "source": [
    "bacon.remove('cat')\n",
    "bacon"
   ]
  },
  {
   "cell_type": "markdown",
   "id": "c7aacd07",
   "metadata": {},
   "source": [
    "## 9. What are the list concatenation and list replication operators?\n",
    "\n",
    "Ans. List concatenation is the method of adding or combining 2 lists. We use '+' sign to concatenate. \n",
    "List replication is used to create replica of the same list. We can perform this task using '*'"
   ]
  },
  {
   "cell_type": "code",
   "execution_count": 33,
   "id": "2aeff962",
   "metadata": {},
   "outputs": [
    {
     "name": "stdout",
     "output_type": "stream",
     "text": [
      "Conatenate:  ['Shashvath', 23, True, [1, 2, 3], 'Analyst', 100, True, (1, 2, 3)]\n",
      "Replication:  ['Shashvath', 23, True, [1, 2, 3], 'Shashvath', 23, True, [1, 2, 3]]\n"
     ]
    }
   ],
   "source": [
    "#Example\n",
    "list1 = ['Shashvath', 23, True, [1,2,3]]\n",
    "list2 = ['Analyst', 100, True, (1,2,3)]\n",
    "concatenate = list1 + list2\n",
    "replication = list1 * 2\n",
    "print('Conatenate: ', concatenate)\n",
    "print('Replication: ', replication)"
   ]
  },
  {
   "cell_type": "markdown",
   "id": "645cc2cb",
   "metadata": {},
   "source": [
    "## 10. What is difference between the list methods append() and insert()?\n",
    "\n",
    "Ans. Using append() method we can add the value into the said list at the end whereas using insert() we can add a value anywher in a list using index."
   ]
  },
  {
   "cell_type": "code",
   "execution_count": 37,
   "id": "1a369dea",
   "metadata": {},
   "outputs": [
    {
     "data": {
      "text/plain": [
       "[3.14, 11, 'cat', True, 99, 99, 'Shashvath', 99, 99]"
      ]
     },
     "execution_count": 37,
     "metadata": {},
     "output_type": "execute_result"
    }
   ],
   "source": [
    "#Example\n",
    "bacon.insert(6, 'Shashvath')\n",
    "bacon"
   ]
  },
  {
   "cell_type": "markdown",
   "id": "30c9ecda",
   "metadata": {},
   "source": [
    "## 11. What are the two methods for removing items from a list?\n",
    "\n",
    "Ans. remove() and pop() can be used to delete items from the list. pop() uses index position whereas remove() uses value."
   ]
  },
  {
   "cell_type": "code",
   "execution_count": 39,
   "id": "0d843cdb",
   "metadata": {},
   "outputs": [
    {
     "data": {
      "text/plain": [
       "[3.14, 11, 'cat', True, 99, 'Shashvath', 99, 99]"
      ]
     },
     "execution_count": 39,
     "metadata": {},
     "output_type": "execute_result"
    }
   ],
   "source": [
    "#EXample\n",
    "bacon.remove(99)\n",
    "bacon"
   ]
  },
  {
   "cell_type": "code",
   "execution_count": 42,
   "id": "94321771",
   "metadata": {},
   "outputs": [
    {
     "data": {
      "text/plain": [
       "99"
      ]
     },
     "execution_count": 42,
     "metadata": {},
     "output_type": "execute_result"
    }
   ],
   "source": [
    "#bacon.pop(4)\n",
    "bacon"
   ]
  },
  {
   "cell_type": "markdown",
   "id": "3087769d",
   "metadata": {},
   "source": [
    "## 12. Describe how list values and string values are identical.\n",
    "\n",
    "Ans. Both list and string are iterable object. We can perform slicing, indexing, concatenation and replication. Len() function can be used to get the length."
   ]
  },
  {
   "cell_type": "markdown",
   "id": "500966fe",
   "metadata": {},
   "source": [
    "## 13. What's the difference between tuples and lists?\n",
    "\n",
    "Ans. Lists are mutable and tuples are immutable which means that we can add or modify the data within lists but we cannot modify values in tuples. We can perform Indexing and Slicing operations on both. Tuples are represented using **()** and lists are represented using **[ ]**."
   ]
  },
  {
   "cell_type": "markdown",
   "id": "e01367c9",
   "metadata": {},
   "source": [
    "## 14. How do you type a tuple value that only contains the integer 42?\n",
    "\n",
    "Ans. tuples are always ended with a comma. For Ex: t = (42,) as (42) will be considered as int data type."
   ]
  },
  {
   "cell_type": "code",
   "execution_count": 46,
   "id": "41471a85",
   "metadata": {},
   "outputs": [
    {
     "name": "stdout",
     "output_type": "stream",
     "text": [
      "<class 'int'>\n",
      "<class 'tuple'>\n"
     ]
    }
   ],
   "source": [
    "t = (42)\n",
    "t1 = (42,)\n",
    "print(type(t))\n",
    "print(type(t1))"
   ]
  },
  {
   "cell_type": "markdown",
   "id": "9504baf8",
   "metadata": {},
   "source": [
    "## 15. How do you get a list value's tuple form? How do you get a tuple value's list form?\n",
    "\n",
    "Ans. tuple() and list() functions can be used to convert a list or a tuple into respective data types."
   ]
  },
  {
   "cell_type": "markdown",
   "id": "747684b1",
   "metadata": {},
   "source": [
    "## 16. Variables that \"contain\" list values are not necessarily lists themselves. Instead, what do they contain?\n",
    "\n",
    "Ans. They are referenceing list values.\n",
    "Dictionary can contain list, list can contain list, tuples can contain list."
   ]
  },
  {
   "cell_type": "code",
   "execution_count": 47,
   "id": "53fa18f6",
   "metadata": {},
   "outputs": [],
   "source": [
    "t = (1, [2,3,4],3)"
   ]
  },
  {
   "cell_type": "code",
   "execution_count": 49,
   "id": "612c2706",
   "metadata": {},
   "outputs": [
    {
     "data": {
      "text/plain": [
       "list"
      ]
     },
     "execution_count": 49,
     "metadata": {},
     "output_type": "execute_result"
    }
   ],
   "source": [
    "type(t[1])"
   ]
  },
  {
   "cell_type": "markdown",
   "id": "9128c426",
   "metadata": {},
   "source": [
    "## 17. How do you distinguish between copy.copy() and copy.deepcopy()?\n",
    "\n",
    "Ans. The copy() method returns a shallow copy of the list. A deepcopy() constructs a new compound object and then, recursively, inserts copies into it of the objects found in the original."
   ]
  }
 ],
 "metadata": {
  "kernelspec": {
   "display_name": "Python 3",
   "language": "python",
   "name": "python3"
  },
  "language_info": {
   "codemirror_mode": {
    "name": "ipython",
    "version": 3
   },
   "file_extension": ".py",
   "mimetype": "text/x-python",
   "name": "python",
   "nbconvert_exporter": "python",
   "pygments_lexer": "ipython3",
   "version": "3.8.8"
  }
 },
 "nbformat": 4,
 "nbformat_minor": 5
}
