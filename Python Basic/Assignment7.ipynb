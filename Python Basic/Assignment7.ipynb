{
 "cells": [
  {
   "cell_type": "markdown",
   "id": "ed1b87e3",
   "metadata": {},
   "source": [
    "# Assignment7"
   ]
  },
  {
   "cell_type": "markdown",
   "id": "e8e6baf4",
   "metadata": {},
   "source": [
    "## 1. What is the name of the feature responsible for generating Regex objects?\n",
    "\n",
    "Ans. The re.compile() function returns Regex objects."
   ]
  },
  {
   "cell_type": "markdown",
   "id": "e113b79c",
   "metadata": {},
   "source": [
    "## 2. Why do raw strings often appear in Regex objects?\n",
    "\n",
    "Ans. Escape Characters are always preceded by a backslash(\\). We can use a raw string which will treat a backslash."
   ]
  },
  {
   "cell_type": "markdown",
   "id": "ac356000",
   "metadata": {},
   "source": [
    "## 3. What is the return value of the search() method?\n",
    "\n",
    "Ans. The search() method returns None if no match is found but if found returns a value."
   ]
  },
  {
   "cell_type": "code",
   "execution_count": 6,
   "id": "0428f25e",
   "metadata": {},
   "outputs": [
    {
     "data": {
      "text/plain": [
       "<re.Match object; span=(2, 4), match='is'>"
      ]
     },
     "execution_count": 6,
     "metadata": {},
     "output_type": "execute_result"
    }
   ],
   "source": [
    "#Example1\n",
    "import re\n",
    "s = 'This is amazing'\n",
    "re.search('is', s)"
   ]
  },
  {
   "cell_type": "code",
   "execution_count": 7,
   "id": "1052f0df",
   "metadata": {},
   "outputs": [
    {
     "name": "stdout",
     "output_type": "stream",
     "text": [
      "None\n"
     ]
    }
   ],
   "source": [
    "#Example 2 - searching for a value not in string\n",
    "print(re.search('awesome', s))"
   ]
  },
  {
   "cell_type": "markdown",
   "id": "5e3f3e32",
   "metadata": {},
   "source": [
    "## 4. From a Match item, how do you get the actual strings that match the pattern?\n",
    "\n",
    "ANs. A Regex object’s search() method searches the string it is passed for any matches to the regex. Match objects have a group() method that will return the actual matched text from the searched string."
   ]
  },
  {
   "cell_type": "code",
   "execution_count": 12,
   "id": "b55e82c4",
   "metadata": {},
   "outputs": [
    {
     "name": "stdout",
     "output_type": "stream",
     "text": [
      "Output: RCB\n"
     ]
    }
   ],
   "source": [
    "import re\n",
    "ipl = re.search('RCB','This time RCB will win IPL')\n",
    "print('Output:',ipl.group())"
   ]
  },
  {
   "cell_type": "markdown",
   "id": "36160d54",
   "metadata": {},
   "source": [
    "## 5. In the regex which created from the r'(\\d\\d\\d)-(\\d\\d\\d-\\d\\d\\d\\d)', what does group zero cover? Group 2? Group 1?\n",
    "\n",
    "Ans. Zero group covers the entire value, Group 2 covers **(\\d\\d\\d-\\d\\d\\d\\d)** and Group 1 covers **(\\d\\d\\d)***"
   ]
  },
  {
   "cell_type": "code",
   "execution_count": 16,
   "id": "b64b03d1",
   "metadata": {},
   "outputs": [
    {
     "name": "stdout",
     "output_type": "stream",
     "text": [
      "Phone number found: 415-555-4242\n",
      "Group 1:  415\n",
      "Group 2:  555-4242\n"
     ]
    }
   ],
   "source": [
    "#Source: https://www.geeksforgeeks.org/pattern-matching-python-regex/\n",
    "import re\n",
    "phoneNumRegex = re.compile(r'(\\d\\d\\d)-(\\d\\d\\d-\\d\\d\\d\\d)')\n",
    "mo = phoneNumRegex.search('My number is 415-555-4242.')\n",
    "print('Phone number found: ' + mo.group())\n",
    "print('Group 1: ',mo.group(1))\n",
    "print('Group 2: ', mo.group(2))"
   ]
  },
  {
   "cell_type": "markdown",
   "id": "4e241210",
   "metadata": {},
   "source": [
    "## 6. In standard expression syntax, parentheses and intervals have distinct meanings. How can you tell a regex that you want it to fit real parentheses and periods?\n",
    "\n",
    "Ans. We can use re.compile() with escape characters '\\(' and '\\)' in the raw string."
   ]
  },
  {
   "cell_type": "code",
   "execution_count": 16,
   "id": "04027231",
   "metadata": {},
   "outputs": [
    {
     "name": "stdout",
     "output_type": "stream",
     "text": [
      "(415)555-4242\n"
     ]
    }
   ],
   "source": [
    "#Example\n",
    "import re\n",
    "phoneNumRegex = re.compile(r'(\\(\\d\\d\\d\\))(\\d\\d\\d-\\d\\d\\d\\d)')        \n",
    "mo = phoneNumRegex.search('My number is (415)555-4242.')\n",
    "print(mo.group())"
   ]
  },
  {
   "cell_type": "markdown",
   "id": "cf71dc6d",
   "metadata": {},
   "source": [
    "## 7. The findall() method returns a string list or a list of string tuples. What causes it to return one of the two options?\n",
    "\n",
    "Ans. If the pattern includes 2 or more parenthesis groups, then instead of returning a list of strings, findall() returns a list of *tuples*. "
   ]
  },
  {
   "cell_type": "code",
   "execution_count": 24,
   "id": "8718254f",
   "metadata": {},
   "outputs": [
    {
     "name": "stdout",
     "output_type": "stream",
     "text": [
      "[('shashvath', 'gmail.com'), ('xxx', 'ineuron.com'), ('nshash', 'amazon.com')]\n",
      "shashvath\n",
      "gmail.com\n",
      "xxx\n",
      "ineuron.com\n",
      "nshash\n",
      "amazon.com\n"
     ]
    }
   ],
   "source": [
    "str = 'cricket shashvath@gmail.com, datamonkey xxx@ineuron.com niagra nshash@amazon.com'\n",
    "find_tuples = re.findall(r'([\\w\\.-]+)@([\\w\\.-]+)', str)\n",
    "print(find_tuples)\n",
    "for tuple in find_tuples:\n",
    "    print(tuple[0])  \n",
    "    print(tuple[1]) "
   ]
  },
  {
   "cell_type": "markdown",
   "id": "1380f352",
   "metadata": {},
   "source": [
    "## 8. In standard expressions, what does the | character mean?\n",
    "\n",
    "Ans. | means OR operator."
   ]
  },
  {
   "cell_type": "code",
   "execution_count": 25,
   "id": "97193c06",
   "metadata": {},
   "outputs": [
    {
     "data": {
      "text/plain": [
       "True"
      ]
     },
     "execution_count": 25,
     "metadata": {},
     "output_type": "execute_result"
    }
   ],
   "source": [
    "a = True\n",
    "b = False\n",
    "a|b"
   ]
  },
  {
   "cell_type": "markdown",
   "id": "4d438957",
   "metadata": {},
   "source": [
    "## 9. In regular expressions, what does the character stand for?\n",
    "\n",
    "Ans.<br> \n",
    "[]\t=A set of characters\t\t.<br> \n",
    "\\\t=Signals a special sequence (can also be used to escape special characters)\t.<br> \n",
    ".\t=Any character (except newline character)\t\t.<br> \n",
    "^\t=Starts with\t.<br> \n",
    "$\t=Ends with\t\t.<br> \n",
    "'*'\t=Zero or more occurrences\t\t.<br> \n",
    "'+'\t=One or more occurrences\t\t.<br> \n",
    "?\t=Zero or one occurrences\t.<br> \n",
    "{}\t=Exactly the specified number of occurrences\t\t.<br> \n",
    "|\t=Either or\t.<br> \n",
    "()\t=Capture and group.<br> "
   ]
  },
  {
   "cell_type": "markdown",
   "id": "d7910666",
   "metadata": {},
   "source": [
    "## 10.In regular expressions, what is the difference between the + and * characters?\n",
    "\n",
    "Ans. + characted represent One or more occurrences and * character represents Zero or more occurrences"
   ]
  },
  {
   "cell_type": "markdown",
   "id": "bdd0b4a8",
   "metadata": {},
   "source": [
    "## 11. What is the difference between {4} and {4,5} in regular expression?\n",
    "\n",
    "Ans. {4} means 4 number of occurences and {4,5} means it should occur minimum of 4 times and maximum of 5 times"
   ]
  },
  {
   "cell_type": "markdown",
   "id": "4628ddb8",
   "metadata": {},
   "source": [
    "## 12. What do you mean by the \\d, \\w, and \\s shorthand character classes signify in regular expressions?\n",
    "\n",
    "Ans. <br>\n",
    "&emsp;**\\d** matches a digit.<br>\n",
    "&emsp;**\\w** matches a word. <br>\n",
    "&emsp; **\\s** matches space character<br>"
   ]
  },
  {
   "cell_type": "markdown",
   "id": "54e6c499",
   "metadata": {},
   "source": [
    "## 13. What do means by \\D, \\W, and \\S shorthand character classes signify in regular expressions?\n",
    "\n",
    "Ans. <br>\n",
    "**\\W**: the \"non-word character\" class represents the regex range [^A-Za-z0-9_]. <br>\n",
    "**\\D**: the \"non-digit character\" class represents the regex range [^0-9].<br>\n",
    "**\\S**: the “non-whitespace character” class represents the regex range [^ \\t\\r\\n\\f\\v].<br>"
   ]
  },
  {
   "cell_type": "markdown",
   "id": "fb7efd03",
   "metadata": {},
   "source": [
    "## 14. What is the difference between \".*?\" and \".*\"?\n",
    "\n",
    "Ans. \"(.*?)\" matches any character (.) any number of times (*), as few times as possible to make the regex match (?).\n",
    "\n",
    "\"(.*)\" captures a group zero or one times (?). That group consists of a run of any length (*) of any character (.)"
   ]
  },
  {
   "cell_type": "markdown",
   "id": "b5369d16",
   "metadata": {},
   "source": [
    "## 15. What is the syntax for matching both numbers and lowercase letters with a character class?\n",
    "\n",
    "Ans. **[a-z0-9]** or **[0-9a-z]**"
   ]
  },
  {
   "cell_type": "markdown",
   "id": "d26728e2",
   "metadata": {},
   "source": [
    "## 16. What is the procedure for making a normal expression in regax case insensitive?\n",
    "\n",
    "Ans. We use **re.IGNORECASE**. This allows for case insensitive matching of expression in a given string. Lower case letters can match with upper case and vice-versa."
   ]
  },
  {
   "cell_type": "markdown",
   "id": "8f8ab063",
   "metadata": {},
   "source": [
    "## 17. What does the . character normally match? What does it match if re.DOTALL is passed as 2nd argument in re.compile()?\n",
    "\n",
    "Ans. Dot(.) character matches any character except newline character. \n",
    "\n",
    "If re. DOTALL is passed as the second argument in re. compile(), then the dot will also match newline characters."
   ]
  },
  {
   "cell_type": "markdown",
   "id": "9dad06bd",
   "metadata": {},
   "source": [
    "## 18. If numReg = re.compile(r'\\d+'), what will numRegex.sub('X', '11 drummers, 10 pipers, five rings, 4 hen') return?\n",
    "\n",
    "Ans. It will replace all digits with **\"X\"** value or any other value given at position 1.\n",
    "\n",
    "O/P: 'X drummers, X pipers, five rings, X hen'"
   ]
  },
  {
   "cell_type": "code",
   "execution_count": 7,
   "id": "5b698d55",
   "metadata": {},
   "outputs": [
    {
     "data": {
      "text/plain": [
       "'1 drummers, 1 pipers, five rings, 1 hen'"
      ]
     },
     "execution_count": 7,
     "metadata": {},
     "output_type": "execute_result"
    }
   ],
   "source": [
    "import re\n",
    "numReg = re.compile(r'\\d+')\n",
    "numReg.sub('1', '11 drummers, 10 pipers, five rings, 4 hen')"
   ]
  },
  {
   "cell_type": "markdown",
   "id": "41780da4",
   "metadata": {},
   "source": [
    "## 19. What does passing re.VERBOSE as the 2nd argument to re.compile() allow to do?\n",
    "\n",
    "Ans. If re.VERBOSE is passed as the 2nd argument to re.compile(), then it allows us to add whitespace and comments to the string."
   ]
  },
  {
   "cell_type": "markdown",
   "id": "97d16050",
   "metadata": {},
   "source": [
    "## 20. How would you write a regex that match a number with comma for every three digits? It must match the given following:\n",
    "'42'<br>\n",
    "'1,234'<br>\n",
    "'6,368,745'<br>\n",
    "but not the following:<br>\n",
    "'12,34,567' (which has only two digits between the commas)<br>\n",
    "'1234' (which lacks commas)<br>"
   ]
  },
  {
   "cell_type": "code",
   "execution_count": 29,
   "id": "937ae0b2",
   "metadata": {},
   "outputs": [
    {
     "name": "stdout",
     "output_type": "stream",
     "text": [
      "Output:  42 <re.Match object; span=(0, 2), match='42'>\n",
      "Output:  1,234 <re.Match object; span=(0, 5), match='1,234'>\n",
      "Output:  6,368,745 <re.Match object; span=(0, 9), match='6,368,745'>\n",
      "Output:  12,34,567 None\n",
      "Output:  1234 None\n"
     ]
    }
   ],
   "source": [
    "import re\n",
    "expr = re.compile('^\\d{1,3}(,\\d{3})*$')\n",
    "l = ['42','1,234', '6,368,745','12,34,567','1234']\n",
    "for i in l:\n",
    "    print('Output: ' ,i, expr.search(i))"
   ]
  },
  {
   "cell_type": "markdown",
   "id": "1eedbaea",
   "metadata": {},
   "source": [
    "## 21. How would you write a regex that matches the full name of someone whose last name is Watanabe? You can assume that the first name that comes before it will always be one word that begins with a capital letter. The regex must match the following:\n",
    "'Haruto Watanabe'<br>\n",
    "'Alice Watanabe'<br>\n",
    "'RoboCop Watanabe'<br>\n",
    "but not the following:<br>\n",
    "'haruto Watanabe' (where the first name is not capitalized)<br>\n",
    "'Mr. Watanabe' (where the preceding word has a nonletter character)<br>\n",
    "'Watanabe' (which has no first name)<br>\n",
    "'Haruto watanabe' (where Watanabe is not capitalized)<br>\n"
   ]
  },
  {
   "cell_type": "code",
   "execution_count": 35,
   "id": "2fa62659",
   "metadata": {},
   "outputs": [
    {
     "name": "stdout",
     "output_type": "stream",
     "text": [
      "Haruto Watanabe --- <re.Match object; span=(0, 15), match='Haruto Watanabe'>\n",
      "Alice Watanabe --- <re.Match object; span=(0, 14), match='Alice Watanabe'>\n",
      "RoboCop Watanabe --- <re.Match object; span=(4, 16), match='Cop Watanabe'>\n",
      "haruto Watanabe --- None\n",
      "Mr. Watanabe --- None\n",
      "Watanabe --- None\n",
      "Haruto watanabe --- None\n"
     ]
    }
   ],
   "source": [
    "import re\n",
    "expr = re.compile('[A-Z][a-z]*\\sWatanabe')\n",
    "name = ['Haruto Watanabe','Alice Watanabe','RoboCop Watanabe','haruto Watanabe','Mr. Watanabe','Watanabe','Haruto watanabe']\n",
    "for i in name:\n",
    "    print(i, \"---\" ,expr.search(i))"
   ]
  },
  {
   "cell_type": "markdown",
   "id": "6d2438c7",
   "metadata": {},
   "source": [
    "## 22. How would you write a regex that matches a sentence where the first word is either Alice, Bob, or Carol; the second word is either eats, pets, or throws; the third word is apples, cats, or baseballs; and the sentence ends with a period? This regex should be case-insensitive. It must match the following:\n",
    "'Alice eats apples.'<br>\n",
    "'Bob pets cats.'<br>\n",
    "'Carol throws baseballs.'<br>\n",
    "'Alice throws Apples.'<br>\n",
    "'BOB EATS CATS.'<br>\n",
    "but not the following:<br>\n",
    "'RoboCop eats apples.'<br>\n",
    "'ALICE THROWS FOOTBALLS.'<br>\n",
    "'Carol eats 7 cats.'<br>"
   ]
  },
  {
   "cell_type": "code",
   "execution_count": 43,
   "id": "4e9289bb",
   "metadata": {},
   "outputs": [
    {
     "name": "stdout",
     "output_type": "stream",
     "text": [
      "Alice eats apples. ---- <re.Match object; span=(0, 18), match='Alice eats apples.'>\n",
      "Bob pets cats. ---- <re.Match object; span=(0, 14), match='Bob pets cats.'>\n",
      "Carol throws baseballs. ---- <re.Match object; span=(0, 23), match='Carol throws baseballs.'>\n",
      "Alice throws Apples. ---- <re.Match object; span=(0, 20), match='Alice throws Apples.'>\n",
      "BOB EATS CATS. ---- <re.Match object; span=(0, 14), match='BOB EATS CATS.'>\n",
      "RoboCop eats apples. ---- None\n",
      "ALICE THROWS FOOTBALLS. ---- None\n",
      "Carol eats 7 cats. ---- None\n"
     ]
    }
   ],
   "source": [
    "#first word = 'Alice, Bob, or Carol'. second word = 'eats, pets, or throws'. third word = 'apples, cats, or baseballs'\n",
    "import re\n",
    "expr = re.compile('(Alice|Bob|Carol)\\s(eats|pets|throws)\\s(apples|cats|baseballs)\\.', re.IGNORECASE) #Ignorecase for 'Apple'\n",
    "l = ['Alice eats apples.','Bob pets cats.','Carol throws baseballs.','Alice throws Apples.','BOB EATS CATS.','RoboCop eats apples.'\n",
    ",'ALICE THROWS FOOTBALLS.','Carol eats 7 cats.']\n",
    "for i in l:\n",
    "    print(i, \"----\", expr.search(i))"
   ]
  },
  {
   "cell_type": "code",
   "execution_count": null,
   "id": "a611fe16",
   "metadata": {},
   "outputs": [],
   "source": []
  }
 ],
 "metadata": {
  "kernelspec": {
   "display_name": "Python 3",
   "language": "python",
   "name": "python3"
  },
  "language_info": {
   "codemirror_mode": {
    "name": "ipython",
    "version": 3
   },
   "file_extension": ".py",
   "mimetype": "text/x-python",
   "name": "python",
   "nbconvert_exporter": "python",
   "pygments_lexer": "ipython3",
   "version": "3.8.8"
  }
 },
 "nbformat": 4,
 "nbformat_minor": 5
}
