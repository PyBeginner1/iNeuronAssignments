{
 "cells": [
  {
   "cell_type": "markdown",
   "id": "2aa19634",
   "metadata": {},
   "source": [
    "## Assignment 23"
   ]
  },
  {
   "cell_type": "markdown",
   "id": "5291c0f8",
   "metadata": {},
   "source": [
    "## 1. What is the result of the code, and why?\n",
    "\n",
    "def func(a, b=6, c=8):\n",
    "    print(a, b, c)\n",
    "func(1, 2)\n",
    "\n",
    "Ans. Here when we call **func(2,8)**, a = 2 and b = 2 will over-ride b = 6 and now b = 2. So the output will be `1 2 8`."
   ]
  },
  {
   "cell_type": "code",
   "execution_count": 1,
   "id": "71a70c16",
   "metadata": {},
   "outputs": [
    {
     "name": "stdout",
     "output_type": "stream",
     "text": [
      "1 2 8\n"
     ]
    }
   ],
   "source": [
    "def func(a, b=6, c=8):\n",
    "    print(a, b, c)\n",
    "func(1, 2)"
   ]
  },
  {
   "cell_type": "markdown",
   "id": "73857ae6",
   "metadata": {},
   "source": [
    "## 2. What is the result of this code, and why?\n",
    "\n",
    "def func(a, b, c=5):<br>\n",
    "    print(a, b, c)\n",
    "\n",
    "func(1, c=3, b=2)\n",
    "\n",
    "Ans. The output will be 1 2 3. The value of c will be over-ridden mentioned in the class. "
   ]
  },
  {
   "cell_type": "code",
   "execution_count": 2,
   "id": "a6fbe114",
   "metadata": {},
   "outputs": [
    {
     "name": "stdout",
     "output_type": "stream",
     "text": [
      "1 2 3\n"
     ]
    }
   ],
   "source": [
    "def func(a, b, c=5):\n",
    "    print(a, b, c)\n",
    "\n",
    "func(1, c=3, b=2)"
   ]
  },
  {
   "cell_type": "markdown",
   "id": "ffc6ad0d",
   "metadata": {},
   "source": [
    "## 3. How about this code: what is its result, and why?\n",
    "\n",
    "def func(a, *pargs):<br>\n",
    "    print(a, pargs)\n",
    "    \n",
    "func(1, 2, 3)\n",
    "\n",
    "Ans. Here the ouput will be 1 (2, 3). `*pargs` is used to pass when we are unsure about number of arguments to pass into a function. "
   ]
  },
  {
   "cell_type": "code",
   "execution_count": 3,
   "id": "e22e6c5a",
   "metadata": {},
   "outputs": [
    {
     "name": "stdout",
     "output_type": "stream",
     "text": [
      "1 (2, 3)\n"
     ]
    }
   ],
   "source": [
    "def func(a, *pargs):\n",
    "    print(a, pargs)\n",
    "    \n",
    "func(1, 2, 3)"
   ]
  },
  {
   "cell_type": "markdown",
   "id": "cc4e796a",
   "metadata": {},
   "source": [
    "## 4. What does this code print, and why?\n",
    "\n",
    "def func(a, **kargs):<br>\n",
    "    print(a, kargs)<br>\n",
    "func(a=1, c=3, b=2)<br>\n",
    "\n",
    "Ans. Here the output will be **1 {'c': 3, 'b': 2}**. \"**kwargs\"** is used to pass keyword arguments in pair format. It will return a dictionary."
   ]
  },
  {
   "cell_type": "code",
   "execution_count": 4,
   "id": "73165892",
   "metadata": {},
   "outputs": [
    {
     "name": "stdout",
     "output_type": "stream",
     "text": [
      "1 {'c': 3, 'b': 2}\n"
     ]
    }
   ],
   "source": [
    "def func(a, **kargs):\n",
    "    print(a, kargs)\n",
    "func(a=1, c=3, b=2)"
   ]
  },
  {
   "cell_type": "markdown",
   "id": "c1656320",
   "metadata": {},
   "source": [
    "## 5. What gets printed by this, and explain?\n",
    "\n",
    "def func(a, b, c=8, d=5): <br>\n",
    "    print(a, b, c, d)<br>\n",
    "func(1, *(5, 6))\n",
    "\n",
    "Ans. Here the output is `1 5 6 5`. **func()** has 4 variables and when we call**func()** function only three are provided, value of a is available which is 1, b is 5, c gets overrided to 6 and d has already been assigned a vlaue of 5 and hence it does not throw error."
   ]
  },
  {
   "cell_type": "code",
   "execution_count": 5,
   "id": "92120db8",
   "metadata": {},
   "outputs": [
    {
     "name": "stdout",
     "output_type": "stream",
     "text": [
      "1 5 6 5\n"
     ]
    }
   ],
   "source": [
    "def func(a, b, c=8, d=5): \n",
    "    print(a, b, c, d)\n",
    "func(1, *(5, 6))"
   ]
  },
  {
   "cell_type": "markdown",
   "id": "85250d27",
   "metadata": {},
   "source": [
    "## 6. what is the result of this, and explain?\n",
    "\n",
    "def func(a, b, c): a = 2; b[0] = 'x'; c['a'] = 'y'<br>\n",
    "    l=1; m=[1]; n={'a':0}<br>\n",
    "    func(l, m, n)<br>\n",
    "    l, m, n<br>\n",
    "    \n",
    "Ans. Here the output is `(1, ['x'], {'a': 'y'})`. When we call **func(l,m,n)**, l =  1 = a which overrides to value 2 to 1, m = b[0] = ['x'] and n = c['a'] = {'a' : 'y' }"
   ]
  },
  {
   "cell_type": "code",
   "execution_count": 7,
   "id": "00979515",
   "metadata": {},
   "outputs": [
    {
     "data": {
      "text/plain": [
       "(1, ['x'], {'a': 'y'})"
      ]
     },
     "execution_count": 7,
     "metadata": {},
     "output_type": "execute_result"
    }
   ],
   "source": [
    "def func(a, b, c): \n",
    "    a = 2; b[0] = 'x'; c['a'] = 'y'\n",
    "\n",
    "l=1; m=[1]; n={'a':0}\n",
    "func(l, m, n)\n",
    "l, m, n"
   ]
  },
  {
   "cell_type": "code",
   "execution_count": null,
   "id": "b4d34f8d",
   "metadata": {},
   "outputs": [],
   "source": []
  }
 ],
 "metadata": {
  "kernelspec": {
   "display_name": "Python 3",
   "language": "python",
   "name": "python3"
  },
  "language_info": {
   "codemirror_mode": {
    "name": "ipython",
    "version": 3
   },
   "file_extension": ".py",
   "mimetype": "text/x-python",
   "name": "python",
   "nbconvert_exporter": "python",
   "pygments_lexer": "ipython3",
   "version": "3.8.8"
  }
 },
 "nbformat": 4,
 "nbformat_minor": 5
}
