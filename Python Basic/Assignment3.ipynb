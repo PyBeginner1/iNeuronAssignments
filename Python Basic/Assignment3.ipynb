{
 "cells": [
  {
   "cell_type": "markdown",
   "id": "28ae1b14",
   "metadata": {},
   "source": [
    "##1. Why are functions advantageous to have in your programs?\n",
    "\n",
    "Ans) A function is a group of statements which perform a specific task. A function is re-usable which proves to be time efficient.\n",
    "\n",
    "Functions break our program into several small parts. As programs get larger, function helps to make it more understandable, organized and managebable."
   ]
  },
  {
   "cell_type": "markdown",
   "id": "5ab3a38d",
   "metadata": {},
   "source": [
    "##2. When does the code in a function run: when it's specified or when it's called?\n",
    "\n",
    "Ans) When the function is called/executed then the code within the function runs."
   ]
  },
  {
   "cell_type": "markdown",
   "id": "1eab75ba",
   "metadata": {},
   "source": [
    "##3. What statement creates a function?\n",
    "\n",
    "Ans) **def** creates a function<br>\n",
    "Syntax:<br>\n",
    "def function_name(input_parameter):<br>\n",
    "&emsp; \"\"\"docstring\"\"\"<br>\n",
    "&emsp;    ...statement...<br>\n",
    "&emsp;    ...statement...<br>\n",
    "&emsp;    return value"
   ]
  },
  {
   "cell_type": "markdown",
   "id": "07462f3a",
   "metadata": {},
   "source": [
    "##4. What is the difference between a function and a function call?\n",
    "\n",
    "Ans)A **function** is a group of statements which perform a specific task. **Function call** is calling the written function with an input parameter."
   ]
  },
  {
   "cell_type": "code",
   "execution_count": 3,
   "id": "5386e95d",
   "metadata": {},
   "outputs": [
    {
     "name": "stdout",
     "output_type": "stream",
     "text": [
      "Hello Shashvath, Good Morning\n"
     ]
    }
   ],
   "source": [
    "#Ex:\n",
    "def hello(name):          #function\n",
    "    print(f'Hello {name}, Good Morning')\n",
    "\n",
    "hello('Shashvath')        #Function call"
   ]
  },
  {
   "cell_type": "markdown",
   "id": "2713f358",
   "metadata": {},
   "source": [
    "##5. How many global scopes are there in a Python program? How many local scopes?\n",
    "\n",
    "Ans)There is one global scope, and a local scope is created whenever a function is called."
   ]
  },
  {
   "cell_type": "markdown",
   "id": "640e864f",
   "metadata": {},
   "source": [
    "##6. What happens to variables in a local scope when the function call returns?\n",
    "\n",
    "Ans) When a function returns, the local variables are destroyed."
   ]
  },
  {
   "cell_type": "markdown",
   "id": "643027fc",
   "metadata": {},
   "source": [
    "##7. What is the concept of a return value? Is it possible to have a return value in an expression?\n",
    "\n",
    "Ans) A return is a value that a function returns to the calling function when it completes a task. Return can be used as expression"
   ]
  },
  {
   "cell_type": "markdown",
   "id": "9850022e",
   "metadata": {},
   "source": [
    "##8. If a function does not have a return statement, what is the return value of a call to that function?\n",
    "\n",
    "Ans) If return is not mentioned in a function thethe return value is **None**"
   ]
  },
  {
   "cell_type": "markdown",
   "id": "7113fb01",
   "metadata": {},
   "source": [
    "##9. How do you make a function variable refer to the global variable?\n",
    "\n",
    "Ans)In order to use the global variable in a function we can use global keyword to declare which variable is global."
   ]
  },
  {
   "cell_type": "markdown",
   "id": "727ce862",
   "metadata": {},
   "source": [
    "##10. What is the data type of None?\n",
    "\n",
    "Ans) **NoneType**"
   ]
  },
  {
   "cell_type": "code",
   "execution_count": 5,
   "id": "6ab17f84",
   "metadata": {},
   "outputs": [
    {
     "data": {
      "text/plain": [
       "NoneType"
      ]
     },
     "execution_count": 5,
     "metadata": {},
     "output_type": "execute_result"
    }
   ],
   "source": [
    "a = None\n",
    "type(a)"
   ]
  },
  {
   "cell_type": "markdown",
   "id": "c6477f04",
   "metadata": {},
   "source": [
    "##11. What does the sentence import areallyourpetsnamederic do?\n",
    "\n",
    "Ans) Imports the functionality from the module named areallyourpetsnamederic."
   ]
  },
  {
   "cell_type": "markdown",
   "id": "323917e4",
   "metadata": {},
   "source": [
    "##12. If you had a bacon() feature in a spam module, what would you call it after importing spam?\n",
    "\n",
    "Ans) <br>\n",
    "import spam <br>\n",
    "spam.bacon()"
   ]
  },
  {
   "cell_type": "markdown",
   "id": "72cde925",
   "metadata": {},
   "source": [
    "##13. What can you do to save a programme from crashing if it encounters an error?\n",
    "\n",
    "Ans) Place the line of code that might cause an error in a try clause and use except block to handle the error.\n",
    "\n",
    "When it encounters an error, the control is passed to the except block, skipping the code in between. Running the program and it should throw an error message instead of crashing the program"
   ]
  },
  {
   "cell_type": "markdown",
   "id": "2c3f1969",
   "metadata": {},
   "source": [
    "##14. What is the purpose of the try clause? What is the purpose of the except clause?\n",
    "\n",
    "Ans)When we encounter an error we place that code in the **try** and if there is an error encountered it goes to **except** clause."
   ]
  }
 ],
 "metadata": {
  "kernelspec": {
   "display_name": "Python 3",
   "language": "python",
   "name": "python3"
  },
  "language_info": {
   "codemirror_mode": {
    "name": "ipython",
    "version": 3
   },
   "file_extension": ".py",
   "mimetype": "text/x-python",
   "name": "python",
   "nbconvert_exporter": "python",
   "pygments_lexer": "ipython3",
   "version": "3.8.8"
  }
 },
 "nbformat": 4,
 "nbformat_minor": 5
}
