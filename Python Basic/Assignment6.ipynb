{
 "cells": [
  {
   "cell_type": "markdown",
   "id": "ba52c49e",
   "metadata": {},
   "source": [
    "# Assignment 6"
   ]
  },
  {
   "cell_type": "markdown",
   "id": "21c7d4a7",
   "metadata": {},
   "source": [
    "## 1. What are escape characters, and how do you use them?\n",
    "\n",
    "Ans. Escape characters are those characters which can be illegally used in a string."
   ]
  },
  {
   "cell_type": "code",
   "execution_count": 2,
   "id": "bc034866",
   "metadata": {},
   "outputs": [
    {
     "ename": "SyntaxError",
     "evalue": "invalid syntax (<ipython-input-2-763b26ad6ee4>, line 2)",
     "output_type": "error",
     "traceback": [
      "\u001b[1;36m  File \u001b[1;32m\"<ipython-input-2-763b26ad6ee4>\"\u001b[1;36m, line \u001b[1;32m2\u001b[0m\n\u001b[1;33m    s = 'Hey, what's up?'\u001b[0m\n\u001b[1;37m                   ^\u001b[0m\n\u001b[1;31mSyntaxError\u001b[0m\u001b[1;31m:\u001b[0m invalid syntax\n"
     ]
    }
   ],
   "source": [
    "#Example\n",
    "s = 'Hey, what's up?' #This would lead to an error"
   ]
  },
  {
   "cell_type": "code",
   "execution_count": 9,
   "id": "eabb4a48",
   "metadata": {},
   "outputs": [
    {
     "name": "stdout",
     "output_type": "stream",
     "text": [
      "Hey, what's up?\n",
      "My name is \"Shashvath\".\n"
     ]
    }
   ],
   "source": [
    "#To fix the above error we use '\\' character\n",
    "s = 'Hey, what\\'s up?'\n",
    "print(s)\n",
    "\n",
    "txt = \"My name is \\\"Shashvath\\\".\"\n",
    "print(txt)"
   ]
  },
  {
   "cell_type": "markdown",
   "id": "640843da",
   "metadata": {},
   "source": [
    "## 2. What do the escape characters n and t stand for?\n",
    "\n",
    "Ans. \\n is a **newline** and \\t is **tab**."
   ]
  },
  {
   "cell_type": "markdown",
   "id": "d420f341",
   "metadata": {},
   "source": [
    "## 3. What is the way to include backslash characters in a string?\n",
    "\n",
    "Ans. **\\\\\\\\** - Backslash "
   ]
  },
  {
   "cell_type": "markdown",
   "id": "cc11fcdf",
   "metadata": {},
   "source": [
    "## 4. The string \"Howl's Moving Castle\" is a correct value. Why isn't the single quote character in the word Howl's not escaped a problem?\n",
    "\n",
    "Ans. The string \"Howl's Moving Castle\" is a correct value because the string is wrapped with a \" \" double quotes. It would gie an error if used ' ' single quote."
   ]
  },
  {
   "cell_type": "code",
   "execution_count": 14,
   "id": "1105c492",
   "metadata": {},
   "outputs": [
    {
     "data": {
      "text/plain": [
       "\"Howl's Moving Castle\""
      ]
     },
     "execution_count": 14,
     "metadata": {},
     "output_type": "execute_result"
    }
   ],
   "source": [
    "#Example to fix single quoted text\n",
    "'Howl\\'s Moving Castle'"
   ]
  },
  {
   "cell_type": "markdown",
   "id": "36def291",
   "metadata": {},
   "source": [
    "## 5. How do you write a string of newlines if you don't want to use the n character?\n",
    "\n",
    "Ans. By using several print statements one after the other in a Python script."
   ]
  },
  {
   "cell_type": "markdown",
   "id": "1669ee53",
   "metadata": {},
   "source": [
    "## 6. What are the values of the given expressions?\n",
    "\n",
    "Ans. <br>\n",
    "'Hello, world!'[1] = **e**<br>\n",
    "'Hello, world!'[0:5] = **Hello**<br>\n",
    "    'Hello, world!'[:5] = **Hello**<br>\n",
    "'Hello, world!'[3:] = **lo, world!**\n"
   ]
  },
  {
   "cell_type": "markdown",
   "id": "0abbd830",
   "metadata": {},
   "source": [
    "## 7. What are the values of the following expressions?\n",
    "\n",
    "\n",
    "Ans <br>\n",
    "'Hello'.upper() = **'HELLO'**<br>\n",
    "'Hello'.upper().isupper() = **True**<br>\n",
    "'Hello'.upper().lower() = **'hello'**\n"
   ]
  },
  {
   "cell_type": "markdown",
   "id": "a5304292",
   "metadata": {},
   "source": [
    "## 8. What are the values of the following expressions?\n",
    "\n",
    "Ans. 'Remember, remember, the fifth of July.'.split() = ['Remember,', 'remember,', 'the', 'fifth', 'of', 'July.']<br>\n",
    "'-'.join('There can only one.'.split()) = 'There-can-only-one.'"
   ]
  },
  {
   "cell_type": "markdown",
   "id": "8f00237b",
   "metadata": {},
   "source": [
    "## 9. What are the methods for right-justifying, left-justifying, and centering a string?\n",
    "\n",
    "Ans. <br>\n",
    "rjust() - The rjust() method will right align the string.<br>\n",
    "ljust() - The ljust() method will letf align the string.<br>\n",
    "center() - The center() method will center align the string"
   ]
  },
  {
   "cell_type": "markdown",
   "id": "d620210f",
   "metadata": {},
   "source": [
    "## 10. What is the best way to remove whitespace characters from the start or end?\n",
    "\n",
    "Ans. We can use **lstrip()** or **rstrip()** to remove whitespace characters from the start or end."
   ]
  },
  {
   "cell_type": "code",
   "execution_count": 26,
   "id": "ceee35a6",
   "metadata": {},
   "outputs": [
    {
     "data": {
      "text/plain": [
       "'    Shashvath'"
      ]
     },
     "execution_count": 26,
     "metadata": {},
     "output_type": "execute_result"
    }
   ],
   "source": [
    "s = '    Shashvath'\n",
    "s"
   ]
  },
  {
   "cell_type": "code",
   "execution_count": 27,
   "id": "5be1fba9",
   "metadata": {},
   "outputs": [
    {
     "data": {
      "text/plain": [
       "'Shashvath'"
      ]
     },
     "execution_count": 27,
     "metadata": {},
     "output_type": "execute_result"
    }
   ],
   "source": [
    "s.lstrip()"
   ]
  },
  {
   "cell_type": "code",
   "execution_count": null,
   "id": "5129acb4",
   "metadata": {},
   "outputs": [],
   "source": []
  }
 ],
 "metadata": {
  "kernelspec": {
   "display_name": "Python 3",
   "language": "python",
   "name": "python3"
  },
  "language_info": {
   "codemirror_mode": {
    "name": "ipython",
    "version": 3
   },
   "file_extension": ".py",
   "mimetype": "text/x-python",
   "name": "python",
   "nbconvert_exporter": "python",
   "pygments_lexer": "ipython3",
   "version": "3.8.8"
  }
 },
 "nbformat": 4,
 "nbformat_minor": 5
}
