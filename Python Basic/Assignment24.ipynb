{
 "cells": [
  {
   "cell_type": "markdown",
   "id": "c8c09f21",
   "metadata": {},
   "source": [
    "# Assignment24"
   ]
  },
  {
   "cell_type": "markdown",
   "id": "8f748d4c",
   "metadata": {},
   "source": [
    "## 1. What is the relationship between def statements and lambda expressions ?\n",
    "\n",
    "Ans. **def** statment helps break our code in smaller and organized way. **lambda** can only contain a single expression and is not a block of code like **def** statment. "
   ]
  },
  {
   "cell_type": "markdown",
   "id": "d04d3c24",
   "metadata": {},
   "source": [
    "## 2. What is the benefit of lambda?\n",
    "\n",
    "Ans. Lambda function allows us to create a small, single line and single use function that can save space and time."
   ]
  },
  {
   "cell_type": "markdown",
   "id": "f77ba11d",
   "metadata": {},
   "source": [
    "## 3. Compare and contrast map, filter, and reduce.\n",
    "\n",
    "Ans. map - This function accepts another function and a sequence of ‘iterables’ as parameters and provides output after applying the function to each iterable in the sequence. <br>\n",
    "Syntax: <br>\n",
    "**map(function, iterables)**\n",
    "\n",
    "filter - The filter() function is used to generate an output list of values that return true when the function is called.<br>\n",
    "Syntax: <br>\n",
    "**filter (function, iterables)**<br>\n",
    "\n",
    "reduce - The reduce() function applies a provided function to ‘iterables’ and returns a single value.<br>\n",
    "Syntax: <br>\n",
    "**reduce(function, iterables)**"
   ]
  },
  {
   "cell_type": "markdown",
   "id": "c4d1df98",
   "metadata": {},
   "source": [
    "## 4. What are function annotations, and how are they used?\n",
    "\n",
    "Ans. **function annotations** provides a way of associating various parts of function with arbitrary python expressions at compile time."
   ]
  },
  {
   "cell_type": "markdown",
   "id": "c1888102",
   "metadata": {},
   "source": [
    "## 5. What are recursive functions, and how are they used?\n",
    "\n",
    "Ans. A **recursive function** is a function in code that refers to itself for execution. They allow for more efficient code writing, for instance, in the listing or compiling of sets of numbers, strings or other variables through a single reiterated process."
   ]
  },
  {
   "cell_type": "markdown",
   "id": "2693ef98",
   "metadata": {},
   "source": [
    "## 6. What are some general design guidelines for coding functions?\n",
    "\n",
    "Ans. 1. Use 4-space indentation and no tabs.<br>\n",
    "2. Use docstrings to explain the functionality of the function. <br>\n",
    "3. Use of regular and updated comments are valuable to both the coders and users. <br>\n",
    "4. Use Python’s default UTF-8 or ASCII encodings and not any fancy encodings. <br>\n",
    "5. Naming Conventions.<br>\n",
    "6. Name your classes and functions consistently. <br>\n",
    "7. While creating a function methods always use self as the first argument."
   ]
  },
  {
   "cell_type": "markdown",
   "id": "015ce43a",
   "metadata": {},
   "source": [
    "## 7. Name three or more ways that functions can communicate results to a caller.\n",
    "\n",
    "Ans. \n",
    "- print()\n",
    "- yield()\n",
    "- return"
   ]
  },
  {
   "cell_type": "code",
   "execution_count": null,
   "id": "8486f08c",
   "metadata": {},
   "outputs": [],
   "source": []
  }
 ],
 "metadata": {
  "kernelspec": {
   "display_name": "Python 3",
   "language": "python",
   "name": "python3"
  },
  "language_info": {
   "codemirror_mode": {
    "name": "ipython",
    "version": 3
   },
   "file_extension": ".py",
   "mimetype": "text/x-python",
   "name": "python",
   "nbconvert_exporter": "python",
   "pygments_lexer": "ipython3",
   "version": "3.8.8"
  }
 },
 "nbformat": 4,
 "nbformat_minor": 5
}
