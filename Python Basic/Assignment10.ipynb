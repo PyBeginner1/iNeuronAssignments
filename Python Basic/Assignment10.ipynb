{
 "cells": [
  {
   "cell_type": "markdown",
   "id": "24228cd5",
   "metadata": {},
   "source": [
    "# Assignment 10"
   ]
  },
  {
   "cell_type": "markdown",
   "id": "d71b049b",
   "metadata": {},
   "source": [
    "## 1. How do you distinguish between shutil.copy() and shutil.copytree()?\n",
    "\n",
    "Ans. **shutil.copy()** will copy a single file whereas **shutil.copytree()** will copy an entire folder and every folder and file in it."
   ]
  },
  {
   "cell_type": "markdown",
   "id": "209d3bd0",
   "metadata": {},
   "source": [
    "## 2. What function is used to rename files??\n",
    "\n",
    "Ans. **rename()** method is used to rename files without changing the content present in the file."
   ]
  },
  {
   "cell_type": "markdown",
   "id": "a019ab4a",
   "metadata": {},
   "source": [
    "## 3. What is the difference between the delete functions in the send2trash and shutil modules?\n",
    "\n",
    "Ans. **send2trash** will temporarily delete a file or folder and move it into recycle bin and **shutil** function will permanantly delete a file or folder."
   ]
  },
  {
   "cell_type": "markdown",
   "id": "c1999e6f",
   "metadata": {},
   "source": [
    "## 4.ZipFile objects have a close() method just like File objects’ close() method. What ZipFile method is equivalent to File objects’ open() method?\n",
    "\n",
    "Ans. The **zipfile.ZipFile()** function is equivalent to open() method. The first argument is the filename, and the second argument is the mode to open the ZIP file in \"read, write, or append\".<br>\n",
    "Ex: `zipfile.ZipFile('filename','r')` ."
   ]
  },
  {
   "cell_type": "markdown",
   "id": "501b6dea",
   "metadata": {},
   "source": [
    "## 5. Create a programme that searches a folder tree for files with a certain file extension (such as .pdf or .jpg). Copy these files from whatever location they are in to a new folder."
   ]
  },
  {
   "cell_type": "code",
   "execution_count": 9,
   "id": "e84bcc41",
   "metadata": {},
   "outputs": [
    {
     "name": "stdout",
     "output_type": "stream",
     "text": [
      "Assignement5.ipynb  moved to destination folder\n",
      "Assignment 2.ipynb  moved to destination folder\n",
      "Assignment1.ipynb  moved to destination folder\n",
      "Assignment3.ipynb  moved to destination folder\n",
      "Assignment4.ipynb  moved to destination folder\n",
      "Assignment6.ipynb  moved to destination folder\n",
      "Assignment7.ipynb  moved to destination folder\n",
      "Assignment8.ipynb  moved to destination folder\n",
      "Assignment9.ipynb  moved to destination folder\n",
      "My photo.jpg  moved to destination folder\n"
     ]
    }
   ],
   "source": [
    "import os, shutil\n",
    "\n",
    "def file_move(folder):\n",
    "    c = os.walk(r'D:\\iNeuron')\n",
    "    for folder, files, filenames in c:\n",
    "        for file in filenames:\n",
    "            if file.endswith('.ipynb') or file.endswith('.jpg'):\n",
    "                shutil.copy(os.path.join(folder, file), 'D:\\Copy')\n",
    "                print(file, \" moved to destination folder\")\n",
    "                \n",
    "file_move(r'D:\\iNeuron')"
   ]
  },
  {
   "cell_type": "code",
   "execution_count": 23,
   "id": "516652a2",
   "metadata": {},
   "outputs": [
    {
     "name": "stdout",
     "output_type": "stream",
     "text": [
      "('D:\\\\iNeuron', ['firstproject'], ['Assignement5.ipynb', 'Assignment 2.ipynb', 'Assignment1.ipynb', 'Assignment3.ipynb', 'Assignment4.ipynb', 'Assignment6.ipynb', 'Assignment7.ipynb', 'Assignment8.ipynb', 'Assignment9.ipynb', 'Notes.txt'])\n",
      "('D:\\\\iNeuron\\\\firstproject', ['.idea', '__pycache__'], ['main.py', 'test.py', 'test1.py'])\n",
      "('D:\\\\iNeuron\\\\firstproject\\\\.idea', ['inspectionProfiles'], ['.gitignore', 'firstproject.iml', 'misc.xml', 'modules.xml', 'workspace.xml'])\n",
      "('D:\\\\iNeuron\\\\firstproject\\\\.idea\\\\inspectionProfiles', [], ['profiles_settings.xml', 'Project_Default.xml'])\n",
      "('D:\\\\iNeuron\\\\firstproject\\\\__pycache__', [], ['test.cpython-310.pyc'])\n"
     ]
    }
   ],
   "source": [
    "#Trial\n",
    "c = os.walk(r'D:\\iNeuron')\n",
    "for i in c:\n",
    "    print(i)"
   ]
  },
  {
   "cell_type": "code",
   "execution_count": 2,
   "id": "1ab447af",
   "metadata": {},
   "outputs": [
    {
     "name": "stdout",
     "output_type": "stream",
     "text": [
      "Assignement5.ipynb\n",
      "Assignment 2.ipynb\n",
      "Assignment1.ipynb\n",
      "Assignment3.ipynb\n",
      "Assignment4.ipynb\n",
      "Assignment6.ipynb\n",
      "Assignment7.ipynb\n",
      "Assignment8.ipynb\n",
      "Assignment9.ipynb\n",
      "Notes.txt\n",
      "main.py\n",
      "test.py\n",
      "test1.py\n",
      ".gitignore\n",
      "firstproject.iml\n",
      "misc.xml\n",
      "modules.xml\n",
      "workspace.xml\n",
      "profiles_settings.xml\n",
      "Project_Default.xml\n",
      "test.cpython-310.pyc\n"
     ]
    }
   ],
   "source": [
    "#Trial\n",
    "c = os.walk(r'D:\\iNeuron')\n",
    "for folder, files, filenames in c:\n",
    "    for file in filenames:\n",
    "        print(file)"
   ]
  },
  {
   "cell_type": "code",
   "execution_count": null,
   "id": "7ad9173b",
   "metadata": {},
   "outputs": [],
   "source": []
  }
 ],
 "metadata": {
  "kernelspec": {
   "display_name": "Python 3",
   "language": "python",
   "name": "python3"
  },
  "language_info": {
   "codemirror_mode": {
    "name": "ipython",
    "version": 3
   },
   "file_extension": ".py",
   "mimetype": "text/x-python",
   "name": "python",
   "nbconvert_exporter": "python",
   "pygments_lexer": "ipython3",
   "version": "3.8.8"
  }
 },
 "nbformat": 4,
 "nbformat_minor": 5
}
