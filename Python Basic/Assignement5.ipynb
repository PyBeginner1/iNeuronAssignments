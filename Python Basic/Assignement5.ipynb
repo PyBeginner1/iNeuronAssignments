{
 "cells": [
  {
   "cell_type": "markdown",
   "id": "488d9cfc",
   "metadata": {},
   "source": [
    "# Assignment5"
   ]
  },
  {
   "cell_type": "markdown",
   "id": "b984c550",
   "metadata": {},
   "source": [
    "## 1. What does an empty dictionary's code look like?\n",
    "\n",
    "Ans. d = {}. <br>\n",
    "Empty Curly brackets denote empty dictionary."
   ]
  },
  {
   "cell_type": "markdown",
   "id": "8d5d45c0",
   "metadata": {},
   "source": [
    "## 2. What is the value of a dictionary value with the key 'foo' and the value 42?\n",
    "\n",
    "Ans. {'foo' : 42}."
   ]
  },
  {
   "cell_type": "markdown",
   "id": "84687394",
   "metadata": {},
   "source": [
    "## 3. What is the most significant distinction between a dictionary and a list?\n",
    "\n",
    "Ans. Dictionary has key-value pairs whereas list contains values. <br>\n",
    "Dictionary is denoted by **{ }** and list is denoted by **[ ]**."
   ]
  },
  {
   "cell_type": "markdown",
   "id": "2e351df8",
   "metadata": {},
   "source": [
    "## 4. What happens if you try to access spam['foo'] if spam is {'bar': 100}?\n",
    "\n",
    "Ans. We get a KeyError: 'foo'."
   ]
  },
  {
   "cell_type": "code",
   "execution_count": 1,
   "id": "8c9f5ad8",
   "metadata": {},
   "outputs": [
    {
     "ename": "KeyError",
     "evalue": "'foo'",
     "output_type": "error",
     "traceback": [
      "\u001b[1;31m---------------------------------------------------------------------------\u001b[0m",
      "\u001b[1;31mKeyError\u001b[0m                                  Traceback (most recent call last)",
      "\u001b[1;32m<ipython-input-1-56a8e50c7ff8>\u001b[0m in \u001b[0;36m<module>\u001b[1;34m\u001b[0m\n\u001b[0;32m      1\u001b[0m \u001b[0mspam\u001b[0m \u001b[1;33m=\u001b[0m \u001b[1;33m{\u001b[0m\u001b[1;34m'bar'\u001b[0m\u001b[1;33m:\u001b[0m \u001b[1;36m100\u001b[0m\u001b[1;33m}\u001b[0m\u001b[1;33m\u001b[0m\u001b[1;33m\u001b[0m\u001b[0m\n\u001b[1;32m----> 2\u001b[1;33m \u001b[0mspam\u001b[0m\u001b[1;33m[\u001b[0m\u001b[1;34m'foo'\u001b[0m\u001b[1;33m]\u001b[0m\u001b[1;33m\u001b[0m\u001b[1;33m\u001b[0m\u001b[0m\n\u001b[0m",
      "\u001b[1;31mKeyError\u001b[0m: 'foo'"
     ]
    }
   ],
   "source": [
    "spam = {'bar': 100}\n",
    "spam['foo']"
   ]
  },
  {
   "cell_type": "markdown",
   "id": "45acc935",
   "metadata": {},
   "source": [
    "## 5. If a dictionary is stored in spam, what is the difference between the expressions 'cat' in spam and 'cat' in spam.keys()?\n",
    "\n",
    "Ans. spam['cat'] will check and will provide if there is a key and give its **value** where as spam.keys() will provide **key** values in dictionary."
   ]
  },
  {
   "cell_type": "code",
   "execution_count": 5,
   "id": "6adaf21a",
   "metadata": {},
   "outputs": [
    {
     "name": "stdout",
     "output_type": "stream",
     "text": [
      "100\n",
      "dict_keys(['cat'])\n"
     ]
    }
   ],
   "source": [
    "#Example\n",
    "spam = {'cat': 100}\n",
    "print(spam['cat'])\n",
    "print(spam.keys())"
   ]
  },
  {
   "cell_type": "markdown",
   "id": "643c3705",
   "metadata": {},
   "source": [
    "## 6. If a dictionary is stored in spam, what is the difference between the expressions 'cat' in spam and 'cat' in spam.values()?\n",
    "\n",
    "Ans. spam['cat'] will check and will provide if there is a key by 'cat' and give its **value** where as spam.keys() will provide **key** values in dictionary."
   ]
  },
  {
   "cell_type": "markdown",
   "id": "c0317608",
   "metadata": {},
   "source": [
    "## 7. What is a shortcut for the following code?\n",
    "## if 'color' not in spam:\n",
    "## spam['color'] = 'black'\n",
    "\n",
    "Ans. Python setdefault() method is used to set default value to the key. <br>\n",
    "spam.setdefault('color', 'black')"
   ]
  },
  {
   "cell_type": "markdown",
   "id": "68b8d192",
   "metadata": {},
   "source": [
    "## 8. How do you \"pretty print\" dictionary values using which module and function?\n",
    "\n",
    "Ans. Use pprint() to Pretty Print a Dictionary in Python.<br>\n",
    "pprint is a Python module that provides the capability to pretty print Python data types to be more readable. This module also supports pretty-printing dictionary.<br>\n"
   ]
  },
  {
   "cell_type": "code",
   "execution_count": 8,
   "id": "5f3aeab4",
   "metadata": {},
   "outputs": [
    {
     "name": "stdout",
     "output_type": "stream",
     "text": [
      "Using pprint: ------------------------------------\n",
      "[{'Age': '23', 'Country': 'USA', 'Name': 'John'},\n",
      " {'Age': '44', 'Country': 'Spain', 'Name': 'Jose'},\n",
      " {'Age': '29', 'Country': 'UK', 'Name': 'Anne'},\n",
      " {'Age': '35', 'Country': 'Japan', 'Name': 'Lee'}]\n"
     ]
    }
   ],
   "source": [
    "import pprint\n",
    "\n",
    "print('Using pprint: ------------------------------------')\n",
    "dct_arr = [\n",
    "  {'Name': 'John', 'Age': '23', 'Country': 'USA'},\n",
    "  {'Name': 'Jose', 'Age': '44', 'Country': 'Spain'},\n",
    "  {'Name': 'Anne', 'Age': '29', 'Country': 'UK'},\n",
    "  {'Name': 'Lee', 'Age': '35', 'Country': 'Japan'}\n",
    "]\n",
    "\n",
    "pprint.pprint(dct_arr)"
   ]
  },
  {
   "cell_type": "code",
   "execution_count": 10,
   "id": "03f20027",
   "metadata": {},
   "outputs": [
    {
     "name": "stdout",
     "output_type": "stream",
     "text": [
      "Using print: ------------------------------------\n",
      "[{'Name': 'John', 'Age': '23', 'Country': 'USA'}, {'Name': 'Jose', 'Age': '44', 'Country': 'Spain'}, {'Name': 'Anne', 'Age': '29', 'Country': 'UK'}, {'Name': 'Lee', 'Age': '35', 'Country': 'Japan'}]\n"
     ]
    }
   ],
   "source": [
    "print('Using print: ------------------------------------')\n",
    "dct_arr = [\n",
    "  {'Name': 'John', 'Age': '23', 'Country': 'USA'},\n",
    "  {'Name': 'Jose', 'Age': '44', 'Country': 'Spain'},\n",
    "  {'Name': 'Anne', 'Age': '29', 'Country': 'UK'},\n",
    "  {'Name': 'Lee', 'Age': '35', 'Country': 'Japan'}\n",
    "]\n",
    "\n",
    "print(dct_arr)"
   ]
  },
  {
   "cell_type": "code",
   "execution_count": null,
   "id": "61ca4963",
   "metadata": {},
   "outputs": [],
   "source": []
  }
 ],
 "metadata": {
  "kernelspec": {
   "display_name": "Python 3",
   "language": "python",
   "name": "python3"
  },
  "language_info": {
   "codemirror_mode": {
    "name": "ipython",
    "version": 3
   },
   "file_extension": ".py",
   "mimetype": "text/x-python",
   "name": "python",
   "nbconvert_exporter": "python",
   "pygments_lexer": "ipython3",
   "version": "3.8.8"
  }
 },
 "nbformat": 4,
 "nbformat_minor": 5
}
