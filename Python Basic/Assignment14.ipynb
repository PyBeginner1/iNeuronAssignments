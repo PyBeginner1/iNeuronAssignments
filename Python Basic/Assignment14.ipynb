{
 "cells": [
  {
   "cell_type": "markdown",
   "id": "06ce836b",
   "metadata": {},
   "source": [
    "# Assignment14"
   ]
  },
  {
   "cell_type": "markdown",
   "id": "51430e35",
   "metadata": {},
   "source": [
    "## 1. What does RGBA stand for?\n",
    "\n",
    "Ans. RGB is a color model - Red, Green, Blue and A is \"Alpha\" which stands for opacity."
   ]
  },
  {
   "cell_type": "markdown",
   "id": "879f3c52",
   "metadata": {},
   "source": [
    "## 2. From the Pillow module, how do you get the RGBA value of any images?\n",
    "\n",
    "Ans. **Image.getcolors()** returns a list of colors used in the image.<br>\n",
    "**Image.getdata()** returns i sequence in tuple containing pixel values."
   ]
  },
  {
   "cell_type": "markdown",
   "id": "cd776319",
   "metadata": {},
   "source": [
    "## 3. What is a box tuple, and how does it work?\n",
    "\n",
    "Ans. Box tuple has 4 Integer co-ordinates.<br>\n",
    "Left The x-coordinate of the leftmost edge of the box.\n",
    "\n",
    "Top The y-coordinate of the top edge of the box.\n",
    "\n",
    "Right The x-coordinate of one pixel to the right of the rightmost edge of the box. This integer must be greater than the left integer.\n",
    "\n",
    "Bottom The y-coordinate of one pixel lower than the bottom edge of the box. This integer must be greater than the top integer."
   ]
  },
  {
   "cell_type": "markdown",
   "id": "a5f32533",
   "metadata": {},
   "source": [
    "## 4. Use your image and load in notebook then, How can you find out the width and height of an Image object?"
   ]
  },
  {
   "cell_type": "code",
   "execution_count": 6,
   "id": "18d0853f",
   "metadata": {},
   "outputs": [
    {
     "name": "stdout",
     "output_type": "stream",
     "text": [
      "512 288\n"
     ]
    }
   ],
   "source": [
    "from PIL import Image\n",
    "img = Image.open('New.jpg')\n",
    "width, height = img.size\n",
    "print(width, height)"
   ]
  },
  {
   "cell_type": "markdown",
   "id": "594af619",
   "metadata": {},
   "source": [
    "## 5. What method would you call to get Image object for a 100×100 image, excluding the lower-left quarter of it?"
   ]
  },
  {
   "cell_type": "code",
   "execution_count": 9,
   "id": "9d23114b",
   "metadata": {},
   "outputs": [
    {
     "name": "stdout",
     "output_type": "stream",
     "text": [
      "<PIL.Image.Image image mode=RGB size=100x100 at 0x2486852D9A0>\n"
     ]
    }
   ],
   "source": [
    "from PIL import Image\n",
    "img = Image.open('New.jpg')\n",
    "size = (100,100)\n",
    "img_1 = img.resize(size)\n",
    "print(img_1) #size=100x100 - Image resized"
   ]
  },
  {
   "cell_type": "markdown",
   "id": "ab700113",
   "metadata": {},
   "source": [
    "## 6. After making changes to an Image object, how could you save it as an image file?\n",
    "\n",
    "Ans. We can use the **.save()** function."
   ]
  },
  {
   "cell_type": "markdown",
   "id": "2f5a79ec",
   "metadata": {},
   "source": [
    "## 7. What module contains Pillow’s shape-drawing code?\n",
    "\n",
    "Ans. **ImageDraw** module contains methods for drawing figures and straight lines."
   ]
  },
  {
   "cell_type": "markdown",
   "id": "77e40f6a",
   "metadata": {},
   "source": [
    "## 8. Image objects do not have drawing methods. What kind of object does? How do you get this kind of object?\n",
    "\n",
    "Ans. **ImageDraw** module has shape drawing methods like **.ellipse**, **.line**, **.rectangle** and so on."
   ]
  },
  {
   "cell_type": "code",
   "execution_count": 10,
   "id": "46693184",
   "metadata": {},
   "outputs": [],
   "source": [
    "from PIL import Image, ImageDraw\n",
    "im = Image.new('RGB', (500, 300), (128, 128, 128))\n",
    "draw = ImageDraw.Draw(im)"
   ]
  },
  {
   "cell_type": "code",
   "execution_count": 13,
   "id": "c33caf38",
   "metadata": {},
   "outputs": [],
   "source": [
    "draw.ellipse((100, 100, 150, 200), fill=(255, 0, 0), outline=(0, 0, 0))\n",
    "draw.rectangle((200, 100, 300, 200), fill=(0, 192, 192), outline=(255, 255, 255))\n",
    "draw.line((350, 200, 450, 100), fill=(255, 255, 0), width=10)\n",
    "\n",
    "im.save('C:/Users/Shashvath/pillow_imagedraw.jpg', quality=95)"
   ]
  },
  {
   "cell_type": "code",
   "execution_count": null,
   "id": "72a772c8",
   "metadata": {},
   "outputs": [],
   "source": []
  }
 ],
 "metadata": {
  "kernelspec": {
   "display_name": "Python 3",
   "language": "python",
   "name": "python3"
  },
  "language_info": {
   "codemirror_mode": {
    "name": "ipython",
    "version": 3
   },
   "file_extension": ".py",
   "mimetype": "text/x-python",
   "name": "python",
   "nbconvert_exporter": "python",
   "pygments_lexer": "ipython3",
   "version": "3.8.8"
  }
 },
 "nbformat": 4,
 "nbformat_minor": 5
}
