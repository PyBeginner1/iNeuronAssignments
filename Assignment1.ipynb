{
  "cells": [
    {
      "cell_type": "markdown",
      "metadata": {
        "id": "view-in-github",
        "colab_type": "text"
      },
      "source": [
        "<a href=\"https://colab.research.google.com/github/PyBeginner1/iNeuronAssignments/blob/main/Assignment1.ipynb\" target=\"_parent\"><img src=\"https://colab.research.google.com/assets/colab-badge.svg\" alt=\"Open In Colab\"/></a>"
      ]
    },
    {
      "cell_type": "markdown",
      "id": "0543d851",
      "metadata": {
        "id": "0543d851"
      },
      "source": [
        "1. In the below elements which of them are values or an expression? eg:- values can be integer or string and expressions will be mathematical operators.\n",
        "\n",
        "Ans)\n",
        "*        - Expression (Performs Multiplication)\n",
        "\n",
        "'hello'  - Value (String)\n",
        "    \n",
        "-87.8    - Value (Float)\n",
        "\n",
        "-        - Expression (Performs Subtraction)\n",
        "\n",
        "/        - Expression (Performs Division)\n",
        "\n",
        "+\t     - Expression (Performs Addition)\n",
        "\n",
        "6        - Value (Integer)\n"
      ]
    },
    {
      "cell_type": "markdown",
      "id": "c2205653",
      "metadata": {
        "id": "c2205653"
      },
      "source": [
        "2. What is the difference between string and variable?\n",
        "\n",
        "Ans) String is an information that is stored in a variable. String is a character or a group of characters enclosed within Double quotes \" \" or Single quote' '.\n",
        "\n",
        "Variable is used to store values."
      ]
    },
    {
      "cell_type": "markdown",
      "id": "94f8debe",
      "metadata": {
        "id": "94f8debe"
      },
      "source": [
        "3. Describe three different data types.\n",
        "\n",
        "Ans) 3 different data types are Textual, Numeric, Boolean.\n",
        "\n",
        "Textual:    str - A character or a group of characters.\n",
        "Numeric:    int - Represents whole number\n",
        "            float - Represents decimal values\n",
        "            complex - Represented as (real) + (imaginary) part\n",
        "Boolean:    bool: True(1) or False(2)"
      ]
    },
    {
      "cell_type": "markdown",
      "id": "9b52f3ec",
      "metadata": {
        "id": "9b52f3ec"
      },
      "source": [
        "4. What is an expression made up of? What do all expressions do?\n",
        "\n",
        "Ans) An expression is a combination of operators and operands that is interpreted to produce some other value.\n",
        "Ex: \n",
        "a = 5\n",
        "b = 5\n",
        "c = a+b                #'+' is an Arithmetic Expression which performs addition\n",
        "print(c)"
      ]
    },
    {
      "cell_type": "markdown",
      "id": "db8e6b23",
      "metadata": {
        "id": "db8e6b23"
      },
      "source": [
        "5. This assignment statements, like spam = 10. What is the difference between an expression and a statement?\n",
        "\n",
        "Ans) An expression is a combination of operators and operands that is interpreted to produce some other value.\n",
        "\n",
        "A statement is a piece of code or an isntruction that a Python Interpreter can execute to provide a valid result.\n",
        "Ex: print('Hello World')"
      ]
    },
    {
      "cell_type": "markdown",
      "id": "f4487487",
      "metadata": {
        "id": "f4487487"
      },
      "source": [
        "6. After running the following code, what does the variable bacon contain?\n",
        "bacon = 22\n",
        "bacon + 1\n",
        "\n",
        "Ans) Bacons value is going to stay 22 as we are not assigning the '+1' to bacon variable.\n"
      ]
    },
    {
      "cell_type": "code",
      "execution_count": null,
      "id": "c23c343c",
      "metadata": {
        "id": "c23c343c",
        "outputId": "ee44a181-51ac-4f72-e8c5-e98f13b7b1d6"
      },
      "outputs": [
        {
          "name": "stdout",
          "output_type": "stream",
          "text": [
            "23\n"
          ]
        }
      ],
      "source": [
        "#This code will return 23\n",
        "bacon = 22\n",
        "bacon +=1\n",
        "print(bacon)"
      ]
    },
    {
      "cell_type": "markdown",
      "id": "9713ad40",
      "metadata": {
        "id": "9713ad40"
      },
      "source": [
        "7. What should the values of the following two terms be?\n",
        "'spam' + 'spamspam'\n",
        "'spam' * 3\n",
        "\n",
        "Ans) Both will return 'spamspamspam'"
      ]
    },
    {
      "cell_type": "code",
      "execution_count": null,
      "id": "e9c7bbbe",
      "metadata": {
        "id": "e9c7bbbe",
        "outputId": "e3b132ae-42a8-40ae-d2f5-46a6ca4fc4bc"
      },
      "outputs": [
        {
          "name": "stdout",
          "output_type": "stream",
          "text": [
            "spamspamspam\n",
            "spamspamspam\n"
          ]
        }
      ],
      "source": [
        "print('spam' + 'spamspam')\n",
        "print('spam' * 3)"
      ]
    },
    {
      "cell_type": "markdown",
      "id": "1fd9170d",
      "metadata": {
        "id": "1fd9170d"
      },
      "source": [
        "8. Why is eggs a valid variable name while 100 is invalid?\n",
        "\n",
        "Ans) Variable can begin with a character but now with a number.\n",
        "\n",
        "Rules for Python variables:\n",
        "\n",
        "A variable name must start with a letter or the underscore character\n",
        "A variable name cannot start with a number\n",
        "A variable name can only contain alpha-numeric characters and underscores (A-z, 0-9, and _ )\n",
        "Variable names are case-sensitive (age, Age and AGE are three different variables)\n",
        "\n",
        "Source: https://www.w3schools.com/python/gloss_python_variable_names.asp"
      ]
    },
    {
      "cell_type": "markdown",
      "id": "ec21f20a",
      "metadata": {
        "id": "ec21f20a"
      },
      "source": [
        "9. What three functions can be used to get the integer, floating-point number, or string version of a value?\n",
        "\n",
        "Ans) int(), float() and str() can be used to get integer, floating-point number, or string version of a value."
      ]
    },
    {
      "cell_type": "code",
      "execution_count": null,
      "id": "b9ca7ea4",
      "metadata": {
        "id": "b9ca7ea4",
        "outputId": "8ba6eed6-1764-4af3-cb28-1aae76df970c"
      },
      "outputs": [
        {
          "name": "stdout",
          "output_type": "stream",
          "text": [
            "10 10.0 10\n"
          ]
        }
      ],
      "source": [
        "a = 10\n",
        "\n",
        "integer = int(a)\n",
        "fl = float(a)\n",
        "s = str(a)\n",
        "print(integer, fl, s)"
      ]
    },
    {
      "cell_type": "markdown",
      "id": "0cf93714",
      "metadata": {
        "id": "0cf93714"
      },
      "source": [
        "10. Why does this expression cause an error? How can you fix it?\n",
        "'I have eaten ' + 99 + ' burritos.'\n",
        "\n",
        "Ans) We get an error because 99 is int. We first need to convert it into a string"
      ]
    },
    {
      "cell_type": "code",
      "execution_count": null,
      "id": "68fe8977",
      "metadata": {
        "id": "68fe8977",
        "outputId": "2fa097eb-9b0f-4dcd-a1e6-8ac8eef11215"
      },
      "outputs": [
        {
          "name": "stdout",
          "output_type": "stream",
          "text": [
            "I have eaten 99 burritos.\n"
          ]
        }
      ],
      "source": [
        "num = str(99)\n",
        "print('I have eaten ' + num + ' burritos.')"
      ]
    },
    {
      "cell_type": "code",
      "execution_count": null,
      "id": "474c9a45",
      "metadata": {
        "id": "474c9a45"
      },
      "outputs": [],
      "source": [
        ""
      ]
    }
  ],
  "metadata": {
    "kernelspec": {
      "display_name": "Python 3",
      "language": "python",
      "name": "python3"
    },
    "language_info": {
      "codemirror_mode": {
        "name": "ipython",
        "version": 3
      },
      "file_extension": ".py",
      "mimetype": "text/x-python",
      "name": "python",
      "nbconvert_exporter": "python",
      "pygments_lexer": "ipython3",
      "version": "3.8.8"
    },
    "colab": {
      "name": "Assignment1.ipynb",
      "provenance": [],
      "include_colab_link": true
    }
  },
  "nbformat": 4,
  "nbformat_minor": 5
}