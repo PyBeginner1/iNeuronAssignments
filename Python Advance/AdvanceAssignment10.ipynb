{
 "cells": [
  {
   "cell_type": "markdown",
   "id": "f43ca7a7",
   "metadata": {},
   "source": [
    "# Advance Assignment 10"
   ]
  },
  {
   "cell_type": "markdown",
   "id": "e27a0a04",
   "metadata": {},
   "source": [
    "# Q1. What is the difference between __getattr__ and __getattribute__?\n",
    "\n",
    "Ans. If you have `__getattribute__` method in your class, python invokes this method for every attribute regardless whether it exists or not. Python will call `__getattr__` method whenever you request an attribute that hasn't been defined.\n",
    "\n",
    "If your class contains both these method then `__getattribute__` is called first. If `__getattribute__` returns an AttributeError then `__getattr__` will be invoked. "
   ]
  },
  {
   "cell_type": "markdown",
   "id": "cea9c5cc",
   "metadata": {},
   "source": [
    "## Q2. What is the difference between properties and descriptors?\n",
    "\n",
    "Ans. Descriptors are low-level mechanism that lets you hook into an object attributes being accessed. Properties are high-level application.\n",
    "\n",
    "- Properties = We can bind getter, setter (and deleter) functions with an attribute name, using the built-in property function. When we do this, each reference to an attribute looks like simple, direct access, but invokes the appropriate function of the object. For example, anObject.price= someValue; anObject.value.\n",
    "\n",
    "- Descriptors = We can bind getter, setter (and deleter) functions into a separate class. We then assign an object of this class to the attribute name. When we do this, each reference to an attribute looks like simple, direct access, but invokes an appropriate function of the Descriptor object. For example, anObject.price= someValue; anObject.value."
   ]
  },
  {
   "cell_type": "markdown",
   "id": "2e3989b5",
   "metadata": {},
   "source": [
    "## Q3. What are the key differences in functionality between __getattr__ and __getattribute__, as well as properties and descriptors?\n",
    "\n",
    "Ans. Python will call **__getattr__** whenever an attribute hasn't been defined whereas **__getattribute__** is invoked for every attribute regardless if it exists or not.\n",
    "\n",
    "A **descriptor** is a mechanism behind properties, methods, static methods, class methods, and super().\n",
    "With **Properties** we can bind getter, setter (and deleter) functions with an attribute name, using the built-in property function. "
   ]
  },
  {
   "cell_type": "code",
   "execution_count": null,
   "id": "dc88efd3",
   "metadata": {},
   "outputs": [],
   "source": []
  }
 ],
 "metadata": {
  "kernelspec": {
   "display_name": "Python 3",
   "language": "python",
   "name": "python3"
  },
  "language_info": {
   "codemirror_mode": {
    "name": "ipython",
    "version": 3
   },
   "file_extension": ".py",
   "mimetype": "text/x-python",
   "name": "python",
   "nbconvert_exporter": "python",
   "pygments_lexer": "ipython3",
   "version": "3.8.8"
  }
 },
 "nbformat": 4,
 "nbformat_minor": 5
}
