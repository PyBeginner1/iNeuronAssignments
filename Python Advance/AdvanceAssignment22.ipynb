{
 "cells": [
  {
   "cell_type": "markdown",
   "id": "219a512f",
   "metadata": {},
   "source": [
    "# Advance Assignment 22"
   ]
  },
  {
   "cell_type": "markdown",
   "id": "0a1907a7",
   "metadata": {},
   "source": [
    "## Q1. What are the benefits of the built-in array package, if any?\n",
    "\n",
    "Ans. Python Array will have a smaller size than Python List. Python array can only contain elements with a certain type.\n",
    "\n",
    "Unique features: \n",
    "- Get the Type Code.\n",
    "- Get Size of Array Item\n",
    "- Count the Number of Occurrences\n",
    "- Append and Extend\n",
    "- Manipulating the Index\n",
    "- Array to List"
   ]
  },
  {
   "cell_type": "markdown",
   "id": "f61ff22e",
   "metadata": {},
   "source": [
    "## Q2. What are some of the array package's limitations?\n",
    "\n",
    "Ans.\n",
    "- Dimension of an array is determined the moment the array is created, and cannot be changed.\n",
    "- Array occupies an amount of memory that is proportional to its size, independently of the number of elements that are actually of interest.\n",
    "- If we want to keep the elements of the collection ordered, and insert a new value in its correct position, or remove it, then, for each such operation we may need to move many elements."
   ]
  },
  {
   "cell_type": "markdown",
   "id": "5d754d45",
   "metadata": {},
   "source": [
    "## Q3. Describe the main differences between the array and numpy packages.\n",
    "\n",
    "Ans. \n",
    "- A numpy array is a grid of values, all of the same type, and is indexed by a tuple of nonnegative integers whereas A list is the Python equivalent of an array, but is resizeable and can contain elements of different types. \n",
    "- Size - Numpy data structures take up less space.\n",
    "- Performance - Numpy are faster than lists."
   ]
  },
  {
   "cell_type": "markdown",
   "id": "95002460",
   "metadata": {},
   "source": [
    "## Q4. Explain the distinctions between the empty, ones, and zeros functions.\n",
    "\n",
    "Ans. **numpy.zeros** returns a new array of given shape and type, filled with zeros. **numpy.ones** returns a new array of given shape and type, filled with ones. **numpy.empty** returns a new array of given shape and type, without initializing entries."
   ]
  },
  {
   "cell_type": "markdown",
   "id": "d65631fc",
   "metadata": {},
   "source": [
    "## Q5. In the fromfunction function, which is used to construct new arrays, what is the role of the callable argument?\n",
    "\n",
    "Ans. **numpy.fromfunction** is used to construct an array by executing a function over each coordinate.\n",
    "\n",
    "Callable function is called with N parameters, where N is the rank of shape. Each parameter represents the coordinates of the array varying along a specific axis. "
   ]
  },
  {
   "cell_type": "markdown",
   "id": "e53dc0bb",
   "metadata": {},
   "source": [
    "## Q6. What happens when a numpy array is combined with a single-value operand (a scalar, such as an int or a floating-point value) through addition, as in the expression A + n?\n",
    "\n",
    "Ans. It will be added with the array. "
   ]
  },
  {
   "cell_type": "markdown",
   "id": "9acf1b5e",
   "metadata": {},
   "source": [
    "## Q7. Can array-to-scalar operations use combined operation-assign operators (such as += or *=)? What is the outcome?\n",
    "\n",
    "Ans. Yes, it will perform the operation specified."
   ]
  },
  {
   "cell_type": "markdown",
   "id": "e72880f3",
   "metadata": {},
   "source": [
    "## Q8. Does a numpy array contain fixed-length strings? What happens if you allocate a longer string to one of these arrays?\n",
    "\n",
    "Ans. Yes, numpy array contain fixed-length strings. Once set, it will only be able to store new string having length not more than the maximum length at the time of the creation. If we try to reassign some another string value having length greater than the maximum length of the existing elements, it simply discards all the values beyond the maximum length."
   ]
  },
  {
   "cell_type": "markdown",
   "id": "0d34a715",
   "metadata": {},
   "source": [
    "## Q9. What happens when you combine two numpy arrays using an operation like addition (+) or multiplication (*)? What are the conditions for combining two numpy arrays?\n",
    "\n",
    "Ans. It will perform the necessary operation."
   ]
  },
  {
   "cell_type": "markdown",
   "id": "8eee5461",
   "metadata": {},
   "source": [
    "## Q10. What is the best way to use a Boolean array to mask another array?\n",
    "\n",
    "Ans. We can mask the array using another by using the following functions:-\n",
    "\n",
    "- numpy.ma.masked_where(condition, arr)\n",
    "\n",
    "- numpy.ma.getmask(arr)\n",
    "\n",
    "- numpy.ma.masked_array(arr, mask=)"
   ]
  },
  {
   "cell_type": "markdown",
   "id": "c1426c51",
   "metadata": {},
   "source": [
    "## Q11. What are three different ways to get the standard deviation of a wide collection of data using both standard Python and its packages? Sort the three of them by how quickly they execute.\n",
    "\n",
    "Ans. \n",
    "- Statistics module in Python provides a function known as **stdev()** , which can be used to calculate the standard deviation.\n",
    "- NumPy **std()** method to find the standard deviation."
   ]
  },
  {
   "cell_type": "markdown",
   "id": "91e9e9b3",
   "metadata": {},
   "source": [
    "## 12. What is the dimensionality of a Boolean mask-generated array?\n",
    "\n",
    "Ans. Same Dimension."
   ]
  },
  {
   "cell_type": "code",
   "execution_count": null,
   "id": "76a9e1d3",
   "metadata": {},
   "outputs": [],
   "source": []
  }
 ],
 "metadata": {
  "kernelspec": {
   "display_name": "Python 3",
   "language": "python",
   "name": "python3"
  },
  "language_info": {
   "codemirror_mode": {
    "name": "ipython",
    "version": 3
   },
   "file_extension": ".py",
   "mimetype": "text/x-python",
   "name": "python",
   "nbconvert_exporter": "python",
   "pygments_lexer": "ipython3",
   "version": "3.8.8"
  }
 },
 "nbformat": 4,
 "nbformat_minor": 5
}
