{
 "cells": [
  {
   "cell_type": "markdown",
   "id": "9e740c7a",
   "metadata": {},
   "source": [
    "# Advance Assignment 6"
   ]
  },
  {
   "cell_type": "markdown",
   "id": "73d4e41a",
   "metadata": {},
   "source": [
    "# Q1. Describe three applications for exception processing.\n",
    "\n",
    "Ans. Exception Processing is necessary to handle errors as it is mostly caused by not handling all scenarios which cause the program to stop. It is an event that occurs when a program is running and is suddenly disrupted.<br>\n",
    "\n",
    "Applications:<br>\n",
    "- It can control run time errors that occur in the program.<br>\n",
    "- It can avoid abnormal termination of the program.\n",
    "- It can seperate the normal code and error code using try-catch block."
   ]
  },
  {
   "cell_type": "markdown",
   "id": "150eac77",
   "metadata": {},
   "source": [
    "## Q2. What happens if you don't do something extra to treat an exception?\n",
    "\n",
    "Ans. If we do not handle exceptions then it may lead to sudden abnormal termination of the program. For example, due to some computer error and since there were no exceptions handled it led to a fatal plane crash."
   ]
  },
  {
   "cell_type": "markdown",
   "id": "7b6f7134",
   "metadata": {},
   "source": [
    "## Q3. What are your options for recovering from an exception in your script?\n",
    "\n",
    "Ans. Python provides **try-except** block. "
   ]
  },
  {
   "cell_type": "markdown",
   "id": "ff01f751",
   "metadata": {},
   "source": [
    "## Q4. Describe two methods for triggering exceptions in your script.\n",
    "\n",
    "Ans. **try** and **raise** are two methods for triggering exceptions. <br>\n",
    "\n",
    "- `try`: This method catches the exceptions raised by the code.<br>\n",
    "- `raise`: Triggers an exception manually using custom exceptions."
   ]
  },
  {
   "cell_type": "markdown",
   "id": "ab981953",
   "metadata": {},
   "source": [
    "## Q5. Identify two methods for specifying actions to be executed at termination time, regardless of whether or not an exception exists.\n",
    "\n",
    "Ans. **finally** block always gets executed even if there is an exception or no exception and **else** which will execute in the absence of exception."
   ]
  },
  {
   "cell_type": "code",
   "execution_count": null,
   "id": "220e4d4d",
   "metadata": {},
   "outputs": [],
   "source": []
  }
 ],
 "metadata": {
  "kernelspec": {
   "display_name": "Python 3",
   "language": "python",
   "name": "python3"
  },
  "language_info": {
   "codemirror_mode": {
    "name": "ipython",
    "version": 3
   },
   "file_extension": ".py",
   "mimetype": "text/x-python",
   "name": "python",
   "nbconvert_exporter": "python",
   "pygments_lexer": "ipython3",
   "version": "3.8.8"
  }
 },
 "nbformat": 4,
 "nbformat_minor": 5
}
