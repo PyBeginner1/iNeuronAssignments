{
 "cells": [
  {
   "cell_type": "markdown",
   "id": "64c5c0c5",
   "metadata": {},
   "source": [
    "# Advance Assignment 21"
   ]
  },
  {
   "cell_type": "markdown",
   "id": "bd29f025",
   "metadata": {},
   "source": [
    "## Q1. What is a probability distribution, exactly? If the values are meant to be random, how can you predict them at all?\n",
    "\n",
    "Ans. A probability distribution is a statistical function that describes all the possible values and likelihoods that a random variable can take within a given range."
   ]
  },
  {
   "cell_type": "markdown",
   "id": "76e85b39",
   "metadata": {},
   "source": [
    "## Q2. Is there a distinction between true random numbers and pseudo-random numbers, if there is one? Why are the latter considered “good enough”?\n",
    "\n",
    "Ans. The difference between true random number generators(TRNGs) and pseudo-random number generators(PRNGs) is that TRNGs use an unpredictable physical means to generate numbers (like atmospheric noise), and PRNGs use mathematical algorithms (completely computer-generated).\n",
    "Pseudo-RNG's utilize mathematical formulas to produce a certain sequence of numbers that will appear random."
   ]
  },
  {
   "cell_type": "markdown",
   "id": "90044b98",
   "metadata": {},
   "source": [
    "## Q3. What are the two main factors that influence the behaviour of a \"normal\" probability distribution?\n",
    "\n",
    "Ans. **Mean** and **Variance**"
   ]
  },
  {
   "cell_type": "markdown",
   "id": "0a8b2d7a",
   "metadata": {},
   "source": [
    "## Q4. Provide a real-life example of a normal distribution.\n",
    "\n",
    "Ans. Height of Males or females, Blood Pressure, Tossing A Coin, IQ, etc."
   ]
  },
  {
   "cell_type": "markdown",
   "id": "86bb25b7",
   "metadata": {},
   "source": [
    "## Q5. In the short term, how can you expect a probability distribution to behave? What do you think will happen as the number of trials grows?\n",
    "\n",
    "Ans. The number of outcomes for which there is an appreciable probability becomes a smaller and smaller fraction of all possible outcomes as the number of trials increases."
   ]
  },
  {
   "cell_type": "markdown",
   "id": "b853f287",
   "metadata": {},
   "source": [
    "## Q6. What kind of object can be shuffled by using random.shuffle?\n",
    "\n",
    "Ans. Strings and tuples are immutable, so using random. shuffle() to modify the original object will raise an error TypeError . We can shuffle list"
   ]
  },
  {
   "cell_type": "code",
   "execution_count": 24,
   "id": "22a37694",
   "metadata": {},
   "outputs": [
    {
     "name": "stdout",
     "output_type": "stream",
     "text": [
      "Before shuffle:  [16, 93, 100, 48, 53]\n",
      "After Shuffle:  [100, 93, 16, 48, 53]\n"
     ]
    }
   ],
   "source": [
    "import random\n",
    "\n",
    "l = []\n",
    "for i in range(5):\n",
    "    l.append(random.randint(1,100))\n",
    "\n",
    "print(\"Before shuffle: \",l)\n",
    "random.shuffle(l)\n",
    "print(\"After Shuffle: \", l)"
   ]
  },
  {
   "cell_type": "markdown",
   "id": "196b5bcf",
   "metadata": {},
   "source": [
    "str1 = \"Bring me a bucket, and I'll show you a bucket\"\n",
    "random.shuffle(str1)"
   ]
  },
  {
   "cell_type": "markdown",
   "id": "b2525965",
   "metadata": {},
   "source": [
    "## Q7. Describe the math package's general categories of functions.\n",
    "\n",
    "Ans. \n",
    "- Many to one function\n",
    "- One to one function\n",
    "- Onto function\n",
    "- One and onto function\n",
    "- Constant function\n",
    "- Identity function\n",
    "- Quadratic function\n",
    "- Polynomial function\n",
    "- Modulus function\n",
    "- Rational function\n",
    "- Signum function\n",
    "- Greatest integer function\n"
   ]
  },
  {
   "cell_type": "markdown",
   "id": "6d29067c",
   "metadata": {},
   "source": [
    "## Q8. What is the relationship between exponentiation and logarithms?\n",
    "\n",
    "Ans. Logarithmic functions are the inverses of exponential functions."
   ]
  },
  {
   "cell_type": "markdown",
   "id": "877572d0",
   "metadata": {},
   "source": [
    "## Q9. What are the three logarithmic functions that Python supports?\n",
    "\n",
    "Ans. \n",
    "- `math.log(x)` =  function is used to calculate the natural logarithmic value.\n",
    "- `log2(x) – log base 2` = function is used to calculate the logarithmic value of a numeric expression of base 2.\n",
    "- `log(n, Base) – log base n` = The math.log(x,Base) function calculates the logarithmic value of x i.e. numeric expression for a particular (desired) base value.\n",
    "- `log10(x) – log base 10` = function calculates the logarithmic value of the numeric expression to the base 10.\n",
    "- `log1p(x)` = function calculates the log(1+x) of a particular input value i.e. x."
   ]
  },
  {
   "cell_type": "code",
   "execution_count": null,
   "id": "66dc5c18",
   "metadata": {},
   "outputs": [],
   "source": []
  }
 ],
 "metadata": {
  "kernelspec": {
   "display_name": "Python 3",
   "language": "python",
   "name": "python3"
  },
  "language_info": {
   "codemirror_mode": {
    "name": "ipython",
    "version": 3
   },
   "file_extension": ".py",
   "mimetype": "text/x-python",
   "name": "python",
   "nbconvert_exporter": "python",
   "pygments_lexer": "ipython3",
   "version": "3.8.8"
  }
 },
 "nbformat": 4,
 "nbformat_minor": 5
}
