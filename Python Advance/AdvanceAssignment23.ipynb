{
 "cells": [
  {
   "cell_type": "markdown",
   "id": "1b3c7e59",
   "metadata": {},
   "source": [
    "# Advance Assignment 23"
   ]
  },
  {
   "cell_type": "markdown",
   "id": "71566c6f",
   "metadata": {},
   "source": [
    "## Q1. If you have any, what are your choices for increasing the comparison between different figures on the same graph?\n",
    "\n",
    "Ans. We can use **matplotlib**."
   ]
  },
  {
   "cell_type": "markdown",
   "id": "d21f2fee",
   "metadata": {},
   "source": [
    "## Q2. Can you explain the benefit of compound interest over a higher rate of interest that does not compound after reading this chapter?\n",
    "\n",
    "Ans. Compound interest is when the interest you earn on a balance in a savings or investing account is reinvested, earning you more interest. Compound interest accelerates the growth of your savings and investments over time"
   ]
  },
  {
   "cell_type": "markdown",
   "id": "7bf43509",
   "metadata": {},
   "source": [
    "## Q3. What is a histogram, exactly? Name a numpy method for creating such a graph.\n",
    "\n",
    "Ans. A histogram is a graphical representation that organizes a group of data points into user-specified ranges. \n",
    "\n",
    "**numpy.histogram** computes the histogram of a dataset."
   ]
  },
  {
   "cell_type": "markdown",
   "id": "ee79fde4",
   "metadata": {},
   "source": [
    "## Q4. If necessary, how do you change the aspect ratios between the X and Y axes?\n",
    "\n",
    "Ans. We can use **plt.figure(figsize=(width, height))** which is imported from `matplotlib.pyplot` to modify."
   ]
  },
  {
   "cell_type": "markdown",
   "id": "9b63fb7d",
   "metadata": {},
   "source": [
    "## Q5. Compare and contrast the three types of array multiplication between two numpy arrays: dot product, outer product, and regular multiplication of two numpy arrays.\n",
    "\n",
    "Ans. **numpy.dot** does Dot product of two arrays. **numpy.outer** computes the outer product of two vectors. In regular multiplication values of same index will get multiplied."
   ]
  },
  {
   "cell_type": "markdown",
   "id": "160e4da6",
   "metadata": {},
   "source": [
    "## Q6. Before you buy a home, which numpy function will you use to measure your monthly mortgage payment?\n",
    "\n",
    "Ans. In order to calculate the monthly mortgage payment, we can use:\n",
    "**np.pmt(rate, nper, pv)** \n",
    "- **rate** = The periodic (monthly) interest rate\n",
    "- **nper** = The number of payment periods (months) in the lifespan of the mortgage loan\n",
    "- **pv** = The total value of the mortgage loan"
   ]
  },
  {
   "cell_type": "markdown",
   "id": "3a825619",
   "metadata": {},
   "source": [
    "## Q7. Can string data be stored in numpy arrays? If so, list at least one restriction that applies to this data.\n",
    "\n",
    "Ans. Yes, string data be stored in numpy arrays. Limitation is Array can have only have same datatype. That is, in an integer array only integer values can be stored, while in a float array only floating value and character array can have only characters."
   ]
  },
  {
   "cell_type": "code",
   "execution_count": null,
   "id": "eb84cab9",
   "metadata": {},
   "outputs": [],
   "source": []
  }
 ],
 "metadata": {
  "kernelspec": {
   "display_name": "Python 3",
   "language": "python",
   "name": "python3"
  },
  "language_info": {
   "codemirror_mode": {
    "name": "ipython",
    "version": 3
   },
   "file_extension": ".py",
   "mimetype": "text/x-python",
   "name": "python",
   "nbconvert_exporter": "python",
   "pygments_lexer": "ipython3",
   "version": "3.8.8"
  }
 },
 "nbformat": 4,
 "nbformat_minor": 5
}
