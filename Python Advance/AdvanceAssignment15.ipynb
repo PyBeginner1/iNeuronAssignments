{
 "cells": [
  {
   "cell_type": "markdown",
   "id": "eb35579b",
   "metadata": {},
   "source": [
    "## Advance Assignment 5"
   ]
  },
  {
   "cell_type": "markdown",
   "id": "e7e1d228",
   "metadata": {},
   "source": [
    "## 1. What are the new features added in Python 3.8 version?\n",
    "\n",
    "Ans. <br>**Positional-only parameters(/)** - There is a new function parameter syntax “/” which indicates that some function parameters must be specified positionally and can’t be used as keyword arguments. The addition of “/” improves the language’s consistency and allows a robust API design.\n",
    "\n",
    "**Assignment Expressions(:=)** - This operator is used to assign and return a value in the same expression. This removes the need for initializing the variable upfront. The major benefit of this is it saves some lines of code. It is also known as “The Walrus Operator” due to its similarity to the eyes and tusks of a walrus.\n",
    "\n",
    "**f-strings now support “=”** - This string formatting mechanism is known as Literal String Interpolation or more commonly as F-strings. It allows the use of the above-discussed assignment operator and equal sign (=) inside the f-strings.\n",
    "For example, say we have two variables “a” and “b”, and we want to print “a + b” along with the result. Here we can use f-strings=.\n",
    "\n",
    "**reversed() works with a dictionary** - the built-in method “reversed()” can be used for accessing the elements in the reverse order of insertion.\n",
    "\n",
    "**No parentheses for return and yield statements** - ‘yield’ and ‘return’ statements do not require parentheses to return multiple values.\n",
    "\n",
    "**pow() function** - In the three-argument form of pow(), when the exponent is -1, it calculates the modular multiplicative inverse of the given value.\n"
   ]
  },
  {
   "cell_type": "markdown",
   "id": "7f4e323f",
   "metadata": {},
   "source": [
    "## 2. What is monkey patching in Python?\n",
    "\n",
    "Ans. In Python, the term monkey patch only refers to dynamic modifications of a class or module at runtime, motivated by the intent to patch existing third-party code as a workaround to a bug or feature which does not act as you desire.\n",
    "\n",
    "The term monkey patch refers to dynamic (or run-time) modifications of a class or module. In Python, we can actually change the behavior of code at run-time."
   ]
  },
  {
   "cell_type": "code",
   "execution_count": 4,
   "id": "0b511f28",
   "metadata": {},
   "outputs": [
    {
     "name": "stdout",
     "output_type": "stream",
     "text": [
      "monkey_f() is being called\n"
     ]
    }
   ],
   "source": [
    "# monk.py\n",
    "class A:\n",
    "     def func(self):\n",
    "          print (\"func() is being called\")\n",
    "        \n",
    "import monk\n",
    "def monkey_f(self):\n",
    "     print (\"monkey_f() is being called\")\n",
    "   \n",
    "# replacing address of \"func\" with \"monkey_f\"\n",
    "A.func = monkey_f\n",
    "obj = A()\n",
    "\n",
    "obj.func()        "
   ]
  },
  {
   "cell_type": "markdown",
   "id": "b09dcfb6",
   "metadata": {},
   "source": [
    "## 3. What is the difference between a shallow copy and deep copy?\n",
    "\n",
    "Ans. In Shallow copy, a copy of the original object is stored and only the reference address is finally copied. In Deep copy, the copy of the original object and the repetitive copies both are stored."
   ]
  },
  {
   "cell_type": "markdown",
   "id": "95329260",
   "metadata": {},
   "source": [
    "## 4. What is the maximum possible length of an identifier?\n",
    "\n",
    "Ans. An identifier can have a maximum length of 79 characters in Python."
   ]
  },
  {
   "cell_type": "markdown",
   "id": "cf1d22b7",
   "metadata": {},
   "source": [
    "## 5. What is generator comprehension?\n",
    "\n",
    "Ans. A generator comprehension is a single line specification for defining a generator in Python."
   ]
  },
  {
   "cell_type": "code",
   "execution_count": null,
   "id": "011adde5",
   "metadata": {},
   "outputs": [],
   "source": []
  }
 ],
 "metadata": {
  "kernelspec": {
   "display_name": "Python 3",
   "language": "python",
   "name": "python3"
  },
  "language_info": {
   "codemirror_mode": {
    "name": "ipython",
    "version": 3
   },
   "file_extension": ".py",
   "mimetype": "text/x-python",
   "name": "python",
   "nbconvert_exporter": "python",
   "pygments_lexer": "ipython3",
   "version": "3.8.8"
  }
 },
 "nbformat": 4,
 "nbformat_minor": 5
}
