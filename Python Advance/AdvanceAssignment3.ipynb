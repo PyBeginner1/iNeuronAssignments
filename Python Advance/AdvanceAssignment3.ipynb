{
 "cells": [
  {
   "cell_type": "markdown",
   "id": "eeadbf30",
   "metadata": {},
   "source": [
    "# Advance Assignment 3"
   ]
  },
  {
   "cell_type": "markdown",
   "id": "e1b35887",
   "metadata": {},
   "source": [
    "# 1. What is the concept of an abstract superclass?\n",
    "\n",
    "Ans. An abstract superclass can be considered as Blueprint for other classes. It allows you to create a set of methods that must be created within child class built from abstract classes. A class which contains one or more abstract methods are called as abstract class."
   ]
  },
  {
   "cell_type": "markdown",
   "id": "37f703a6",
   "metadata": {},
   "source": [
    "## 2. What happens when a class statement's top level contains a basic assignment statement?\n",
    "\n",
    "Ans. It will be treated as class variable."
   ]
  },
  {
   "cell_type": "code",
   "execution_count": 4,
   "id": "d4c1c2be",
   "metadata": {},
   "outputs": [],
   "source": [
    "class TV:\n",
    "    time = '60 mins'        #class variable\n",
    "    def __init__(self, genre, language):\n",
    "        self.genre = genre        #instance variable\n",
    "        self.language = language"
   ]
  },
  {
   "cell_type": "markdown",
   "id": "e3b64b79",
   "metadata": {},
   "source": [
    "## 3. Why does a class need to manually call a superclass's __init__ method?\n",
    "\n",
    "Ans. The main reason we need to manually call superclass's `__init__` method is if we need something from super's `__init__` to be done in addition current child class's `__init__`. The `__init__` method of child class will over-ride `__init___` method of parent class."
   ]
  },
  {
   "cell_type": "code",
   "execution_count": 8,
   "id": "c1ee09ba",
   "metadata": {},
   "outputs": [
    {
     "name": "stdout",
     "output_type": "stream",
     "text": [
      "1\n",
      "2\n",
      "Over-ride:  3\n"
     ]
    }
   ],
   "source": [
    "class A:\n",
    "    def __init__(self):\n",
    "        self.a = 1\n",
    "\n",
    "class B(A):\n",
    "    def __init__(self):\n",
    "        super().__init__()\n",
    "        self.b = 2\n",
    "class C(A):\n",
    "    def __init__(self):\n",
    "        self.a = 3\n",
    "        \n",
    "c = B()\n",
    "print(c.a)\n",
    "print(c.b)\n",
    "d = C()\n",
    "print('Over-ride: ' ,d.a)"
   ]
  },
  {
   "cell_type": "markdown",
   "id": "f344257d",
   "metadata": {},
   "source": [
    "## 4. How can you augment, instead of completely replacing, an inherited method?\n",
    "\n",
    "Ans. **super()** method can be used to augment, instead of completely replacing, an inherited method."
   ]
  },
  {
   "cell_type": "code",
   "execution_count": 18,
   "id": "aa10bf6e",
   "metadata": {},
   "outputs": [],
   "source": [
    "class School:\n",
    "    def __init__(self, grade, marks):\n",
    "        self.grade = grade\n",
    "        self.marks = marks\n",
    "\n",
    "class Student(School):\n",
    "    def __init__(self, grade, marks, gender):\n",
    "        super().__init__(grade, marks)\n",
    "        self.gender = gender"
   ]
  },
  {
   "cell_type": "code",
   "execution_count": 19,
   "id": "e1f0aa1d",
   "metadata": {},
   "outputs": [
    {
     "name": "stdout",
     "output_type": "stream",
     "text": [
      "{'grade': 'X', 'marks': 85, 'gender': 'F'}\n"
     ]
    }
   ],
   "source": [
    "stu = Student('X', 85, 'F')\n",
    "print(stu.__dict__)"
   ]
  },
  {
   "cell_type": "markdown",
   "id": "0e6e2373",
   "metadata": {},
   "source": [
    "## 5. How is the local scope of a class different from that of a function?\n",
    "\n",
    "Ans. Variable defined in a function can only be used within that function and cannot be used outside the function. Variables defined in class are called as Class variables and can be usde to call outside a function by assigning a varible to call the class."
   ]
  },
  {
   "cell_type": "code",
   "execution_count": 20,
   "id": "7faa0189",
   "metadata": {},
   "outputs": [],
   "source": [
    "class Stu():\n",
    "    a = 'Student'"
   ]
  },
  {
   "cell_type": "code",
   "execution_count": 29,
   "id": "1a494953",
   "metadata": {},
   "outputs": [
    {
     "data": {
      "text/plain": [
       "'Student'"
      ]
     },
     "execution_count": 29,
     "metadata": {},
     "output_type": "execute_result"
    }
   ],
   "source": [
    "b = Stu()\n",
    "b.a     #we can call a variable defined in a class outside"
   ]
  },
  {
   "cell_type": "code",
   "execution_count": 28,
   "id": "7dc57fe7",
   "metadata": {},
   "outputs": [
    {
     "name": "stdout",
     "output_type": "stream",
     "text": [
      "Student\n"
     ]
    }
   ],
   "source": [
    "def Stu_fn():\n",
    "    a = 'Student'\n",
    "    print(a)\n",
    "Stu_fn()"
   ]
  },
  {
   "cell_type": "code",
   "execution_count": 26,
   "id": "50ea9f96",
   "metadata": {},
   "outputs": [
    {
     "ename": "NameError",
     "evalue": "name 'a' is not defined",
     "output_type": "error",
     "traceback": [
      "\u001b[1;31m---------------------------------------------------------------------------\u001b[0m",
      "\u001b[1;31mNameError\u001b[0m                                 Traceback (most recent call last)",
      "\u001b[1;32m<ipython-input-26-cea04d95ea65>\u001b[0m in \u001b[0;36m<module>\u001b[1;34m\u001b[0m\n\u001b[1;32m----> 1\u001b[1;33m \u001b[0mc\u001b[0m \u001b[1;33m=\u001b[0m \u001b[0mStu_fn\u001b[0m\u001b[1;33m(\u001b[0m\u001b[0ma\u001b[0m\u001b[1;33m)\u001b[0m\u001b[1;33m\u001b[0m\u001b[1;33m\u001b[0m\u001b[0m\n\u001b[0m\u001b[0;32m      2\u001b[0m \u001b[0mc\u001b[0m\u001b[1;33m.\u001b[0m\u001b[0ma\u001b[0m\u001b[1;33m\u001b[0m\u001b[1;33m\u001b[0m\u001b[0m\n",
      "\u001b[1;31mNameError\u001b[0m: name 'a' is not defined"
     ]
    }
   ],
   "source": [
    "c = Stu_fn(a)\n",
    "c.a      #we cannot use the variable defined in a functoin outside "
   ]
  },
  {
   "cell_type": "code",
   "execution_count": null,
   "id": "2081a136",
   "metadata": {},
   "outputs": [],
   "source": []
  }
 ],
 "metadata": {
  "kernelspec": {
   "display_name": "Python 3",
   "language": "python",
   "name": "python3"
  },
  "language_info": {
   "codemirror_mode": {
    "name": "ipython",
    "version": 3
   },
   "file_extension": ".py",
   "mimetype": "text/x-python",
   "name": "python",
   "nbconvert_exporter": "python",
   "pygments_lexer": "ipython3",
   "version": "3.8.8"
  }
 },
 "nbformat": 4,
 "nbformat_minor": 5
}
