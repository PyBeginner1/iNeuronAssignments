{
 "cells": [
  {
   "cell_type": "markdown",
   "id": "d0043673",
   "metadata": {},
   "source": [
    "# Advance Assignment 18"
   ]
  },
  {
   "cell_type": "markdown",
   "id": "caaed127",
   "metadata": {},
   "source": [
    "## Q1. Describe the differences between text and binary files in a single paragraph.\n",
    "\n",
    "Ans. Text files are used to store data more user friendly. Binary files are used to store data more compactly. <br>\n",
    "In the text file, a special character whose ASCII value is 26 inserted after the last character to mark the end of file.\n",
    "In the binary file no such character is present"
   ]
  },
  {
   "cell_type": "markdown",
   "id": "8de4daeb",
   "metadata": {},
   "source": [
    "## Q2. What are some scenarios where using text files will be the better option? When would you like to use binary files instead of text files?\n",
    "\n",
    "Ans. In text mode, the program writes data to file as text characters which is more readable, and in binary mode, the program writes data to files as 0/1 bits."
   ]
  },
  {
   "cell_type": "markdown",
   "id": "9fce5918",
   "metadata": {},
   "source": [
    "## Q3. What are some of the issues with using binary operations to read and write a Python integer directly to disc?\n",
    "\n",
    "Ans. Binary operations deal with raw data and we need to identify how many bytes one would read or write."
   ]
  },
  {
   "cell_type": "markdown",
   "id": "2cdbb333",
   "metadata": {},
   "source": [
    "## Q4. Describe a benefit of using the with keyword instead of explicitly opening a file.\n",
    "\n",
    "Ans. Using with means that the file will be closed as soon as you leave the block. This is beneficial because closing a file is something that can easily be forgotten and ties up resources that you no longer need."
   ]
  },
  {
   "cell_type": "markdown",
   "id": "59dc3e78",
   "metadata": {},
   "source": [
    "## Q5. Does Python have the trailing newline while reading a line of text? Does Python append a newline when you write a line of text?\n",
    "\n",
    "Ans. Yes, Python has the trailing newline while reading a line of text."
   ]
  },
  {
   "cell_type": "markdown",
   "id": "13ec033e",
   "metadata": {},
   "source": [
    "## Q6. What file operations enable for random-access operation\n",
    "\n",
    "Ans. Python has a built-in **open()** function to open a file and **close()** method which closes the file to free up the resources. "
   ]
  },
  {
   "cell_type": "markdown",
   "id": "83eb18fe",
   "metadata": {},
   "source": [
    "## Q7. When do you think you'll use the struct package the most?\n",
    "\n",
    "Ans. The **struct** module in Python is used to perform conversions between Python values and C structs represented as Python bytes objects."
   ]
  },
  {
   "cell_type": "markdown",
   "id": "45f7c34c",
   "metadata": {},
   "source": [
    "## Q8. When is pickling the best option?\n",
    "\n",
    "Ans. **Pickling** is used to used in serializing and deserializing a Python object structure."
   ]
  },
  {
   "cell_type": "markdown",
   "id": "ad4ff5a7",
   "metadata": {},
   "source": [
    "## Q9. When will it be best to use the shelve package?\n",
    "\n",
    "Ans. The **shelve** module can be used as a simple persistent storage option for Python objects when a relational database is overkill. "
   ]
  },
  {
   "cell_type": "markdown",
   "id": "af0c51b5",
   "metadata": {},
   "source": [
    "## Q10. What is a special restriction when using the shelve package, as opposed to using other data dictionaries?\n",
    "\n",
    "Ans. Only string data type can be used as key in this special dictionary object, whereas any picklable Python object can be used as value."
   ]
  },
  {
   "cell_type": "code",
   "execution_count": null,
   "id": "c3a8e7dc",
   "metadata": {},
   "outputs": [],
   "source": []
  }
 ],
 "metadata": {
  "kernelspec": {
   "display_name": "Python 3",
   "language": "python",
   "name": "python3"
  },
  "language_info": {
   "codemirror_mode": {
    "name": "ipython",
    "version": 3
   },
   "file_extension": ".py",
   "mimetype": "text/x-python",
   "name": "python",
   "nbconvert_exporter": "python",
   "pygments_lexer": "ipython3",
   "version": "3.8.8"
  }
 },
 "nbformat": 4,
 "nbformat_minor": 5
}
