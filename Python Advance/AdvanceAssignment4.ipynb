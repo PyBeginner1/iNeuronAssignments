{
 "cells": [
  {
   "cell_type": "markdown",
   "id": "c7192ebf",
   "metadata": {},
   "source": [
    "# AdvanceAssignment4"
   ]
  },
  {
   "cell_type": "markdown",
   "id": "63bd6089",
   "metadata": {},
   "source": [
    "## Q1. Which two operator overloading methods can you use in your classes to support iteration?\n",
    "\n",
    "Ans. **__iter__** and **__next__** are the two operator overloading methods.<br>\n",
    "**__iter__** returns the iterator object and **__next__** returns the next value."
   ]
  },
  {
   "cell_type": "markdown",
   "id": "705e8f77",
   "metadata": {},
   "source": [
    "## Q2. In what contexts do the two operator overloading methods manage printing?\n",
    "\n",
    "Ans. **__str__** and **__repr__** are two operator overloading methods that manage printing.\n",
    "\n",
    "- `__str__` is a user-friendly representation of the object which can be read by normal programmer.\n",
    "- `__repr__` is used to obtain parsable string representation of an object."
   ]
  },
  {
   "cell_type": "code",
   "execution_count": 3,
   "id": "f0d6353b",
   "metadata": {},
   "outputs": [
    {
     "name": "stdout",
     "output_type": "stream",
     "text": [
      "Shashvath has attained 90 marks\n"
     ]
    }
   ],
   "source": [
    "class Student:\n",
    "    def __init__(self, name, marks):\n",
    "        self.name = name\n",
    "        self.marks = marks\n",
    "        \n",
    "    def __str__(self):\n",
    "        return f'{self.name} has attained {self.marks} marks'\n",
    "    \n",
    "a = Student('Shashvath', 90)\n",
    "print(a)"
   ]
  },
  {
   "cell_type": "markdown",
   "id": "77577db9",
   "metadata": {},
   "source": [
    "## Q3. In a class, how do you intercept slice operations?\n",
    "\n",
    "Ans. **__getitem__** method is used for slice operations. **Slice** is a constructor that represents set of indices that the range specifies.\n",
    "\n",
    "Syntax:<br>\n",
    "__getitem__(slice(start, stop, step))"
   ]
  },
  {
   "cell_type": "markdown",
   "id": "21aec396",
   "metadata": {},
   "source": [
    "## Q4. In a class, how do you capture in-place addition?\n",
    "\n",
    "Ans. **iadd()** - This function is used to assign and add the current values and it does a += b in-place addition operation."
   ]
  },
  {
   "cell_type": "markdown",
   "id": "498fc646",
   "metadata": {},
   "source": [
    "## Q5. When is it appropriate to use operator overloading?\n",
    "\n",
    "Ans. Opearator overloading means providing extended meaning beyond their operational meaning. We use '+' operator two add 2 integers or concatenate two strings or merge two lists."
   ]
  },
  {
   "cell_type": "code",
   "execution_count": null,
   "id": "031669af",
   "metadata": {},
   "outputs": [],
   "source": []
  }
 ],
 "metadata": {
  "kernelspec": {
   "display_name": "Python 3",
   "language": "python",
   "name": "python3"
  },
  "language_info": {
   "codemirror_mode": {
    "name": "ipython",
    "version": 3
   },
   "file_extension": ".py",
   "mimetype": "text/x-python",
   "name": "python",
   "nbconvert_exporter": "python",
   "pygments_lexer": "ipython3",
   "version": "3.8.8"
  }
 },
 "nbformat": 4,
 "nbformat_minor": 5
}
