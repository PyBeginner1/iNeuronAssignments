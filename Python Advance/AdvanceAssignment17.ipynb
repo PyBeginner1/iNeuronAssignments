{
 "cells": [
  {
   "cell_type": "markdown",
   "id": "81edf53c",
   "metadata": {},
   "source": [
    "# Advance Assignment 17"
   ]
  },
  {
   "cell_type": "markdown",
   "id": "d30773a0",
   "metadata": {},
   "source": [
    "## Q1. Explain the difference between greedy and non-greedy syntax with visual terms in as few words as possible. What is the bare minimum effort required to transform a greedy pattern into a non-greedy one? What characters or characters can you introduce or change?\n",
    "\n",
    "Ans. The **greedy match** will try to match as many repetitions of the quantified pattern as possible. The **non-greedy** match will try to match as few repetitions of the quantified pattern as possible."
   ]
  },
  {
   "cell_type": "code",
   "execution_count": 4,
   "id": "9162a2cb",
   "metadata": {},
   "outputs": [
    {
     "name": "stdout",
     "output_type": "stream",
     "text": [
      "['aaaa']\n",
      "['a', 'a', 'a', 'a']\n"
     ]
    }
   ],
   "source": [
    "import re\n",
    "\n",
    "print(re.findall('a+', 'aaaa'))\n",
    "\n",
    "print(re.findall('a+?', 'aaaa'))"
   ]
  },
  {
   "cell_type": "markdown",
   "id": "78f13bd1",
   "metadata": {},
   "source": [
    "## Q2. When exactly does greedy versus non-greedy make a difference?  What if you're looking for a non-greedy match but the only one available is greedy?\n",
    "\n",
    "Ans. **Greedy match** finds one match and is done with it. The **non-greedy** match finds multiple matches which leads to far more processing and memory overhead. "
   ]
  },
  {
   "cell_type": "markdown",
   "id": "ce76a42d",
   "metadata": {},
   "source": [
    "## Q3. In a simple match of a string, which looks only for one match and does not do any replacement, is the use of a nontagged group likely to make any practical difference?\n",
    "\n",
    "Ans. Non tagged group will not make any difference."
   ]
  },
  {
   "cell_type": "markdown",
   "id": "ef10f1a1",
   "metadata": {},
   "source": [
    "## Q4. Describe a scenario in which using a nontagged category would have a significant impact on the program's outcomes.\n",
    "\n",
    "Ans.  Here in the below Code Snippet `.` decimal is not tagged or captured. It will useful in scenarios where the separator of value in a string is of no use and we need to capture only the values."
   ]
  },
  {
   "cell_type": "code",
   "execution_count": 5,
   "id": "01240f6b",
   "metadata": {},
   "outputs": [
    {
     "data": {
      "text/plain": [
       "('135', '456')"
      ]
     },
     "execution_count": 5,
     "metadata": {},
     "output_type": "execute_result"
    }
   ],
   "source": [
    "import re\n",
    "text='135.456'\n",
    "pattern=r'(\\d+)(?:.)(\\d+)'\n",
    "regobj=re.compile(pattern)\n",
    "matobj=regobj.search(text)\n",
    "matobj.groups()"
   ]
  },
  {
   "cell_type": "markdown",
   "id": "7bf1a0cc",
   "metadata": {},
   "source": [
    "## Q5. Unlike a normal regex pattern, a look-ahead condition does not consume the characters it examines. Describe a situation in which this could make a difference in the results of your programme.\n",
    "\n",
    "Ans. Lookahead is used as an assertion in Python regular expressions to determine success or failure whether the pattern is ahead i.e to the right of the parser’s current position. They don’t match anything. Hence, they are called as zero-width assertions.\n",
    "\n",
    "While counting the number of multiple lines or sentence in a string the look ahead makes a difference, without which we wont get the correct count of lines or sentences in a string."
   ]
  },
  {
   "cell_type": "markdown",
   "id": "0798aa69",
   "metadata": {},
   "source": [
    "## Q6. In standard expressions, what is the difference between positive look-ahead and negative look-ahead?\n",
    "\n",
    "Ans. **Positive lookahead**: (?= «pattern») matches if pattern matches what comes after the current location in the input string. **Negative lookahead**: (?! «pattern») matches if pattern does not match what comes after the current location in the input string."
   ]
  },
  {
   "cell_type": "markdown",
   "id": "bbfce986",
   "metadata": {},
   "source": [
    "## Q7. What is the benefit of referring to groups by name rather than by number in a standard expression?\n",
    "\n",
    "Ans. Groups are used in Python in order to reference regular expression matches. By default, groups, without names, are referenced according to numerical order starting with 1. Named groups makes code more readable and more understandable rather than the default numerical referencing."
   ]
  },
  {
   "cell_type": "markdown",
   "id": "6a5b7536",
   "metadata": {},
   "source": [
    "## Q8. Can you identify repeated items within a target string using named groups, as in \"The cow jumped over the moon\"?"
   ]
  },
  {
   "cell_type": "code",
   "execution_count": 19,
   "id": "2ac76e67",
   "metadata": {},
   "outputs": [
    {
     "data": {
      "text/plain": [
       "['The', 'the']"
      ]
     },
     "execution_count": 19,
     "metadata": {},
     "output_type": "execute_result"
    }
   ],
   "source": [
    "import re\n",
    "\n",
    "target_string = \"The price of PINEAPPLE ice cream is 20\"\n",
    "\n",
    "# two groups enclosed in separate ( and ) bracket\n",
    "result = re.compile(r'(?P<w1>The)',re.IGNORECASE)\n",
    "result.findall(text)"
   ]
  },
  {
   "cell_type": "markdown",
   "id": "054441b0",
   "metadata": {},
   "source": [
    "## Q9. When parsing a string, what is at least one thing that the Scanner interface does for you that the re.findall feature does not?\n",
    "\n",
    "Ans. **re.findall()** module is used to search for “all” occurrences that match a given pattern. **re.search()** method stops after the first match, so this is best suited for testing a regular expression more than extracting data."
   ]
  },
  {
   "cell_type": "markdown",
   "id": "f4311961",
   "metadata": {},
   "source": [
    "## Q10. Does a scanner object have to be named scanner?\n",
    "\n",
    "Ans. No restrictions in naming."
   ]
  },
  {
   "cell_type": "code",
   "execution_count": null,
   "id": "1f87a138",
   "metadata": {},
   "outputs": [],
   "source": []
  }
 ],
 "metadata": {
  "kernelspec": {
   "display_name": "Python 3",
   "language": "python",
   "name": "python3"
  },
  "language_info": {
   "codemirror_mode": {
    "name": "ipython",
    "version": 3
   },
   "file_extension": ".py",
   "mimetype": "text/x-python",
   "name": "python",
   "nbconvert_exporter": "python",
   "pygments_lexer": "ipython3",
   "version": "3.8.8"
  }
 },
 "nbformat": 4,
 "nbformat_minor": 5
}
