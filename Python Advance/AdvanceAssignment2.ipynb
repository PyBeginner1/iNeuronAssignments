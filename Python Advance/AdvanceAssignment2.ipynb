{
 "cells": [
  {
   "cell_type": "markdown",
   "id": "72469c3c",
   "metadata": {},
   "source": [
    "# Advance Assignment 2"
   ]
  },
  {
   "cell_type": "markdown",
   "id": "4f84fef0",
   "metadata": {},
   "source": [
    "## Q1. What is the relationship between classes and modules?\n",
    "\n",
    "Ans. Class is used to define a blueprint for a given object whereas a module is a piece of code that can be used in another program."
   ]
  },
  {
   "cell_type": "markdown",
   "id": "c054e9e2",
   "metadata": {},
   "source": [
    "## Q2. How do you make instances and classes?\n",
    "\n",
    "Ans. For creating a instance we call the classname and pass the arguments metioned in `__init__` method. Classes can be created using **class** keyword."
   ]
  },
  {
   "cell_type": "markdown",
   "id": "2cc02f6c",
   "metadata": {},
   "source": [
    "## Q3. Where and how should be class attributes created?\n",
    "\n",
    "Ans. Class attributes belongs to class and will be shared to all instances of class. It is created at top."
   ]
  },
  {
   "cell_type": "code",
   "execution_count": 1,
   "id": "3413b0ca",
   "metadata": {},
   "outputs": [],
   "source": [
    "#Example\n",
    "class Student:\n",
    "    min_age = 18           #class attribute\n",
    "    def __init__(self, company, course):\n",
    "        self.company = company\n",
    "        self.course = course"
   ]
  },
  {
   "cell_type": "markdown",
   "id": "52052e99",
   "metadata": {},
   "source": [
    "## Q4. Where and how are instance attributes created?\n",
    "\n",
    "Ans. Instance attribute are passed to the class when an insatnce of class is created. Instance attributes are mentioned in `__init__` method."
   ]
  },
  {
   "cell_type": "code",
   "execution_count": 2,
   "id": "8104a478",
   "metadata": {},
   "outputs": [],
   "source": [
    "#Example\n",
    "class Student:\n",
    "    min_age = 18         \n",
    "    def __init__(self, company, course):\n",
    "        self.company = company  #instance attribute\n",
    "        self.course = course    #instance attribute"
   ]
  },
  {
   "cell_type": "markdown",
   "id": "531a2221",
   "metadata": {},
   "source": [
    "## Q5. What does the term \"self\" in a Python class mean\n",
    "\n",
    "Ans. **self** is a pointer which represents the instance of the class. By using `self` we can access attributes and methods of a class in python."
   ]
  },
  {
   "cell_type": "markdown",
   "id": "14b26a95",
   "metadata": {},
   "source": [
    "## Q6. How does a Python class handle operator overloading?\n",
    "\n",
    "Ans. The Operator overloading means provide extended meaning beyond their predefined operational meaning. We use '+' operator to add two integers as well as 2 or more strings. This is acheivable because '+' operator is overloaded with int and str class."
   ]
  },
  {
   "cell_type": "markdown",
   "id": "2976eb3e",
   "metadata": {},
   "source": [
    "## Q7. When do you consider allowing operator overloading of your classes?\n",
    "\n",
    "Ans. When we want to have extended meaning for the same operator. "
   ]
  },
  {
   "cell_type": "markdown",
   "id": "d72be9ec",
   "metadata": {},
   "source": [
    "## Q8. What is the most popular form of operator overloading?\n",
    "\n",
    "Ans. Magic methods in Python are special method that begin and end with doublescore. \n",
    "\n",
    "Ex: **__str__()** method controls how an object of the class is printed."
   ]
  },
  {
   "cell_type": "markdown",
   "id": "5eaa1571",
   "metadata": {},
   "source": [
    "## Q9. What are the two most important concepts to grasp in order to comprehend Python OOP code?\n",
    "\n",
    "Ans. **Class** and **Object** are two most important concepts.\n",
    "\n",
    "Other Concepts:\n",
    "- Inheritence\n",
    "- Abstraction\n",
    "- Polymorphism\n",
    "- Encapsulation"
   ]
  },
  {
   "cell_type": "code",
   "execution_count": null,
   "id": "bc92f251",
   "metadata": {},
   "outputs": [],
   "source": []
  }
 ],
 "metadata": {
  "kernelspec": {
   "display_name": "Python 3",
   "language": "python",
   "name": "python3"
  },
  "language_info": {
   "codemirror_mode": {
    "name": "ipython",
    "version": 3
   },
   "file_extension": ".py",
   "mimetype": "text/x-python",
   "name": "python",
   "nbconvert_exporter": "python",
   "pygments_lexer": "ipython3",
   "version": "3.8.8"
  }
 },
 "nbformat": 4,
 "nbformat_minor": 5
}
