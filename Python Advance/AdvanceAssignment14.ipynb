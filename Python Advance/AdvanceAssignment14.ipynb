{
 "cells": [
  {
   "cell_type": "markdown",
   "id": "1b8d869c",
   "metadata": {},
   "source": [
    "## Advance Assignment 14"
   ]
  },
  {
   "cell_type": "markdown",
   "id": "763a70d0",
   "metadata": {},
   "source": [
    "Q1. Is an assignment operator like += only for show? Is it possible that it would lead to faster results at the runtime?\n",
    "\n",
    "Ans. **+=** operator is used to increment a variable with itself. It leads to faster processing."
   ]
  },
  {
   "cell_type": "markdown",
   "id": "e66efd19",
   "metadata": {},
   "source": [
    "## Q2. What is the smallest number of statements you'd have to write in most programming languages to replace the Python expression a, b = a + b, a?\n",
    "\n",
    "Ans. In python, we can first assign a value for a & b in a single line, and the operation in the next line. Hence, it would take two lines in Python."
   ]
  },
  {
   "cell_type": "code",
   "execution_count": 1,
   "id": "9948398c",
   "metadata": {},
   "outputs": [
    {
     "name": "stdout",
     "output_type": "stream",
     "text": [
      "30\n",
      "10\n"
     ]
    }
   ],
   "source": [
    "a,b = 10, 20\n",
    "a, b = a + b, a\n",
    "print(a)\n",
    "print(b)"
   ]
  },
  {
   "cell_type": "markdown",
   "id": "14b82b50",
   "metadata": {},
   "source": [
    "## Q3. In Python, what is the most effective way to set a list of 100 integers to 0?"
   ]
  },
  {
   "cell_type": "code",
   "execution_count": 12,
   "id": "177f1d65",
   "metadata": {},
   "outputs": [
    {
     "name": "stdout",
     "output_type": "stream",
     "text": [
      "[0, 0, 0, 0, 0, 0, 0, 0, 0, 0, 0, 0, 0, 0, 0, 0, 0, 0, 0, 0, 0, 0, 0, 0, 0, 0, 0, 0, 0, 0, 0, 0, 0, 0, 0, 0, 0, 0, 0, 0, 0, 0, 0, 0, 0, 0, 0, 0, 0, 0, 0, 0, 0, 0, 0, 0, 0, 0, 0, 0, 0, 0, 0, 0, 0, 0, 0, 0, 0, 0, 0, 0, 0, 0, 0, 0, 0, 0, 0, 0, 0, 0, 0, 0, 0, 0, 0, 0, 0, 0, 0, 0, 0, 0, 0, 0, 0, 0, 0, 0, 0]\n"
     ]
    }
   ],
   "source": [
    "#Using list comprehension\n",
    "ls = [0 for i in range(101)]\n",
    "print(ls)"
   ]
  },
  {
   "cell_type": "code",
   "execution_count": 11,
   "id": "a108f6f4",
   "metadata": {},
   "outputs": [
    {
     "name": "stdout",
     "output_type": "stream",
     "text": [
      "[0, 0, 0, 0, 0, 0, 0, 0, 0, 0, 0, 0, 0, 0, 0, 0, 0, 0, 0, 0, 0, 0, 0, 0, 0, 0, 0, 0, 0, 0, 0, 0, 0, 0, 0, 0, 0, 0, 0, 0, 0, 0, 0, 0, 0, 0, 0, 0, 0, 0, 0, 0, 0, 0, 0, 0, 0, 0, 0, 0, 0, 0, 0, 0, 0, 0, 0, 0, 0, 0, 0, 0, 0, 0, 0, 0, 0, 0, 0, 0, 0, 0, 0, 0, 0, 0, 0, 0, 0, 0, 0, 0, 0, 0, 0, 0, 0, 0, 0, 0]\n"
     ]
    }
   ],
   "source": [
    "ls = [0] * 100\n",
    "print(ls)"
   ]
  },
  {
   "cell_type": "markdown",
   "id": "6e41f0bd",
   "metadata": {},
   "source": [
    "## Q4. What is the most effective way to initialise a list of 99 integers that repeats the sequence 1, 2, 3? S If necessary, show step-by-step instructions on how to accomplish this."
   ]
  },
  {
   "cell_type": "code",
   "execution_count": 10,
   "id": "553ae8b9",
   "metadata": {},
   "outputs": [
    {
     "name": "stdout",
     "output_type": "stream",
     "text": [
      "[1, 2, 3, 1, 2, 3, 1, 2, 3, 1, 2, 3, 1, 2, 3, 1, 2, 3, 1, 2, 3, 1, 2, 3, 1, 2, 3, 1, 2, 3, 1, 2, 3, 1, 2, 3, 1, 2, 3, 1, 2, 3, 1, 2, 3, 1, 2, 3, 1, 2, 3, 1, 2, 3, 1, 2, 3, 1, 2, 3, 1, 2, 3, 1, 2, 3, 1, 2, 3, 1, 2, 3, 1, 2, 3, 1, 2, 3, 1, 2, 3, 1, 2, 3, 1, 2, 3, 1, 2, 3, 1, 2, 3, 1, 2, 3, 1, 2, 3]\n",
      "99\n"
     ]
    }
   ],
   "source": [
    "ls = [1,2,3]\n",
    "ls *= 33\n",
    "print(ls)\n",
    "print(len(ls))"
   ]
  },
  {
   "cell_type": "markdown",
   "id": "1eb683a5",
   "metadata": {},
   "source": [
    "## Q5. If you're using IDLE to run a Python application, explain how to print a multidimensional list as efficiently?"
   ]
  },
  {
   "cell_type": "code",
   "execution_count": 25,
   "id": "3656e0b7",
   "metadata": {},
   "outputs": [
    {
     "name": "stdout",
     "output_type": "stream",
     "text": [
      "1\n",
      "2\n",
      "3\n",
      "4\n",
      "5\n",
      "6\n",
      "7\n",
      "8\n",
      "9\n",
      "0\n"
     ]
    }
   ],
   "source": [
    "ls = [[1,2],[3,4],[5,6],[7,8],[9,0]]\n",
    "for i in range(len(ls)):\n",
    "    for j in range(len(ls[i])):\n",
    "        #print(j, end = ' ')\n",
    "        print(ls[i][j])"
   ]
  },
  {
   "cell_type": "markdown",
   "id": "cf266948",
   "metadata": {},
   "source": [
    "## Q6. Is it possible to use list comprehension with a string? If so, how can you go about doing it?"
   ]
  },
  {
   "cell_type": "code",
   "execution_count": 26,
   "id": "13a8b11b",
   "metadata": {},
   "outputs": [
    {
     "data": {
      "text/plain": [
       "['C', 'r', 'i', 'c', 'k', 'e', 't']"
      ]
     },
     "execution_count": 26,
     "metadata": {},
     "output_type": "execute_result"
    }
   ],
   "source": [
    "list_str = [i for i in 'Cricket']\n",
    "list_str"
   ]
  },
  {
   "cell_type": "markdown",
   "id": "6dc9202f",
   "metadata": {},
   "source": [
    "## Q7. From the command line, how do you get support with a user-written Python programme? Is this possible from inside IDLE?"
   ]
  },
  {
   "cell_type": "markdown",
   "id": "07d92a57",
   "metadata": {},
   "source": [
    "Get support with a user-written Python Programme: Start a command prompt (Windows) or terminal window (Linux/Mac). If the current working directory is the same as the location in which you saved the file, you can simply specify the filename as a command-line argument to the Python interpreter.\n",
    "\n",
    "Get support with a User-written Python Program from IDLE: You can also create script files and run them in IDLE. From the Shell window menu, select File → New File. That should open an additional editing window. Type in the code to be executed. From the menu in that window, select File → Save or File → Save As… and save the file to disk. Then select Run → Run Module. The output should appear back in the interpreter"
   ]
  },
  {
   "cell_type": "markdown",
   "id": "be584da4",
   "metadata": {},
   "source": [
    "## Q8. Functions are said to be “first-class objects” in Python but not in most other languages, such as C++ or Java. What can you do in Python with a function (callable object) that you can't do in C or C++?\n",
    "\n",
    "Ans. We use functions in python because:\n",
    "- Abstraction and Reusability.\n",
    "- Modularity (Functions allow a complex process to be broken into smaller steps).\n",
    "- Namespace seperation (Namespace is a region of a program where an identifier has meaning).\n",
    "\n",
    "Some differences between C++ and Python:\n",
    "- Python uses Garbage Collection whereas C++ does not.\n",
    "- C++ is a statically typed language, while Python is a dynamically typed language.\n",
    "- Python is easier to use than C++."
   ]
  },
  {
   "cell_type": "markdown",
   "id": "7d9d1fff",
   "metadata": {},
   "source": [
    "## Q9. How do you distinguish between a wrapper, a wrapped feature, and a decorator?\n",
    "\n",
    "Ans. Wrappers around the functions are also knows as decorators which are a very powerful and useful tool in Python since it allows programmers to modify the behavior of function or class. Decorators allow us to wrap another function in order to extend the behavior of the wrapped function, without permanently modifying it. In Decorators, functions are taken as the argument into another function and then called inside the wrapper function."
   ]
  },
  {
   "cell_type": "markdown",
   "id": "0a196677",
   "metadata": {},
   "source": [
    "## Q10. If a function is a generator function, what does it return?\n",
    "\n",
    "Ans. A generator is a special type of function which does not return a single value, instead it returns an iterator object with a sequence of values."
   ]
  },
  {
   "cell_type": "markdown",
   "id": "2d4dee7d",
   "metadata": {},
   "source": [
    "## Q11. What is the one improvement that must be made to a function in order for it to become a generator function in the Python language?\n",
    "\n",
    "Ans. We can use **yield** function."
   ]
  },
  {
   "cell_type": "code",
   "execution_count": 27,
   "id": "8f24268e",
   "metadata": {},
   "outputs": [
    {
     "data": {
      "text/plain": [
       "<generator object square at 0x0000014EE8D56040>"
      ]
     },
     "execution_count": 27,
     "metadata": {},
     "output_type": "execute_result"
    }
   ],
   "source": [
    "def square():\n",
    "    for i in range(10):\n",
    "        yield i*i\n",
    "\n",
    "square()"
   ]
  },
  {
   "cell_type": "code",
   "execution_count": 29,
   "id": "11bdc798",
   "metadata": {},
   "outputs": [
    {
     "name": "stdout",
     "output_type": "stream",
     "text": [
      "0\n",
      "1\n",
      "4\n",
      "9\n",
      "16\n",
      "25\n",
      "36\n",
      "49\n",
      "64\n",
      "81\n"
     ]
    }
   ],
   "source": [
    "for i in square():\n",
    "    print(i)"
   ]
  },
  {
   "cell_type": "markdown",
   "id": "78982a60",
   "metadata": {},
   "source": [
    "## Q12. Identify at least one benefit of generators.\n",
    "\n",
    "Ans. Benefits:\n",
    "- Generation expressions are memory-efficient in comparison to list comprehensions.\n",
    "- Generators are time efficient when compared to list comprehensions.\n",
    "- Generators is a readable shortcut for creating iterators. "
   ]
  },
  {
   "cell_type": "code",
   "execution_count": null,
   "id": "60cda9e4",
   "metadata": {},
   "outputs": [],
   "source": []
  }
 ],
 "metadata": {
  "kernelspec": {
   "display_name": "Python 3",
   "language": "python",
   "name": "python3"
  },
  "language_info": {
   "codemirror_mode": {
    "name": "ipython",
    "version": 3
   },
   "file_extension": ".py",
   "mimetype": "text/x-python",
   "name": "python",
   "nbconvert_exporter": "python",
   "pygments_lexer": "ipython3",
   "version": "3.8.8"
  }
 },
 "nbformat": 4,
 "nbformat_minor": 5
}
