{
 "cells": [
  {
   "cell_type": "markdown",
   "id": "8af06167",
   "metadata": {},
   "source": [
    "# Advance Assignment 12"
   ]
  },
  {
   "cell_type": "markdown",
   "id": "3cd78df4",
   "metadata": {},
   "source": [
    "## Q1. Does assigning a value to a string's indexed character violate Python's string immutability?\n",
    "\n",
    "Ans. It will result in an **TypeError**."
   ]
  },
  {
   "cell_type": "code",
   "execution_count": 1,
   "id": "883c1ab7",
   "metadata": {},
   "outputs": [
    {
     "ename": "TypeError",
     "evalue": "'str' object does not support item assignment",
     "output_type": "error",
     "traceback": [
      "\u001b[1;31m---------------------------------------------------------------------------\u001b[0m",
      "\u001b[1;31mTypeError\u001b[0m                                 Traceback (most recent call last)",
      "\u001b[1;32m<ipython-input-1-e9866adb1e99>\u001b[0m in \u001b[0;36m<module>\u001b[1;34m\u001b[0m\n\u001b[0;32m      1\u001b[0m \u001b[0mstring\u001b[0m \u001b[1;33m=\u001b[0m \u001b[1;34m'Hercules'\u001b[0m\u001b[1;33m\u001b[0m\u001b[1;33m\u001b[0m\u001b[0m\n\u001b[1;32m----> 2\u001b[1;33m \u001b[0mstring\u001b[0m\u001b[1;33m[\u001b[0m\u001b[1;36m0\u001b[0m\u001b[1;33m]\u001b[0m \u001b[1;33m=\u001b[0m \u001b[1;34m'S'\u001b[0m\u001b[1;33m\u001b[0m\u001b[1;33m\u001b[0m\u001b[0m\n\u001b[0m",
      "\u001b[1;31mTypeError\u001b[0m: 'str' object does not support item assignment"
     ]
    }
   ],
   "source": [
    "string = 'Hercules'\n",
    "string[0] = 'S'"
   ]
  },
  {
   "cell_type": "markdown",
   "id": "c443ce5c",
   "metadata": {},
   "source": [
    "## Q2. Does using the += operator to concatenate strings violate Python's string immutability? Why or why not?\n",
    "\n",
    "Ans. `+=` operator does not violate string's immutability."
   ]
  },
  {
   "cell_type": "code",
   "execution_count": 2,
   "id": "204ab45e",
   "metadata": {},
   "outputs": [
    {
     "name": "stdout",
     "output_type": "stream",
     "text": [
      "HerculesHigh\n"
     ]
    }
   ],
   "source": [
    "string = 'Hercules'\n",
    "string += 'High'\n",
    "print(string)"
   ]
  },
  {
   "cell_type": "markdown",
   "id": "fc7f7e21",
   "metadata": {},
   "source": [
    "## Q3. In Python, how many different ways are there to index a character?"
   ]
  },
  {
   "cell_type": "code",
   "execution_count": 3,
   "id": "70e5a168",
   "metadata": {},
   "outputs": [
    {
     "name": "stdout",
     "output_type": "stream",
     "text": [
      "I\n"
     ]
    }
   ],
   "source": [
    "# Positive Indexing\n",
    "string = 'I am doing a Full Stack DS course in iNeuron'\n",
    "\n",
    "print(string[0])"
   ]
  },
  {
   "cell_type": "code",
   "execution_count": 4,
   "id": "77888c6c",
   "metadata": {},
   "outputs": [
    {
     "data": {
      "text/plain": [
       "'n'"
      ]
     },
     "execution_count": 4,
     "metadata": {},
     "output_type": "execute_result"
    }
   ],
   "source": [
    "# Negative indexing\n",
    "string = 'I am doing a Full Stack DS course in iNeuron'\n",
    "\n",
    "string[-1]"
   ]
  },
  {
   "cell_type": "markdown",
   "id": "7fc2929b",
   "metadata": {},
   "source": [
    "## Q4. What is the relationship between indexing and slicing?\n",
    "\n",
    "Ans. **Indexing** means referring to an element of an iterrable by mentioning its position within the iterrable. **Slicing** in Python is a feature that enables accessing parts of the sequence."
   ]
  },
  {
   "cell_type": "code",
   "execution_count": 5,
   "id": "3e15d3bc",
   "metadata": {},
   "outputs": [
    {
     "name": "stdout",
     "output_type": "stream",
     "text": [
      "I\n"
     ]
    }
   ],
   "source": [
    "#Index\n",
    "string = 'I am doing a Full Stack DS course in iNeuron'\n",
    "\n",
    "print(string[0])"
   ]
  },
  {
   "cell_type": "code",
   "execution_count": 6,
   "id": "e18e7bdd",
   "metadata": {},
   "outputs": [
    {
     "data": {
      "text/plain": [
       "' am doin'"
      ]
     },
     "execution_count": 6,
     "metadata": {},
     "output_type": "execute_result"
    }
   ],
   "source": [
    "#Slicing\n",
    "string = 'I am doing a Full Stack DS course in iNeuron'\n",
    "\n",
    "string[1:9]"
   ]
  },
  {
   "cell_type": "markdown",
   "id": "fa7df097",
   "metadata": {},
   "source": [
    "## Q5. What is an indexed character's exact data type? What is the data form of a slicing-generated substring?\n",
    "\n",
    "Ans. Both are `str`."
   ]
  },
  {
   "cell_type": "code",
   "execution_count": 7,
   "id": "7e05375e",
   "metadata": {},
   "outputs": [
    {
     "name": "stdout",
     "output_type": "stream",
     "text": [
      "<class 'str'>\n"
     ]
    }
   ],
   "source": [
    "#Indexing\n",
    "string = 'I am doing a Full Stack DS course in iNeuron'\n",
    "\n",
    "print(type(string[0]))"
   ]
  },
  {
   "cell_type": "code",
   "execution_count": 9,
   "id": "9c02657b",
   "metadata": {},
   "outputs": [
    {
     "name": "stdout",
     "output_type": "stream",
     "text": [
      "<class 'str'>\n"
     ]
    }
   ],
   "source": [
    "#Slicing\n",
    "string = 'I am doing a Full Stack DS course in iNeuron'\n",
    "\n",
    "print(type(string[1:9]))"
   ]
  },
  {
   "cell_type": "markdown",
   "id": "e69e72c8",
   "metadata": {},
   "source": [
    "## Q6. What is the relationship between string and character \"types\" in Python?\n",
    "\n",
    "Ans. If the variable is mentioned within quotation it is a string."
   ]
  },
  {
   "cell_type": "code",
   "execution_count": 10,
   "id": "71889278",
   "metadata": {},
   "outputs": [
    {
     "name": "stdout",
     "output_type": "stream",
     "text": [
      "<class 'str'>\n"
     ]
    }
   ],
   "source": [
    "a = '123.2'\n",
    "print(type(a))"
   ]
  },
  {
   "cell_type": "code",
   "execution_count": 11,
   "id": "c95fd204",
   "metadata": {},
   "outputs": [
    {
     "name": "stdout",
     "output_type": "stream",
     "text": [
      "<class 'str'>\n",
      "<class 'bool'>\n"
     ]
    }
   ],
   "source": [
    "b = 'True'\n",
    "c = True\n",
    "print(type(b))\n",
    "print(type(c))"
   ]
  },
  {
   "cell_type": "markdown",
   "id": "502fb452",
   "metadata": {},
   "source": [
    "## Q7. Identify at least two operators and one method that allow you to combine one or more smaller strings to create a larger string."
   ]
  },
  {
   "cell_type": "code",
   "execution_count": 18,
   "id": "588288df",
   "metadata": {},
   "outputs": [
    {
     "name": "stdout",
     "output_type": "stream",
     "text": [
      "First : I’m Commander Shepard, and this is my favorite store on the Citadel!You were almost a Jill sandwich\n",
      "Second:  I’m Commander Shepard, and this is my favorite store on the Citadel!I’m Commander Shepard, and this is my favorite store on the Citadel!\n",
      "Third:  I’m Commander Shepard, and this is my favorite store on the Citadel!You were almost a Jill sandwich\n"
     ]
    }
   ],
   "source": [
    "a = 'I’m Commander Shepard, and this is my favorite store on the Citadel!'\n",
    "b = 'You were almost a Jill sandwich'\n",
    "\n",
    "op_1 = a + b\n",
    "op_2 = a * 2\n",
    "\n",
    "print('First :' ,op_1)\n",
    "print('Second: ', op_2)\n",
    "a+=b\n",
    "print('Third: ', a)"
   ]
  },
  {
   "cell_type": "markdown",
   "id": "166075b9",
   "metadata": {},
   "source": [
    "## Q8. What is the benefit of first checking the target string with in or not in before using the index method to find a substring?\n",
    "\n"
   ]
  },
  {
   "cell_type": "code",
   "execution_count": 27,
   "id": "d5d283eb",
   "metadata": {},
   "outputs": [
    {
     "name": "stdout",
     "output_type": "stream",
     "text": [
      "5\n"
     ]
    }
   ],
   "source": [
    "string = 'It’s a-me, Mario!'\n",
    "\n",
    "if 'a' in list(string):\n",
    "    print(string.index('a'))\n",
    "elif 'a' not in list(string):\n",
    "    print('Nope, not here')"
   ]
  },
  {
   "cell_type": "code",
   "execution_count": 28,
   "id": "23f26ceb",
   "metadata": {},
   "outputs": [
    {
     "name": "stdout",
     "output_type": "stream",
     "text": [
      "Nope, not here\n"
     ]
    }
   ],
   "source": [
    "string = 'It’s a-me, Mario!'\n",
    "\n",
    "if 'z' in list(string):\n",
    "    print(string.index('z'))\n",
    "elif 'z' not in list(string):\n",
    "    print('Nope, not here')"
   ]
  },
  {
   "cell_type": "markdown",
   "id": "ccff1a73",
   "metadata": {},
   "source": [
    "## Q9. Which operators and built-in string methods produce simple Boolean (true/false) results?"
   ]
  },
  {
   "cell_type": "code",
   "execution_count": 32,
   "id": "2e773bcf",
   "metadata": {},
   "outputs": [
    {
     "data": {
      "text/plain": [
       "False"
      ]
     },
     "execution_count": 32,
     "metadata": {},
     "output_type": "execute_result"
    }
   ],
   "source": [
    "a=30\n",
    "b=31\n",
    "a>b"
   ]
  },
  {
   "cell_type": "code",
   "execution_count": 33,
   "id": "c0f9a91f",
   "metadata": {},
   "outputs": [
    {
     "name": "stdout",
     "output_type": "stream",
     "text": [
      "False\n",
      "False\n",
      "False\n",
      "True\n",
      "False\n",
      "False\n",
      "False\n",
      "True\n",
      "True\n"
     ]
    }
   ],
   "source": [
    "my_string=\"Hello World\"\n",
    "\n",
    "print(my_string.isalnum())\n",
    "print(my_string.isalpha())\n",
    "print(my_string.isdigit())\n",
    "print(my_string.istitle())\n",
    "print(my_string.isupper())\n",
    "print(my_string.islower())\n",
    "print(my_string.isspace())\n",
    "print(my_string.endswith('d'))\n",
    "print(my_string.startswith('H'))"
   ]
  },
  {
   "cell_type": "code",
   "execution_count": null,
   "id": "fda9bf90",
   "metadata": {},
   "outputs": [],
   "source": []
  }
 ],
 "metadata": {
  "kernelspec": {
   "display_name": "Python 3",
   "language": "python",
   "name": "python3"
  },
  "language_info": {
   "codemirror_mode": {
    "name": "ipython",
    "version": 3
   },
   "file_extension": ".py",
   "mimetype": "text/x-python",
   "name": "python",
   "nbconvert_exporter": "python",
   "pygments_lexer": "ipython3",
   "version": "3.8.8"
  }
 },
 "nbformat": 4,
 "nbformat_minor": 5
}
