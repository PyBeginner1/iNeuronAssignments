{
 "cells": [
  {
   "cell_type": "markdown",
   "id": "d01cb8f6",
   "metadata": {},
   "source": [
    "# AdvanceAssignment7"
   ]
  },
  {
   "cell_type": "markdown",
   "id": "d69644e6",
   "metadata": {},
   "source": [
    "## Q1. What is the purpose of the try statement?\n",
    "\n",
    "Ans. **try** statement is used for exception handling which allows you to define a block of code to be tested for errors while being executed."
   ]
  },
  {
   "cell_type": "markdown",
   "id": "03156bf2",
   "metadata": {},
   "source": [
    "## Q2. What are the two most popular try statement variations?\n",
    "\n",
    "Ans. Try statements:\n",
    "\n",
    "- try, except = If there is an **error** except block will be executed.\n",
    "- try, except, finally = **finally** is always executed.\n",
    "- try, except, finally, else - **else** block is execued if there are no exceptions."
   ]
  },
  {
   "cell_type": "markdown",
   "id": "00599d70",
   "metadata": {},
   "source": [
    "## Q3. What is the purpose of the raise statement?\n",
    "\n",
    "Ans. The **raise** keyword is used to raise an exception. We can define what type of error to raise and print the approprioate text to user."
   ]
  },
  {
   "cell_type": "markdown",
   "id": "75d7ade6",
   "metadata": {},
   "source": [
    "## Q4. What does the assert statement do, and what other statement is it like?\n",
    "\n",
    "Ans. **assert** statement has a cndition and if that condition is not satisfied it will return an **AssertionError**.\n",
    "\n",
    "**assert < condition>,< error_message>**"
   ]
  },
  {
   "cell_type": "code",
   "execution_count": 1,
   "id": "e6d495da",
   "metadata": {},
   "outputs": [
    {
     "ename": "AssertionError",
     "evalue": "Not true",
     "output_type": "error",
     "traceback": [
      "\u001b[1;31m---------------------------------------------------------------------------\u001b[0m",
      "\u001b[1;31mAssertionError\u001b[0m                            Traceback (most recent call last)",
      "\u001b[1;32m<ipython-input-1-9a311b185104>\u001b[0m in \u001b[0;36m<module>\u001b[1;34m\u001b[0m\n\u001b[0;32m      1\u001b[0m \u001b[0ma\u001b[0m \u001b[1;33m=\u001b[0m \u001b[1;36m2\u001b[0m\u001b[1;33m\u001b[0m\u001b[1;33m\u001b[0m\u001b[0m\n\u001b[0;32m      2\u001b[0m \u001b[0mb\u001b[0m \u001b[1;33m=\u001b[0m \u001b[1;36m3\u001b[0m\u001b[1;33m\u001b[0m\u001b[1;33m\u001b[0m\u001b[0m\n\u001b[1;32m----> 3\u001b[1;33m \u001b[1;32massert\u001b[0m\u001b[1;33m(\u001b[0m\u001b[0ma\u001b[0m\u001b[1;33m+\u001b[0m\u001b[0mb\u001b[0m\u001b[1;33m)\u001b[0m \u001b[1;33m==\u001b[0m \u001b[1;36m6\u001b[0m\u001b[1;33m,\u001b[0m \u001b[1;34m'Not true'\u001b[0m\u001b[1;33m\u001b[0m\u001b[1;33m\u001b[0m\u001b[0m\n\u001b[0m",
      "\u001b[1;31mAssertionError\u001b[0m: Not true"
     ]
    }
   ],
   "source": [
    "a = 2\n",
    "b = 3\n",
    "assert(a+b) == 6, 'Not true'"
   ]
  },
  {
   "cell_type": "code",
   "execution_count": 3,
   "id": "d056abf3",
   "metadata": {},
   "outputs": [],
   "source": [
    "assert 2 == 2, 'Not true'"
   ]
  },
  {
   "cell_type": "markdown",
   "id": "08e05222",
   "metadata": {},
   "source": [
    "## Q5. What is the purpose of the with/as argument, and what other statement is it like?\n",
    "\n",
    "Ans. It is used for File handling. "
   ]
  },
  {
   "cell_type": "code",
   "execution_count": 5,
   "id": "e9d5b2b2",
   "metadata": {},
   "outputs": [],
   "source": [
    "with open('test.txt', 'w') as f:\n",
    "    f.write('This is a test file')"
   ]
  },
  {
   "cell_type": "code",
   "execution_count": null,
   "id": "066e9bd2",
   "metadata": {},
   "outputs": [],
   "source": []
  }
 ],
 "metadata": {
  "kernelspec": {
   "display_name": "Python 3",
   "language": "python",
   "name": "python3"
  },
  "language_info": {
   "codemirror_mode": {
    "name": "ipython",
    "version": 3
   },
   "file_extension": ".py",
   "mimetype": "text/x-python",
   "name": "python",
   "nbconvert_exporter": "python",
   "pygments_lexer": "ipython3",
   "version": "3.8.8"
  }
 },
 "nbformat": 4,
 "nbformat_minor": 5
}
