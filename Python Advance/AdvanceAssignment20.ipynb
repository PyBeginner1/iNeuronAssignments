{
 "cells": [
  {
   "cell_type": "markdown",
   "id": "14adbf3f",
   "metadata": {},
   "source": [
    "## Advance Assignment 20"
   ]
  },
  {
   "cell_type": "markdown",
   "id": "dbb9bcb0",
   "metadata": {},
   "source": [
    "## 1. Compare and contrast the float and Decimal classes' benefits and drawbacks.\n",
    "\n",
    "Ans. DECIMAL and FLOAT both are used to store numerical values. <br>\n",
    "- Float is a single precision (32 bit) floating point data type and decimal is a 128-bit floating point data type.\n",
    "- Performance of Decimals is slower than and float data types."
   ]
  },
  {
   "cell_type": "markdown",
   "id": "71fb64d4",
   "metadata": {},
   "source": [
    "## 2. Decimal('1.200') and Decimal('1.2') are two objects to consider. In what sense are these the same object? Are these just two ways of representing the exact same value, or do they correspond to different internal states?\n",
    "\n",
    "Ans. Both values are same."
   ]
  },
  {
   "cell_type": "markdown",
   "id": "77191b38",
   "metadata": {},
   "source": [
    "## 3. What happens if the equality of Decimal('1.200') and Decimal('1.2') is checked?\n",
    "\n",
    "Ans. Same"
   ]
  },
  {
   "cell_type": "code",
   "execution_count": 2,
   "id": "763ce60e",
   "metadata": {},
   "outputs": [
    {
     "data": {
      "text/plain": [
       "Decimal('1.200')"
      ]
     },
     "execution_count": 2,
     "metadata": {},
     "output_type": "execute_result"
    }
   ],
   "source": [
    "from decimal import *\n",
    "\n",
    "Decimal('1.200')"
   ]
  },
  {
   "cell_type": "code",
   "execution_count": 3,
   "id": "c849ef64",
   "metadata": {},
   "outputs": [
    {
     "data": {
      "text/plain": [
       "Decimal('1.2')"
      ]
     },
     "execution_count": 3,
     "metadata": {},
     "output_type": "execute_result"
    }
   ],
   "source": [
    "Decimal('1.2')"
   ]
  },
  {
   "cell_type": "markdown",
   "id": "e80920c3",
   "metadata": {},
   "source": [
    "## 4. Why is it preferable to start a Decimal object with a string rather than a floating-point value?\n",
    "\n",
    "Ans. Decimal( Precision, Scale) <br>\n",
    "Decimal will eliminate any loss of precision or ambiguity in transfer.<br>\n",
    "Floating-point value is converted to Decimal format. Decimal can store float value with absolute precision. But when float value is given as Decimal object,it first has to be converted from floating point value which might already have rounding error."
   ]
  },
  {
   "cell_type": "markdown",
   "id": "d1709964",
   "metadata": {},
   "source": [
    "## 5. In an arithmetic phrase, how simple is it to combine Decimal objects with integers?"
   ]
  },
  {
   "cell_type": "code",
   "execution_count": 8,
   "id": "bbdeb911",
   "metadata": {},
   "outputs": [
    {
     "data": {
      "text/plain": [
       "Decimal('124.2')"
      ]
     },
     "execution_count": 8,
     "metadata": {},
     "output_type": "execute_result"
    }
   ],
   "source": [
    "a = Decimal('1.2')\n",
    "b = 123\n",
    "c = a + b\n",
    "c"
   ]
  },
  {
   "cell_type": "markdown",
   "id": "8bd4040e",
   "metadata": {},
   "source": [
    "## 6. Can Decimal objects and floating-point values be combined easily?\n",
    "\n",
    "Ans. Doing any Arithematic operations with Decimal and float will result in an error. But we can perform arithematic operation if we convert float into Decimal"
   ]
  },
  {
   "cell_type": "code",
   "execution_count": 9,
   "id": "b737ace8",
   "metadata": {},
   "outputs": [
    {
     "ename": "TypeError",
     "evalue": "unsupported operand type(s) for +: 'decimal.Decimal' and 'float'",
     "output_type": "error",
     "traceback": [
      "\u001b[1;31m---------------------------------------------------------------------------\u001b[0m",
      "\u001b[1;31mTypeError\u001b[0m                                 Traceback (most recent call last)",
      "\u001b[1;32m<ipython-input-9-25214cbb1767>\u001b[0m in \u001b[0;36m<module>\u001b[1;34m\u001b[0m\n\u001b[0;32m      1\u001b[0m \u001b[0ma\u001b[0m \u001b[1;33m=\u001b[0m \u001b[0mDecimal\u001b[0m\u001b[1;33m(\u001b[0m\u001b[1;34m'1.2'\u001b[0m\u001b[1;33m)\u001b[0m\u001b[1;33m\u001b[0m\u001b[1;33m\u001b[0m\u001b[0m\n\u001b[0;32m      2\u001b[0m \u001b[0mb\u001b[0m \u001b[1;33m=\u001b[0m \u001b[1;36m1.2\u001b[0m\u001b[1;33m\u001b[0m\u001b[1;33m\u001b[0m\u001b[0m\n\u001b[1;32m----> 3\u001b[1;33m \u001b[0mc\u001b[0m \u001b[1;33m=\u001b[0m \u001b[0ma\u001b[0m \u001b[1;33m+\u001b[0m \u001b[0mb\u001b[0m\u001b[1;33m\u001b[0m\u001b[1;33m\u001b[0m\u001b[0m\n\u001b[0m\u001b[0;32m      4\u001b[0m \u001b[0mc\u001b[0m\u001b[1;33m\u001b[0m\u001b[1;33m\u001b[0m\u001b[0m\n",
      "\u001b[1;31mTypeError\u001b[0m: unsupported operand type(s) for +: 'decimal.Decimal' and 'float'"
     ]
    }
   ],
   "source": [
    "a = Decimal('1.2')\n",
    "b = 1.2\n",
    "c = a + b\n",
    "c"
   ]
  },
  {
   "cell_type": "code",
   "execution_count": 14,
   "id": "1a518cfc",
   "metadata": {},
   "outputs": [
    {
     "data": {
      "text/plain": [
       "Decimal('2.399999999999999955591079015')"
      ]
     },
     "execution_count": 14,
     "metadata": {},
     "output_type": "execute_result"
    }
   ],
   "source": [
    "#onverting float to decimal\n",
    "a = Decimal('1.2')\n",
    "b = 1.2\n",
    "c = a + Decimal(b)\n",
    "c"
   ]
  },
  {
   "cell_type": "code",
   "execution_count": 15,
   "id": "77c68f76",
   "metadata": {},
   "outputs": [
    {
     "data": {
      "text/plain": [
       "Decimal('2.4')"
      ]
     },
     "execution_count": 15,
     "metadata": {},
     "output_type": "execute_result"
    }
   ],
   "source": [
    "a = Decimal('1.2')\n",
    "b = Decimal('1.2')\n",
    "z = a+ b\n",
    "z"
   ]
  },
  {
   "cell_type": "markdown",
   "id": "ec316092",
   "metadata": {},
   "source": [
    "## 7. Using the Fraction class but not the Decimal class, give an example of a quantity that can be expressed with absolute precision."
   ]
  },
  {
   "cell_type": "code",
   "execution_count": 16,
   "id": "7277c34c",
   "metadata": {},
   "outputs": [
    {
     "name": "stdout",
     "output_type": "stream",
     "text": [
      "11/35\n"
     ]
    }
   ],
   "source": [
    "from fractions import Fraction\n",
    "  \n",
    "print (Fraction(11, 35))"
   ]
  },
  {
   "cell_type": "code",
   "execution_count": 21,
   "id": "166e5e74",
   "metadata": {},
   "outputs": [
    {
     "name": "stdout",
     "output_type": "stream",
     "text": [
      "1/2\n",
      "1/4\n"
     ]
    }
   ],
   "source": [
    "print(Fraction(0.5))\n",
    "print(Fraction(0.25))"
   ]
  },
  {
   "cell_type": "markdown",
   "id": "1f99bad4",
   "metadata": {},
   "source": [
    "## 8. Describe a quantity that can be accurately expressed by the Decimal or Fraction classes but not by a floating-point value."
   ]
  },
  {
   "cell_type": "code",
   "execution_count": 25,
   "id": "e8a418c2",
   "metadata": {},
   "outputs": [
    {
     "name": "stdout",
     "output_type": "stream",
     "text": [
      "0\n"
     ]
    }
   ],
   "source": [
    "print(Fraction(0,1))"
   ]
  },
  {
   "cell_type": "markdown",
   "id": "29fa25b2",
   "metadata": {},
   "source": [
    "## Q9.Consider the following two fraction objects: Fraction(1, 2) and Fraction(1, 2). (5, 10). Is the internal state of these two objects the same? Why do you think that is?"
   ]
  },
  {
   "cell_type": "code",
   "execution_count": 26,
   "id": "9594a785",
   "metadata": {},
   "outputs": [
    {
     "data": {
      "text/plain": [
       "Fraction(1, 2)"
      ]
     },
     "execution_count": 26,
     "metadata": {},
     "output_type": "execute_result"
    }
   ],
   "source": [
    "Fraction(1, 2) "
   ]
  },
  {
   "cell_type": "markdown",
   "id": "4eecfd00",
   "metadata": {},
   "source": [
    "## Q10. How do the Fraction class and the integer type (int) relate to each other? Containment or inheritance?\n",
    "\n",
    "Ans. A fraction is a ratio of two values. Fractions have the form a/b where a is called the numerator, b is called the denominator and b cannot equal 0 (since division by 0 is undefined)."
   ]
  },
  {
   "cell_type": "code",
   "execution_count": null,
   "id": "4dc4e368",
   "metadata": {},
   "outputs": [],
   "source": []
  }
 ],
 "metadata": {
  "kernelspec": {
   "display_name": "Python 3",
   "language": "python",
   "name": "python3"
  },
  "language_info": {
   "codemirror_mode": {
    "name": "ipython",
    "version": 3
   },
   "file_extension": ".py",
   "mimetype": "text/x-python",
   "name": "python",
   "nbconvert_exporter": "python",
   "pygments_lexer": "ipython3",
   "version": "3.8.8"
  }
 },
 "nbformat": 4,
 "nbformat_minor": 5
}
