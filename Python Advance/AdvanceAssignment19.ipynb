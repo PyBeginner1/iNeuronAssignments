{
 "cells": [
  {
   "cell_type": "markdown",
   "id": "a49aa0c5",
   "metadata": {},
   "source": [
    "# Advance Assignment 19"
   ]
  },
  {
   "cell_type": "markdown",
   "id": "368ad669",
   "metadata": {},
   "source": [
    "## Q1. Define the relationship between a class and its instances. Is it a one-to-one or a one-to-many partnership, for example?\n",
    "\n",
    "Ans. A class is a blueprint which is used to create an object(which is instance). Relationship between a class and its instances is a one to many partnership."
   ]
  },
  {
   "cell_type": "markdown",
   "id": "1f1cb3a3",
   "metadata": {},
   "source": [
    "## Q2. What kind of data is held only in an instance?\n",
    "\n",
    "Ans. Instance contains the Instance variables."
   ]
  },
  {
   "cell_type": "markdown",
   "id": "f9f338b0",
   "metadata": {},
   "source": [
    "## Q3. What kind of knowledge is stored in a class?\n",
    "\n",
    "Ans. Classes provide a means of bundling data and functionality together. Creating new class creates a new type of object, allowing new type of instance to be made. Each class variable can have attributes attached to it. "
   ]
  },
  {
   "cell_type": "markdown",
   "id": "728f47ec",
   "metadata": {},
   "source": [
    "## Q4. What exactly is a method, and how is it different from a regular function?\n",
    "\n",
    "Ans. The **method** is implicitly used for an object for which it is called. The method is accessible to data that is contained within the class. A method in python is somewhat similar to a function, except it is associated with object/classes."
   ]
  },
  {
   "cell_type": "markdown",
   "id": "b6b117d0",
   "metadata": {},
   "source": [
    "## Q5. Is inheritance supported in Python, and if so, what is the syntax?\n",
    "\n",
    "Ans. Yes, Inheritance is supported in Python.<br>\n",
    "Types:\n",
    "- Single Inheritance : When a child class inherits only a single parent class.\n",
    "- Multiple Inheritance : When a child class inherits from more than one parent class.\n",
    "- Multilevel Inheritance : When a child class becomes a parent class for another child class.\n",
    "- Hierarchical Inheritance : Hierarchical inheritance involves multiple inheritance from the same base or parent class.\n",
    "- Hybrid Inheritance: Hybrid inheritance involves multiple inheritance taking place in a single program."
   ]
  },
  {
   "cell_type": "code",
   "execution_count": 2,
   "id": "218327f9",
   "metadata": {},
   "outputs": [],
   "source": [
    "# Single \n",
    "class Parent():\n",
    "       ...\n",
    " \n",
    "class Child(Parent):\n",
    "       ..."
   ]
  },
  {
   "cell_type": "code",
   "execution_count": 3,
   "id": "8e0b3cf4",
   "metadata": {},
   "outputs": [],
   "source": [
    "# Multiple\n",
    "class Parent:\n",
    "   ...\n",
    "\n",
    "class Parent2:\n",
    "   ...\n",
    "\n",
    "class Child(Parent , Parent2):\n",
    "    ..."
   ]
  },
  {
   "cell_type": "code",
   "execution_count": 1,
   "id": "f2a48825",
   "metadata": {},
   "outputs": [],
   "source": [
    "# Multi - Level\n",
    "class class1:  \n",
    "    ...\n",
    "    \n",
    "class class2(class1):  \n",
    "    ...\n",
    "    \n",
    "class class3(class2):  \n",
    "    ..."
   ]
  },
  {
   "cell_type": "code",
   "execution_count": 4,
   "id": "a213ae26",
   "metadata": {},
   "outputs": [],
   "source": [
    "# Hierarichal\n",
    "class Parent:\n",
    "      ...\n",
    "        \n",
    "class Child(Parent):\n",
    "      ...\n",
    "        \n",
    "class Child2(Parent):\n",
    "      ..."
   ]
  },
  {
   "cell_type": "code",
   "execution_count": 7,
   "id": "797bd595",
   "metadata": {},
   "outputs": [],
   "source": [
    "# Hybrid\n",
    "class Parent:\n",
    "     pass\n",
    " \n",
    "class Child(Parent):\n",
    "     pass\n",
    " \n",
    "class Child1(Parent):\n",
    "     pass\n",
    " \n",
    "class Child3(Child1):\n",
    "     pass"
   ]
  },
  {
   "cell_type": "markdown",
   "id": "721ac31e",
   "metadata": {},
   "source": [
    "## Q6. How much encapsulation (making instance or class variables private) does Python support?\n",
    "\n",
    "Ans. **Encapsulation** describes the idea of wrapping the data and methods that work on data within one unit. This puts restriction on accessing the varaible and methods directly and can prevent accidental modification of data."
   ]
  },
  {
   "cell_type": "markdown",
   "id": "d5328a73",
   "metadata": {},
   "source": [
    "## Q7. How do you distinguish between a class variable and an instance variable?\n",
    "\n",
    "Ans. \n",
    "- Class variable is a variable that defines a specific attribute or variable in a class whereas Instance variable is a variable whose value is Instance-specific and is shared between instance.\n",
    "- Class variable maintains a single value for all instances of class and Instance variable reserves memeory for data that class needs.\n",
    "- Class variable is generated when a program begins to execute and Instance variable is created when an instance of class is created."
   ]
  },
  {
   "cell_type": "markdown",
   "id": "327c2add",
   "metadata": {},
   "source": [
    "## Q8. When, if ever, can self be included in a class's method definitions?\n",
    "\n",
    "Ans. Yes, **self** can be included in a class. self represents the instance of the class. By using the “self”  we can access the attributes and methods of the class in python."
   ]
  },
  {
   "cell_type": "markdown",
   "id": "d01eb156",
   "metadata": {},
   "source": [
    "## Q9. What is the difference between the _ _add_ _ and the _ _radd_ _ methods?\n",
    "\n",
    "Ans. The result is equivalent. The __add__() method in Python specifies what happens when you call + on two objects. __radd__ is only called if the left object does not have an __add__ method, or that method does not know how to add the two objects (which it flags by returning NotImplemented). Both classes have an __add__ method, which do not return NotImplemented. Therefore the __radd__ method would never be called."
   ]
  },
  {
   "cell_type": "markdown",
   "id": "ae183a34",
   "metadata": {},
   "source": [
    "## Q10. When is it necessary to use a reflection method? When do you not need it, even though you support the operation in question?\n",
    "\n",
    "Ans. Using reflection, we can write one recursive reverse function that will work for strings, lists, and any other sequence that supports slicing and concatenation. If an obj is a reference to a string, then Python will return the str type object. Further, if we write str() we get a string which is the empty string."
   ]
  },
  {
   "cell_type": "markdown",
   "id": "a24fc1a1",
   "metadata": {},
   "source": [
    "## Q11. What is the _ _iadd_ _ method called?\n",
    "\n",
    "Ans. This function is used to assign and add the current value. This operation does “a+=b” operation. `a.__iadd__(b)`"
   ]
  },
  {
   "cell_type": "markdown",
   "id": "9d262023",
   "metadata": {},
   "source": [
    "## Q12. Is the _ _init_ _ method inherited by subclasses? What do you do if you need to customize its behavior within a subclass?\n",
    "\n",
    "Ans. **__init__** method will be inherited by subclasses. We can use **super()** to customize its behavior."
   ]
  },
  {
   "cell_type": "code",
   "execution_count": null,
   "id": "75bb4239",
   "metadata": {},
   "outputs": [],
   "source": []
  }
 ],
 "metadata": {
  "kernelspec": {
   "display_name": "Python 3",
   "language": "python",
   "name": "python3"
  },
  "language_info": {
   "codemirror_mode": {
    "name": "ipython",
    "version": 3
   },
   "file_extension": ".py",
   "mimetype": "text/x-python",
   "name": "python",
   "nbconvert_exporter": "python",
   "pygments_lexer": "ipython3",
   "version": "3.8.8"
  }
 },
 "nbformat": 4,
 "nbformat_minor": 5
}
