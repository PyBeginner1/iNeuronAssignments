{
 "cells": [
  {
   "cell_type": "markdown",
   "id": "f6347f8b",
   "metadata": {},
   "source": [
    "# Advance Assignment 11"
   ]
  },
  {
   "cell_type": "markdown",
   "id": "73e418a5",
   "metadata": {},
   "source": [
    "## Q1. What is the concept of a metaclass?\n",
    "\n",
    "Ans. A metaclass is a class of a class that defines how a class behaves. A class is itself an instance of a metaclass."
   ]
  },
  {
   "cell_type": "markdown",
   "id": "80317a86",
   "metadata": {},
   "source": [
    "## Q2. What is the best way to declare a class's metaclass?"
   ]
  },
  {
   "cell_type": "code",
   "execution_count": 2,
   "id": "1342883b",
   "metadata": {},
   "outputs": [
    {
     "name": "stdout",
     "output_type": "stream",
     "text": [
      "<class '__main__.MyMeta'>\n"
     ]
    }
   ],
   "source": [
    "class MyMeta(type):\n",
    "    pass\n",
    "\n",
    "class MyClass(metaclass=MyMeta):\n",
    "    pass\n",
    "\n",
    "class MySubclass(MyClass):\n",
    "    pass\n",
    "\n",
    "print(type(MyClass))"
   ]
  },
  {
   "cell_type": "markdown",
   "id": "a10b84d1",
   "metadata": {},
   "source": [
    "## Q3. How do class decorators overlap with metaclasses for handling classes?\n",
    "\n",
    "Ans. **Decorators** are much, much simpler and more limited. Anything you can do with a class decorator, you can of course do with a custom metaclass (just apply the functionality of the \"decorator function\", i.e., the one that takes a class object and modifies it, in the course of the metaclass's __new__ or __init__ that make the class object)."
   ]
  },
  {
   "cell_type": "markdown",
   "id": "3aff8943",
   "metadata": {},
   "source": [
    "## Q4. How do class decorators overlap with metaclasses for handling instances?\n",
    "\n",
    "Ans. When we instantiate metaMetaBunch we use its __new__ method to create the instance, which is an instance of type. In particular, the code that creates the new_body is run on the body of MetaBunch.\n",
    "\n",
    "Anything you can do with a class decorator, you can of course do with a custom metaclass (just apply the functionality of the \"decorator function\", i.e., the one that takes a class object and modifies it, in the course of the metaclass's __new__ or __init__ that make the class object"
   ]
  },
  {
   "cell_type": "code",
   "execution_count": 3,
   "id": "90404957",
   "metadata": {},
   "outputs": [],
   "source": [
    "class metaMetaBunch(type):\n",
    "\n",
    "    def __new__(cls, name, bases, body):\n",
    "\n",
    "        # Creation of new_body similar to bunch_from_dict.\n",
    "        # ... but first need to 'clean up' the body.\n",
    "        new_body = ... # Computed from body\n",
    "\n",
    "        # Creation of new instance similar to bunch_from_dict.\n",
    "        # ... but here can't use type(name, bases, new_body)\n",
    "        return type.__new__(cls, name, bases, new_body)\n"
   ]
  },
  {
   "cell_type": "markdown",
   "id": "6deb571e",
   "metadata": {},
   "source": []
  }
 ],
 "metadata": {
  "kernelspec": {
   "display_name": "Python 3",
   "language": "python",
   "name": "python3"
  },
  "language_info": {
   "codemirror_mode": {
    "name": "ipython",
    "version": 3
   },
   "file_extension": ".py",
   "mimetype": "text/x-python",
   "name": "python",
   "nbconvert_exporter": "python",
   "pygments_lexer": "ipython3",
   "version": "3.8.8"
  }
 },
 "nbformat": 4,
 "nbformat_minor": 5
}
