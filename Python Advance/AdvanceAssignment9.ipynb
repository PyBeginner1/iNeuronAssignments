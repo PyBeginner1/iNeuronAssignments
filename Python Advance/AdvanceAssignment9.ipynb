{
 "cells": [
  {
   "cell_type": "markdown",
   "id": "46c098cd",
   "metadata": {},
   "source": [
    "# AdvanceAssignment9"
   ]
  },
  {
   "cell_type": "markdown",
   "id": "2ed8ae07",
   "metadata": {},
   "source": [
    "## Q1. In Python 3.X, what are the names and functions of string object types?\n",
    "\n",
    "Ans><br>\n",
    "-capitalize() =\tConverts the first character to upper case<br>\n",
    "-casefold()\t= Converts string into lower case<br>\n",
    "-center() =\tReturns a centered string<br>\n",
    "-count() = Returns the number of times a specified value occurs in a string<br>\n",
    "-encode() =\tReturns an encoded version of the string<br>\n",
    "-endswith() =\tReturns true if the string ends with the specified value<br>\n",
    "-expandtabs() =\tSets the tab size of the string<br>\n",
    "-find() =\tSearches the string for a specified value and returns the position of where it was found<br>\n",
    "-format() =\tFormats specified values in a string<br>\n",
    "-format_map() =\tFormats specified values in a string<br>\n",
    "-index() =\tSearches the string for a specified value and returns the position of where it was found<br>\n",
    "-isalnum() =\tReturns True if all characters in the string are alphanumeric<br>\n",
    "-isalpha() =\tReturns True if all characters in the string are in the alphabet<br>\n",
    "-isascii() =\tReturns True if all characters in the string are ascii characters<br>\n",
    "-isdecimal() =\tReturns True if all characters in the string are decimals<br>\n",
    "-isdigit() =\tReturns True if all characters in the string are digits<br>\n",
    "-isidentifier() =\tReturns True if the string is an identifier<br>\n",
    "-islower() =\tReturns True if all characters in the string are lower case<br>\n",
    "-isnumeric() =\tReturns True if all characters in the string are numeric<br>\n",
    "-isprintable() =\tReturns True if all characters in the string are printable<br>\n",
    "-isspace() =\tReturns True if all characters in the string are whitespaces<br>\n",
    "-istitle() =\tReturns True if the string follows the rules of a title<br>\n",
    "-isupper() =\tReturns True if all characters in the string are upper case<br>\n",
    "-join() =\tConverts the elements of an iterable into a string<br>\n",
    "-ljust() = \tReturns a left justified version of the string<br>\n",
    "-lower() =\tConverts a string into lower case<br>\n",
    "-lstrip() =\tReturns a left trim version of the string<br>\n",
    "-maketrans() =\tReturns a translation table to be used in translations<br>\n",
    "-partition() =\tReturns a tuple where the string is parted into three parts<br>\n",
    "-replace() =\tReturns a string where a specified value is replaced with a specified value<br>\n",
    "-rfind() =\tSearches the string for a specified value and returns the last position of where it was found<br>\n",
    "-rindex() =\tSearches the string for a specified value and returns the last position of where it was found<br>\n",
    "-rjust() =\tReturns a right justified version of the string<br>\n",
    "-rpartition() =\tReturns a tuple where the string is parted into three parts<br>\n",
    "-rsplit() =\tSplits the string at the specified separator, and returns a list<br>\n",
    "-rstrip() =\tReturns a right trim version of the string<br>\n",
    "-split() =\tSplits the string at the specified separator, and returns a list<br>\n",
    "-splitlines() =\tSplits the string at line breaks and returns a list<br>\n",
    "-startswith() =\tReturns true if the string starts with the specified value<br>\n",
    "-strip() =\tReturns a trimmed version of the string<br>\n",
    "-swapcase() =\tSwaps cases, lower case becomes upper case and vice versa<br>\n",
    "-title() =\tConverts the first character of each word to upper case<br>\n",
    "-translate() =\tReturns a translated string<br>\n",
    "-upper() =\tConverts a string into upper case<br>\n",
    "-zfill() =\tFills the string with a specified number of 0 values at the beginning<br>"
   ]
  },
  {
   "cell_type": "markdown",
   "id": "37dbcd81",
   "metadata": {},
   "source": [
    "## Q2. How do the string forms in Python 3.X vary in terms of operations?\n",
    "\n",
    "Ans. Default form of String in Python 3 is Unicode."
   ]
  },
  {
   "cell_type": "markdown",
   "id": "bef92b27",
   "metadata": {},
   "source": [
    "## Q3. In 3.X, how do you put non-ASCII Unicode characters in a string?"
   ]
  },
  {
   "cell_type": "code",
   "execution_count": 5,
   "id": "c27846d7",
   "metadata": {},
   "outputs": [
    {
     "name": "stdout",
     "output_type": "stream",
     "text": [
      "b'My name is Stle'\n"
     ]
    }
   ],
   "source": [
    "txt =\"My name is Ståle\"\n",
    "x = txt.encode(encoding = 'ascii', errors = 'ignore')\n",
    "print(x)"
   ]
  },
  {
   "cell_type": "markdown",
   "id": "4eb23f2c",
   "metadata": {},
   "source": [
    "## Q4. In Python 3.X, what are the key differences between text-mode and binary-mode files?\n",
    "\n",
    "Ans. In `text-mode`, the program writes text characters to file and in `Binary mode` the program writes data to files as 0's and 1's."
   ]
  },
  {
   "cell_type": "markdown",
   "id": "29c62fa4",
   "metadata": {},
   "source": [
    "## Q5. How can you interpret a Unicode text file containing text encoded in a different encoding than your platform's default?\n",
    "\n",
    "Ans. We can use **encode()** and **decode()** methods to interpre a file containing encoded text."
   ]
  },
  {
   "cell_type": "markdown",
   "id": "59abac73",
   "metadata": {},
   "source": [
    "## Q6. What is the best way to make a Unicode text file in a particular encoding format?\n",
    "\n",
    "Ans. By using **encode()** we can make a file in a particular format."
   ]
  },
  {
   "cell_type": "markdown",
   "id": "9a573990",
   "metadata": {},
   "source": [
    "## Q7. What qualifies ASCII text as a form of Unicode text?\n",
    "\n",
    "Ans. The first 128 unicode points represent the ASCII character, which means that any ASCII text is also a UTF-8 text."
   ]
  },
  {
   "cell_type": "markdown",
   "id": "55dd9a34",
   "metadata": {},
   "source": [
    "## Q8. How much of an effect does the change in string types in Python 3.X have on your code?\n",
    "\n",
    "Ans. **Python 2** has ASCII str() types, separate unicode(), but no byte type.\n",
    "\n",
    "Now, in **Python 3**, we finally have Unicode (utf-8) strings, and 2 byte classes: byte and bytearrays."
   ]
  },
  {
   "cell_type": "code",
   "execution_count": null,
   "id": "530a30ef",
   "metadata": {},
   "outputs": [],
   "source": []
  }
 ],
 "metadata": {
  "kernelspec": {
   "display_name": "Python 3",
   "language": "python",
   "name": "python3"
  },
  "language_info": {
   "codemirror_mode": {
    "name": "ipython",
    "version": 3
   },
   "file_extension": ".py",
   "mimetype": "text/x-python",
   "name": "python",
   "nbconvert_exporter": "python",
   "pygments_lexer": "ipython3",
   "version": "3.8.8"
  }
 },
 "nbformat": 4,
 "nbformat_minor": 5
}
