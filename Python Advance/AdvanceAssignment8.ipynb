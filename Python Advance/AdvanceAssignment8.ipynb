{
 "cells": [
  {
   "cell_type": "markdown",
   "id": "5f8de480",
   "metadata": {},
   "source": [
    "# Advance Assignment 8"
   ]
  },
  {
   "cell_type": "markdown",
   "id": "75cb1114",
   "metadata": {},
   "source": [
    "## Q1. What are the two latest user-defined exception constraints in Python 3.X?\n",
    "\n",
    "Ans. `raise` and `assert` are the two latest user-defined exception constraints in Python 3.X."
   ]
  },
  {
   "cell_type": "markdown",
   "id": "dc5b1448",
   "metadata": {},
   "source": [
    "## Q2. How are class-based exceptions that have been raised matched to handlers?\n",
    "\n",
    "Ans. We can create our own custom exception by creating class."
   ]
  },
  {
   "cell_type": "code",
   "execution_count": 5,
   "id": "2084f655",
   "metadata": {},
   "outputs": [
    {
     "ename": "NewException",
     "evalue": "Not new",
     "output_type": "error",
     "traceback": [
      "\u001b[1;31m---------------------------------------------------------------------------\u001b[0m",
      "\u001b[1;31mNewException\u001b[0m                              Traceback (most recent call last)",
      "\u001b[1;32m<ipython-input-5-f8b68fd4659c>\u001b[0m in \u001b[0;36m<module>\u001b[1;34m\u001b[0m\n\u001b[0;32m      6\u001b[0m \u001b[1;33m\u001b[0m\u001b[0m\n\u001b[0;32m      7\u001b[0m \u001b[1;32mif\u001b[0m \u001b[0ma\u001b[0m\u001b[1;33m.\u001b[0m\u001b[0mlower\u001b[0m\u001b[1;33m(\u001b[0m\u001b[1;33m)\u001b[0m \u001b[1;33m!=\u001b[0m \u001b[1;34m'new'\u001b[0m\u001b[1;33m:\u001b[0m\u001b[1;33m\u001b[0m\u001b[1;33m\u001b[0m\u001b[0m\n\u001b[1;32m----> 8\u001b[1;33m     \u001b[1;32mraise\u001b[0m \u001b[0mNewException\u001b[0m\u001b[1;33m(\u001b[0m\u001b[1;34m'Not new'\u001b[0m\u001b[1;33m)\u001b[0m\u001b[1;33m\u001b[0m\u001b[1;33m\u001b[0m\u001b[0m\n\u001b[0m",
      "\u001b[1;31mNewException\u001b[0m: Not new"
     ]
    }
   ],
   "source": [
    "class NewException(Exception):\n",
    "    def __init__(self, msg):\n",
    "        self.msg = msg\n",
    "        \n",
    "a = 'Old'\n",
    "\n",
    "if a.lower() != 'new':\n",
    "    raise NewException('Not new')"
   ]
  },
  {
   "cell_type": "markdown",
   "id": "8124877f",
   "metadata": {},
   "source": [
    "## Q4. Describe two methods for specifying the text of an exception object's error message.\n",
    "\n",
    "Ans. We can use **raise** and **assert**. \n",
    "\n",
    "**raise** we can define what type of error to raise and print text to user.\n",
    "\n",
    "**assert** has a condition and if that condition is not satisfied it will raise Assertion error."
   ]
  },
  {
   "cell_type": "markdown",
   "id": "a5ec5912",
   "metadata": {},
   "source": [
    "## Q5. Why do you no longer use string-based exceptions?\n",
    "\n",
    "Ans. String based exception do no inherit from Exceptions."
   ]
  },
  {
   "cell_type": "code",
   "execution_count": null,
   "id": "71ef8452",
   "metadata": {},
   "outputs": [],
   "source": []
  }
 ],
 "metadata": {
  "kernelspec": {
   "display_name": "Python 3",
   "language": "python",
   "name": "python3"
  },
  "language_info": {
   "codemirror_mode": {
    "name": "ipython",
    "version": 3
   },
   "file_extension": ".py",
   "mimetype": "text/x-python",
   "name": "python",
   "nbconvert_exporter": "python",
   "pygments_lexer": "ipython3",
   "version": "3.8.8"
  }
 },
 "nbformat": 4,
 "nbformat_minor": 5
}
