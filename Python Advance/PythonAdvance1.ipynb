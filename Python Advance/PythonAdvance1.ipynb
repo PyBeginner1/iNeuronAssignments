{
 "cells": [
  {
   "cell_type": "markdown",
   "id": "7ea219e6",
   "metadata": {},
   "source": [
    "# PythonAdvance1"
   ]
  },
  {
   "cell_type": "markdown",
   "id": "870537fb",
   "metadata": {},
   "source": [
    "## Q1. What is the purpose of Python's OOP?\n",
    "\n",
    "Ans. Python's OOP provides a structure to the program.<br>\n",
    "\n",
    "- Provides concepts such as: Class, Object, Inheritance, Polymorphism, Encapsulation.\n",
    "- Object Oriented Programming makes program easy to understand and efficient.<br>\n",
    "- Since the class is sharable, the code can be re-used.<br>\n",
    "- We can divide a program into several smaller segments thus making it understandable and structured.<br>\n",
    "- Polymorphism provides same interface for different objects.<br>"
   ]
  },
  {
   "cell_type": "markdown",
   "id": "c85c058c",
   "metadata": {},
   "source": [
    "## Q2. Where does an inheritance search look for an attribute?\n",
    "\n",
    "Ans. Python looks for the attribute in its class instance first and then it looks for the attribute from the class it is inheriting from."
   ]
  },
  {
   "cell_type": "markdown",
   "id": "53650fba",
   "metadata": {},
   "source": [
    "## Q3. How do you distinguish between a class object and an instance object?\n",
    "\n",
    "Ans. <br>\n",
    "\n",
    "- Class generates objects where as object provides input to the class.<br>\n",
    "- Classes cannot be manipulated as they are not available in memory but objects can be manipulated.<br>\n",
    "- Class is used to create objects where as objects are instace of class."
   ]
  },
  {
   "cell_type": "markdown",
   "id": "c312b108",
   "metadata": {},
   "source": [
    "## Q4. What makes the first argument in a class’s method function special?\n",
    "\n",
    "Ans. **self** method is a pointer which points to the class. It refers to the object itself."
   ]
  },
  {
   "cell_type": "markdown",
   "id": "48e74360",
   "metadata": {},
   "source": [
    "## Q5. What is the purpose of the __init__ method?\n",
    "\n",
    "Ans.  **__init__** method is an constructor which provides an input to the class or initializes the attributes used in the class."
   ]
  },
  {
   "cell_type": "markdown",
   "id": "b7bab3f5",
   "metadata": {},
   "source": [
    "## Q6. What is the process for creating a class instance?\n",
    "\n",
    "Ans. We need to call the class name along with the arguments mentioned in **__init__** method."
   ]
  },
  {
   "cell_type": "markdown",
   "id": "406a8925",
   "metadata": {},
   "source": [
    "## Q7. What is the process for creating a class?\n",
    "\n",
    "Ans. We use **class** keyword to create a class. \n",
    "\n",
    "Syntax: class classname"
   ]
  },
  {
   "cell_type": "markdown",
   "id": "8dd4f63a",
   "metadata": {},
   "source": [
    "## Q8. How would you define the superclasses of a class?\n",
    "\n",
    "Ans. The class from which new class inherits is called Parent or Super class."
   ]
  },
  {
   "cell_type": "code",
   "execution_count": 13,
   "id": "49b246cc",
   "metadata": {},
   "outputs": [],
   "source": [
    "#Example - Here Stuednt class is inheriting from superclass School\n",
    "class School:\n",
    "    pass\n",
    "\n",
    "class Student(School):\n",
    "    pass"
   ]
  },
  {
   "cell_type": "code",
   "execution_count": null,
   "id": "7c0c5866",
   "metadata": {},
   "outputs": [],
   "source": []
  }
 ],
 "metadata": {
  "kernelspec": {
   "display_name": "Python 3",
   "language": "python",
   "name": "python3"
  },
  "language_info": {
   "codemirror_mode": {
    "name": "ipython",
    "version": 3
   },
   "file_extension": ".py",
   "mimetype": "text/x-python",
   "name": "python",
   "nbconvert_exporter": "python",
   "pygments_lexer": "ipython3",
   "version": "3.8.8"
  }
 },
 "nbformat": 4,
 "nbformat_minor": 5
}
