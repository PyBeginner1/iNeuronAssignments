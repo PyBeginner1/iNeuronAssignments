{
 "cells": [
  {
   "cell_type": "markdown",
   "id": "b389a68e",
   "metadata": {},
   "source": [
    "# Advance Assignment 24"
   ]
  },
  {
   "cell_type": "markdown",
   "id": "80d718ab",
   "metadata": {},
   "source": [
    "## Q1. Is it permissible to use several import statements to import the same module? What would the goal be? Can you think of a situation where it would be beneficial?\n",
    "\n",
    "Ans. Yes, it is permissable to use several import statements to import the same module in order to import different functionality."
   ]
  },
  {
   "cell_type": "markdown",
   "id": "e67470cd",
   "metadata": {},
   "source": [
    "## Q2. What are some of a module's characteristics? (Name at least one.)\n",
    "\n",
    "Ans. \n",
    "- Modules contain instructions, processing logic, and data. \n",
    "- Modules can be separately compiled and stored in a library.\n",
    "- Module segments can be used by invoking a name and some parameters."
   ]
  },
  {
   "cell_type": "markdown",
   "id": "3457de54",
   "metadata": {},
   "source": [
    "## Q3. Circular importing, such as when two modules import each other, can lead to dependencies and bugs that aren't visible. How can you go about creating a program that avoids mutual importing?\n",
    "\n",
    "Ans. Circular imports are the result of bad designs and can be resolved with better code design. A simple solution is that sometimes both modules can just be merged into a single, larger module."
   ]
  },
  {
   "cell_type": "markdown",
   "id": "f99a31b2",
   "metadata": {},
   "source": [
    "## Q4. Why is  _ _all_ _ in Python?\n",
    "\n",
    "Ans. Python **_ _all__** is a variable that can be set in the **_ _init__.py** file of a package. Python **_ _all__** is a list of public objects of that module. The **_ _all__** tells the semantically “public” names from the module"
   ]
  },
  {
   "cell_type": "markdown",
   "id": "74e262fc",
   "metadata": {},
   "source": [
    "## Q5. In what situation is it useful to refer to the _ _name_ _ attribute or the string '_ _main_ _'?\n",
    "\n",
    "Ans. We use the if-statement to run blocks of code only if our program is the main program executed. This allows our program to be executable by itself, but friendly to other Python modules who may want to import some functionality without having to run the code."
   ]
  },
  {
   "cell_type": "markdown",
   "id": "b4ad449f",
   "metadata": {},
   "source": [
    "## Q6. What are some of the benefits of attaching a program counter to the RPN interpreter application, which interprets an RPN script line by line?\n",
    "\n",
    "Ans. RPN is Reverse polish notation interpreter - it's also called 0-address-machine as it does not need addressable storage locations for it's operation . It interprets rpn expressions.<br>\n",
    "An advantage of reverse Polish notation is that it removes the need for parentheses that are required by infix notation. While 3 − 4 × 5 can also be written 3 − (4 × 5), that means something quite different from (3 − 4) × 5"
   ]
  },
  {
   "cell_type": "markdown",
   "id": "ccac2868",
   "metadata": {},
   "source": [
    "## Q7. What are the minimum expressions or statements (or both) that you'd need to render a basic programming language like RPN primitive but complete— that is, capable of carrying out any computerised task theoretically possible?\n",
    "\n",
    "Ans. \n",
    "- Infix: operators are “in” between the operands\n",
    "- Prefix: operators are before (pre) the operands\n",
    "- Postfix: operators are after (post) the operands"
   ]
  },
  {
   "cell_type": "code",
   "execution_count": null,
   "id": "3facc388",
   "metadata": {},
   "outputs": [],
   "source": []
  }
 ],
 "metadata": {
  "kernelspec": {
   "display_name": "Python 3",
   "language": "python",
   "name": "python3"
  },
  "language_info": {
   "codemirror_mode": {
    "name": "ipython",
    "version": 3
   },
   "file_extension": ".py",
   "mimetype": "text/x-python",
   "name": "python",
   "nbconvert_exporter": "python",
   "pygments_lexer": "ipython3",
   "version": "3.8.8"
  }
 },
 "nbformat": 4,
 "nbformat_minor": 5
}
