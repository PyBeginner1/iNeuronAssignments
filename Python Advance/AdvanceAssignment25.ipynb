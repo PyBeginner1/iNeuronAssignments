{
 "cells": [
  {
   "cell_type": "markdown",
   "id": "c3cae341",
   "metadata": {},
   "source": [
    "# Advance Assignment 25"
   ]
  },
  {
   "cell_type": "markdown",
   "id": "6a6997e5",
   "metadata": {},
   "source": [
    "## Q1. What is the distinction between a numpy array and a pandas data frame? Is there a way to convert between the two if there is?\n",
    "\n",
    "Ans. \n",
    "- Numpy arrays can be multi-dimensional whereas DataFrame can only be two-dimensional.\n",
    "- Arrays contain similar types of objects or elements whereas DataFrame can have objects or multiple or similar data types.\n",
    "- Elements in an array can be accessed using only integer positions whereas elements in a DataFrame can be accessed using both integer and index positions"
   ]
  },
  {
   "cell_type": "markdown",
   "id": "e0e31d26",
   "metadata": {},
   "source": [
    "## Q2. What can go wrong when an user enters in a stock-ticker symbol, and how do you handle it?\n",
    "\n",
    "Ans. We can use a API which lookup stock symbols and provide information. We can use **requests** or **Beautiful Soup** sto scrap data."
   ]
  },
  {
   "cell_type": "markdown",
   "id": "4df39a6f",
   "metadata": {},
   "source": [
    "## Q3. Identify some of the plotting techniques that are used to produce a stock-market chart.\n",
    "\n",
    "Ans. Types: <br>\n",
    "- Line charts.\n",
    "- Bar charts."
   ]
  },
  {
   "cell_type": "markdown",
   "id": "03a99bdf",
   "metadata": {},
   "source": [
    "## Q4. Why is it essential to print a legend on a stock market chart?\n",
    "\n",
    "Ans. The legend displays information about the points that are currently hovered over or, if none are hovered over, about the last points shown on the plot. Lengend will help in understanding chart better as it names the points or line."
   ]
  },
  {
   "cell_type": "markdown",
   "id": "6ba4cf36",
   "metadata": {},
   "source": [
    "## Q5. What is the best way to limit the length of a pandas data frame to less than a year?\n",
    "\n",
    "Ans. We can use **datetime** module using which we can fetch the date, month, year out of the data-frame and then we can filter it out based on our requirements."
   ]
  },
  {
   "cell_type": "markdown",
   "id": "47aed592",
   "metadata": {},
   "source": [
    "## Q6. What is the definition of a 180-day moving average?\n",
    "\n",
    "Ans. A Simple Moving Average is adding up closing prices for a certain time period and then dividing the total by the number of days. The time period used is different and varies from trader to trader depending on their short-term or long-term investment strategy."
   ]
  },
  {
   "cell_type": "code",
   "execution_count": null,
   "id": "3fc8e88f",
   "metadata": {},
   "outputs": [],
   "source": []
  }
 ],
 "metadata": {
  "kernelspec": {
   "display_name": "Python 3",
   "language": "python",
   "name": "python3"
  },
  "language_info": {
   "codemirror_mode": {
    "name": "ipython",
    "version": 3
   },
   "file_extension": ".py",
   "mimetype": "text/x-python",
   "name": "python",
   "nbconvert_exporter": "python",
   "pygments_lexer": "ipython3",
   "version": "3.8.8"
  }
 },
 "nbformat": 4,
 "nbformat_minor": 5
}
