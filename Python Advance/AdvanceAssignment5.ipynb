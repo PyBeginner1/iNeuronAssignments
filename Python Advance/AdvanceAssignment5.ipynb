{
 "cells": [
  {
   "cell_type": "markdown",
   "id": "9033553c",
   "metadata": {},
   "source": [
    "# Advance Assignment 5"
   ]
  },
  {
   "cell_type": "markdown",
   "id": "723845a9",
   "metadata": {},
   "source": [
    "## Q1. What is the meaning of multiple inheritance?\n",
    "\n",
    "Ans. Multiple Inheritance means that a class can inherit properties or functionalities from two or more super classes. "
   ]
  },
  {
   "cell_type": "code",
   "execution_count": 3,
   "id": "a47d182c",
   "metadata": {},
   "outputs": [
    {
     "name": "stdout",
     "output_type": "stream",
     "text": [
      "Father\n",
      "Mother\n"
     ]
    }
   ],
   "source": [
    "class Father:\n",
    "    print('Father')\n",
    "\n",
    "class Mother:\n",
    "    print('Mother')\n",
    "\n",
    "class kid(Father, Mother):\n",
    "    pass"
   ]
  },
  {
   "cell_type": "markdown",
   "id": "aedf0ece",
   "metadata": {},
   "source": [
    "## Q2. What is the concept of delegation?\n",
    "\n",
    "Ans. Delegation is an Object oriented desgn pattern that allows object composition to acheive the same code reuse as Inheritance.\n",
    "\n",
    "When we want to change the behaviour of one of the methods of the class, we create a new class that provides a new implementation of the method we are trying to change and it delegates all other methods in the class."
   ]
  },
  {
   "cell_type": "markdown",
   "id": "c241f04d",
   "metadata": {},
   "source": [
    "## Q3. What is the concept of composition?\n",
    "\n",
    "Ans. Composition is a concept that models **has-a** relationship. It enables creating complex types by combining objects of other type. "
   ]
  },
  {
   "cell_type": "code",
   "execution_count": 4,
   "id": "e0f7c0fc",
   "metadata": {},
   "outputs": [
    {
     "name": "stdout",
     "output_type": "stream",
     "text": [
      "A class created\n",
      "B class created\n",
      "First method of B\n",
      "First method of A\n"
     ]
    }
   ],
   "source": [
    "class A:\n",
    "    def __init__(self):\n",
    "        print('A class created')\n",
    "    \n",
    "    def a(self):\n",
    "        print('First method of A')\n",
    "        \n",
    "class B:\n",
    "    def __init__(self):\n",
    "        #create object of A class\n",
    "        self.obj = A()\n",
    "        print('B class created')\n",
    "        \n",
    "    def b(self):\n",
    "        print('First method of B')\n",
    "        self.obj.a()\n",
    "        \n",
    "obj2 = B()\n",
    "obj2.b()"
   ]
  },
  {
   "cell_type": "markdown",
   "id": "70eebb79",
   "metadata": {},
   "source": [
    "## Q4. What are bound methods and how do we use them?\n",
    "\n",
    "Ans. A method which is depenedant on the instance of the class as the first class is called Bound method. It passes the instance as the first argument which is used to access variables and functions. "
   ]
  },
  {
   "cell_type": "code",
   "execution_count": 6,
   "id": "35652e3e",
   "metadata": {},
   "outputs": [
    {
     "data": {
      "text/plain": [
       "<bound method A.a of <__main__.A object at 0x0000018483166B80>>"
      ]
     },
     "execution_count": 6,
     "metadata": {},
     "output_type": "execute_result"
    }
   ],
   "source": [
    "class A:\n",
    "    def a(self, arg):\n",
    "        self.arg = arg\n",
    "        print('Value of arg is ',arg)\n",
    "        \n",
    "b = A()\n",
    "b.a"
   ]
  },
  {
   "cell_type": "markdown",
   "id": "90d2a1c4",
   "metadata": {},
   "source": [
    "## Q5. What is the purpose of pseudoprivate attributes?\n",
    "\n",
    "Ans. Pseudoprivate attributes are useful in larger frameworks or tools, both to avoid introducing new method names that might accidentally hide definitions elsewhere in the class tree and to reduce the chance of internal methods being replaced by names defined lower in the tree. If a method is intended for use only within a class that may be mixed into other classes, the double underscore prefix ensures that the method won't interfere with other names in the tree, especially in multiple-inheritance scenarios."
   ]
  },
  {
   "cell_type": "code",
   "execution_count": null,
   "id": "72e508ac",
   "metadata": {},
   "outputs": [],
   "source": []
  },
  {
   "cell_type": "code",
   "execution_count": null,
   "id": "b3d927e1",
   "metadata": {},
   "outputs": [],
   "source": []
  }
 ],
 "metadata": {
  "kernelspec": {
   "display_name": "Python 3",
   "language": "python",
   "name": "python3"
  },
  "language_info": {
   "codemirror_mode": {
    "name": "ipython",
    "version": 3
   },
   "file_extension": ".py",
   "mimetype": "text/x-python",
   "name": "python",
   "nbconvert_exporter": "python",
   "pygments_lexer": "ipython3",
   "version": "3.8.8"
  }
 },
 "nbformat": 4,
 "nbformat_minor": 5
}
