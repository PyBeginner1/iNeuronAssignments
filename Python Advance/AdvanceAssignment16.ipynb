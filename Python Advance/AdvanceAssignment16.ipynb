{
 "cells": [
  {
   "cell_type": "markdown",
   "id": "6238bfb6",
   "metadata": {},
   "source": [
    "## Advance Assignment 16"
   ]
  },
  {
   "cell_type": "markdown",
   "id": "3fd9ef67",
   "metadata": {},
   "source": [
    "## Q1. What is the benefit of regular expressions?\n",
    "\n",
    "Ans. A **Regular Expression** is used for identify a search pattern in a text string. We can match and extract any string pattern from the text with the help of regular expressions. "
   ]
  },
  {
   "cell_type": "markdown",
   "id": "c4349bb7",
   "metadata": {},
   "source": [
    "## Q2. Describe the difference between the effects of \"(ab)c+\" and \"a(bc)+.\" Which of these, if any, is the unqualified pattern \"abc+\"?\n",
    "\n",
    "Ans. Both (ab)c+ and a(bc)+ are valid patterns. The difference between both these patterns is in **(ab)c+**, ab is group whereas in **a(bc)+**, bc is a group."
   ]
  },
  {
   "cell_type": "markdown",
   "id": "01ef6059",
   "metadata": {},
   "source": [
    "## Q3. How much do you need to use the following sentence while using regular expressions?\n",
    "import re\n",
    "\n",
    "Ans. **import re** has to be mentioned once before using regular expressions."
   ]
  },
  {
   "cell_type": "markdown",
   "id": "148e7527",
   "metadata": {},
   "source": [
    "## Q4. Which characters have special significance in square brackets when expressing a range, and under what circumstances?\n",
    "\n",
    "Ans. The Characters .,*,?,^,or,(), have a special signiface when used with square brackets. They need not be be explicitly escaped by \\ as in case of pattern texts in a raw string.\n",
    "\n",
    "- $\tEnds with\t\t\n",
    "- \"*\"\tZero or more occurrences\t\n",
    "- \"+\"\tOne or more occurrences\t\n",
    "- ?\tZero or one occurrences\t\n",
    "- {}\tExactly the specified number of occurrences\n",
    "- |\tEither or\t\n",
    "- ()\tCapture and group"
   ]
  },
  {
   "cell_type": "markdown",
   "id": "db788b87",
   "metadata": {},
   "source": [
    "## Q5. How does compiling a regular-expression object benefit you?\n",
    "\n",
    "Ans. **re. compile()** - We can combine a regular expression pattern into pattern objects, which can be used for pattern matching. It also helps to search a pattern again without rewriting it."
   ]
  },
  {
   "cell_type": "markdown",
   "id": "b89ffe8f",
   "metadata": {},
   "source": [
    "## Q6. What are some examples of how to use the match object returned by re.match and re.search?\n",
    "\n",
    "Ans. The `re.search()` and `re.match()` both are functions of `re` module in python. <br>\n",
    "**re.match()** searches only from the beginning of the string and return match object if found while **re.search()** searches for the whole string even if the string contains multi-lines and tries to find a match of the substring in all the lines of string."
   ]
  },
  {
   "cell_type": "code",
   "execution_count": 9,
   "id": "fed68ea9",
   "metadata": {},
   "outputs": [
    {
     "name": "stdout",
     "output_type": "stream",
     "text": [
      "-------------------------\n",
      "<re.Match object; span=(75, 81), match='string'>\n",
      "None\n",
      "-------------------------\n",
      "<re.Match object; span=(0, 6), match='string'>\n",
      "<re.Match object; span=(0, 6), match='string'>\n"
     ]
    }
   ],
   "source": [
    "import re\n",
    "String1 ='''We are learning regex with geeksforgeeks\n",
    "         regex is very useful for string matching.\n",
    "          It is fast too.'''\n",
    "String2 ='''string We are learning regex with geeksforgeeks\n",
    "         regex is very useful for string matching.\n",
    "          It is fast too.'''\n",
    "\n",
    "print('-------------------------')\n",
    "print(re.search('string', String1))\n",
    "print(re.match('string', String1))\n",
    "\n",
    "print('-------------------------')\n",
    "print(re.search('string', String2))\n",
    "print(re.match('string', String2))"
   ]
  },
  {
   "cell_type": "markdown",
   "id": "0ff0c576",
   "metadata": {},
   "source": [
    "## Q7. What is the difference between using a vertical bar (|) as an alteration and using square brackets as a character set?\n",
    "\n",
    "Ans. <br>\n",
    "| =\tEither or<br>\n",
    "[] = A set of characters meaning \"any character from a or b"
   ]
  },
  {
   "cell_type": "code",
   "execution_count": 11,
   "id": "4da63480",
   "metadata": {},
   "outputs": [
    {
     "name": "stdout",
     "output_type": "stream",
     "text": [
      "['e', 'i', 'a', 'i', 'e', 'o', 'a', 'e', 'a', 'a', 'e', 'a', 'e', 'i', 'e', 'e', 'e', 'i', 'e', 'o']\n"
     ]
    }
   ],
   "source": [
    "import re\n",
    "\n",
    "txt = \"The right man in the wrong place can make all the difference in the world\"\n",
    "#finind vowels\n",
    "x = re.findall(\"[aeiou]\", txt)\n",
    "print(x)"
   ]
  },
  {
   "cell_type": "code",
   "execution_count": 15,
   "id": "b845971f",
   "metadata": {},
   "outputs": [
    {
     "name": "stdout",
     "output_type": "stream",
     "text": [
      "['bucket', 'bucket']\n"
     ]
    }
   ],
   "source": [
    "import re\n",
    "\n",
    "txt = \"Bring me a bucket, and I'll show you a bucket\"\n",
    "\n",
    "x = re.findall(\"bucket|cup\", txt)\n",
    "\n",
    "print(x)"
   ]
  },
  {
   "cell_type": "markdown",
   "id": "a98606fc",
   "metadata": {},
   "source": [
    "## Q8. In regular-expression search patterns, why is it necessary to use the raw-string indicator (r)? In   replacement strings?\n",
    "\n",
    "Ans. Raw strings help you get the \"source code\" of a RegEx safely to the RegEx parser, which will then assign meaning to character sequences like \\d, \\w, \\n, etc."
   ]
  },
  {
   "cell_type": "code",
   "execution_count": null,
   "id": "c96e1e02",
   "metadata": {},
   "outputs": [],
   "source": []
  }
 ],
 "metadata": {
  "kernelspec": {
   "display_name": "Python 3",
   "language": "python",
   "name": "python3"
  },
  "language_info": {
   "codemirror_mode": {
    "name": "ipython",
    "version": 3
   },
   "file_extension": ".py",
   "mimetype": "text/x-python",
   "name": "python",
   "nbconvert_exporter": "python",
   "pygments_lexer": "ipython3",
   "version": "3.8.8"
  }
 },
 "nbformat": 4,
 "nbformat_minor": 5
}
