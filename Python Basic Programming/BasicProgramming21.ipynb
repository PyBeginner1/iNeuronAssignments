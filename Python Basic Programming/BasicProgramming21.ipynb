{
 "cells": [
  {
   "cell_type": "markdown",
   "id": "c71ed5d8",
   "metadata": {},
   "source": [
    "# Basic Programming 21"
   ]
  },
  {
   "cell_type": "markdown",
   "id": "38eb3c52",
   "metadata": {},
   "source": [
    "## Question1\n",
    "Write a function that takes a list and a number as arguments. Add the number to the end of the list, then remove the first element of the list. The function should then return the updated list.<br>\n",
    "Examples<br>\n",
    "next_in_line([5, 6, 7, 8, 9], 1) ➞ [6, 7, 8, 9, 1]\n",
    "\n",
    "next_in_line([7, 6, 3, 23, 17], 10) ➞ [6, 3, 23, 17, 10]\n",
    "\n",
    "next_in_line([1, 10, 20, 42 ], 6) ➞ [10, 20, 42, 6]\n",
    "\n",
    "next_in_line([], 6) ➞ \"No list has been selected\""
   ]
  },
  {
   "cell_type": "code",
   "execution_count": 22,
   "id": "796d066a",
   "metadata": {},
   "outputs": [],
   "source": [
    "def next_in_line(list, num):\n",
    "    try:\n",
    "        list.append(num)\n",
    "        list.remove(list[0])\n",
    "        if len(list) == 0:\n",
    "            print('No list has been selected')\n",
    "        else:\n",
    "            return list\n",
    "    except Exception as e:\n",
    "        print(e)"
   ]
  },
  {
   "cell_type": "code",
   "execution_count": 23,
   "id": "a3c662b7",
   "metadata": {},
   "outputs": [
    {
     "name": "stdout",
     "output_type": "stream",
     "text": [
      "[6, 7, 8, 9, 1]\n",
      "[6, 3, 23, 17, 10]\n",
      "[10, 20, 42, 6]\n",
      "No list has been selected\n",
      "None\n"
     ]
    }
   ],
   "source": [
    "print(next_in_line([5, 6, 7, 8, 9], 1))\n",
    "print(next_in_line([7, 6, 3, 23, 17], 10))\n",
    "print(next_in_line([1, 10, 20, 42 ], 6))\n",
    "print(next_in_line([], 6))"
   ]
  },
  {
   "cell_type": "markdown",
   "id": "99337154",
   "metadata": {},
   "source": [
    "## Question2\n",
    "Create the function that takes a list of dictionaries and returns the sum of people's budgets.<br>\n",
    "Examples<br>\n",
    "get_budgets([<br>\n",
    "  { \"name\": \"John\", \"age\": 21, \"budget\": 23000 },<br>\n",
    "  { \"name\": \"Steve\",  \"age\": 32, \"budget\": 40000 },<br>\n",
    "  { \"name\": \"Martin\",  \"age\": 16, \"budget\": 2700 }<br>\n",
    "]) ➞ 65700\n",
    "\n",
    "get_budgets([<br>\n",
    "  { \"name\": \"John\",  \"age\": 21, \"budget\": 29000 },<br>\n",
    "  { \"name\": \"Steve\",  \"age\": 32, \"budget\": 32000 },<br>\n",
    "  { \"name\": \"Martin\",  \"age\": 16, \"budget\": 1600 }<br>\n",
    "]) ➞ 62600"
   ]
  },
  {
   "cell_type": "code",
   "execution_count": 31,
   "id": "db7d205a",
   "metadata": {},
   "outputs": [],
   "source": [
    "def get_budgets(budget_dict):\n",
    "    sum = 0\n",
    "    for i in budget_dict:\n",
    "        sum += i['budget']\n",
    "\n",
    "    return sum"
   ]
  },
  {
   "cell_type": "code",
   "execution_count": 32,
   "id": "bb80358b",
   "metadata": {},
   "outputs": [
    {
     "name": "stdout",
     "output_type": "stream",
     "text": [
      "65700\n"
     ]
    }
   ],
   "source": [
    "get_budgets([\n",
    "  { \"name\": \"John\", \"age\": 21, \"budget\": 23000 },\n",
    "  { \"name\": \"Steve\",  \"age\": 32, \"budget\": 40000 },\n",
    "  { \"name\": \"Martin\",  \"age\": 16, \"budget\": 2700 }\n",
    "]))"
   ]
  },
  {
   "cell_type": "code",
   "execution_count": 34,
   "id": "b8ddce49",
   "metadata": {},
   "outputs": [
    {
     "data": {
      "text/plain": [
       "62600"
      ]
     },
     "execution_count": 34,
     "metadata": {},
     "output_type": "execute_result"
    }
   ],
   "source": [
    "get_budgets([\n",
    "  { \"name\": \"John\",  \"age\": 21, \"budget\": 29000 },\n",
    "  { \"name\": \"Steve\",  \"age\": 32, \"budget\": 32000 },\n",
    "  { \"name\": \"Martin\",  \"age\": 16, \"budget\": 1600 }\n",
    "]) "
   ]
  },
  {
   "cell_type": "markdown",
   "id": "a388ec20",
   "metadata": {},
   "source": [
    "## Question3\n",
    "Create a function that takes a string and returns a string with its letters in alphabetical order.<br>\n",
    "Examples<br>\n",
    "alphabet_soup(\"hello\") ➞ \"ehllo\"\n",
    "\n",
    "alphabet_soup(\"edabit\") ➞ \"abdeit\"\n",
    "\n",
    "alphabet_soup(\"hacker\") ➞ \"acehkr\"\n",
    "\n",
    "alphabet_soup(\"geek\") ➞ \"eegk\"\n",
    "\n",
    "alphabet_soup(\"javascript\") ➞ \"aacijprstv\""
   ]
  },
  {
   "cell_type": "code",
   "execution_count": 38,
   "id": "abbe5b85",
   "metadata": {},
   "outputs": [
    {
     "name": "stdout",
     "output_type": "stream",
     "text": [
      "ehllo\n",
      "abdeit\n",
      "acehkr\n",
      "eegk\n",
      "aacijprstv\n"
     ]
    }
   ],
   "source": [
    "def alphabet_soup(string):\n",
    "    try:\n",
    "        res = ''.join(sorted(string))\n",
    "        return res\n",
    "    except Exception as e:\n",
    "        print(e)\n",
    "        \n",
    "print(alphabet_soup(\"hello\"))\n",
    "print(alphabet_soup(\"edabit\"))\n",
    "print(alphabet_soup(\"hacker\"))\n",
    "print(alphabet_soup(\"geek\"))\n",
    "print(alphabet_soup(\"javascript\"))"
   ]
  },
  {
   "cell_type": "markdown",
   "id": "27e51483",
   "metadata": {},
   "source": [
    "## Question4\n",
    "Suppose that you invest $10,000 for 10 years at an interest rate of 6% compounded monthly. What will be the value of your investment at the end of the 10 year period?<br>\n",
    "Create a function that accepts the principal p, the term in years t, the interest rate r, and the number of compounding periods per year n. The function returns the value at the end of term rounded to the nearest cent.\n",
    "For the example above:<br>\n",
    "compound_interest(10000, 10, 0.06, 12) ➞ 18193.97<br>\n",
    "Note that the interest rate is given as a decimal and n=12 because with monthly compounding there are 12 periods per year. Compounding can also be done annually, quarterly, weekly, or daily.<br>"
   ]
  },
  {
   "cell_type": "code",
   "execution_count": 74,
   "id": "af087107",
   "metadata": {},
   "outputs": [
    {
     "name": "stdout",
     "output_type": "stream",
     "text": [
      "Return: 18193.97\n"
     ]
    }
   ],
   "source": [
    "#A = P (1 + r/n) ** nt ---> n = no of compuunds in a year, t = tenure\n",
    "def compound_interest(principal, tenure, roi, compound):\n",
    "    inv_return = principal * (1+(roi/compound)) ** (compound * tenure)\n",
    "    print('Return: {:.2f}'.format(inv_return))\n",
    "    \n",
    "compound_interest(10000, 10, 0.06, 12)"
   ]
  },
  {
   "cell_type": "code",
   "execution_count": 75,
   "id": "85a80b5f",
   "metadata": {},
   "outputs": [
    {
     "name": "stdout",
     "output_type": "stream",
     "text": [
      "Return: 105.00\n",
      "Return: 15399.26\n",
      "Return: 2007316.26\n"
     ]
    }
   ],
   "source": [
    "compound_interest(100, 1, 0.05, 1) \n",
    "compound_interest(3500, 15, 0.1, 4)\n",
    "compound_interest(100000, 20, 0.15, 365) "
   ]
  },
  {
   "cell_type": "markdown",
   "id": "21f71e56",
   "metadata": {},
   "source": [
    "## Question5\n",
    "Write a function that takes a list of elements and returns only the integers.<br>\n",
    "Examples<br>\n",
    "return_only_integer([9, 2, \"space\", \"car\", \"lion\", 16]) ➞ [9, 2, 16]\n",
    "\n",
    "return_only_integer([\"hello\", 81, \"basketball\", 123, \"fox\"]) ➞ [81, 123]\n",
    "\n",
    "return_only_integer([10, \"121\", 56, 20, \"car\", 3, \"lion\"]) ➞ [10, 56, 20, 3]\n",
    "\n",
    "return_only_integer([\"String\",  True,  3.3,  1]) ➞ [1]"
   ]
  },
  {
   "cell_type": "code",
   "execution_count": 81,
   "id": "9d0e5c71",
   "metadata": {},
   "outputs": [],
   "source": [
    "def return_only_integer(list):\n",
    "    ls = []\n",
    "\n",
    "    for i in list:\n",
    "        if type(i) == int:\n",
    "            ls.append(i)\n",
    "\n",
    "    return ls"
   ]
  },
  {
   "cell_type": "code",
   "execution_count": 82,
   "id": "5218707e",
   "metadata": {},
   "outputs": [
    {
     "name": "stdout",
     "output_type": "stream",
     "text": [
      "[9, 2, 16]\n",
      "[81, 123]\n",
      "[10, 56, 20, 3]\n",
      "[1]\n"
     ]
    }
   ],
   "source": [
    "print(return_only_integer([9, 2, \"space\", \"car\", \"lion\", 16]))\n",
    "print(return_only_integer([\"hello\", 81, \"basketball\", 123, \"fox\"]))\n",
    "print(return_only_integer([10, \"121\", 56, 20, \"car\", 3, \"lion\"]))\n",
    "print(return_only_integer([\"String\",  True,  3.3,  1]))"
   ]
  },
  {
   "cell_type": "code",
   "execution_count": null,
   "id": "640a7975",
   "metadata": {},
   "outputs": [],
   "source": []
  }
 ],
 "metadata": {
  "kernelspec": {
   "display_name": "Python 3",
   "language": "python",
   "name": "python3"
  },
  "language_info": {
   "codemirror_mode": {
    "name": "ipython",
    "version": 3
   },
   "file_extension": ".py",
   "mimetype": "text/x-python",
   "name": "python",
   "nbconvert_exporter": "python",
   "pygments_lexer": "ipython3",
   "version": "3.8.8"
  }
 },
 "nbformat": 4,
 "nbformat_minor": 5
}
