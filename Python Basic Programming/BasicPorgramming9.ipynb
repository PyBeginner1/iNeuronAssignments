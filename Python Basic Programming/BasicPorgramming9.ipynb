{
 "cells": [
  {
   "cell_type": "markdown",
   "id": "339cb8be",
   "metadata": {},
   "source": [
    "# BasicPorgramming9"
   ]
  },
  {
   "cell_type": "markdown",
   "id": "e6a378c1",
   "metadata": {},
   "source": [
    "## 1. Write a Python program to check if the given number is a Disarium Number?"
   ]
  },
  {
   "cell_type": "code",
   "execution_count": 24,
   "id": "8204053f",
   "metadata": {},
   "outputs": [
    {
     "name": "stdout",
     "output_type": "stream",
     "text": [
      "Enter a number: 518\n",
      "Yes 518 is a Disarium number\n"
     ]
    }
   ],
   "source": [
    "def check_disarium():\n",
    "    try:\n",
    "        a = input('Enter a number: ')\n",
    "        #square = len(a)\n",
    "        d_sum = 0\n",
    "        sqr = 1\n",
    "\n",
    "        for i in a: \n",
    "            d_sum += int(i) ** sqr\n",
    "            sqr += 1\n",
    "\n",
    "        if d_sum == int(a):\n",
    "            print(f'Yes {d_sum} is a Disarium number')\n",
    "        else:\n",
    "            print(f'No {d_sum} is not a Disarium number')\n",
    "        \n",
    "    except Exception as e:\n",
    "        print(e)\n",
    "    \n",
    "check_disarium()"
   ]
  },
  {
   "cell_type": "markdown",
   "id": "6a1d8a3d",
   "metadata": {},
   "source": [
    "## 2. Write a Python program to print all disarium numbers between 1 to 100?"
   ]
  },
  {
   "cell_type": "code",
   "execution_count": 54,
   "id": "3338c898",
   "metadata": {},
   "outputs": [
    {
     "name": "stdout",
     "output_type": "stream",
     "text": [
      "Disarium numbers:  [1, 2, 3, 4, 5, 6, 7, 8, 9, 89]\n"
     ]
    }
   ],
   "source": [
    "def print_disarium():\n",
    "    try:\n",
    "        l = []\n",
    "\n",
    "        for i in range(1, 101):\n",
    "            sqr = 1\n",
    "            d_sum = 0\n",
    "            \n",
    "            #checking nos below 10 -- all are disarium\n",
    "            if i < 10:\n",
    "                d_sum += i ** sqr \n",
    "\n",
    "                if d_sum == i:\n",
    "                    l.append(i)\n",
    "            #Greater than 10\n",
    "            else:\n",
    "                for j in str(i):\n",
    "                    d_sum += int(j) ** sqr\n",
    "                    sqr += 1\n",
    "\n",
    "                if d_sum == i:\n",
    "                    l.append(i)\n",
    "        print('Disarium numbers: ',l)\n",
    "        \n",
    "    except Exception as e:\n",
    "        print(e)\n",
    "        \n",
    "print_disarium()"
   ]
  },
  {
   "cell_type": "markdown",
   "id": "d593fff5",
   "metadata": {},
   "source": [
    "## 3. Write a Python program to check if the given number is Happy Number?"
   ]
  },
  {
   "cell_type": "code",
   "execution_count": 1,
   "id": "95aebad9",
   "metadata": {},
   "outputs": [
    {
     "data": {
      "text/plain": [
       "True"
      ]
     },
     "execution_count": 1,
     "metadata": {},
     "output_type": "execute_result"
    }
   ],
   "source": [
    "#Method 1\n",
    "def happy_number(n):\n",
    "    h_hash = set()\n",
    "    \n",
    "    while n not in h_hash:\n",
    "        h_hash.add(n)\n",
    "        n = happy_squares(n)\n",
    "        \n",
    "        if n == 1:\n",
    "            return True\n",
    "    return False\n",
    "\n",
    "def happy_squares(n):\n",
    "    h_sum = 0\n",
    "\n",
    "    while n:\n",
    "        digit = n % 10\n",
    "        digit = digit ** 2\n",
    "        h_sum += digit\n",
    "        n = n//10\n",
    "    return h_sum\n",
    "\n",
    "happy_number(19)"
   ]
  },
  {
   "cell_type": "code",
   "execution_count": 11,
   "id": "3aeaf36d",
   "metadata": {},
   "outputs": [
    {
     "name": "stdout",
     "output_type": "stream",
     "text": [
      "Yes, 19 is happy number\n",
      "Yes, 32 is happy number\n",
      "No, 33 is not Happy number\n"
     ]
    }
   ],
   "source": [
    "#Method 2\n",
    "def happy_number_one(n):\n",
    "    initial = n\n",
    "    h_hash = set()\n",
    "    \n",
    "    try:\n",
    "        while True:\n",
    "            h_hash.add(n)   \n",
    "            h_sum = 0\n",
    "\n",
    "            for i in str(n):  \n",
    "                h_sum += int(i) ** 2    \n",
    "                n = h_sum    \n",
    "\n",
    "            if h_sum == 1:\n",
    "                print(f'Yes, {initial} is happy number')\n",
    "                break\n",
    "\n",
    "            elif n in h_hash:\n",
    "                print(f'No, {initial} is not Happy number')\n",
    "                break\n",
    "    except Exception as e:\n",
    "        print(e)\n",
    "    \n",
    "\n",
    "happy_number_one(19)\n",
    "happy_number_one(32)\n",
    "happy_number_one(33)"
   ]
  },
  {
   "cell_type": "markdown",
   "id": "1dd57d30",
   "metadata": {},
   "source": [
    "## 4.\tWrite a Python program to print all happy numbers between 1 and 100?"
   ]
  },
  {
   "cell_type": "code",
   "execution_count": 13,
   "id": "a160af3d",
   "metadata": {},
   "outputs": [
    {
     "name": "stdout",
     "output_type": "stream",
     "text": [
      "Happy numbers between 1 and 100 are:  [1, 7, 10, 13, 19, 23, 28, 31, 32, 44, 49, 68, 70, 79, 82, 86, 91, 94, 97, 100]\n"
     ]
    }
   ],
   "source": [
    "def find_happy(): \n",
    "    try:\n",
    "        l = []\n",
    "        for n in range(1, 101):\n",
    "            h_hash = set()\n",
    "            number = n\n",
    "            while True:\n",
    "                h_hash.add(n)\n",
    "                h_sum = 0\n",
    "\n",
    "                for i in str(n):                \n",
    "                    h_sum += int(i) ** 2        \n",
    "                n = h_sum                        \n",
    "\n",
    "                if h_sum == 1:                  \n",
    "                    l.append(number)\n",
    "                    break\n",
    "\n",
    "                elif n in h_hash:\n",
    "                    break  \n",
    "        \n",
    "    except Exception as e:\n",
    "            print(e)\n",
    "\n",
    "    print('Happy numbers between 1 and 100 are: ',l)\n"
   ]
  },
  {
   "cell_type": "markdown",
   "id": "1fb17c60",
   "metadata": {},
   "source": [
    "## 5.\tWrite a Python program to determine whether the given number is a Harshad Number?"
   ]
  },
  {
   "cell_type": "code",
   "execution_count": 36,
   "id": "c3c45ab3",
   "metadata": {},
   "outputs": [
    {
     "name": "stdout",
     "output_type": "stream",
     "text": [
      "Enter a number: 19\n",
      "No, 19 is not a Harshad number \n"
     ]
    }
   ],
   "source": [
    "def harshad_number():\n",
    "    try:\n",
    "        n = input('Enter a number: ')\n",
    "        add = 0\n",
    "\n",
    "        for i in str(n):\n",
    "            add += int(i)\n",
    "\n",
    "        if int(n) % add == 0:\n",
    "            print(f'Yes, {n} is a Harshad number ')\n",
    "        else:\n",
    "            print(f'No, {n} is not a Harshad number ')\n",
    "    except Exception as e:\n",
    "        print(e)\n",
    "\n",
    "harshad_number()"
   ]
  },
  {
   "cell_type": "code",
   "execution_count": 37,
   "id": "d61beda2",
   "metadata": {},
   "outputs": [
    {
     "name": "stdout",
     "output_type": "stream",
     "text": [
      "Enter a number: 20\n",
      "Yes, 20 is a Harshad number \n"
     ]
    }
   ],
   "source": [
    "harshad_number()"
   ]
  },
  {
   "cell_type": "markdown",
   "id": "cfe8d7e0",
   "metadata": {},
   "source": [
    "## 6.\tWrite a Python program to print all pronic numbers between 1 and 100?"
   ]
  },
  {
   "cell_type": "code",
   "execution_count": 48,
   "id": "a109aca7",
   "metadata": {},
   "outputs": [
    {
     "name": "stdout",
     "output_type": "stream",
     "text": [
      "Pronic Numbers for range 1 and 100 are:  [0, 2, 6, 12, 20, 30, 42, 56, 72, 90, 110, 132, 156, 182, 210, 240, 272, 306, 342, 380, 420, 462, 506, 552, 600, 650, 702, 756, 812, 870, 930, 992, 1056, 1122, 1190, 1260, 1332, 1406, 1482, 1560, 1640, 1722, 1806, 1892, 1980, 2070, 2162, 2256, 2352, 2450, 2550, 2652, 2756, 2862, 2970, 3080, 3192, 3306, 3422, 3540, 3660, 3782, 3906, 4032, 4160, 4290, 4422, 4556, 4692, 4830, 4970, 5112, 5256, 5402, 5550, 5700, 5852, 6006, 6162, 6320, 6480, 6642, 6806, 6972, 7140, 7310, 7482, 7656, 7832, 8010, 8190, 8372, 8556, 8742, 8930, 9120, 9312, 9506, 9702, 9900, 10100]\n"
     ]
    }
   ],
   "source": [
    "def pronic_number():\n",
    "    try:\n",
    "        l = []\n",
    "\n",
    "        for i in range(101):\n",
    "            mul = i * (i+1)\n",
    "            l.append(mul)    \n",
    "\n",
    "        print('Pronic Numbers for range 1 and 100 are: ' ,l)\n",
    "    except Exception as e:\n",
    "        print(e)\n",
    "        \n",
    "pronic_number()"
   ]
  },
  {
   "cell_type": "code",
   "execution_count": null,
   "id": "bad59434",
   "metadata": {},
   "outputs": [],
   "source": []
  }
 ],
 "metadata": {
  "kernelspec": {
   "display_name": "Python 3",
   "language": "python",
   "name": "python3"
  },
  "language_info": {
   "codemirror_mode": {
    "name": "ipython",
    "version": 3
   },
   "file_extension": ".py",
   "mimetype": "text/x-python",
   "name": "python",
   "nbconvert_exporter": "python",
   "pygments_lexer": "ipython3",
   "version": "3.8.8"
  }
 },
 "nbformat": 4,
 "nbformat_minor": 5
}
