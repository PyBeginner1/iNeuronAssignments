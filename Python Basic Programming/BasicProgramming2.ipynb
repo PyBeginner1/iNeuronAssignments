{
 "cells": [
  {
   "cell_type": "markdown",
   "id": "bcd2a366",
   "metadata": {},
   "source": [
    "# BasicProgramming2"
   ]
  },
  {
   "cell_type": "markdown",
   "id": "d2e1f8c9",
   "metadata": {},
   "source": [
    "## 1. Write a Python program to convert kilometers to miles?"
   ]
  },
  {
   "cell_type": "code",
   "execution_count": 3,
   "id": "83d1cc0f",
   "metadata": {},
   "outputs": [
    {
     "name": "stdout",
     "output_type": "stream",
     "text": [
      "Enter Kilometers: 1.6\n",
      "1.6 kilometers is 0.9941936 miles\n"
     ]
    }
   ],
   "source": [
    "def conversion():\n",
    "    km = float(input('Enter Kilometers: '))\n",
    "    miles = km * 0.621371\n",
    "    print(f'{km} kilometers is {miles} miles')\n",
    "\n",
    "conversion()"
   ]
  },
  {
   "cell_type": "markdown",
   "id": "5a909699",
   "metadata": {},
   "source": [
    "## 2. Write a Python program to convert Celsius to Fahrenheit?"
   ]
  },
  {
   "cell_type": "code",
   "execution_count": 12,
   "id": "f2ae7059",
   "metadata": {},
   "outputs": [
    {
     "name": "stdout",
     "output_type": "stream",
     "text": [
      "Enter temperature in Celsius: 13.2\n",
      "13.2°C is 55.76°F\n"
     ]
    }
   ],
   "source": [
    "def degree():\n",
    "    celsius = float(input('Enter temperature in Celsius: '))\n",
    "    fahrenheit = (celsius * (9/5)) + 32\n",
    "    print(f'{celsius}°C is {fahrenheit}°F')\n",
    "    \n",
    "degree()"
   ]
  },
  {
   "cell_type": "markdown",
   "id": "7e2e53bf",
   "metadata": {},
   "source": [
    "## 3. Write a Python program to display calendar?"
   ]
  },
  {
   "cell_type": "code",
   "execution_count": 16,
   "id": "df36d6b5",
   "metadata": {},
   "outputs": [
    {
     "name": "stdout",
     "output_type": "stream",
     "text": [
      "Enter year2022\n",
      "                                  2022\n",
      "\n",
      "      January                   February                   March\n",
      "Mo Tu We Th Fr Sa Su      Mo Tu We Th Fr Sa Su      Mo Tu We Th Fr Sa Su\n",
      "                1  2          1  2  3  4  5  6          1  2  3  4  5  6\n",
      " 3  4  5  6  7  8  9       7  8  9 10 11 12 13       7  8  9 10 11 12 13\n",
      "10 11 12 13 14 15 16      14 15 16 17 18 19 20      14 15 16 17 18 19 20\n",
      "17 18 19 20 21 22 23      21 22 23 24 25 26 27      21 22 23 24 25 26 27\n",
      "24 25 26 27 28 29 30      28                        28 29 30 31\n",
      "31\n",
      "\n",
      "       April                      May                       June\n",
      "Mo Tu We Th Fr Sa Su      Mo Tu We Th Fr Sa Su      Mo Tu We Th Fr Sa Su\n",
      "             1  2  3                         1             1  2  3  4  5\n",
      " 4  5  6  7  8  9 10       2  3  4  5  6  7  8       6  7  8  9 10 11 12\n",
      "11 12 13 14 15 16 17       9 10 11 12 13 14 15      13 14 15 16 17 18 19\n",
      "18 19 20 21 22 23 24      16 17 18 19 20 21 22      20 21 22 23 24 25 26\n",
      "25 26 27 28 29 30         23 24 25 26 27 28 29      27 28 29 30\n",
      "                          30 31\n",
      "\n",
      "        July                     August                  September\n",
      "Mo Tu We Th Fr Sa Su      Mo Tu We Th Fr Sa Su      Mo Tu We Th Fr Sa Su\n",
      "             1  2  3       1  2  3  4  5  6  7                1  2  3  4\n",
      " 4  5  6  7  8  9 10       8  9 10 11 12 13 14       5  6  7  8  9 10 11\n",
      "11 12 13 14 15 16 17      15 16 17 18 19 20 21      12 13 14 15 16 17 18\n",
      "18 19 20 21 22 23 24      22 23 24 25 26 27 28      19 20 21 22 23 24 25\n",
      "25 26 27 28 29 30 31      29 30 31                  26 27 28 29 30\n",
      "\n",
      "      October                   November                  December\n",
      "Mo Tu We Th Fr Sa Su      Mo Tu We Th Fr Sa Su      Mo Tu We Th Fr Sa Su\n",
      "                1  2          1  2  3  4  5  6                1  2  3  4\n",
      " 3  4  5  6  7  8  9       7  8  9 10 11 12 13       5  6  7  8  9 10 11\n",
      "10 11 12 13 14 15 16      14 15 16 17 18 19 20      12 13 14 15 16 17 18\n",
      "17 18 19 20 21 22 23      21 22 23 24 25 26 27      19 20 21 22 23 24 25\n",
      "24 25 26 27 28 29 30      28 29 30                  26 27 28 29 30 31\n",
      "31\n",
      "\n"
     ]
    }
   ],
   "source": [
    "import calendar\n",
    "\n",
    "def calendar_year():\n",
    "    try:\n",
    "        year = int(input('Enter year'))\n",
    "        print(calendar.calendar(year))\n",
    "    except Exception as e:\n",
    "        print('Error:' ,e)\n",
    "    \n",
    "calendar_year()"
   ]
  },
  {
   "cell_type": "markdown",
   "id": "e479d758",
   "metadata": {},
   "source": [
    "## 4. Write a Python program to solve quadratic equation?"
   ]
  },
  {
   "cell_type": "code",
   "execution_count": 36,
   "id": "b57a670b",
   "metadata": {},
   "outputs": [
    {
     "name": "stdout",
     "output_type": "stream",
     "text": [
      "Eqn is (-3+0j) and (-2+0j)\n"
     ]
    }
   ],
   "source": [
    "import cmath\n",
    "\n",
    "def quad_eqn(a,b,c):\n",
    "    try:\n",
    "        discriminant = (b*b) - (4*a*c)\n",
    "\n",
    "        #(α, β) = [-b ± √(b2 – 4ac)]/2a\n",
    "        eqn1 = (-b - cmath.sqrt(discriminant))/(2*a)\n",
    "        eqn2 = (-b + cmath.sqrt(discriminant))/(2*a)\n",
    "\n",
    "        print('Eqn is {0} and {1}'.format(eqn1, eqn2))\n",
    "    except Exception as e:\n",
    "        print('Error: ',e)\n",
    "\n",
    "quad_eqn(1,5,6)"
   ]
  },
  {
   "cell_type": "markdown",
   "id": "be0efa8d",
   "metadata": {},
   "source": [
    "## 5.\tWrite a Python program to swap two variables without temp variable?"
   ]
  },
  {
   "cell_type": "code",
   "execution_count": 41,
   "id": "e8e846d6",
   "metadata": {},
   "outputs": [
    {
     "name": "stdout",
     "output_type": "stream",
     "text": [
      "Value of a after swapping is 22\n",
      "Values of b after swapping is 1\n"
     ]
    }
   ],
   "source": [
    "def swap(a,b):\n",
    "    a,b = b,a\n",
    "    print('Value of a after swapping is', a)\n",
    "    print('Values of b after swapping is', b)\n",
    "\n",
    "swap(1,22)"
   ]
  },
  {
   "cell_type": "code",
   "execution_count": null,
   "id": "de1fbb76",
   "metadata": {},
   "outputs": [],
   "source": []
  }
 ],
 "metadata": {
  "kernelspec": {
   "display_name": "Python 3",
   "language": "python",
   "name": "python3"
  },
  "language_info": {
   "codemirror_mode": {
    "name": "ipython",
    "version": 3
   },
   "file_extension": ".py",
   "mimetype": "text/x-python",
   "name": "python",
   "nbconvert_exporter": "python",
   "pygments_lexer": "ipython3",
   "version": "3.8.8"
  }
 },
 "nbformat": 4,
 "nbformat_minor": 5
}
