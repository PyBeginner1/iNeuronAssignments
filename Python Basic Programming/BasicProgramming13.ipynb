{
 "cells": [
  {
   "cell_type": "markdown",
   "id": "1b9e2c11",
   "metadata": {},
   "source": [
    "# Basic Programming 13"
   ]
  },
  {
   "cell_type": "markdown",
   "id": "9aab113d",
   "metadata": {},
   "source": [
    "## 1. Write a program that calculates and prints the value according to the given formula:\n",
    "\n",
    "Q = Square root of [(2 * C * D)/H]\n",
    "\n",
    "Following are the fixed values of C and H:\n",
    "\n",
    "C is 50. H is 30.\n",
    "\n",
    "D is the variable whose values should be input to your program in a comma-separated sequence."
   ]
  },
  {
   "cell_type": "code",
   "execution_count": 39,
   "id": "180c5daa",
   "metadata": {},
   "outputs": [
    {
     "name": "stdout",
     "output_type": "stream",
     "text": [
      "Enter the number of values : 3\n",
      "Enter a value: 100\n",
      "Enter a value: 150\n",
      "Enter a value: 180\n",
      "Output: 18,22,24\n"
     ]
    }
   ],
   "source": [
    "from math import sqrt\n",
    "\n",
    "def math_form():\n",
    "    try:\n",
    "        n = int(input('Enter the number of values : '))\n",
    "        Q = []\n",
    "        for i in range(1,n+1):\n",
    "            D = int(input('Enter a value: '))\n",
    "            C = 50\n",
    "            H = 30\n",
    "            Q1 = str(round(sqrt((2*C*D)/H)))\n",
    "            Q.append(Q1)\n",
    "        print('Output: {}'.format(',' .join(Q)))\n",
    "    except Exception as e:\n",
    "        print(e)\n",
    "        \n",
    "math_form()"
   ]
  },
  {
   "cell_type": "markdown",
   "id": "db4ba96d",
   "metadata": {},
   "source": [
    "## 2. Write a program which takes 2 digits, X,Y as input and generates a 2-dimensional array. The element value in the i-th row and j-th column of the array should be i*j.\n",
    "\n",
    "Note: i=0,1.., X-1; j=0,1,¡¬Y-1.\n",
    "\n",
    "Example\n",
    "\n",
    "Suppose the following inputs are given to the program:\n",
    "\n",
    "3,5\n",
    "\n",
    "Then, the output of the program should be:\n",
    "\n",
    "[[0, 0, 0, 0, 0], [0, 1, 2, 3, 4], [0, 2, 4, 6, 8]] \n"
   ]
  },
  {
   "cell_type": "code",
   "execution_count": 45,
   "id": "73e74367",
   "metadata": {},
   "outputs": [
    {
     "name": "stdout",
     "output_type": "stream",
     "text": [
      "Enter a number: 3\n",
      "Enter a number: 5\n"
     ]
    },
    {
     "data": {
      "text/plain": [
       "[[0, 0, 0, 0, 0], [0, 1, 2, 3, 4], [0, 2, 4, 6, 8]]"
      ]
     },
     "execution_count": 45,
     "metadata": {},
     "output_type": "execute_result"
    }
   ],
   "source": [
    "def mat_mul():\n",
    "    x = int(input('Enter a number: '))\n",
    "    y = int(input('Enter a number: '))\n",
    "\n",
    "    mat = []\n",
    "    for i in range(x):\n",
    "        row = []\n",
    "        for j in range(y):\n",
    "            row.append(i*j)\n",
    "        mat.append(row)\n",
    "\n",
    "    return mat\n",
    "\n",
    "mat_mul()"
   ]
  },
  {
   "cell_type": "markdown",
   "id": "31023632",
   "metadata": {},
   "source": [
    "## 3. Write a program that accepts a comma separated sequence of words as input and prints the words in a comma-separated sequence after sorting them alphabetically.\n",
    "\n",
    "Suppose the following input is supplied to the program:\n",
    "\n",
    "without,hello,bag,world\n",
    "\n",
    "Then, the output should be:\n",
    "\n",
    "bag,hello,without,world"
   ]
  },
  {
   "cell_type": "code",
   "execution_count": 63,
   "id": "5b93cf4d",
   "metadata": {},
   "outputs": [
    {
     "name": "stdout",
     "output_type": "stream",
     "text": [
      "Enter the number of words: 4\n",
      "Enter a word: without\n",
      "Enter a word: hello\n",
      "Enter a word: bag\n",
      "Enter a word: world\n",
      "-------------------------------\n",
      "Output: bag,hello,without,world\n"
     ]
    }
   ],
   "source": [
    "def alphabet_order():\n",
    "    try:\n",
    "        n = int(input(\"Enter the number of words: \"))\n",
    "        ls = []\n",
    "\n",
    "        for i in range(1,n+1):\n",
    "            word = input('Enter a word: ')\n",
    "            ls.append(word)\n",
    "        ls = sorted(ls)\n",
    "        print('-------------------------------')\n",
    "        print('Output: {}'.format(','.join(ls)))\n",
    "    except Exception as e:\n",
    "        print(e)\n",
    "        \n",
    "alphabet_order()"
   ]
  },
  {
   "cell_type": "markdown",
   "id": "48b2d7ce",
   "metadata": {},
   "source": [
    "## 4. Write a program that accepts a sequence of whitespace separated words as input and prints the words after removing all duplicate words and sorting them alphanumerically.\n",
    "\n",
    "Suppose the following input is supplied to the program:\n",
    "\n",
    "hello world and practice makes perfect and hello world again\n",
    "\n",
    "Then, the output should be:\n",
    "\n",
    "again and hello makes perfect practice world"
   ]
  },
  {
   "cell_type": "code",
   "execution_count": 95,
   "id": "cc6aa28d",
   "metadata": {},
   "outputs": [
    {
     "name": "stdout",
     "output_type": "stream",
     "text": [
      "Output: again and hello makes perfect practice world\n"
     ]
    }
   ],
   "source": [
    "def remove_sort(a):\n",
    "    try:\n",
    "        final = sorted(set(a.split()))\n",
    "        print('Output: {}'.format(' '.join(final)))\n",
    "    except Exception as e:\n",
    "        print(e)\n",
    "        \n",
    "remove_sort('hello world and practice makes perfect and hello world again')"
   ]
  },
  {
   "cell_type": "markdown",
   "id": "8c022811",
   "metadata": {},
   "source": [
    "## 5. Write a program that accepts a sentence and calculate the number of letters and digits.\n",
    "\n",
    "Suppose the following input is supplied to the program:\n",
    "\n",
    "hello world! 123\n",
    "\n",
    "Then, the output should be:\n",
    "\n",
    "LETTERS 10\n",
    "\n",
    "DIGITS 3"
   ]
  },
  {
   "cell_type": "code",
   "execution_count": 128,
   "id": "35c2a619",
   "metadata": {},
   "outputs": [
    {
     "name": "stdout",
     "output_type": "stream",
     "text": [
      "LETTERS:  10\n",
      "DIGITS:  3\n"
     ]
    }
   ],
   "source": [
    "import string\n",
    "\n",
    "def sentence_check(a):\n",
    "        ls = list(string.ascii_lowercase)\n",
    "        nos = '1,2,3,4,5,6,7,8,9'\n",
    "        letters = 0\n",
    "        numbers = 0\n",
    "\n",
    "        for i in a:\n",
    "            if i in ls:\n",
    "                letters +=1\n",
    "            elif i in nos:\n",
    "                numbers += 1\n",
    "        print('LETTERS: ',letters)\n",
    "        print('DIGITS: ',numbers)\n",
    "        \n",
    "sentence_check('hello world! 123')"
   ]
  },
  {
   "cell_type": "markdown",
   "id": "41ed40f6",
   "metadata": {},
   "source": [
    "## 6. A website requires the users to input username and password to register. Write a program to check the validity of password input by users.\n",
    "\n",
    "Following are the criteria for checking the password:\n",
    "\n",
    "1. At least 1 letter between [a-z]\n",
    "\n",
    "2. At least 1 number between [0-9]\n",
    "\n",
    "1. At least 1 letter between [A-Z]\n",
    "\n",
    "3. At least 1 character from [$#@]\n",
    "\n",
    "4. Minimum length of transaction password: 6\n",
    "\n",
    "5. Maximum length of transaction password: 12\n",
    "\n",
    "Your program should accept a sequence of comma separated passwords and will check them according to the above criteria. Passwords that match the criteria are to be printed, each separated by a comma.\n",
    "\n",
    "Example\n",
    "\n",
    "If the following passwords are given as input to the program:\n",
    "\n",
    "ABd1234@1,a F1#,2w3E*,2We3345\n",
    "\n",
    "Then, the output of the program should be:\n",
    "\n",
    "ABd1234@1"
   ]
  },
  {
   "cell_type": "code",
   "execution_count": 195,
   "id": "2ab1069a",
   "metadata": {},
   "outputs": [
    {
     "name": "stdout",
     "output_type": "stream",
     "text": [
      "Valid Password:  ABd1234@1\n",
      "Invalid Password:  a F1#\n",
      "Invalid Password:  2w3E*\n",
      "Invalid Password:  2We3345\n"
     ]
    }
   ],
   "source": [
    "import string\n",
    "\n",
    "def password_validation(input):\n",
    "    try:\n",
    "        password = input.split(',')\n",
    "        lower = list(string.ascii_lowercase)\n",
    "        upper = list(string.ascii_uppercase)\n",
    "        number = '0,1,2,3,4,5,6,7,8,9'\n",
    "        special = '$#@'\n",
    "\n",
    "        for i in password:\n",
    "            if len(i) > 6 and len(i) < 12:\n",
    "                l,u,d,s=0,0,0,0\n",
    "                for j in i:\n",
    "                    if j in lower:\n",
    "                        l +=1\n",
    "                    if j in upper:\n",
    "                        u +=1\n",
    "                    if j in number:\n",
    "                        d +=1\n",
    "                    if j in special:\n",
    "                        s +=1\n",
    "            if (l>=1 and u>=1 and s>=1 and d>=1 and l+s+u+d==len(i)):\n",
    "                print(\"Valid Password: \", i)\n",
    "            else:\n",
    "                print(\"Invalid Password: \", i)\n",
    "    except Exception as e:\n",
    "        print(e)\n",
    "            \n",
    "password_validation('ABd1234@1,a F1#,2w3E*,2We3345')"
   ]
  },
  {
   "cell_type": "code",
   "execution_count": 191,
   "id": "f34c5eec",
   "metadata": {},
   "outputs": [
    {
     "data": {
      "text/plain": [
       "0"
      ]
     },
     "execution_count": 191,
     "metadata": {},
     "output_type": "execute_result"
    }
   ],
   "source": [
    "s"
   ]
  },
  {
   "cell_type": "code",
   "execution_count": null,
   "id": "2bc4578d",
   "metadata": {},
   "outputs": [],
   "source": []
  }
 ],
 "metadata": {
  "kernelspec": {
   "display_name": "Python 3",
   "language": "python",
   "name": "python3"
  },
  "language_info": {
   "codemirror_mode": {
    "name": "ipython",
    "version": 3
   },
   "file_extension": ".py",
   "mimetype": "text/x-python",
   "name": "python",
   "nbconvert_exporter": "python",
   "pygments_lexer": "ipython3",
   "version": "3.8.8"
  }
 },
 "nbformat": 4,
 "nbformat_minor": 5
}
