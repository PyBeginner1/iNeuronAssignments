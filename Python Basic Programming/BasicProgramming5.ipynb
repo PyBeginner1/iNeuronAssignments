{
 "cells": [
  {
   "cell_type": "markdown",
   "id": "b2081b1f",
   "metadata": {},
   "source": [
    "# BasicProgramming5"
   ]
  },
  {
   "cell_type": "markdown",
   "id": "489ca54c",
   "metadata": {},
   "source": [
    "## 1. Write a Python Program to Find LCM?"
   ]
  },
  {
   "cell_type": "code",
   "execution_count": 8,
   "id": "7ba2cf0c",
   "metadata": {},
   "outputs": [
    {
     "name": "stdout",
     "output_type": "stream",
     "text": [
      "Enter a digit: 3\n",
      "Enter a digit: 65\n",
      "The LCM of 3 and 65 is 195\n"
     ]
    }
   ],
   "source": [
    "def find_lcm():\n",
    "    a = int(input('Enter a digit: '))\n",
    "    b = int(input('Enter a digit: '))\n",
    "    try:\n",
    "        if a > b:\n",
    "            greater = a\n",
    "        else:\n",
    "            greater = b\n",
    "        \n",
    "        #we increment greater everytime a condition is not satisfied\n",
    "        while True:\n",
    "            if ((greater % a == 0) and (greater % b == 0)):\n",
    "                print(f'The LCM of {a} and {b} is {greater}')\n",
    "                break\n",
    "            else:\n",
    "                greater += 1\n",
    "    except Exception as e:\n",
    "        print('Error: ',e)\n",
    "        \n",
    "find_lcm()"
   ]
  },
  {
   "cell_type": "markdown",
   "id": "db134b3a",
   "metadata": {},
   "source": [
    "## 2. Write a Python Program to Find HCF?"
   ]
  },
  {
   "cell_type": "code",
   "execution_count": 21,
   "id": "4ffa9eff",
   "metadata": {},
   "outputs": [
    {
     "name": "stdout",
     "output_type": "stream",
     "text": [
      "Enter a digit: 100\n",
      "Enter a digit: 12\n",
      "The HCF of 100 and 12 is 4\n"
     ]
    }
   ],
   "source": [
    "def find_hcf():\n",
    "    a = int(input('Enter a digit: '))\n",
    "    b = int(input('Enter a digit: '))\n",
    "    try:\n",
    "        if a < b :\n",
    "            smaller = a\n",
    "        else:\n",
    "            smaller = b\n",
    "        \n",
    "        for i in range(1, smaller+1):\n",
    "            if ((a % i == 0) and (b % i == 0)):\n",
    "                hcf = i\n",
    "        print(f'The HCF of {a} and {b} is {hcf}')\n",
    "    except Exception as e:\n",
    "        print('Error ',e)\n",
    "    \n",
    "find_hcf()"
   ]
  },
  {
   "cell_type": "markdown",
   "id": "466279ae",
   "metadata": {},
   "source": [
    "## 3. Write a Python Program to Convert Decimal to Binary, Octal and Hexadecimal?\n",
    "\n",
    "We can use bin, oct and hex."
   ]
  },
  {
   "cell_type": "code",
   "execution_count": 30,
   "id": "e745888d",
   "metadata": {},
   "outputs": [
    {
     "name": "stdout",
     "output_type": "stream",
     "text": [
      "Enter a digit: 24\n",
      "Binary: 0b11000 \n",
      "Octal: 0o30 \n",
      "Hexadecimal: 0x18\n"
     ]
    }
   ],
   "source": [
    "def boh():\n",
    "    n = int(input('Enter a digit: '))\n",
    "    binary = bin(n)\n",
    "    octal = oct(n)\n",
    "    hexadecimal = hex(n)\n",
    "    print(f'Binary: {binary} \\nOctal: {octal} \\nHexadecimal: {hexadecimal}')\n",
    "\n",
    "boh()"
   ]
  },
  {
   "cell_type": "markdown",
   "id": "b9984f5f",
   "metadata": {},
   "source": [
    "## 4. Write a Python Program To Find ASCII value of a character?"
   ]
  },
  {
   "cell_type": "code",
   "execution_count": 38,
   "id": "93c55967",
   "metadata": {},
   "outputs": [
    {
     "name": "stdout",
     "output_type": "stream",
     "text": [
      "Enter a character: a\n",
      "ASCII of a is 97\n"
     ]
    }
   ],
   "source": [
    "def find_ascii():\n",
    "    n = input('Enter a character: ')\n",
    "    try:\n",
    "        char = ord(n)\n",
    "        print(f'ASCII of {n} is {char}')\n",
    "    except Exception as e:\n",
    "        print('Error: ',e)\n",
    "    \n",
    "find_ascii()"
   ]
  },
  {
   "cell_type": "code",
   "execution_count": 39,
   "id": "317fef70",
   "metadata": {},
   "outputs": [
    {
     "name": "stdout",
     "output_type": "stream",
     "text": [
      "Enter a character: A\n",
      "ASCII of A is 65\n"
     ]
    }
   ],
   "source": [
    "find_ascii()"
   ]
  },
  {
   "cell_type": "markdown",
   "id": "19ae3445",
   "metadata": {},
   "source": [
    "## 5. Write a Python Program to Make a Simple Calculator with 4 basic mathematical operations?"
   ]
  },
  {
   "cell_type": "code",
   "execution_count": 43,
   "id": "9f7c1544",
   "metadata": {},
   "outputs": [
    {
     "name": "stdout",
     "output_type": "stream",
     "text": [
      "Enter a digit: 1\n",
      "Enter a digit: 0\n",
      "Enter Operator: /\n",
      "Error:  division by zero\n"
     ]
    }
   ],
   "source": [
    "def calculator():\n",
    "    a = int(input('Enter a digit: '))\n",
    "    b = int(input('Enter a digit: '))\n",
    "    op = input('Enter Operator: ')\n",
    "    try:\n",
    "        if op == '+':\n",
    "            return a+b\n",
    "        elif op == '-':\n",
    "            return a-b\n",
    "        elif op == '/':\n",
    "            return a/b\n",
    "        else:\n",
    "            return a*b\n",
    "    except Exception as e:\n",
    "        print('Error: ',e)\n",
    "    \n",
    "calculator()"
   ]
  },
  {
   "cell_type": "code",
   "execution_count": 44,
   "id": "c5e9eb5f",
   "metadata": {},
   "outputs": [
    {
     "name": "stdout",
     "output_type": "stream",
     "text": [
      "Enter a digit: 897657\n",
      "Enter a digit: 978643\n",
      "Enter Operator: /\n"
     ]
    },
    {
     "data": {
      "text/plain": [
       "0.9172466364138915"
      ]
     },
     "execution_count": 44,
     "metadata": {},
     "output_type": "execute_result"
    }
   ],
   "source": [
    "calculator()"
   ]
  },
  {
   "cell_type": "code",
   "execution_count": null,
   "id": "c0b2683e",
   "metadata": {},
   "outputs": [],
   "source": []
  }
 ],
 "metadata": {
  "kernelspec": {
   "display_name": "Python 3",
   "language": "python",
   "name": "python3"
  },
  "language_info": {
   "codemirror_mode": {
    "name": "ipython",
    "version": 3
   },
   "file_extension": ".py",
   "mimetype": "text/x-python",
   "name": "python",
   "nbconvert_exporter": "python",
   "pygments_lexer": "ipython3",
   "version": "3.8.8"
  }
 },
 "nbformat": 4,
 "nbformat_minor": 5
}
