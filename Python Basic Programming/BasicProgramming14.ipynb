{
 "cells": [
  {
   "cell_type": "markdown",
   "id": "cd68f55f",
   "metadata": {},
   "source": [
    "# Basic Programming 14"
   ]
  },
  {
   "cell_type": "markdown",
   "id": "d44a3fbb",
   "metadata": {},
   "source": [
    "## 1. Define a class with a generator which can iterate the numbers, which are divisible by 7, between a given range 0 and n."
   ]
  },
  {
   "cell_type": "code",
   "execution_count": 7,
   "id": "65b95ed3",
   "metadata": {},
   "outputs": [
    {
     "name": "stdout",
     "output_type": "stream",
     "text": [
      "0 7 14 21 28 35 42 49 56 63 70 77 84 91 98 "
     ]
    }
   ],
   "source": [
    "def div_7(n):\n",
    "    for i in range(n):\n",
    "        if i%7 == 0:\n",
    "            yield i\n",
    "            \n",
    "generated_nos = div_7(100)\n",
    "\n",
    "for i in generated_nos:\n",
    "    print(i, end=' ')"
   ]
  },
  {
   "cell_type": "markdown",
   "id": "1e927839",
   "metadata": {},
   "source": [
    "## 2. Write a program to compute the frequency of the words from the input. The output should output after sorting the key alphanumerically. \n",
    "\n",
    "Suppose the following input is supplied to the program:\n",
    "\n",
    "New to Python or choosing between Python 2 and Python 3? Read Python 2 or Python 3.\n",
    "\n",
    "Then, the output should be:\n",
    "\n",
    "2:2\n",
    "\n",
    "3.:1\n",
    "\n",
    "3?:1\n",
    "\n",
    "New:1\n",
    "\n",
    "Python:5\n",
    "\n",
    "Read:1\n",
    "\n",
    "and:1\n",
    "\n",
    "between:1\n",
    "\n",
    "choosing:1\n",
    "\n",
    "or:2\n",
    "\n",
    "to:1\n"
   ]
  },
  {
   "cell_type": "code",
   "execution_count": 59,
   "id": "c8fae159",
   "metadata": {},
   "outputs": [
    {
     "name": "stdout",
     "output_type": "stream",
     "text": [
      "2:2\n",
      "3.:1\n",
      "3?:1\n",
      "New:1\n",
      "Python:5\n",
      "Read:1\n",
      "and:1\n",
      "between:1\n",
      "choosing:1\n",
      "or:2\n",
      "to:1\n"
     ]
    }
   ],
   "source": [
    "def count(a):\n",
    "    try:\n",
    "        a = sorted(a.split())\n",
    "        str2 = []\n",
    "        for i in a:\n",
    "            if i not in str2:\n",
    "                str2.append(i)\n",
    "\n",
    "        for i in str2:\n",
    "            count = a.count(i)\n",
    "            print(f'{i}:{count}')\n",
    "    except Exception as e:\n",
    "        prnt(e)\n",
    "        \n",
    "count('New to Python or choosing between Python 2 and Python 3? Read Python 2 or Python 3.')"
   ]
  },
  {
   "cell_type": "markdown",
   "id": "f8c3f4ab",
   "metadata": {},
   "source": [
    "## 3. Define a class Person and its two child classes: Male and Female. All classes have a method \"getGender\" which can print \"Male\" for Male class and \"Female\" for Female class."
   ]
  },
  {
   "cell_type": "code",
   "execution_count": 63,
   "id": "41e3c0a3",
   "metadata": {},
   "outputs": [
    {
     "name": "stdout",
     "output_type": "stream",
     "text": [
      "Male\n",
      "Female\n"
     ]
    }
   ],
   "source": [
    "class Person:\n",
    "    def getGender():\n",
    "        pass\n",
    "    \n",
    "class Male(Person):\n",
    "    def getGender():\n",
    "        print('Male')\n",
    "\n",
    "class Female(Person):\n",
    "    def getGender():\n",
    "        print('Female')\n",
    "\n",
    "Male.getGender()\n",
    "Female.getGender()"
   ]
  },
  {
   "cell_type": "markdown",
   "id": "c7c918db",
   "metadata": {},
   "source": [
    "## 4. Please write a program to generate all sentences where subject is in [\"I\", \"You\"] and verb is in [\"Play\", \"Love\"] and the object is in [\"Hockey\",\"Football\"]."
   ]
  },
  {
   "cell_type": "code",
   "execution_count": 67,
   "id": "3d5c6546",
   "metadata": {},
   "outputs": [
    {
     "name": "stdout",
     "output_type": "stream",
     "text": [
      "I Play Hockey\n",
      "I Play Football\n",
      "I Love Hockey\n",
      "I Love Football\n",
      "You Play Hockey\n",
      "You Play Football\n",
      "You Love Hockey\n",
      "You Love Football\n"
     ]
    }
   ],
   "source": [
    "def sentence_generator():\n",
    "    try:\n",
    "        sub = [\"I\", \"You\"]\n",
    "        verb = [\"Play\", \"Love\"]\n",
    "        obj = [\"Hockey\",\"Football\"]\n",
    "\n",
    "        for i in sub:\n",
    "            for j in verb:\n",
    "                for k in obj:\n",
    "                    print(f'{i} {j} {k}')\n",
    "    except Exception as e:\n",
    "        print(e)\n",
    "        \n",
    "sentence_generator()"
   ]
  },
  {
   "cell_type": "markdown",
   "id": "f7b691ed",
   "metadata": {},
   "source": [
    "## 5. Please write a program to compress and decompress the string \"hello world!hello world!hello world!hello world!\"."
   ]
  },
  {
   "cell_type": "code",
   "execution_count": 98,
   "id": "febc36d8",
   "metadata": {},
   "outputs": [
    {
     "data": {
      "text/plain": [
       "'hello world!hello world!'"
      ]
     },
     "execution_count": 98,
     "metadata": {},
     "output_type": "execute_result"
    }
   ],
   "source": [
    "def compress(a):\n",
    "    try:\n",
    "        a = a.split(' ')\n",
    "        new = []\n",
    "        for i in a:\n",
    "            if i not in new:\n",
    "                new.append(i)\n",
    "        new = ' '.join(new)\n",
    "        return (new)\n",
    "    except Exception as e:\n",
    "        print(e)\n",
    "        \n",
    "compress('hello world!hello world!hello world!hello world!')"
   ]
  },
  {
   "cell_type": "markdown",
   "id": "32f3be4d",
   "metadata": {},
   "source": [
    "## 6. Please write a binary search function which searches an item in a sorted list. The function should return the index of element to be searched in the list."
   ]
  },
  {
   "cell_type": "code",
   "execution_count": 129,
   "id": "0537e341",
   "metadata": {},
   "outputs": [
    {
     "name": "stdout",
     "output_type": "stream",
     "text": [
      "Found at 7\n"
     ]
    }
   ],
   "source": [
    "ls = [11,23,34,41,52,62,75,87,99,101]\n",
    "\n",
    "def binary_search(ls, search):\n",
    "    low = 0\n",
    "    up = len(sorted_list) - 1\n",
    "\n",
    "    while low <= up:\n",
    "        mid = (low + up)//2\n",
    "        if ls[mid] == search:\n",
    "            print('Found at', mid)\n",
    "            break\n",
    "        elif ls[mid] < search:\n",
    "            low = mid\n",
    "        elif ls[mid] > search:\n",
    "            up = mid\n",
    "    else:\n",
    "        print('Element not in list')\n",
    "                     \n",
    "binary_search(ls, 87)"
   ]
  },
  {
   "cell_type": "code",
   "execution_count": null,
   "id": "72c69ff5",
   "metadata": {},
   "outputs": [],
   "source": []
  },
  {
   "cell_type": "code",
   "execution_count": null,
   "id": "47430828",
   "metadata": {},
   "outputs": [],
   "source": []
  }
 ],
 "metadata": {
  "kernelspec": {
   "display_name": "Python 3",
   "language": "python",
   "name": "python3"
  },
  "language_info": {
   "codemirror_mode": {
    "name": "ipython",
    "version": 3
   },
   "file_extension": ".py",
   "mimetype": "text/x-python",
   "name": "python",
   "nbconvert_exporter": "python",
   "pygments_lexer": "ipython3",
   "version": "3.8.8"
  }
 },
 "nbformat": 4,
 "nbformat_minor": 5
}
