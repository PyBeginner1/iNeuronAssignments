{
 "cells": [
  {
   "cell_type": "markdown",
   "id": "170cdbb5",
   "metadata": {},
   "source": [
    "# Basic Programming 23"
   ]
  },
  {
   "cell_type": "markdown",
   "id": "5eb5ad16",
   "metadata": {},
   "source": [
    "## Question 1\n",
    "Create a function that takes a number as an argument and returns True or False depending on whether the number is symmetrical or not. A number is symmetrical when it is the same as its reverse.<br>\n",
    "Examples<br>\n",
    "is_symmetrical(7227) ➞ True\n",
    "\n",
    "is_symmetrical(12567) ➞ False\n",
    "\n",
    "is_symmetrical(44444444) ➞ True\n",
    "\n",
    "is_symmetrical(9939) ➞ False\n",
    "\n",
    "is_symmetrical(1112111) ➞ True"
   ]
  },
  {
   "cell_type": "code",
   "execution_count": 14,
   "id": "0c1f30af",
   "metadata": {},
   "outputs": [
    {
     "name": "stdout",
     "output_type": "stream",
     "text": [
      "True\n",
      "False\n",
      "True\n",
      "False\n",
      "True\n"
     ]
    }
   ],
   "source": [
    "def is_symmetrical(num):\n",
    "    num = str(num)\n",
    "\n",
    "    reverse = num[::-1]\n",
    "\n",
    "    if num == reverse:\n",
    "        return True\n",
    "    else:\n",
    "        return False\n",
    "    \n",
    "print(is_symmetrical(7227))\n",
    "print(is_symmetrical(12567))\n",
    "print(is_symmetrical(44444444))\n",
    "print(is_symmetrical(9939))\n",
    "print(is_symmetrical(1112111))"
   ]
  },
  {
   "cell_type": "markdown",
   "id": "34a53d6d",
   "metadata": {},
   "source": [
    "## Question 2\n",
    "Given a string of numbers separated by a comma and space, return the product of the numbers.<br>\n",
    "Examples<br>\n",
    "multiply_nums(\"2, 3\") ➞ 6\n",
    "\n",
    "multiply_nums(\"1, 2, 3, 4\") ➞ 24\n",
    "\n",
    "multiply_nums(\"54, 75, 453, 0\") ➞ 0\n",
    "\n",
    "multiply_nums(\"10, -2\") ➞ -20"
   ]
  },
  {
   "cell_type": "code",
   "execution_count": 38,
   "id": "532de105",
   "metadata": {},
   "outputs": [
    {
     "name": "stdout",
     "output_type": "stream",
     "text": [
      "6\n",
      "24\n",
      "0\n",
      "-20\n"
     ]
    }
   ],
   "source": [
    "def multiply_nums(num):\n",
    "    num = num.replace(\" \", '').split(',')\n",
    "    mul = 1\n",
    "\n",
    "    for i in num:\n",
    "        mul *= int(i)\n",
    "\n",
    "    return mul\n",
    "\n",
    "print(multiply_nums(\"2, 3\"))\n",
    "print(multiply_nums(\"1, 2, 3, 4\"))\n",
    "print(multiply_nums(\"54, 75, 453, 0\"))\n",
    "print(multiply_nums(\"10, -2\"))"
   ]
  },
  {
   "cell_type": "markdown",
   "id": "26264afa",
   "metadata": {},
   "source": [
    "## Question 3\n",
    "Create a function that squares every digit of a number.<br>\n",
    "Examples<br>\n",
    "square_digits(9119) ➞ 811181\n",
    "\n",
    "square_digits(2483) ➞ 416649\n",
    "\n",
    "square_digits(3212) ➞ 9414<br>\n",
    "Notes<br>\n",
    "The function receives an integer and must return an integer."
   ]
  },
  {
   "cell_type": "code",
   "execution_count": 67,
   "id": "d2bb26da",
   "metadata": {},
   "outputs": [
    {
     "name": "stdout",
     "output_type": "stream",
     "text": [
      "811181\n",
      "416649\n",
      "9414\n"
     ]
    }
   ],
   "source": [
    "def square_digits(num):\n",
    "    try:\n",
    "        sqr = []\n",
    "        digits = ''\n",
    "\n",
    "        for i in str(num):\n",
    "            sqr.append(int(i) ** 2)\n",
    "\n",
    "        for i in sqr:\n",
    "            digits += str(i)\n",
    "\n",
    "        return digits\n",
    "    except Exception as e:\n",
    "        print(e)\n",
    "        \n",
    "print(square_digits(9119))\n",
    "print(square_digits(2483))\n",
    "print(square_digits(3212))"
   ]
  },
  {
   "cell_type": "markdown",
   "id": "59246b33",
   "metadata": {},
   "source": [
    "## Question 4\n",
    "Create a function that sorts a list and removes all duplicate items from it.<br>\n",
    "Examples<br>\n",
    "setify([1, 3, 3, 5, 5]) ➞ [1, 3, 5]\n",
    "\n",
    "setify([4, 4, 4, 4]) ➞ [4]\n",
    "\n",
    "setify([5, 7, 8, 9, 10, 15]) ➞ [5, 7, 8, 9, 10, 15]\n",
    "\n",
    "setify([3, 3, 3, 2, 1]) ➞ [1, 2, 3]"
   ]
  },
  {
   "cell_type": "code",
   "execution_count": 75,
   "id": "3981a1e5",
   "metadata": {},
   "outputs": [
    {
     "name": "stdout",
     "output_type": "stream",
     "text": [
      "[1, 3, 5]\n",
      "[4]\n",
      "[5, 7, 8, 9, 10, 15]\n",
      "[1, 2, 3]\n"
     ]
    }
   ],
   "source": [
    "def setify(list):\n",
    "    try:\n",
    "        ls = sorted(set(list))\n",
    "        return ls\n",
    "    except exception as e:\n",
    "        print(e)\n",
    "        \n",
    "print(setify([1, 3, 3, 5, 5]))\n",
    "print(setify([4, 4, 4, 4]))\n",
    "print(setify([5, 7, 8, 9, 10, 15]))\n",
    "print(setify([3, 3, 3, 2, 1]))"
   ]
  },
  {
   "cell_type": "markdown",
   "id": "14c18856",
   "metadata": {},
   "source": [
    "## Question 5\n",
    "Create a function that returns the mean of all digits.<br>\n",
    "Examples<br>\n",
    "mean(42) ➞ 3\n",
    "\n",
    "mean(12345) ➞ 3\n",
    "\n",
    "mean(666) ➞ 6<br>\n",
    "Notes<br>\n",
    "•\tThe mean of all digits is the sum of digits / how many digits there are (e.g. mean of digits in 512 is (5+1+2)/3(number of digits) = 8/3=2).<br>\n",
    "•\tThe mean will always be an integer.<br>"
   ]
  },
  {
   "cell_type": "code",
   "execution_count": 102,
   "id": "4c38982d",
   "metadata": {},
   "outputs": [
    {
     "name": "stdout",
     "output_type": "stream",
     "text": [
      "3\n",
      "3\n",
      "6\n"
     ]
    }
   ],
   "source": [
    "def mean(num):\n",
    "    sum = 0\n",
    "    n = len(str(num))\n",
    "\n",
    "    for i in str(num):\n",
    "        sum += int(i)\n",
    "\n",
    "    mean = sum/n\n",
    "    return int(mean)\n",
    "\n",
    "print(mean(42))\n",
    "print(mean(12345))\n",
    "print(mean(666))"
   ]
  },
  {
   "cell_type": "code",
   "execution_count": null,
   "id": "922a22d7",
   "metadata": {},
   "outputs": [],
   "source": []
  },
  {
   "cell_type": "code",
   "execution_count": null,
   "id": "775bc575",
   "metadata": {},
   "outputs": [],
   "source": []
  }
 ],
 "metadata": {
  "kernelspec": {
   "display_name": "Python 3",
   "language": "python",
   "name": "python3"
  },
  "language_info": {
   "codemirror_mode": {
    "name": "ipython",
    "version": 3
   },
   "file_extension": ".py",
   "mimetype": "text/x-python",
   "name": "python",
   "nbconvert_exporter": "python",
   "pygments_lexer": "ipython3",
   "version": "3.8.8"
  }
 },
 "nbformat": 4,
 "nbformat_minor": 5
}
