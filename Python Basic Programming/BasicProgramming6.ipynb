{
 "cells": [
  {
   "cell_type": "markdown",
   "id": "c5618ec3",
   "metadata": {},
   "source": [
    "# Basic Programming 6"
   ]
  },
  {
   "cell_type": "markdown",
   "id": "14ee984f",
   "metadata": {},
   "source": [
    "## 1. Write a Python Program to Display Fibonacci Sequence Using Recursion?"
   ]
  },
  {
   "cell_type": "code",
   "execution_count": 11,
   "id": "62715eca",
   "metadata": {},
   "outputs": [
    {
     "name": "stdout",
     "output_type": "stream",
     "text": [
      "[0, 1, 1, 2, 3, 5, 8, 13, 21, 34]\n"
     ]
    }
   ],
   "source": [
    "# 0, 1, 1, 2, 3, 5, 8, 13, 21, 34, 55, 89, 144\n",
    "def fibonacci(n):\n",
    "    if n == 0:\n",
    "        return 0\n",
    "    elif n == 1:\n",
    "        return 1\n",
    "    else:\n",
    "        return fibonacci(n-2) + fibonacci(n-1)\n",
    "l = []    \n",
    "for i in range(10):\n",
    "    l.append(fibonacci(i))\n",
    "print(l)"
   ]
  },
  {
   "cell_type": "markdown",
   "id": "2c6d1ef3",
   "metadata": {},
   "source": [
    "## 2. Write a Python Program to Find Factorial of Number Using Recursion?"
   ]
  },
  {
   "cell_type": "code",
   "execution_count": 32,
   "id": "45819e2d",
   "metadata": {},
   "outputs": [
    {
     "data": {
      "text/plain": [
       "3628800"
      ]
     },
     "execution_count": 32,
     "metadata": {},
     "output_type": "execute_result"
    }
   ],
   "source": [
    "def factorial(n):\n",
    "    if n == 0:\n",
    "        return 1\n",
    "    elif n == 1:\n",
    "        return 1\n",
    "    else:\n",
    "        return n*factorial(n-1)  # 5*4\n",
    "    \n",
    "factorial(10)"
   ]
  },
  {
   "cell_type": "markdown",
   "id": "077f7fcc",
   "metadata": {},
   "source": [
    "## 3. Write a Python Program to calculate your Body Mass Index?"
   ]
  },
  {
   "cell_type": "code",
   "execution_count": 43,
   "id": "c5b99181",
   "metadata": {},
   "outputs": [
    {
     "name": "stdout",
     "output_type": "stream",
     "text": [
      "Enter your weight: 65\n",
      "Enter your height: 173\n",
      "Your Body Mass Index is 21.71806608974573. This is considered Normal weight.\n"
     ]
    }
   ],
   "source": [
    "#BMI = kg/m2\n",
    "'''BMI Categories:\n",
    "Underweight = <18.5\n",
    "Normal weight = 18.5–24.9\n",
    "Overweight = 25–29.9\n",
    "Obesity = BMI of 30 or greater'''\n",
    "\n",
    "def bmi():\n",
    "    w = int(input('Enter your weight: '))\n",
    "    h = int(input('Enter your height: '))\n",
    "    h_m = h/100\n",
    "    \n",
    "    formula = w/((h_m)**2)\n",
    "    \n",
    "    if formula <= 18.5:\n",
    "        print(f'Your Body Mass Index is {formula}. This is considered Underweight.')\n",
    "    elif formula > 18.5 and formula <= 24.9:\n",
    "        print(f'Your Body Mass Index is {formula}. This is considered Normal weight.')\n",
    "    elif formula >= 25 and formula <= 29.9:\n",
    "        print(f'Your Body Mass Index is {formula}. This is considered Overweight.')\n",
    "    else:\n",
    "        print(f'Your Body Mass Index is {formula}. This is considered Obese.')\n",
    "    \n",
    "bmi()"
   ]
  },
  {
   "cell_type": "markdown",
   "id": "cfce2971",
   "metadata": {},
   "source": [
    "## 4. Write a Python Program to calculate the natural logarithm of any number?"
   ]
  },
  {
   "cell_type": "code",
   "execution_count": 53,
   "id": "ab8b1ab7",
   "metadata": {},
   "outputs": [
    {
     "name": "stdout",
     "output_type": "stream",
     "text": [
      "Enter a digit: 100\n",
      "4.60517\n"
     ]
    }
   ],
   "source": [
    "import math\n",
    "\n",
    "def find_log():\n",
    "    n = int(input('Enter a digit: '))\n",
    "    f_log = (math.log(n))\n",
    "    print(round(f_log,5))\n",
    "\n",
    "find_log()"
   ]
  },
  {
   "cell_type": "markdown",
   "id": "7b9c9aad",
   "metadata": {},
   "source": [
    "## 5. Write a Python Program for cube sum of first n natural numbers?"
   ]
  },
  {
   "cell_type": "code",
   "execution_count": 65,
   "id": "117c2a95",
   "metadata": {},
   "outputs": [
    {
     "name": "stdout",
     "output_type": "stream",
     "text": [
      "Enter a digit: 10\n",
      "Cube of first 10 natural numbers:  3025\n"
     ]
    }
   ],
   "source": [
    "def find_cube():\n",
    "    n = int(input('Enter a digit: '))\n",
    "    mul = 1\n",
    "    \n",
    "    for i in range(2, n+1):\n",
    "        mul += i ** 3\n",
    "    print(f'Cube of first {n} natural numbers: ', mul)\n",
    "    \n",
    "find_cube()"
   ]
  },
  {
   "cell_type": "code",
   "execution_count": null,
   "id": "09946358",
   "metadata": {},
   "outputs": [],
   "source": []
  },
  {
   "cell_type": "code",
   "execution_count": null,
   "id": "a15413ee",
   "metadata": {},
   "outputs": [],
   "source": []
  }
 ],
 "metadata": {
  "kernelspec": {
   "display_name": "Python 3",
   "language": "python",
   "name": "python3"
  },
  "language_info": {
   "codemirror_mode": {
    "name": "ipython",
    "version": 3
   },
   "file_extension": ".py",
   "mimetype": "text/x-python",
   "name": "python",
   "nbconvert_exporter": "python",
   "pygments_lexer": "ipython3",
   "version": "3.8.8"
  }
 },
 "nbformat": 4,
 "nbformat_minor": 5
}
