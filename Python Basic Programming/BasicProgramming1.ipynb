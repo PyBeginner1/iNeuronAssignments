{
 "cells": [
  {
   "cell_type": "markdown",
   "id": "5d856329",
   "metadata": {},
   "source": [
    "# BasicProgramming1"
   ]
  },
  {
   "cell_type": "markdown",
   "id": "c1363ed5",
   "metadata": {},
   "source": [
    "## 1.\tWrite a Python program to print \"Hello Python\"?"
   ]
  },
  {
   "cell_type": "code",
   "execution_count": 1,
   "id": "01ed862d",
   "metadata": {},
   "outputs": [
    {
     "name": "stdout",
     "output_type": "stream",
     "text": [
      "Hello python\n"
     ]
    }
   ],
   "source": [
    "print('Hello python')"
   ]
  },
  {
   "cell_type": "markdown",
   "id": "b7c75da9",
   "metadata": {},
   "source": [
    "## 2.\tWrite a Python program to do arithmetical operations addition and division.?"
   ]
  },
  {
   "cell_type": "code",
   "execution_count": 7,
   "id": "f1cbf935",
   "metadata": {},
   "outputs": [
    {
     "name": "stdout",
     "output_type": "stream",
     "text": [
      "Choose operator: +\n",
      "Enter integer: 12\n",
      "Enter Interger: 2\n"
     ]
    },
    {
     "data": {
      "text/plain": [
       "14"
      ]
     },
     "execution_count": 7,
     "metadata": {},
     "output_type": "execute_result"
    }
   ],
   "source": [
    "op = input('Choose operator: ')\n",
    "a = int(input('Enter integer: '))\n",
    "b = int(input('Enter Interger: '))\n",
    "\n",
    "def calculator(op, a, b):\n",
    "    try:\n",
    "        if op == '+':\n",
    "            return a+b\n",
    "        elif op == '-':\n",
    "            return (a-b)\n",
    "        elif op == '*':\n",
    "            return (a*b)\n",
    "        elif op == '/':\n",
    "            return (a/b)\n",
    "    except Exception as e:\n",
    "        print('Error: ',e)\n",
    "        \n",
    "calculator(op, a, b)"
   ]
  },
  {
   "cell_type": "markdown",
   "id": "2c899236",
   "metadata": {},
   "source": [
    "## 3. Write a Python program to find the area of a triangle?"
   ]
  },
  {
   "cell_type": "code",
   "execution_count": 4,
   "id": "3b0d1dd8",
   "metadata": {},
   "outputs": [
    {
     "name": "stdout",
     "output_type": "stream",
     "text": [
      "Enter height: 12\n",
      "Enter base: 12\n"
     ]
    },
    {
     "data": {
      "text/plain": [
       "72.0"
      ]
     },
     "execution_count": 4,
     "metadata": {},
     "output_type": "execute_result"
    }
   ],
   "source": [
    "#A=hb/2\n",
    "\n",
    "h = float(input('Enter height: '))\n",
    "b = float(input('Enter base: '))\n",
    "\n",
    "def area_triangle(h,b):\n",
    "    return (h*b)/2\n",
    "\n",
    "area_triangle(h,b)"
   ]
  },
  {
   "cell_type": "markdown",
   "id": "0f412c5d",
   "metadata": {},
   "source": [
    "## 4. Write a Python program to swap two variables?"
   ]
  },
  {
   "cell_type": "code",
   "execution_count": 6,
   "id": "cad871bb",
   "metadata": {},
   "outputs": [
    {
     "name": "stdout",
     "output_type": "stream",
     "text": [
      "Enter a value: 12\n",
      "Enter a value: 2\n",
      "Value of a after swapping is  2\n",
      "Value of b after swapping is  12\n"
     ]
    }
   ],
   "source": [
    "a = input('Enter a value: ')\n",
    "b = input('Enter a value: ')\n",
    "\n",
    "temp = a\n",
    "a = b\n",
    "b = temp\n",
    "\n",
    "print('Value of a after swapping is ', a)\n",
    "print('Value of b after swapping is ', b)"
   ]
  },
  {
   "cell_type": "markdown",
   "id": "7c24c57a",
   "metadata": {},
   "source": [
    "## 5. Write a Python program to generate a random number?"
   ]
  },
  {
   "cell_type": "code",
   "execution_count": 11,
   "id": "2a3a9bf9",
   "metadata": {},
   "outputs": [
    {
     "name": "stdout",
     "output_type": "stream",
     "text": [
      "Enter start value: 100\n",
      "Enter end value: 100000\n"
     ]
    },
    {
     "data": {
      "text/plain": [
       "99966"
      ]
     },
     "execution_count": 11,
     "metadata": {},
     "output_type": "execute_result"
    }
   ],
   "source": [
    "from random import randint\n",
    "\n",
    "a = int(input('Enter start value: '))\n",
    "b = int(input('Enter end value: '))\n",
    "\n",
    "randint(a,b)"
   ]
  },
  {
   "cell_type": "code",
   "execution_count": null,
   "id": "837f5cf1",
   "metadata": {},
   "outputs": [],
   "source": []
  }
 ],
 "metadata": {
  "kernelspec": {
   "display_name": "Python 3",
   "language": "python",
   "name": "python3"
  },
  "language_info": {
   "codemirror_mode": {
    "name": "ipython",
    "version": 3
   },
   "file_extension": ".py",
   "mimetype": "text/x-python",
   "name": "python",
   "nbconvert_exporter": "python",
   "pygments_lexer": "ipython3",
   "version": "3.8.8"
  }
 },
 "nbformat": 4,
 "nbformat_minor": 5
}
