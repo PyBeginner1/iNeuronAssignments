{
 "cells": [
  {
   "cell_type": "markdown",
   "id": "a29525be",
   "metadata": {},
   "source": [
    "# Basic Programming 18"
   ]
  },
  {
   "cell_type": "markdown",
   "id": "d0f81ade",
   "metadata": {},
   "source": [
    "## Question 1\n",
    "Create a function that takes a list of non-negative integers and strings and return a new list without the strings.<br>\n",
    "Examples<br>\n",
    "filter_list([1, 2, \"a\", \"b\"]) ➞ [1, 2]\n",
    "\n",
    "filter_list([1, \"a\", \"b\", 0, 15]) ➞ [1, 0, 15]\n",
    "\n",
    "filter_list([1, 2, \"aasf\", \"1\", \"123\", 123]) ➞ [1, 2, 123]"
   ]
  },
  {
   "cell_type": "code",
   "execution_count": 6,
   "id": "8fae2e4e",
   "metadata": {},
   "outputs": [
    {
     "name": "stdout",
     "output_type": "stream",
     "text": [
      "Original:  [1, 2, 'a', 'b'] ---> After Filter:  [1, 2]\n",
      "Original:  [1, 'a', 'b', 0, 15] ---> After Filter:  [1, 0, 15]\n",
      "Original:  [1, 2, 'aasf', '1', '123', 123] ---> After Filter:  [1, 2, 123]\n"
     ]
    }
   ],
   "source": [
    "def filter_list(list):\n",
    "    try:\n",
    "        ls = []\n",
    "\n",
    "        for i in list:\n",
    "            if type(i) == int:\n",
    "                ls.append(i)\n",
    "        print('Original: ', list, '--->', 'After Filter: ' ,ls)\n",
    "    except Exception as e:\n",
    "        print(e)\n",
    "\n",
    "filter_list([1, 2, \"a\", \"b\"])\n",
    "filter_list([1, \"a\", \"b\", 0, 15]) \n",
    "filter_list([1, 2, \"aasf\", \"1\", \"123\", 123]) "
   ]
  },
  {
   "cell_type": "markdown",
   "id": "647a62fa",
   "metadata": {},
   "source": [
    "## Question 2\n",
    "The \"Reverser\" takes a string as input and returns that string in reverse order, with the opposite case.<br>\n",
    "Examples<br>\n",
    "reverse(\"Hello World\") ➞ \"DLROw OLLEh\"\n",
    "\n",
    "reverse(\"ReVeRsE\") ➞ \"eSrEvEr\"\n",
    "\n",
    "reverse(\"Radar\") ➞ \"RADAr\""
   ]
  },
  {
   "cell_type": "code",
   "execution_count": 15,
   "id": "124be109",
   "metadata": {},
   "outputs": [
    {
     "data": {
      "text/plain": [
       "'dlroW olleH'"
      ]
     },
     "execution_count": 15,
     "metadata": {},
     "output_type": "execute_result"
    }
   ],
   "source": [
    "def reverse(a):\n",
    "    return a[::-1]\n",
    "\n",
    "reverse(\"Hello World\")"
   ]
  },
  {
   "cell_type": "code",
   "execution_count": 18,
   "id": "a34e5ee2",
   "metadata": {},
   "outputs": [
    {
     "data": {
      "text/plain": [
       "'EsReVeR'"
      ]
     },
     "execution_count": 18,
     "metadata": {},
     "output_type": "execute_result"
    }
   ],
   "source": [
    "reverse(\"ReVeRsE\")"
   ]
  },
  {
   "cell_type": "code",
   "execution_count": 19,
   "id": "03b0353d",
   "metadata": {},
   "outputs": [
    {
     "data": {
      "text/plain": [
       "'radaR'"
      ]
     },
     "execution_count": 19,
     "metadata": {},
     "output_type": "execute_result"
    }
   ],
   "source": [
    "reverse(\"Radar\")"
   ]
  },
  {
   "cell_type": "markdown",
   "id": "668e676b",
   "metadata": {},
   "source": [
    "## Question 3\n",
    "You can assign variables from lists like this:\n",
    "lst = [1, 2, 3, 4, 5, 6]<br>\n",
    "first = lst[0]<br>\n",
    "middle = lst[1:-1]<br>\n",
    "last = lst[-1]<br>\n",
    "\n",
    "print(first) ➞ outputs 1<br>\n",
    "print(middle) ➞ outputs [2, 3, 4, 5]<br>\n",
    "print(last) ➞ outputs 6<br>\n",
    "With Python 3, you can assign variables from lists in a much more succinct way. Create variables first, middle and last from the given list using destructuring assignment (check the Resources tab for some examples), where:\n",
    "first  ➞ 1<br>\n",
    "\n",
    "middle ➞ [2, 3, 4, 5]<br>\n",
    "\n",
    "last ➞ 6<br>\n",
    "Your task is to unpack the list writeyourcodehere into three variables, being first, middle, and last, with middle being everything in between the first and last element. Then print all three variables.\n"
   ]
  },
  {
   "cell_type": "code",
   "execution_count": 34,
   "id": "f1c40ae9",
   "metadata": {},
   "outputs": [
    {
     "name": "stdout",
     "output_type": "stream",
     "text": [
      "First:  2\n",
      "Middle:  [2, 3, 4, 5]\n",
      "Last:  6\n"
     ]
    }
   ],
   "source": [
    "lst = [1, 2, 3, 4, 5, 6]\n",
    "\n",
    "first = lst[1]\n",
    "last = lst[len(lst)-1]\n",
    "middle = [i for i in range(2, len(lst))]\n",
    "\n",
    "print('First: ', first)\n",
    "print('Middle: ', middle)\n",
    "print('Last: ',last)"
   ]
  },
  {
   "cell_type": "markdown",
   "id": "6a641136",
   "metadata": {},
   "source": [
    "## Question 4\n",
    "Write a function that calculates the factorial of a number recursively.<br>\n",
    "Examples<br>\n",
    "factorial(5) ➞ 120\n",
    "\n",
    "factorial(3) ➞ 6\n",
    "\n",
    "factorial(1) ➞ 1\n",
    "\n",
    "factorial(0) ➞ 1"
   ]
  },
  {
   "cell_type": "code",
   "execution_count": 38,
   "id": "74752bf9",
   "metadata": {},
   "outputs": [
    {
     "name": "stdout",
     "output_type": "stream",
     "text": [
      "120\n",
      "6\n",
      "1\n",
      "1\n"
     ]
    }
   ],
   "source": [
    "def factorial(n):\n",
    "    if n == 0:\n",
    "        return 1\n",
    "    return n * factorial(n-1)\n",
    "\n",
    "print(factorial(5))\n",
    "print(factorial(3))\n",
    "print(factorial(1))\n",
    "print(factorial(0))"
   ]
  },
  {
   "cell_type": "markdown",
   "id": "08194273",
   "metadata": {},
   "source": [
    "## Question 5\n",
    "Write a function that moves all elements of one type to the end of the list.<br>\n",
    "Examples<br>\n",
    "move_to_end([1, 3, 2, 4, 4, 1], 1) ➞ [3, 2, 4, 4, 1, 1]<br>\n",
    "# Move all the 1s to the end of the array.<br>\n",
    "\n",
    "move_to_end([7, 8, 9, 1, 2, 3, 4], 9) ➞ [7, 8, 1, 2, 3, 4, 9]\n",
    "\n",
    "move_to_end([\"a\", \"a\", \"a\", \"b\"], \"a\") ➞ [\"b\", \"a\", \"a\", \"a\"]"
   ]
  },
  {
   "cell_type": "code",
   "execution_count": 52,
   "id": "02f521b8",
   "metadata": {},
   "outputs": [
    {
     "data": {
      "text/plain": [
       "[3, 2, 4, 4, 1, 1]"
      ]
     },
     "execution_count": 52,
     "metadata": {},
     "output_type": "execute_result"
    }
   ],
   "source": [
    "def move_to_end(list, move):\n",
    "    try:\n",
    "        ls_1 = []\n",
    "        ls_2 = []\n",
    "\n",
    "        for i in list:\n",
    "            if i == move:\n",
    "                ls_1.append(i)\n",
    "            else:\n",
    "                ls_2.append(i)\n",
    "\n",
    "        return ls_2+ls_1\n",
    "    except Exception as e:\n",
    "        print(e)\n",
    "    \n",
    "move_to_end([1, 3, 2, 4, 4, 1], 1)"
   ]
  },
  {
   "cell_type": "code",
   "execution_count": 50,
   "id": "e9f4498b",
   "metadata": {},
   "outputs": [
    {
     "data": {
      "text/plain": [
       "[7, 8, 1, 2, 3, 4, 9]"
      ]
     },
     "execution_count": 50,
     "metadata": {},
     "output_type": "execute_result"
    }
   ],
   "source": [
    "move_to_end([7, 8, 9, 1, 2, 3, 4], 9) "
   ]
  },
  {
   "cell_type": "code",
   "execution_count": 51,
   "id": "543d7337",
   "metadata": {},
   "outputs": [
    {
     "data": {
      "text/plain": [
       "['b', 'a', 'a', 'a']"
      ]
     },
     "execution_count": 51,
     "metadata": {},
     "output_type": "execute_result"
    }
   ],
   "source": [
    "move_to_end([\"a\", \"a\", \"a\", \"b\"], \"a\")"
   ]
  },
  {
   "cell_type": "code",
   "execution_count": null,
   "id": "6004a2d8",
   "metadata": {},
   "outputs": [],
   "source": []
  }
 ],
 "metadata": {
  "kernelspec": {
   "display_name": "Python 3",
   "language": "python",
   "name": "python3"
  },
  "language_info": {
   "codemirror_mode": {
    "name": "ipython",
    "version": 3
   },
   "file_extension": ".py",
   "mimetype": "text/x-python",
   "name": "python",
   "nbconvert_exporter": "python",
   "pygments_lexer": "ipython3",
   "version": "3.8.8"
  }
 },
 "nbformat": 4,
 "nbformat_minor": 5
}
