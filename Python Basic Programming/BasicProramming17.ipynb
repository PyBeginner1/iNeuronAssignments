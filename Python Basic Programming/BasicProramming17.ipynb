{
 "cells": [
  {
   "cell_type": "markdown",
   "id": "1f470d3f",
   "metadata": {},
   "source": [
    "# Basic Proramming 17"
   ]
  },
  {
   "cell_type": "markdown",
   "id": "107e4e00",
   "metadata": {},
   "source": [
    "## Question1. Create a function that takes three arguments a, b, c and returns the sum of the numbers that are evenly divided by c from the range a, b inclusive.\n",
    "Examples\n",
    "\n",
    "evenly_divisible(1, 10, 20) ➞ 0\n",
    "# No number between 1 and 10 can be evenly divided by 20.\n",
    "\n",
    "evenly_divisible(1, 10, 2) ➞ 30\n",
    "# 2 + 4 + 6 + 8 + 10 = 30\n",
    "\n",
    "evenly_divisible(1, 10, 3) ➞ 18\n",
    "# 3 + 6 + 9 = 18\n"
   ]
  },
  {
   "cell_type": "code",
   "execution_count": 13,
   "id": "2cab374d",
   "metadata": {},
   "outputs": [
    {
     "name": "stdout",
     "output_type": "stream",
     "text": [
      "No number between 1 and 10 that is divisible by 20\n",
      "Elements:  [2, 4, 6, 8, 10] Sum:  30\n",
      "Elements:  [3, 6, 9] Sum:  18\n"
     ]
    }
   ],
   "source": [
    "def evenly_divisible(a,b,c):\n",
    "    try:\n",
    "        sum = 0\n",
    "        ls = []\n",
    "\n",
    "        for i in range(a,b+1):\n",
    "            if i % c  == 0:\n",
    "                sum += i\n",
    "                ls.append(i)\n",
    "        if len(ls) == 0:\n",
    "            print(f'No number between {a} and {b} that is divisible by {c}')\n",
    "        else:\n",
    "            print('Elements: ', ls, 'Sum: ', sum)\n",
    "    except Exception as e:\n",
    "        print(e)\n",
    "\n",
    "evenly_divisible(1,10,20)\n",
    "evenly_divisible(1,10,2)\n",
    "evenly_divisible(1,10,3)"
   ]
  },
  {
   "cell_type": "markdown",
   "id": "f8006f97",
   "metadata": {},
   "source": [
    "## Question2. Create a function that returns True if a given inequality expression is correct and False otherwise.\n",
    "Examples<br>\n",
    "correct_signs(\"3 < 7 < 11\") ➞ True\n",
    "\n",
    "correct_signs(\"13 > 44 > 33 > 1\") ➞ False\n",
    "\n",
    "correct_signs(\"1 < 2 < 6 < 9 > 3\") ➞ True"
   ]
  },
  {
   "cell_type": "code",
   "execution_count": 95,
   "id": "fa98d847",
   "metadata": {},
   "outputs": [
    {
     "name": "stdout",
     "output_type": "stream",
     "text": [
      "Input:  3 < 7 < 11    Result: True\n",
      "Input:  13 > 44 > 33 > 1    Result: False\n",
      "Input:  1 < 2 < 6 < 9 > 3    Result: True\n"
     ]
    }
   ],
   "source": [
    "def correct_signs(a):\n",
    "    ans = eval(a)\n",
    "    print('Input: ',a, '   Result:' ,ans)\n",
    "    \n",
    "correct_signs(\"3 < 7 < 11\")\n",
    "correct_signs(\"13 > 44 > 33 > 1\")\n",
    "correct_signs(\"1 < 2 < 6 < 9 > 3\") "
   ]
  },
  {
   "cell_type": "markdown",
   "id": "4e79c7fe",
   "metadata": {},
   "source": [
    "## Question3. Create a function that replaces all the vowels in a string with a specified character.\n",
    "\n",
    "Examples<br>\n",
    "replace_vowels(\"the aardvark\", \"#\") ➞ \"th# ##rdv#rk\"\n",
    "\n",
    "replace_vowels(\"minnie mouse\", \"?\") ➞ \"m?nn?? m??s?\"\n",
    "\n",
    "replace_vowels(\"shakespeare\", \"*\") ➞ \"sh*k*sp**r*\""
   ]
  },
  {
   "cell_type": "code",
   "execution_count": 107,
   "id": "fd00267d",
   "metadata": {},
   "outputs": [
    {
     "name": "stdout",
     "output_type": "stream",
     "text": [
      "th# ##rdv#rk\n",
      "m?nn?? m??s?\n",
      "sh*k*sp**r*\n"
     ]
    }
   ],
   "source": [
    "def replace_vowels(word, rep):\n",
    "    try:\n",
    "        vowels = ['a', 'e', 'i', 'o', 'u']\n",
    "\n",
    "        for i in word:\n",
    "            if i in vowels:\n",
    "                word = word.replace(i,rep)\n",
    "        print(word)\n",
    "    except Exception as e:\n",
    "        print(e)\n",
    "    \n",
    "replace_vowels(\"the aardvark\", \"#\")\n",
    "replace_vowels(\"minnie mouse\", \"?\")\n",
    "replace_vowels(\"shakespeare\", \"*\")"
   ]
  },
  {
   "cell_type": "markdown",
   "id": "7f6887b3",
   "metadata": {},
   "source": [
    "## Question4. Write a function that calculates the factorial of a number recursively.\n",
    "Examples<br>\n",
    "factorial(5) ➞ 120\n",
    "\n",
    "factorial(3) ➞ 6\n",
    "\n",
    "factorial(1) ➞ 1\n",
    "\n",
    "factorial(0) ➞ 1"
   ]
  },
  {
   "cell_type": "code",
   "execution_count": 117,
   "id": "b744b183",
   "metadata": {},
   "outputs": [
    {
     "name": "stdout",
     "output_type": "stream",
     "text": [
      "The factorial of 5 is  120\n",
      "The factorial of 3 is  6\n",
      "The factorial of 1 is  1\n",
      "The factorial of 0 is  1\n"
     ]
    }
   ],
   "source": [
    "#without factorial()\n",
    "def factorial(num):\n",
    "    try:\n",
    "        fact = 1\n",
    "\n",
    "        for i in range(1, num+1):\n",
    "            fact *= i\n",
    "        print(f'The factorial of {num} is ', fact)\n",
    "    except Exception as e:\n",
    "        print(e)\n",
    "    \n",
    "factorial(5)\n",
    "factorial(3)\n",
    "factorial(1)\n",
    "factorial(0)"
   ]
  },
  {
   "cell_type": "code",
   "execution_count": 118,
   "id": "03910295",
   "metadata": {},
   "outputs": [
    {
     "name": "stdout",
     "output_type": "stream",
     "text": [
      "The factorial of 5 is  120\n",
      "The factorial of 3 is  6\n",
      "The factorial of 1 is  1\n",
      "The factorial of 0 is  1\n"
     ]
    }
   ],
   "source": [
    "#Using factorial()\n",
    "import math\n",
    "def factorial(num):\n",
    "    fact = math.factorial(num)\n",
    "    print(f'The factorial of {num} is ', fact)\n",
    "    \n",
    "factorial(5)\n",
    "factorial(3)\n",
    "factorial(1)\n",
    "factorial(0)"
   ]
  },
  {
   "cell_type": "markdown",
   "id": "c8f6d0ff",
   "metadata": {},
   "source": [
    "## Question 5\n",
    "Hamming distance is the number of characters that differ between two strings.<br>\n",
    "To illustrate:<br>\n",
    "String1: \"abcbba\"<br>\n",
    "String2: \"abcbda\"<br>\n",
    "\n",
    "Hamming Distance: 1 - \"b\" vs. \"d\" is the only difference.<br>\n",
    "Create a function that computes the hamming distance between two strings.<br>\n",
    "Examples<br>\n",
    "hamming_distance(\"abcde\", \"bcdef\") ➞ 5\n",
    "\n",
    "hamming_distance(\"abcde\", \"abcde\") ➞ 0\n",
    "\n",
    "hamming_distance(\"strong\", \"strung\") ➞ 1\n"
   ]
  },
  {
   "cell_type": "code",
   "execution_count": 140,
   "id": "04812756",
   "metadata": {},
   "outputs": [
    {
     "name": "stdout",
     "output_type": "stream",
     "text": [
      "Hamming distance between abcde and bcdef is  5\n",
      "Hamming distance between abcde and abcde is  0\n",
      "Hamming distance between strong and strung is  1\n"
     ]
    }
   ],
   "source": [
    "def hamming_distance(a,b):\n",
    "    try:\n",
    "        h_dist = 0\n",
    "\n",
    "        for i in range(len(a)):\n",
    "            if a[i] != b[i]:\n",
    "                h_dist += 1\n",
    "        print(f'Hamming distance between {a} and {b} is ', h_dist)\n",
    "    except Exception as e:\n",
    "        print(e)\n",
    "    \n",
    "hamming_distance('abcde', 'bcdef')\n",
    "hamming_distance('abcde', 'abcde')\n",
    "hamming_distance('strong', 'strung')"
   ]
  },
  {
   "cell_type": "code",
   "execution_count": 129,
   "id": "4ac8d7c1",
   "metadata": {},
   "outputs": [
    {
     "data": {
      "text/plain": [
       "'b'"
      ]
     },
     "execution_count": 129,
     "metadata": {},
     "output_type": "execute_result"
    }
   ],
   "source": []
  },
  {
   "cell_type": "code",
   "execution_count": null,
   "id": "94c4605a",
   "metadata": {},
   "outputs": [],
   "source": []
  }
 ],
 "metadata": {
  "kernelspec": {
   "display_name": "Python 3",
   "language": "python",
   "name": "python3"
  },
  "language_info": {
   "codemirror_mode": {
    "name": "ipython",
    "version": 3
   },
   "file_extension": ".py",
   "mimetype": "text/x-python",
   "name": "python",
   "nbconvert_exporter": "python",
   "pygments_lexer": "ipython3",
   "version": "3.8.8"
  }
 },
 "nbformat": 4,
 "nbformat_minor": 5
}
