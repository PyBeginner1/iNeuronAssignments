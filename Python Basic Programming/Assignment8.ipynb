{
 "cells": [
  {
   "cell_type": "markdown",
   "id": "cdc1a9a1",
   "metadata": {},
   "source": [
    "# Assignment8"
   ]
  },
  {
   "cell_type": "markdown",
   "id": "77f3ecf3",
   "metadata": {},
   "source": [
    "## 1. Is the Python Standard Library included with PyInputPlus?\n",
    "\n",
    "Ans. **PyInputPlus** is not included in Python Standard Library. \n",
    "\n",
    "We can install PyInputPlus using the commad:<br>\n",
    "**pip install PyInputPlus**"
   ]
  },
  {
   "cell_type": "markdown",
   "id": "32b8b59c",
   "metadata": {},
   "source": [
    "## 2. Why is PyInputPlus commonly imported with import pyinputplus as pypi?\n",
    "\n",
    "Ans. We can import **pyinputplus as pypi** or **pyinputplus as py** or **pyinputplus as pyp** or any else.\n",
    "\n",
    "It is just a convention so that we can call shorter names while calling the module's function."
   ]
  },
  {
   "cell_type": "markdown",
   "id": "c540f201",
   "metadata": {},
   "source": [
    "## 3. How do you distinguish between inputInt() and inputFloat()?\n",
    "\n",
    "Ans. **inputInt()** - It is an input which accepts only **Integer** value from user. It returns integer<br>\n",
    "**inputFloat()** - It is an input which accepts **Float** value from user. It returns Float<br>"
   ]
  },
  {
   "cell_type": "code",
   "execution_count": 2,
   "id": "321e9ab7",
   "metadata": {},
   "outputs": [
    {
     "name": "stdout",
     "output_type": "stream",
     "text": [
      "62\n"
     ]
    }
   ],
   "source": [
    "x = float(input())"
   ]
  },
  {
   "cell_type": "code",
   "execution_count": 3,
   "id": "4a080825",
   "metadata": {},
   "outputs": [
    {
     "data": {
      "text/plain": [
       "float"
      ]
     },
     "execution_count": 3,
     "metadata": {},
     "output_type": "execute_result"
    }
   ],
   "source": [
    "type(x)"
   ]
  },
  {
   "cell_type": "markdown",
   "id": "35bd98e5",
   "metadata": {},
   "source": [
    "## 4. Using PyInputPlus, how do you ensure that the user enters a whole number between 0 and 99?\n",
    "\n",
    "Ans. By using **inputInt()** we can set the max and min Integer values."
   ]
  },
  {
   "cell_type": "code",
   "execution_count": 3,
   "id": "2c9a777e",
   "metadata": {},
   "outputs": [
    {
     "name": "stdout",
     "output_type": "stream",
     "text": [
      "Enter a number: 101\n",
      "Number must be at maximum 99.\n",
      "Enter a number: 102\n",
      "Number must be at maximum 99.\n",
      "Enter a number: 42\n",
      "42\n"
     ]
    }
   ],
   "source": [
    "import pyinputplus as py\n",
    "n = py.inputInt('Enter a number: ', min = 0, max = 99)\n",
    "print(n)"
   ]
  },
  {
   "cell_type": "markdown",
   "id": "65da71b8",
   "metadata": {},
   "source": [
    "## 5. What is transferred to the keyword arguments allowRegexes and blockRegexes?\n",
    "\n",
    "Ans. The allowRegexes and blockRegexes will determine what PyInputPlus function will accept or reject as valid Input."
   ]
  },
  {
   "cell_type": "markdown",
   "id": "034a38cd",
   "metadata": {},
   "source": [
    "## 6. If a blank input is entered three times, what does inputStr(limit=3) do?\n",
    "\n",
    "Ans. The **inputStr()** is used to take string Inputs. The limit parameter is used to specify the maximum number of times a user tries to enter a valid Input, after which a default vallue is returned or an **RetryLimitException** is raised if specified."
   ]
  },
  {
   "cell_type": "markdown",
   "id": "c1c11f7b",
   "metadata": {},
   "source": [
    "## 7. If blank input is entered three times, what does inputStr(limit=3, default='hello') do?\n",
    "\n",
    "Ans. After 3 tries, this function will return **\"hello\"**."
   ]
  },
  {
   "cell_type": "code",
   "execution_count": null,
   "id": "0084e894",
   "metadata": {},
   "outputs": [],
   "source": []
  }
 ],
 "metadata": {
  "kernelspec": {
   "display_name": "Python 3",
   "language": "python",
   "name": "python3"
  },
  "language_info": {
   "codemirror_mode": {
    "name": "ipython",
    "version": 3
   },
   "file_extension": ".py",
   "mimetype": "text/x-python",
   "name": "python",
   "nbconvert_exporter": "python",
   "pygments_lexer": "ipython3",
   "version": "3.8.8"
  }
 },
 "nbformat": 4,
 "nbformat_minor": 5
}
