{
 "cells": [
  {
   "cell_type": "markdown",
   "id": "a05e03aa",
   "metadata": {},
   "source": [
    "# BasicProgramming8"
   ]
  },
  {
   "cell_type": "markdown",
   "id": "a763fe3c",
   "metadata": {},
   "source": [
    "## 1.\tWrite a Python Program to Add Two Matrices?"
   ]
  },
  {
   "cell_type": "code",
   "execution_count": 13,
   "id": "d34343e3",
   "metadata": {},
   "outputs": [
    {
     "data": {
      "text/plain": [
       "[[6, 8], [10, 12]]"
      ]
     },
     "execution_count": 13,
     "metadata": {},
     "output_type": "execute_result"
    }
   ],
   "source": [
    "def add_matrices(x,y):\n",
    "    res = [[0,0],\n",
    "          [0,0]]\n",
    "    try:\n",
    "        for i in range(len(x)):\n",
    "            for j  in range(len(y)):\n",
    "                res[i][j] = x[i][j]+ y[i][j]\n",
    "        return res\n",
    "    except Exception as e:\n",
    "        print('Error: ',e)       \n",
    "\n",
    "x = [[1,2],\n",
    "    [3,4]]\n",
    "\n",
    "y = [[5,6],\n",
    "    [7,8]]\n",
    "\n",
    "add_matrices(x,y)"
   ]
  },
  {
   "cell_type": "code",
   "execution_count": 14,
   "id": "b983db07",
   "metadata": {},
   "outputs": [
    {
     "name": "stdout",
     "output_type": "stream",
     "text": [
      "Error:  list index out of range\n"
     ]
    }
   ],
   "source": [
    "x = [[1,2],\n",
    "    [3,4]]\n",
    "\n",
    "y = [[5,6]]\n",
    "\n",
    "add_matrices(x,y)"
   ]
  },
  {
   "cell_type": "markdown",
   "id": "12e76a31",
   "metadata": {},
   "source": [
    "## 2.\tWrite a Python Program to Multiply Two Matrices?"
   ]
  },
  {
   "cell_type": "code",
   "execution_count": 99,
   "id": "6212e8f4",
   "metadata": {},
   "outputs": [
    {
     "name": "stdout",
     "output_type": "stream",
     "text": [
      "[[46, 25], [88, 55]]\n"
     ]
    }
   ],
   "source": [
    "x = [[1,2, 3],\n",
    "    [3,4, 5]]\n",
    "\n",
    "y = [[5,6],\n",
    "    [7,8],\n",
    "    [9,1]]\n",
    "\n",
    "def matrix_mul(x,y):\n",
    "    try:\n",
    "        res = [[0 for x in range(len(x))]for y in range(len(y[0]))]\n",
    "\n",
    "        #check if m1*n1:m2*n2 ---> n1 = m2\n",
    "        if len(x[0]) == len(y):\n",
    "            for i in range(len(x)):\n",
    "                for j in range(len(y[0])):\n",
    "                    for k in range(len(y)):\n",
    "                        res[i][j] += x[i][k] * y[k][j]\n",
    "\n",
    "        else:\n",
    "            print('Number of columns in 1st matrix should be equal to number of rows in second matrix')\n",
    "\n",
    "        print(res)\n",
    "    except Exception as e:\n",
    "        print(e)\n",
    "        \n",
    "matrix_mul(x,y)"
   ]
  },
  {
   "cell_type": "markdown",
   "id": "aa940d18",
   "metadata": {},
   "source": [
    "## 3.\tWrite a Python Program to Transpose a Matrix?"
   ]
  },
  {
   "cell_type": "code",
   "execution_count": 98,
   "id": "503866b4",
   "metadata": {},
   "outputs": [
    {
     "name": "stdout",
     "output_type": "stream",
     "text": [
      "(1, 4)\n",
      "(2, 5)\n",
      "(3, 6)\n"
     ]
    }
   ],
   "source": [
    "x = [[1,2,3],\n",
    "        [4,5,6]]\n",
    "\n",
    "def transpose(x): \n",
    "    x_trans = zip(*x)\n",
    "    for i in x_trans:\n",
    "        print(i)\n",
    "\n",
    "transpose(x)"
   ]
  },
  {
   "cell_type": "markdown",
   "id": "a1f19b01",
   "metadata": {},
   "source": [
    "## 4.\tWrite a Python Program to Sort Words in Alphabetic Order?"
   ]
  },
  {
   "cell_type": "code",
   "execution_count": 96,
   "id": "fb2451a9",
   "metadata": {},
   "outputs": [
    {
     "name": "stdout",
     "output_type": "stream",
     "text": [
      "Enter a word: shashvath\n",
      "['a', 'a', 'h', 'h', 'h', 's', 's', 't', 'v']\n"
     ]
    }
   ],
   "source": [
    "def sort_word():\n",
    "    try:\n",
    "        a = input('Enter a word: ')\n",
    "        l = []\n",
    "        for i in a:\n",
    "            l.append(i)\n",
    "        l = sorted(l)\n",
    "        print(l)\n",
    "    except Exception as e:\n",
    "        print(e)\n",
    "\n",
    "sort_word()"
   ]
  },
  {
   "cell_type": "code",
   "execution_count": 95,
   "id": "7895d97a",
   "metadata": {},
   "outputs": [
    {
     "name": "stdout",
     "output_type": "stream",
     "text": [
      "Enter a sentence: my name is ashsada\n",
      "['ashsada', 'is', 'my', 'name']\n"
     ]
    }
   ],
   "source": [
    "def sort_sentence():   \n",
    "    try:\n",
    "        a = input('Enter a sentence: ')\n",
    "        a = a.split(' ')\n",
    "        a_sorted = sorted(a)\n",
    "        print(a_sorted)\n",
    "    except Exception as e:\n",
    "        print(e)\n",
    "\n",
    "sort_sentence()"
   ]
  },
  {
   "cell_type": "markdown",
   "id": "61fb3f65",
   "metadata": {},
   "source": [
    "## 5.\tWrite a Python Program to Remove Punctuation From a String?"
   ]
  },
  {
   "cell_type": "code",
   "execution_count": 97,
   "id": "a394d5b7",
   "metadata": {},
   "outputs": [
    {
     "name": "stdout",
     "output_type": "stream",
     "text": [
      "Enter a string: We're closed today, visit tomorrow.\"\n",
      "Were closed today visit tomorrow\n"
     ]
    }
   ],
   "source": [
    "def remove_punc(): \n",
    "    try:\n",
    "        string = input('Enter a string: ')\n",
    "        clean_string = ''\n",
    "\n",
    "        punctuation = '''.?!,:;--[]{}'\"...()'''\n",
    "\n",
    "        for i in string:\n",
    "            if i not in punctuation:\n",
    "                clean_string += i\n",
    "\n",
    "        print(clean_string)\n",
    "    except Exception as e:\n",
    "        print(e)\n",
    "    \n",
    "remove_punc()"
   ]
  },
  {
   "cell_type": "code",
   "execution_count": null,
   "id": "298a7555",
   "metadata": {},
   "outputs": [],
   "source": []
  },
  {
   "cell_type": "code",
   "execution_count": null,
   "id": "129b6750",
   "metadata": {},
   "outputs": [],
   "source": []
  }
 ],
 "metadata": {
  "kernelspec": {
   "display_name": "Python 3",
   "language": "python",
   "name": "python3"
  },
  "language_info": {
   "codemirror_mode": {
    "name": "ipython",
    "version": 3
   },
   "file_extension": ".py",
   "mimetype": "text/x-python",
   "name": "python",
   "nbconvert_exporter": "python",
   "pygments_lexer": "ipython3",
   "version": "3.8.8"
  }
 },
 "nbformat": 4,
 "nbformat_minor": 5
}
