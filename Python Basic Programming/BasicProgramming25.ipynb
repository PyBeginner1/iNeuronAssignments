{
 "cells": [
  {
   "cell_type": "markdown",
   "id": "ec2c0fc4",
   "metadata": {},
   "source": [
    "# Basic Programming 25"
   ]
  },
  {
   "cell_type": "markdown",
   "id": "e77e9d01",
   "metadata": {},
   "source": [
    "## Question1\n",
    "Create a function that takes three integer arguments (a, b, c) and returns the amount of integers which are of equal value.<br>\n",
    "Examples<br>\n",
    "equal(3, 4, 3) ➞ 2\n",
    "\n",
    "equal(1, 1, 1) ➞ 3\n",
    "\n",
    "equal(3, 4, 1) ➞ 0 \n",
    "Notes\n",
    "Your function must return 0, 2 or 3."
   ]
  },
  {
   "cell_type": "code",
   "execution_count": 13,
   "id": "0ab8e394",
   "metadata": {},
   "outputs": [
    {
     "name": "stdout",
     "output_type": "stream",
     "text": [
      "3, 4, 3 ➞ 2\n",
      "1, 1, 1 ➞ 3\n",
      "3, 4, 1 ➞ 0\n"
     ]
    }
   ],
   "source": [
    "def equal(a,b,c):\n",
    "    try:\n",
    "        if a==b==c:\n",
    "            print(f'{a}, {b}, {c} ➞ {3}')\n",
    "        elif a==b or b==a or c==a:\n",
    "            print(f'{a}, {b}, {c} ➞ {2}')\n",
    "        else:\n",
    "            print(f'{a}, {b}, {c} ➞ {0}')\n",
    "    except Exception as e:\n",
    "        print(e)\n",
    "        \n",
    "equal(3, 4, 3)\n",
    "equal(1, 1, 1)\n",
    "equal(3, 4, 1)"
   ]
  },
  {
   "cell_type": "markdown",
   "id": "c5066f10",
   "metadata": {},
   "source": [
    "## Question2\n",
    "Write a function that converts a dictionary into a list of keys-values tuples.<br>\n",
    "Examples<br>\n",
    "dict_to_list({<br>\n",
    "  \"D\": 1,<br>\n",
    "  \"B\": 2,<br>\n",
    "  \"C\": 3<br>\n",
    "}) ➞ [(\"B\", 2), (\"C\", 3), (\"D\", 1)]\n",
    "\n",
    "dict_to_list({<br>\n",
    "  \"likes\": 2,<br>\n",
    "  \"dislikes\": 3,<br>\n",
    "  \"followers\": 10<br>\n",
    "}) ➞ [(\"dislikes\", 3), (\"followers\", 10), (\"likes\", 2)]<br>\n",
    "Notes<br>\n",
    "Return the elements in the list in alphabetical order."
   ]
  },
  {
   "cell_type": "code",
   "execution_count": 20,
   "id": "b471d033",
   "metadata": {},
   "outputs": [
    {
     "name": "stdout",
     "output_type": "stream",
     "text": [
      "[('B', 2), ('C', 3), ('D', 1)]\n",
      "[('dislikes', 3), ('followers', 10), ('likes', 2)]\n"
     ]
    }
   ],
   "source": [
    "def dict_to_list(dict):\n",
    "    try:\n",
    "        ls = list(dict.items())\n",
    "        print(sorted(ls))\n",
    "    except Exception as e:\n",
    "        print(e)\n",
    "   \n",
    "\n",
    "dict_to_list({\n",
    "  \"D\": 1,\n",
    "  \"B\": 2,\n",
    "  \"C\": 3\n",
    "}) \n",
    "\n",
    "dict_to_list({\n",
    "  \"likes\": 2,\n",
    "  \"dislikes\": 3,\n",
    "  \"followers\": 10\n",
    "}) "
   ]
  },
  {
   "cell_type": "markdown",
   "id": "f29a30ca",
   "metadata": {},
   "source": [
    "## Question3\n",
    "Write a function that creates a dictionary with each (key, value) pair being the (lower case, upper case) versions of a letter, respectively.<br>\n",
    "Examples<br>\n",
    "mapping([\"p\", \"s\"]) ➞ { \"p\": \"P\", \"s\": \"S\" }\n",
    "\n",
    "mapping([\"a\", \"b\", \"c\"]) ➞ { \"a\": \"A\", \"b\": \"B\", \"c\": \"C\" }\n",
    "\n",
    "mapping([\"a\", \"v\", \"y\", \"z\"]) ➞ { \"a\": \"A\", \"v\": \"V\", \"y\": \"Y\", \"z\": \"Z\" }<br>\n",
    "Notes<br>\n",
    "All of the letters in the input list will always be lowercase."
   ]
  },
  {
   "cell_type": "code",
   "execution_count": 24,
   "id": "000a73dc",
   "metadata": {},
   "outputs": [
    {
     "name": "stdout",
     "output_type": "stream",
     "text": [
      "{'p': 'P', 's': 'S'}\n",
      "{'a': 'A', 'b': 'B', 'c': 'C'}\n",
      "{'a': 'A', 'v': 'V', 'y': 'Y', 'z': 'Z'}\n"
     ]
    }
   ],
   "source": [
    "def mapping(list):\n",
    "    try:\n",
    "        dict = {}\n",
    "\n",
    "        for i in list:\n",
    "            dict[i] = i.upper()\n",
    "\n",
    "        print(dict)\n",
    "    except Exception as e:\n",
    "        print(e)\n",
    "        \n",
    "mapping([\"p\", \"s\"]) \n",
    "mapping([\"a\", \"b\", \"c\"]) \n",
    "mapping([\"a\", \"v\", \"y\", \"z\"]) "
   ]
  },
  {
   "cell_type": "markdown",
   "id": "f1ed6165",
   "metadata": {},
   "source": [
    "## Question4\n",
    "Write a function, that replaces all vowels in a string with a specified vowel.<br>\n",
    "Examples<br>\n",
    "vow_replace(\"apples and bananas\", \"u\") ➞ \"upplus und bununus\"\n",
    "\n",
    "vow_replace(\"cheese casserole\", \"o\") ➞ \"chooso cossorolo\"\n",
    "\n",
    "vow_replace(\"stuffed jalapeno poppers\", \"e\") ➞ \"steffed jelepene peppers\"<br>\n",
    "Notes<br>\n",
    "All words will be lowercase. Y is not considered a vowel."
   ]
  },
  {
   "cell_type": "code",
   "execution_count": 42,
   "id": "395b96c6",
   "metadata": {},
   "outputs": [
    {
     "name": "stdout",
     "output_type": "stream",
     "text": [
      "apples and bananas ➞  upplus und bununus\n",
      "cheese casserole ➞  chooso cossorolo\n",
      "stuffed jalapeno poppers ➞  steffed jelepene peppers\n"
     ]
    }
   ],
   "source": [
    "def vow_replace(string, replace):\n",
    "    try:\n",
    "        vowles = ['a','e','i','o','u']\n",
    "        n_str = ''\n",
    "        \n",
    "        for i in string:\n",
    "            if i in vowels:\n",
    "                n_str += replace\n",
    "            else:\n",
    "                n_str += i\n",
    "        print(f'{string} ➞ ', n_str)\n",
    "    except Exception as e:\n",
    "        print(e)\n",
    "        \n",
    "vow_replace(\"apples and bananas\", \"u\")\n",
    "vow_replace(\"cheese casserole\", \"o\")\n",
    "vow_replace(\"stuffed jalapeno poppers\", \"e\")"
   ]
  },
  {
   "cell_type": "code",
   "execution_count": 43,
   "id": "23c71db1",
   "metadata": {},
   "outputs": [
    {
     "name": "stdout",
     "output_type": "stream",
     "text": [
      "apples and bananas ➞  upples und bununus\n",
      "cheese casserole ➞  chooso cassorolo\n",
      "stuffed jalapeno poppers ➞  stuffed jalapeno poppers\n"
     ]
    }
   ],
   "source": [
    "#Method 2 not working with replace fn as it can only perform on a single character\n",
    "def vow_replace(string, replace):\n",
    "    try:\n",
    "        vowels = 'aeiou'\n",
    "\n",
    "        for i in string:\n",
    "            if i in vowels:\n",
    "                x = string.replace(i,replace)\n",
    "        print(f'{string} ➞ ', x)\n",
    "    except Exception as e:\n",
    "        print(e)\n",
    "        \n",
    "vow_replace(\"apples and bananas\", \"u\") \n",
    "vow_replace(\"cheese casserole\", \"o\") \n",
    "vow_replace(\"stuffed jalapeno poppers\", \"e\") "
   ]
  },
  {
   "cell_type": "markdown",
   "id": "f2eef064",
   "metadata": {},
   "source": [
    "## Question5\n",
    "Create a function that takes a string as input and capitalizes a letter if its ASCII code is even and returns its lower case version if its ASCII code is odd.<br>\n",
    "Examples<br>\n",
    "ascii_capitalize(\"to be or not to be!\") ➞ \"To Be oR NoT To Be!\"\n",
    "\n",
    "ascii_capitalize(\"THE LITTLE MERMAID\") ➞ \"THe LiTTLe meRmaiD\"\n",
    "\n",
    "ascii_capitalize(\"Oh what a beautiful morning.\") ➞ \"oH wHaT a BeauTiFuL moRNiNg.\""
   ]
  },
  {
   "cell_type": "code",
   "execution_count": 51,
   "id": "80ca9ba3",
   "metadata": {},
   "outputs": [
    {
     "name": "stdout",
     "output_type": "stream",
     "text": [
      "to be or not to be! ➞  To Be oR NoT To Be!\n",
      "THE LITTLE MERMAID ➞  THe LiTTLe meRmaiD\n",
      "Oh what a beautiful morning. ➞  oH wHaT a BeauTiFuL moRNiNg.\n"
     ]
    }
   ],
   "source": [
    "def ascii_capitalize(string):\n",
    "    n_string = ''\n",
    "\n",
    "    for i in string:\n",
    "        if ord(i) % 2 == 0:\n",
    "            n_string += i.upper()\n",
    "        else:\n",
    "            n_string += i.lower()\n",
    "\n",
    "    print(f'{string} ➞ ', n_string)\n",
    "    \n",
    "ascii_capitalize(\"to be or not to be!\")\n",
    "ascii_capitalize(\"THE LITTLE MERMAID\")\n",
    "ascii_capitalize(\"Oh what a beautiful morning.\")"
   ]
  },
  {
   "cell_type": "code",
   "execution_count": null,
   "id": "f9fbd781",
   "metadata": {},
   "outputs": [],
   "source": []
  }
 ],
 "metadata": {
  "kernelspec": {
   "display_name": "Python 3",
   "language": "python",
   "name": "python3"
  },
  "language_info": {
   "codemirror_mode": {
    "name": "ipython",
    "version": 3
   },
   "file_extension": ".py",
   "mimetype": "text/x-python",
   "name": "python",
   "nbconvert_exporter": "python",
   "pygments_lexer": "ipython3",
   "version": "3.8.8"
  }
 },
 "nbformat": 4,
 "nbformat_minor": 5
}
