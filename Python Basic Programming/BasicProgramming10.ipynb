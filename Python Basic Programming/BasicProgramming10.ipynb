{
 "cells": [
  {
   "cell_type": "markdown",
   "id": "e01fec9b",
   "metadata": {},
   "source": [
    "# Basic Programming 10"
   ]
  },
  {
   "cell_type": "markdown",
   "id": "69be65f9",
   "metadata": {},
   "source": [
    "## 1.\tWrite a Python program to find sum of elements in list?"
   ]
  },
  {
   "cell_type": "code",
   "execution_count": 12,
   "id": "554dd7b8",
   "metadata": {},
   "outputs": [
    {
     "name": "stdout",
     "output_type": "stream",
     "text": [
      "Enter number of elements in list: 3\n",
      "Enter numbers: 10\n",
      "Enter numbers: 10\n",
      "Enter numbers: 10\n",
      "Sum of elements in list is  30\n"
     ]
    }
   ],
   "source": [
    "def list_sum():\n",
    "    try:\n",
    "        n = int(input('Enter number of elements in list: '))\n",
    "        ls = []\n",
    "        sum = 0\n",
    "\n",
    "        for i in range(n):\n",
    "            nos = int(input('Enter numbers: '))\n",
    "            ls.append(nos)\n",
    "\n",
    "        for i in ls:\n",
    "            sum += i\n",
    "\n",
    "        print('Sum of elements in list is ', sum)\n",
    "    except exception as e:\n",
    "        print(e)\n",
    "        \n",
    "list_sum()"
   ]
  },
  {
   "cell_type": "markdown",
   "id": "52fcf044",
   "metadata": {},
   "source": [
    "## 2.\tWrite a Python program to  Multiply all numbers in the list?"
   ]
  },
  {
   "cell_type": "code",
   "execution_count": 14,
   "id": "8183d89d",
   "metadata": {},
   "outputs": [
    {
     "name": "stdout",
     "output_type": "stream",
     "text": [
      "Enter number of elements in list: 2\n",
      "Enter numbers: 10\n",
      "Enter numbers: 10\n",
      "Product of elements in list is  100\n"
     ]
    }
   ],
   "source": [
    "def list_mul():\n",
    "    try:\n",
    "        n = int(input('Enter number of elements in list: '))\n",
    "        ls = []\n",
    "        mul = 1\n",
    "\n",
    "        for i in range(n):\n",
    "            nos = int(input('Enter numbers: '))\n",
    "            ls.append(nos)\n",
    "\n",
    "        for i in ls:\n",
    "            mul *= i\n",
    "\n",
    "        print('Product of elements in list is ', mul)\n",
    "    except exception as e:\n",
    "        print(e)\n",
    "        \n",
    "list_mul()"
   ]
  },
  {
   "cell_type": "markdown",
   "id": "7fb99e32",
   "metadata": {},
   "source": [
    "## 3.\tWrite a Python program to find smallest number in a list?"
   ]
  },
  {
   "cell_type": "code",
   "execution_count": 34,
   "id": "59eeae4d",
   "metadata": {},
   "outputs": [
    {
     "name": "stdout",
     "output_type": "stream",
     "text": [
      "Enter number of elements in list: 5\n",
      "Enter numbers: 121\n",
      "Enter numbers: 111\n",
      "Enter numbers: 124\n",
      "Enter numbers: 123\n",
      "Enter numbers: 114\n",
      "Smallest Element of list is  111\n"
     ]
    }
   ],
   "source": [
    "def small_list():\n",
    "    try:\n",
    "        n = int(input('Enter number of elements in list: '))\n",
    "        ls = []\n",
    "\n",
    "        for i in range(n):\n",
    "            nos = int(input('Enter numbers: '))\n",
    "            ls.append(nos)\n",
    "\n",
    "        ls.sort()\n",
    "        print('Smallest Element of list is ', ls[:1][0])\n",
    "    except Exception as e:\n",
    "        print(e)\n",
    "\n",
    "small_list()"
   ]
  },
  {
   "cell_type": "code",
   "execution_count": 35,
   "id": "e2fa5891",
   "metadata": {},
   "outputs": [
    {
     "name": "stdout",
     "output_type": "stream",
     "text": [
      "Enter number of elements in list: 5\n",
      "Enter numbers: 234\n",
      "Enter numbers: 1233\n",
      "Enter numbers: 5431\n",
      "Enter numbers: 654\n",
      "Enter numbers: 6757\n",
      "Smallest Element of list is  234\n"
     ]
    }
   ],
   "source": [
    "def small_list_min():\n",
    "    try:\n",
    "        n = int(input('Enter number of elements in list: '))\n",
    "        ls = []\n",
    "\n",
    "        for i in range(n):\n",
    "            nos = int(input('Enter numbers: '))\n",
    "            ls.append(nos)\n",
    "        print('Smallest Element of list is ', min(ls))\n",
    "    except Exception as e:\n",
    "        print(e)\n",
    "        \n",
    "small_list_min()"
   ]
  },
  {
   "cell_type": "markdown",
   "id": "d3a335ac",
   "metadata": {},
   "source": [
    "## 4.\tWrite a Python program to find largest number in a list?"
   ]
  },
  {
   "cell_type": "code",
   "execution_count": 39,
   "id": "72cc0aa2",
   "metadata": {},
   "outputs": [
    {
     "name": "stdout",
     "output_type": "stream",
     "text": [
      "Enter number of elements in list: 5\n",
      "Enter numbers: 213\n",
      "Enter numbers: 5476\n",
      "Enter numbers: 21\n",
      "Enter numbers: 46\n",
      "Enter numbers: 12\n",
      "Largest Element of list is  5476\n"
     ]
    }
   ],
   "source": [
    "def large_list():\n",
    "    try:\n",
    "        n = int(input('Enter number of elements in list: '))\n",
    "        ls = []\n",
    "\n",
    "        for i in range(n):\n",
    "            nos = int(input('Enter numbers: '))\n",
    "            ls.append(nos)\n",
    "\n",
    "        ls.sort()\n",
    "        print('Largest Element of list is ', ls[-1])\n",
    "    except Exception as e:\n",
    "        print(e)\n",
    "\n",
    "large_list()"
   ]
  },
  {
   "cell_type": "code",
   "execution_count": 41,
   "id": "536d7864",
   "metadata": {},
   "outputs": [
    {
     "name": "stdout",
     "output_type": "stream",
     "text": [
      "Enter number of elements in list: 5\n",
      "Enter numbers: 124\n",
      "Enter numbers: 364\n",
      "Enter numbers: 12465\n",
      "Enter numbers: 12353\n",
      "Enter numbers: 1231\n",
      "Largest Element of list is  12465\n"
     ]
    }
   ],
   "source": [
    "def large_list_max():\n",
    "    try:\n",
    "        n = int(input('Enter number of elements in list: '))\n",
    "        ls = []\n",
    "\n",
    "        for i in range(n):\n",
    "            nos = int(input('Enter numbers: '))\n",
    "            ls.append(nos)\n",
    "        print('Largest Element of list is ', max(ls))\n",
    "    except Exception as e:\n",
    "        print(e)\n",
    "        \n",
    "large_list_max()"
   ]
  },
  {
   "cell_type": "markdown",
   "id": "40c5f4ad",
   "metadata": {},
   "source": [
    "## 5.\tWrite a Python program to find second largest number in a list?"
   ]
  },
  {
   "cell_type": "code",
   "execution_count": 52,
   "id": "f7459690",
   "metadata": {},
   "outputs": [
    {
     "name": "stdout",
     "output_type": "stream",
     "text": [
      "Enter number of elements in list: 5\n",
      "Enter numbers: 1\n",
      "Enter numbers: 2\n",
      "Enter numbers: 3\n",
      "Enter numbers: 4\n",
      "Enter numbers: 5\n",
      "Second Largest Element of list is  4\n"
     ]
    }
   ],
   "source": [
    "def second_largest():\n",
    "    try:\n",
    "        n = int(input('Enter number of elements in list: '))\n",
    "        ls = []\n",
    "\n",
    "        for i in range(n):\n",
    "            nos = int(input('Enter numbers: '))\n",
    "            ls.append(nos)\n",
    "\n",
    "        ls.sort()\n",
    "        print('Second Largest Element of list is ', ls[-2])\n",
    "    except Exception as e:\n",
    "        print(e)\n",
    "\n",
    "second_largest()"
   ]
  },
  {
   "cell_type": "markdown",
   "id": "9a2d510b",
   "metadata": {},
   "source": [
    "## 6.\tWrite a Python program to find N largest elements from a list?"
   ]
  },
  {
   "cell_type": "code",
   "execution_count": 57,
   "id": "a22be527",
   "metadata": {},
   "outputs": [
    {
     "name": "stdout",
     "output_type": "stream",
     "text": [
      "Enter number of elements in list: 5\n",
      "Enter numbers: 3\n",
      "Enter numbers: 4\n",
      "Enter numbers: 5\n",
      "Enter numbers: 6\n",
      "Enter numbers: 7\n",
      "Nth Largest Element of list is  5\n"
     ]
    }
   ],
   "source": [
    "def find_largest(num):\n",
    "    try:\n",
    "        n = int(input('Enter number of elements in list: '))\n",
    "        ls = []\n",
    "\n",
    "        for i in range(n):\n",
    "            nos = int(input('Enter numbers: '))\n",
    "            ls.append(nos)\n",
    "\n",
    "        ls.sort()\n",
    "        print('Nth Largest Element of list is ', ls[-num])\n",
    "    except Exception as e:\n",
    "        print(e)\n",
    "\n",
    "find_largest(3)"
   ]
  },
  {
   "cell_type": "markdown",
   "id": "06d29703",
   "metadata": {},
   "source": [
    "## 7.\tWrite a Python program to print even numbers in a list?"
   ]
  },
  {
   "cell_type": "code",
   "execution_count": 64,
   "id": "83c84c3c",
   "metadata": {},
   "outputs": [
    {
     "name": "stdout",
     "output_type": "stream",
     "text": [
      "Enter number of elements in list: 10\n",
      "Original list:  [55, 70, 69, 37, 65, 19, 38, 83, 58, 48]\n",
      "Even numbers in list:  [70, 38, 58, 48]\n"
     ]
    }
   ],
   "source": [
    "import random\n",
    "\n",
    "def check_even():\n",
    "    try:\n",
    "        ls = []\n",
    "        even = []\n",
    "        \n",
    "        n = int(input('Enter number of elements in list: '))\n",
    "        \n",
    "        for i in range(n):\n",
    "            ls.append(random.randint(1, 100))\n",
    "\n",
    "        for i in ls:\n",
    "            if i % 2 == 0:\n",
    "                even.append(i)\n",
    "\n",
    "        print('Original list: ',ls)\n",
    "        print('Even numbers in list: ' ,even)\n",
    "    except Exception as e:\n",
    "        print(e)\n",
    "        \n",
    "check_even()"
   ]
  },
  {
   "cell_type": "markdown",
   "id": "6398d9cb",
   "metadata": {},
   "source": [
    "## 8.\tWrite a Python program to print odd numbers in a List?"
   ]
  },
  {
   "cell_type": "code",
   "execution_count": 67,
   "id": "cd9d7b64",
   "metadata": {},
   "outputs": [
    {
     "name": "stdout",
     "output_type": "stream",
     "text": [
      "Enter number of elements in list: 10\n",
      "Original list:  [82, 58, 99, 96, 5, 59, 40, 52, 32, 36]\n",
      "Odd numbers in list:  [99, 5, 59]\n"
     ]
    }
   ],
   "source": [
    "import random\n",
    "\n",
    "def check_odd():\n",
    "    try:\n",
    "        ls = []\n",
    "        odd = []\n",
    "        \n",
    "        n = int(input('Enter number of elements in list: '))\n",
    "        \n",
    "        for i in range(n):\n",
    "            ls.append(random.randint(1, 100))\n",
    "\n",
    "        for i in ls:\n",
    "            if i % 2 != 0:\n",
    "                odd.append(i)\n",
    "\n",
    "        print('Original list: ',ls)\n",
    "        print('Odd numbers in list: ' ,odd)\n",
    "    except Exception as e:\n",
    "        print(e)\n",
    "        \n",
    "check_odd()"
   ]
  },
  {
   "cell_type": "markdown",
   "id": "f187ab6c",
   "metadata": {},
   "source": [
    "## 9.\tWrite a Python program to Remove empty List from List?"
   ]
  },
  {
   "cell_type": "code",
   "execution_count": 104,
   "id": "8d55aa35",
   "metadata": {},
   "outputs": [
    {
     "data": {
      "text/plain": [
       "[1, 2, 45.6, [1, 2, 4], ['a', 'b', 'c']]"
      ]
     },
     "execution_count": 104,
     "metadata": {},
     "output_type": "execute_result"
    }
   ],
   "source": [
    "def remove_empty():\n",
    "    try:\n",
    "        ls = [1,2,45.6, [1,2,4], [], ['a','b','c']]\n",
    "\n",
    "        for i in enumerate(ls):\n",
    "            if type(i[1]) == list:\n",
    "                if len(i[1]) == 0:\n",
    "                    ls.pop(i[0])\n",
    "\n",
    "        return ls\n",
    "    except Exception as e:\n",
    "        print(e)\n",
    "        \n",
    "remove_empty()"
   ]
  },
  {
   "cell_type": "markdown",
   "id": "b5b03b48",
   "metadata": {},
   "source": [
    "## 10.\tWrite a Python program to Cloning or Copying a list?"
   ]
  },
  {
   "cell_type": "code",
   "execution_count": 107,
   "id": "1b84fc7d",
   "metadata": {},
   "outputs": [
    {
     "name": "stdout",
     "output_type": "stream",
     "text": [
      "Enter number of elements in list: 5\n"
     ]
    },
    {
     "data": {
      "text/plain": [
       "[97, 6, 66, 64, 91]"
      ]
     },
     "execution_count": 107,
     "metadata": {},
     "output_type": "execute_result"
    }
   ],
   "source": [
    "def copy_list():\n",
    "    try:\n",
    "        ls = []\n",
    "        n = int(input('Enter number of elements in list: '))\n",
    "        \n",
    "        for i in range(n):\n",
    "            ls.append(random.randint(1, 100))\n",
    "\n",
    "        ls1 = ls.copy()\n",
    "        return ls1\n",
    "    except Exception as e:\n",
    "        print(e)\n",
    "        \n",
    "copy_list()"
   ]
  },
  {
   "cell_type": "markdown",
   "id": "0d92ebf1",
   "metadata": {},
   "source": [
    "## 11.\tWrite a Python program to Count occurrences of an element in a list?"
   ]
  },
  {
   "cell_type": "code",
   "execution_count": 111,
   "id": "69db85f8",
   "metadata": {},
   "outputs": [
    {
     "name": "stdout",
     "output_type": "stream",
     "text": [
      "The number 10 occurs 3 times in the list\n"
     ]
    }
   ],
   "source": [
    "def occurence_list(num):\n",
    "    try:\n",
    "        ls = [10,15,20,10,35,10,20]\n",
    "        x = num\n",
    "        count = 0\n",
    "\n",
    "        for i in ls:\n",
    "            if i == x:\n",
    "                count += 1\n",
    "\n",
    "        print(f'The number {num} occurs' , count , 'times in the list')\n",
    "    except Exception as e:\n",
    "        print(e)\n",
    "        \n",
    "occurence_list(10)"
   ]
  },
  {
   "cell_type": "code",
   "execution_count": null,
   "id": "f85e0b16",
   "metadata": {},
   "outputs": [],
   "source": []
  }
 ],
 "metadata": {
  "kernelspec": {
   "display_name": "Python 3",
   "language": "python",
   "name": "python3"
  },
  "language_info": {
   "codemirror_mode": {
    "name": "ipython",
    "version": 3
   },
   "file_extension": ".py",
   "mimetype": "text/x-python",
   "name": "python",
   "nbconvert_exporter": "python",
   "pygments_lexer": "ipython3",
   "version": "3.8.8"
  }
 },
 "nbformat": 4,
 "nbformat_minor": 5
}
