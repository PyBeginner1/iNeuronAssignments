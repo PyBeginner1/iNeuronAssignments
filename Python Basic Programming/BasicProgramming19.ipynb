{
 "cells": [
  {
   "cell_type": "markdown",
   "id": "b16379a1",
   "metadata": {},
   "source": [
    "# Basic Programming 19"
   ]
  },
  {
   "cell_type": "markdown",
   "id": "abe69f44",
   "metadata": {},
   "source": [
    "## Question1\n",
    "Create a function that takes a string and returns a string in which each character is repeated once.<br>\n",
    "Examples<br>\n",
    "double_char(\"String\") ➞ \"SSttrriinngg\"\n",
    "\n",
    "double_char(\"Hello World!\") ➞ \"HHeelllloo  WWoorrlldd!!\"\n",
    "\n",
    "double_char(\"1234!_ \") ➞ \"11223344!!__  \""
   ]
  },
  {
   "cell_type": "code",
   "execution_count": 10,
   "id": "8afb7b33",
   "metadata": {},
   "outputs": [
    {
     "name": "stdout",
     "output_type": "stream",
     "text": [
      "SSttrriinngg\n",
      "HHeelllloo WWoorrlldd!!!!\n",
      "11223344!!__\n"
     ]
    }
   ],
   "source": [
    "def double_char(string):\n",
    "    try:\n",
    "        n_string = ''\n",
    "        for i in string:\n",
    "            n_string += i+i\n",
    "        #using replace to convert 2 spaces into one\n",
    "        return n_string.replace(\"  \", \" \")\n",
    "    except Exception as e:\n",
    "        print(e)\n",
    "    \n",
    "print(double_char('String'))\n",
    "print(double_char('Hello World!!'))\n",
    "print(double_char('1234!_'))"
   ]
  },
  {
   "cell_type": "markdown",
   "id": "6846ebed",
   "metadata": {},
   "source": [
    "## Question2\n",
    "Create a function that reverses a boolean value and returns the string \"boolean expected\" if another variable type is given.<br>\n",
    "Examples<br>\n",
    "reverse(True) ➞ False\n",
    "\n",
    "reverse(False) ➞ True\n",
    "\n",
    "reverse(0) ➞ \"boolean expected\"\n",
    "\n",
    "reverse(None) ➞ \"boolean expected\""
   ]
  },
  {
   "cell_type": "code",
   "execution_count": 18,
   "id": "553d61ff",
   "metadata": {},
   "outputs": [
    {
     "name": "stdout",
     "output_type": "stream",
     "text": [
      "False\n",
      "True\n",
      "boolean expected\n",
      "boolean expected\n"
     ]
    }
   ],
   "source": [
    "def reverse(a):\n",
    "    if type(a) == bool:\n",
    "        return not a\n",
    "    else:\n",
    "        return \"boolean expected\"\n",
    "    \n",
    "print(reverse(True))\n",
    "print(reverse(False))\n",
    "print(reverse(0))\n",
    "print(reverse(None))"
   ]
  },
  {
   "cell_type": "markdown",
   "id": "8054a2fd",
   "metadata": {},
   "source": [
    "## Question3\n",
    "Create a function that returns the thickness (in meters) of a piece of paper after folding it n number of times. The paper starts off with a thickness of 0.5mm.<br>\n",
    "Examples<br>\n",
    "num_layers(1) ➞ \"0.001m\"\n",
    "# Paper folded once is 1mm (equal to 0.001m)\n",
    "\n",
    "num_layers(4) ➞ \"0.008m\"\n",
    "# Paper folded 4 times is 8mm (equal to 0.008m)\n",
    "\n",
    "num_layers(21) ➞ \"1048.576m\"\n",
    "# Paper folded 21 times is 1048576mm (equal to 1048.576m)\n"
   ]
  },
  {
   "cell_type": "code",
   "execution_count": 38,
   "id": "de2323ae",
   "metadata": {},
   "outputs": [
    {
     "name": "stdout",
     "output_type": "stream",
     "text": [
      "Paper folder 1 is 1mm\n",
      "Paper folder 4 is 8mm\n",
      "Paper folder 21 is 1048576mm\n"
     ]
    }
   ],
   "source": [
    "def num_layers(n):\n",
    "    thick = 0.5\n",
    "    f_thick = 1\n",
    "    for i in range(1, n):\n",
    "        f_thick *= 2\n",
    "\n",
    "    print(f'Paper folder {n} is {f_thick}mm') \n",
    "    \n",
    "num_layers(1)\n",
    "num_layers(4)\n",
    "num_layers(21)"
   ]
  },
  {
   "cell_type": "markdown",
   "id": "c0ba7cba",
   "metadata": {},
   "source": [
    "## Question4\n",
    "Create a function that takes a single string as argument and returns an ordered list containing the indices of all capital letters in the string.<br>\n",
    "Examples<br>\n",
    "index_of_caps(\"eDaBiT\") ➞ [1, 3, 5]\n",
    "\n",
    "index_of_caps(\"eQuINoX\") ➞ [1, 3, 4, 6]\n",
    "\n",
    "index_of_caps(\"determine\") ➞ []\n",
    "\n",
    "index_of_caps(\"STRIKE\") ➞ [0, 1, 2, 3, 4, 5]\n",
    "\n",
    "index_of_caps(\"sUn\") ➞ [1]"
   ]
  },
  {
   "cell_type": "code",
   "execution_count": 48,
   "id": "2674556c",
   "metadata": {},
   "outputs": [
    {
     "name": "stdout",
     "output_type": "stream",
     "text": [
      "[1, 3, 5]\n",
      "[1, 3, 4, 6]\n",
      "[]\n",
      "[0, 1, 2, 3, 4, 5]\n",
      "[1]\n"
     ]
    }
   ],
   "source": [
    "def index_of_caps(a):\n",
    "    try:\n",
    "        ls = []\n",
    "\n",
    "        for i in range(len(a)):\n",
    "            if a[i].isupper():\n",
    "                ls.append(i)\n",
    "        return ls\n",
    "    except Exception as e:\n",
    "        print(e)\n",
    "\n",
    "print(index_of_caps('eDaBiT'))\n",
    "print(index_of_caps(\"eQuINoX\"))\n",
    "print(index_of_caps(\"determine\"))\n",
    "print(index_of_caps(\"STRIKE\"))\n",
    "print(index_of_caps(\"sUn\"))"
   ]
  },
  {
   "cell_type": "markdown",
   "id": "a0f50944",
   "metadata": {},
   "source": [
    "## Question5\n",
    "Using list comprehensions, create a function that finds all even numbers from 1 to the given number.<br>\n",
    "Examples<br>\n",
    "find_even_nums(8) ➞ [2, 4, 6, 8]\n",
    "\n",
    "find_even_nums(4) ➞ [2, 4]\n",
    "\n",
    "find_even_nums(2) ➞ [2]"
   ]
  },
  {
   "cell_type": "code",
   "execution_count": 54,
   "id": "e7a57e94",
   "metadata": {},
   "outputs": [
    {
     "name": "stdout",
     "output_type": "stream",
     "text": [
      "[2, 4, 6, 8]\n",
      "[2, 4]\n",
      "[2]\n"
     ]
    }
   ],
   "source": [
    "def find_even_nums(n):\n",
    "    try:\n",
    "        ls = []\n",
    "\n",
    "        for i in range(1, n+1):\n",
    "            if i % 2 == 0:\n",
    "                ls.append(i)\n",
    "\n",
    "        return ls\n",
    "    except Exception as e:\n",
    "        print(e)\n",
    "\n",
    "print(find_even_nums(8))\n",
    "print(find_even_nums(4))\n",
    "print(find_even_nums(2))"
   ]
  },
  {
   "cell_type": "code",
   "execution_count": null,
   "id": "286390fb",
   "metadata": {},
   "outputs": [],
   "source": []
  }
 ],
 "metadata": {
  "kernelspec": {
   "display_name": "Python 3",
   "language": "python",
   "name": "python3"
  },
  "language_info": {
   "codemirror_mode": {
    "name": "ipython",
    "version": 3
   },
   "file_extension": ".py",
   "mimetype": "text/x-python",
   "name": "python",
   "nbconvert_exporter": "python",
   "pygments_lexer": "ipython3",
   "version": "3.8.8"
  }
 },
 "nbformat": 4,
 "nbformat_minor": 5
}
