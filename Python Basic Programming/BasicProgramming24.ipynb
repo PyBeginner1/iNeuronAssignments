{
 "cells": [
  {
   "cell_type": "markdown",
   "id": "d2c9dd9a",
   "metadata": {},
   "source": [
    "# Basic Programming 24"
   ]
  },
  {
   "cell_type": "markdown",
   "id": "a5a11e1d",
   "metadata": {},
   "source": [
    "## Question1\n",
    "Create a function that takes an integer and returns a list from 1 to the given number, where:<br>\n",
    "1.\tIf the number can be divided evenly by 4, amplify it by 10 (i.e. return 10 times the number).<br>\n",
    "2.\tIf the number cannot be divided evenly by 4, simply return the number.\n",
    "Examples<br>\n",
    "amplify(4) ➞ [1, 2, 3, 40]\n",
    "\n",
    "amplify(3) ➞ [1, 2, 3]\n",
    "\n",
    "amplify(25) ➞ [1, 2, 3, 40, 5, 6, 7, 80, 9, 10, 11, 120, 13, 14, 15, 160, 17, 18, 19, 200, 21, 22, 23, 240, 25]<br>\n",
    "Notes<br>\n",
    "•\tThe given integer will always be equal to or greater than 1.<br>\n",
    "•\tInclude the number (see example above).<br>\n",
    "•\tTo perform this problem with its intended purpose, try doing it with list comprehensions. If that's too difficult, just solve the challenge any way you can."
   ]
  },
  {
   "cell_type": "code",
   "execution_count": 5,
   "id": "dc058577",
   "metadata": {},
   "outputs": [
    {
     "name": "stdout",
     "output_type": "stream",
     "text": [
      "[1, 2, 3, 4]\n",
      "[1, 2, 3]\n",
      "[1, 2, 3, 4, 5, 6, 7, 8, 9, 10, 11, 12, 13, 14, 15, 16, 17, 18, 19, 20, 21, 22, 23, 24, 25]\n"
     ]
    }
   ],
   "source": [
    "def amplify(num):\n",
    "    try:\n",
    "        ls = [i for i in range(1, num+1)]\n",
    "        return ls\n",
    "    except Exception as e:\n",
    "        print(e)\n",
    "        \n",
    "print(amplify(4))\n",
    "print(amplify(3))\n",
    "print(amplify(25))"
   ]
  },
  {
   "cell_type": "markdown",
   "id": "2d2c6b5f",
   "metadata": {},
   "source": [
    "## Question2\n",
    "Create a function that takes a list of numbers and return the number that's unique. <br>\n",
    "Examples<br>\n",
    "unique([3, 3, 3, 7, 3, 3]) ➞ 7\n",
    "\n",
    "unique([0, 0, 0.77, 0, 0]) ➞ 0.77\n",
    "\n",
    "unique([0, 1, 1, 1, 1, 1, 1, 1]) ➞ 0<br>\n",
    "Notes<br>\n",
    "Test cases will always have exactly one unique number while all others are the same."
   ]
  },
  {
   "cell_type": "code",
   "execution_count": 31,
   "id": "29b2aeb5",
   "metadata": {},
   "outputs": [
    {
     "name": "stdout",
     "output_type": "stream",
     "text": [
      "7\n",
      "0.77\n",
      "0\n"
     ]
    }
   ],
   "source": [
    "def unique(list):\n",
    "    try:\n",
    "        unique = []\n",
    "\n",
    "        for i in list:\n",
    "            if list.count(i) == 1:\n",
    "                unique.append(i)\n",
    "\n",
    "        return unique[0]\n",
    "    except Exception as e:\n",
    "        print(e)\n",
    "        \n",
    "print(unique([3, 3, 3, 7, 3, 3]))\n",
    "print(unique([0, 0, 0.77, 0, 0]))\n",
    "print(unique([0, 1, 1, 1, 1, 1, 1, 1]))"
   ]
  },
  {
   "cell_type": "markdown",
   "id": "34e1c457",
   "metadata": {},
   "source": [
    "## Question3\n",
    "Your task is to create a Circle constructor that creates a circle with a radius provided by an argument. The circles constructed must have two getters getArea() (PIr^2) and getPerimeter() (2PI*r) which give both respective areas and perimeter (circumference).<br>\n",
    "For help with this class, I have provided you with a Rectangle constructor which you can use as a base example.<br>\n",
    "Examples<br>\n",
    "circy = Circle(11)<br>\n",
    "circy.getArea()<br>\n",
    "\n",
    "#Should return 380.132711084365\n",
    "\n",
    "circy = Circle(4.44)<br>\n",
    "circy.getPerimeter()\n",
    "\n",
    "#Should return 27.897342763877365\n",
    "Notes<br>\n",
    "Round results up to the nearest integer.<br>"
   ]
  },
  {
   "cell_type": "code",
   "execution_count": 41,
   "id": "b529eae7",
   "metadata": {},
   "outputs": [
    {
     "name": "stdout",
     "output_type": "stream",
     "text": [
      "380.132711084365\n",
      "27.897342763877365\n"
     ]
    }
   ],
   "source": [
    "import math\n",
    "\n",
    "pie = math.pi\n",
    "\n",
    "\n",
    "class Circle:\n",
    "    def __init__(self, radius):\n",
    "        self.radius = radius\n",
    "        \n",
    "    def getArea(self):\n",
    "        return pie * (self.radius ** 2)\n",
    "    \n",
    "    def getPerimeter(self):\n",
    "        return 2 * pie * self.radius\n",
    "    \n",
    "circy = Circle(11)\n",
    "print(circy.getArea())\n",
    "\n",
    "circy = Circle(4.44)\n",
    "print(circy.getPerimeter())"
   ]
  },
  {
   "cell_type": "markdown",
   "id": "89ccb3be",
   "metadata": {},
   "source": [
    "## Question4\n",
    "Create a function that takes a list of strings and return a list, sorted from shortest to longest.<br>\n",
    "Examples<br>\n",
    "sort_by_length([\"Google\", \"Apple\", \"Microsoft\"])<br>\n",
    "➞ [\"Apple\", \"Google\", \"Microsoft\"]\n",
    "\n",
    "sort_by_length([\"Leonardo\", \"Michelangelo\", \"Raphael\", \"Donatello\"])<br>\n",
    "➞ [\"Raphael\", \"Leonardo\", \"Donatello\", \"Michelangelo\"]\n",
    "\n",
    "sort_by_length([\"Turing\", \"Einstein\", \"Jung\"])<br>\n",
    "➞ [\"Jung\", \"Turing\", \"Einstein\"]<br>\n",
    "Notes<br>\n",
    "All test cases contain lists with strings of different lengths, so you won't have to deal with multiple strings of the same length."
   ]
  },
  {
   "cell_type": "code",
   "execution_count": 78,
   "id": "2c3cc37a",
   "metadata": {},
   "outputs": [
    {
     "name": "stdout",
     "output_type": "stream",
     "text": [
      "['Apple', 'Google', 'Microsoft']\n",
      "None\n",
      "['Raphael', 'Leonardo', 'Donatello', 'Michelangelo']\n",
      "None\n",
      "['Jung', 'Turing', 'Einstein']\n",
      "None\n"
     ]
    }
   ],
   "source": [
    "def sort_by_length(list):\n",
    "    list.sort(key=len)\n",
    "    print(list)\n",
    "    \n",
    "print(sort_by_length([\"Google\", \"Apple\", \"Microsoft\"]))\n",
    "print(sort_by_length([\"Leonardo\", \"Michelangelo\", \"Raphael\", \"Donatello\"]))\n",
    "print(sort_by_length([\"Turing\", \"Einstein\", \"Jung\"]))"
   ]
  },
  {
   "cell_type": "code",
   "execution_count": 74,
   "id": "8eca7eb2",
   "metadata": {},
   "outputs": [
    {
     "name": "stdout",
     "output_type": "stream",
     "text": [
      "['Apple', 'Google', 'Microsoft']\n",
      "['Raphael', 'Leonardo', 'Donatello', 'Michelangelo']\n",
      "['Jung', 'Turing', 'Einstein']\n"
     ]
    }
   ],
   "source": [
    "def sort_by_length(sort_list):\n",
    "    print(sorted(sort_list,key=len))\n",
    "\n",
    "sort_by_length([\"Google\", \"Apple\", \"Microsoft\"])\n",
    "sort_by_length([\"Leonardo\", \"Michelangelo\", \"Raphael\", \"Donatello\"])\n",
    "sort_by_length([\"Turing\", \"Einstein\", \"Jung\"])"
   ]
  },
  {
   "cell_type": "markdown",
   "id": "8175ca16",
   "metadata": {},
   "source": [
    "## Question5\n",
    "Create a function that validates whether three given integers form a Pythagorean triplet. The sum of the squares of the two smallest integers must equal the square of the largest number to be validated.\n",
    "\n",
    "\n",
    "Examples<br>\n",
    "is_triplet(3, 4, 5) ➞ True<br>\n",
    "#3² + 4² = 25<br>\n",
    "#5² = 25\n",
    "\n",
    "is_triplet(13, 5, 12) ➞ True<br>\n",
    "#5² + 12² = 169<br>\n",
    "#13² = 169<br>\n",
    "\n",
    "is_triplet(1, 2, 3) ➞ False<br>\n",
    "#1² + 2² = 5<br>\n",
    "#3² = 9<br>\n",
    "Notes<br>\n",
    "Numbers may not be given in a sorted order."
   ]
  },
  {
   "cell_type": "code",
   "execution_count": 105,
   "id": "87575e68",
   "metadata": {},
   "outputs": [
    {
     "name": "stdout",
     "output_type": "stream",
     "text": [
      "The numbers 3, 4 and 5 are Pythagorean Triplets\n",
      "True\n"
     ]
    }
   ],
   "source": [
    "def is_triplet(a, b,c):\n",
    "    try:\n",
    "        a = [a]\n",
    "        b = [b]\n",
    "        c = [c]\n",
    "        ls=[]\n",
    "\n",
    "        ls = a + b + c\n",
    "        ls.sort()\n",
    "        two_sum = ls[0] ** 2 + ls[1] ** 2\n",
    "\n",
    "        if two_sum == ls[2]**2:\n",
    "            print(f'The numbers {a[0]}, {b[0]} and {c[0]} are Pythagorean Triplets')\n",
    "            return True\n",
    "        else:\n",
    "            print(f'The numbers {a[0]}, {b[0]} and {c[0]} are not Pythagorean Triplets')\n",
    "            return False\n",
    "    except Exception as e:\n",
    "        print(e)\n",
    "        \n",
    "print(is_triplet(3, 4, 5))"
   ]
  },
  {
   "cell_type": "code",
   "execution_count": 106,
   "id": "ceff5636",
   "metadata": {},
   "outputs": [
    {
     "name": "stdout",
     "output_type": "stream",
     "text": [
      "The numbers 13, 5 and 12 are Pythagorean Triplets\n"
     ]
    },
    {
     "data": {
      "text/plain": [
       "True"
      ]
     },
     "execution_count": 106,
     "metadata": {},
     "output_type": "execute_result"
    }
   ],
   "source": [
    "is_triplet(13, 5, 12)"
   ]
  },
  {
   "cell_type": "code",
   "execution_count": 107,
   "id": "f86626eb",
   "metadata": {},
   "outputs": [
    {
     "name": "stdout",
     "output_type": "stream",
     "text": [
      "The numbers 1, 2 and 3 are not Pythagorean Triplets\n"
     ]
    },
    {
     "data": {
      "text/plain": [
       "False"
      ]
     },
     "execution_count": 107,
     "metadata": {},
     "output_type": "execute_result"
    }
   ],
   "source": [
    "is_triplet(1, 2, 3) "
   ]
  },
  {
   "cell_type": "code",
   "execution_count": null,
   "id": "7d182f3c",
   "metadata": {},
   "outputs": [],
   "source": []
  }
 ],
 "metadata": {
  "kernelspec": {
   "display_name": "Python 3",
   "language": "python",
   "name": "python3"
  },
  "language_info": {
   "codemirror_mode": {
    "name": "ipython",
    "version": 3
   },
   "file_extension": ".py",
   "mimetype": "text/x-python",
   "name": "python",
   "nbconvert_exporter": "python",
   "pygments_lexer": "ipython3",
   "version": "3.8.8"
  }
 },
 "nbformat": 4,
 "nbformat_minor": 5
}
