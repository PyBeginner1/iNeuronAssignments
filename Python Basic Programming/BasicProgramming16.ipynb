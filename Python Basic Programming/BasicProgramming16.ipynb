{
 "cells": [
  {
   "cell_type": "markdown",
   "id": "207c7863",
   "metadata": {},
   "source": [
    "# Basic Programming 16"
   ]
  },
  {
   "cell_type": "markdown",
   "id": "39ef5ec3",
   "metadata": {},
   "source": [
    "## Question1. Write a function that stutters a word as if someone is struggling to read it. The first two letters are repeated twice with an ellipsis ... and space after each, and then the word is pronounced with a question mark ?.\n",
    "Examples<br>\n",
    "stutter(\"incredible\") ➞ \"in... in... incredible?\"\n",
    "\n",
    "stutter(\"enthusiastic\") ➞ \"en... en... enthusiastic?\"\n",
    "\n",
    "stutter(\"outstanding\") ➞ \"ou... ou... outstanding?\"\n",
    "\n",
    "Hint :- Assume all input is in lower case and at least two characters long.\n"
   ]
  },
  {
   "cell_type": "code",
   "execution_count": 101,
   "id": "e17dbba1",
   "metadata": {},
   "outputs": [
    {
     "name": "stdout",
     "output_type": "stream",
     "text": [
      "Enter a word: OuTsTanding\n",
      "Input:  outstanding\n",
      "Output:  ou... ou... outstanding?\n"
     ]
    }
   ],
   "source": [
    "def stutter():\n",
    "    try:\n",
    "        string = input('Enter a word: ').lower()\n",
    "        count = 0\n",
    "        f_str = '' \n",
    "\n",
    "        #To print first 2 chars with dots\n",
    "        while count < 4:\n",
    "            for i in range(2):\n",
    "                count +=1\n",
    "                f_str += string[i]\n",
    "                if count % 2 == 0:\n",
    "                    f_str += '... '\n",
    "        #Now to add the whole string onto f_str\n",
    "        for i in string:\n",
    "            f_str += i\n",
    "\n",
    "        print('Input: ', string)\n",
    "        print('Output: ', f_str+'?')\n",
    "    except Exception as e:\n",
    "        print(e)\n",
    "    \n",
    "stutter()"
   ]
  },
  {
   "cell_type": "markdown",
   "id": "f7c95e78",
   "metadata": {},
   "source": [
    "## Question 2.Create a function that takes an angle in radians and returns the corresponding angle in degrees rounded to one decimal place.\n",
    "Examples\n",
    "radians_to_degrees(1) ➞ 57.3\n",
    "\n",
    "radians_to_degrees(20) ➞ 1145.9\n",
    "\n",
    "radians_to_degrees(50) ➞ 2864.8"
   ]
  },
  {
   "cell_type": "code",
   "execution_count": 47,
   "id": "654f1b55",
   "metadata": {},
   "outputs": [
    {
     "name": "stdout",
     "output_type": "stream",
     "text": [
      "Radian:  1 --- Degree:  57.296\n",
      "Radian:  20 --- Degree:  1145.916\n",
      "Radian:  50 --- Degree:  2864.789\n"
     ]
    }
   ],
   "source": [
    "# To convert from radians to degrees, multiply the radians by 180°π radians\n",
    "import math\n",
    "\n",
    "def rad_to_degree(n):\n",
    "    try:\n",
    "        pie = math.pi\n",
    "        ang_degree = 0\n",
    "\n",
    "        ang_degree = round((180/pie)*n, 3)\n",
    "        print('Radian: ',n,'---', 'Degree: ', ang_degree)\n",
    "    except Exception as e:\n",
    "        print(e)\n",
    "\n",
    "rad_to_degree(1)\n",
    "rad_to_degree(20)\n",
    "rad_to_degree(50)"
   ]
  },
  {
   "cell_type": "markdown",
   "id": "191b322c",
   "metadata": {},
   "source": [
    "## Question 3. In this challenge, establish if a given integer num is a Curzon number. If 1 plus 2 elevated to num is exactly divisible by 1 plus 2 multiplied by num, then num is a Curzon number.\n",
    "Given a non-negative integer num, implement a function that returns True if num is a Curzon number, or False otherwise.\n",
    "Examples\n",
    "is_curzon(5) ➞ True\n",
    "# 2 ** 5 + 1 = 33\n",
    "# 2 * 5 + 1 = 11\n",
    "# 33 is a multiple of 11\n",
    "\n",
    "is_curzon(10) ➞ False\n",
    "# 2 ** 10 + 1 = 1025\n",
    "# 2 * 10 + 1 = 21\n",
    "# 1025 is not a multiple of 21\n",
    "\n",
    "is_curzon(14) ➞ True\n",
    "# 2 ** 14 + 1 = 16385\n",
    "# 2 * 14 + 1 = 29\n",
    "# 16385 is a multiple of 29\n"
   ]
  },
  {
   "cell_type": "code",
   "execution_count": 56,
   "id": "6a28b87f",
   "metadata": {},
   "outputs": [
    {
     "name": "stdout",
     "output_type": "stream",
     "text": [
      "Yes, 5 is a Curzon number\n",
      "No, 10 is not a Curzon number\n",
      "Yes, 14 is a Curzon number\n"
     ]
    },
    {
     "data": {
      "text/plain": [
       "True"
      ]
     },
     "execution_count": 56,
     "metadata": {},
     "output_type": "execute_result"
    }
   ],
   "source": [
    "def check_curzon(n):\n",
    "    try:\n",
    "        #n = int(input('Enter a number: '))\n",
    "        a = 0\n",
    "        b = 0\n",
    "\n",
    "        a = (2 ** n) + 1\n",
    "        b = (2 * n) + 1\n",
    "\n",
    "        if a%b == 0:\n",
    "            print(f'Yes, {n} is a Curzon number')\n",
    "            return True\n",
    "        else:\n",
    "            print(f'No, {n} is not a Curzon number')\n",
    "            return False\n",
    "    except Exception as e:\n",
    "        print(e)\n",
    "        \n",
    "check_curzon(5)\n",
    "check_curzon(10)\n",
    "check_curzon(14)"
   ]
  },
  {
   "cell_type": "markdown",
   "id": "0e1171d6",
   "metadata": {},
   "source": [
    "## Question 4.Given the side length x find the area of a hexagon.\n",
    "\n",
    "Examples\n",
    "area_of_hexagon(1) ➞ 2.6\n",
    "\n",
    "area_of_hexagon(2) ➞ 10.4\n",
    "\n",
    "area_of_hexagon(3) ➞ 23.4"
   ]
  },
  {
   "cell_type": "code",
   "execution_count": 91,
   "id": "90607c28",
   "metadata": {},
   "outputs": [
    {
     "name": "stdout",
     "output_type": "stream",
     "text": [
      "Area of Hexagon when side value 1 is  2.6\n",
      "Area of Hexagon when side value 4 is  10.39\n",
      "Area of Hexagon when side value 9 is  23.38\n"
     ]
    }
   ],
   "source": [
    "import math\n",
    "\n",
    "def hexagon_area(side):\n",
    "    try:\n",
    "        area = 0\n",
    "        side = side ** 2\n",
    "\n",
    "        area = ((3*math.sqrt(3))/2)\n",
    "        area = round(area * side, 2)\n",
    "        print(f'Area of Hexagon when side value {side} is ' ,area)\n",
    "    except Exception as e:\n",
    "        print(e)\n",
    "        \n",
    "hexagon_area(1)\n",
    "hexagon_area(2)\n",
    "hexagon_area(3)"
   ]
  },
  {
   "cell_type": "markdown",
   "id": "b71b009d",
   "metadata": {},
   "source": [
    "## Question 5. Create a function that returns a base-2 (binary) representation of a base-10 (decimal) string number. To convert is simple: ((2) means base-2 and (10) means base-10) 010101001(2) = 1 + 8 + 32 + 128.\n",
    "Going from right to left, the value of the most right bit is 1, now from that every bit to the left will be x2 the value, value of an 8 bit binary numbers are (256, 128, 64, 32, 16, 8, 4, 2, 1).<br>\n",
    "Examples<br>\n",
    "binary(1) ➞ \"1\"\n",
    "# 1*1 = 1\n",
    "\n",
    "binary(5) ➞ \"101\"\n",
    "# 1*1 + 1*4 = 5\n",
    "\n",
    "binary(10) ➞ \"1010\"\n",
    "# 1*2 + 1*8 = 10"
   ]
  },
  {
   "cell_type": "code",
   "execution_count": 100,
   "id": "bfd4321a",
   "metadata": {},
   "outputs": [
    {
     "name": "stdout",
     "output_type": "stream",
     "text": [
      "Decimal:  1 Binary:  1\n",
      "Decimal:  5 Binary:  101\n",
      "Decimal:  10 Binary:  1010\n"
     ]
    }
   ],
   "source": [
    "def dec_to_bin(a):\n",
    "    try:\n",
    "        num = 0\n",
    "\n",
    "        num = bin(a)\n",
    "        num = num.replace('0b', '')\n",
    "        print('Decimal: ',a,'Binary: ', num)\n",
    "    except Exception as e:\n",
    "        print(e)\n",
    "    \n",
    "dec_to_bin(1)    \n",
    "dec_to_bin(5)\n",
    "dec_to_bin(10)"
   ]
  },
  {
   "cell_type": "code",
   "execution_count": null,
   "id": "93f08754",
   "metadata": {},
   "outputs": [],
   "source": []
  }
 ],
 "metadata": {
  "kernelspec": {
   "display_name": "Python 3",
   "language": "python",
   "name": "python3"
  },
  "language_info": {
   "codemirror_mode": {
    "name": "ipython",
    "version": 3
   },
   "file_extension": ".py",
   "mimetype": "text/x-python",
   "name": "python",
   "nbconvert_exporter": "python",
   "pygments_lexer": "ipython3",
   "version": "3.8.8"
  }
 },
 "nbformat": 4,
 "nbformat_minor": 5
}
