{
 "cells": [
  {
   "cell_type": "markdown",
   "id": "4f17f054",
   "metadata": {},
   "source": [
    "# Basic Programming 4"
   ]
  },
  {
   "cell_type": "markdown",
   "id": "720728a9",
   "metadata": {},
   "source": [
    "## 1. Write a Python Program to Find the Factorial of a Number?"
   ]
  },
  {
   "cell_type": "code",
   "execution_count": 5,
   "id": "9eba60cc",
   "metadata": {},
   "outputs": [
    {
     "name": "stdout",
     "output_type": "stream",
     "text": [
      "Enter a value: 5\n",
      "Factorial of 5 is 120\n"
     ]
    }
   ],
   "source": [
    "def factorial():\n",
    "    fact = 1\n",
    "    num = int(input('Enter a value: '))\n",
    "    \n",
    "    if num < 1:\n",
    "        print('Cannot find factorial for a negative number')\n",
    "        \n",
    "    elif num == 0:\n",
    "        print('Factorial of 0 is 1')\n",
    "        \n",
    "    else:\n",
    "        for i in range(1, num+1):\n",
    "            fact = fact*i\n",
    "        print(f'Factorial of {num} is {fact}')\n",
    "        \n",
    "factorial()"
   ]
  },
  {
   "cell_type": "markdown",
   "id": "0200c1a2",
   "metadata": {},
   "source": [
    "## 2. Write a Python Program to Display the multiplication Table?"
   ]
  },
  {
   "cell_type": "code",
   "execution_count": 10,
   "id": "56b25f1a",
   "metadata": {},
   "outputs": [
    {
     "name": "stdout",
     "output_type": "stream",
     "text": [
      "Enter a number: 12\n",
      "Enter max multiplier: 12\n",
      "12 x 1 =  12\n",
      "12 x 2 =  24\n",
      "12 x 3 =  36\n",
      "12 x 4 =  48\n",
      "12 x 5 =  60\n",
      "12 x 6 =  72\n",
      "12 x 7 =  84\n",
      "12 x 8 =  96\n",
      "12 x 9 =  108\n",
      "12 x 10 =  120\n",
      "12 x 11 =  132\n",
      "12 x 12 =  144\n"
     ]
    }
   ],
   "source": [
    "def mul_table():\n",
    "    num = int(input('Enter a number: '))\n",
    "    max = int(input('Enter max multiplier: '))\n",
    "    if num > 0:\n",
    "        for i in range(1, max+1):\n",
    "            print(f'{num} x {i} = ' ,(num*i))\n",
    "        \n",
    "mul_table()"
   ]
  },
  {
   "cell_type": "markdown",
   "id": "07dc36bd",
   "metadata": {},
   "source": [
    "## 3. Write a Python Program to Print the Fibonacci sequence?"
   ]
  },
  {
   "cell_type": "code",
   "execution_count": 5,
   "id": "1e2b8f5f",
   "metadata": {},
   "outputs": [
    {
     "name": "stdout",
     "output_type": "stream",
     "text": [
      "Enter the max value: 25\n"
     ]
    },
    {
     "data": {
      "text/plain": [
       "{1, 2, 3, 5, 8, 13, 21, 34}"
      ]
     },
     "execution_count": 5,
     "metadata": {},
     "output_type": "execute_result"
    }
   ],
   "source": [
    "def fibonacci():\n",
    "    a = 1\n",
    "    b = 1\n",
    "    l = []\n",
    "    max = int(input('Enter the max value: '))\n",
    "    while b < max:    \n",
    "        a,b = b, a+b\n",
    "        l.append(a)\n",
    "        l.append(b)\n",
    "    fib = set(l)\n",
    "    return fib\n",
    "    \n",
    "fibonacci()"
   ]
  },
  {
   "cell_type": "markdown",
   "id": "5a3e407a",
   "metadata": {},
   "source": [
    "## 4. Write a Python Program to Check Armstrong Number?"
   ]
  },
  {
   "cell_type": "code",
   "execution_count": 18,
   "id": "cb305d38",
   "metadata": {},
   "outputs": [
    {
     "name": "stdout",
     "output_type": "stream",
     "text": [
      "Enter a number:371\n",
      "Armstrong number\n"
     ]
    }
   ],
   "source": [
    "def armstrong():    \n",
    "    n = input('Enter a number:')\n",
    "    sum = 0\n",
    "    for i in n:\n",
    "        sum += int(i) ** 3\n",
    "    if sum == int(n):\n",
    "        print('Armstrong number')\n",
    "    else:\n",
    "        print('Not Armstrong')\n",
    "        \n",
    "armstrong()"
   ]
  },
  {
   "cell_type": "markdown",
   "id": "0846d1a1",
   "metadata": {},
   "source": [
    "## 5. Write a Python Program to Find Armstrong Number in an Interval?"
   ]
  },
  {
   "cell_type": "code",
   "execution_count": 23,
   "id": "cb3df32e",
   "metadata": {},
   "outputs": [
    {
     "name": "stdout",
     "output_type": "stream",
     "text": [
      "Enter lower range: 10\n",
      "Enter upper range: 2000\n",
      "[25, 36, 125, 153, 216, 370, 371, 407, 729, 1296, 1634]\n"
     ]
    }
   ],
   "source": [
    "lower = int(input(\"Enter lower range: \"))  \n",
    "upper = int(input(\"Enter upper range: \"))  \n",
    "\n",
    "l=[]\n",
    "\n",
    "for num in range(lower,upper + 1):  \n",
    "    pow = len(str(num))\n",
    "    sum = 0  \n",
    "    temp = num  \n",
    "    while temp > 0:  \n",
    "        digit = temp % 10  \n",
    "        sum += digit ** pow\n",
    "        temp //= 10  \n",
    "        if num == sum:  \n",
    "            l.append(num)\n",
    "print(l)"
   ]
  },
  {
   "cell_type": "markdown",
   "id": "aa1757f7",
   "metadata": {},
   "source": [
    "## 6. Write a Python Program to Find the Sum of Natural Numbers?"
   ]
  },
  {
   "cell_type": "code",
   "execution_count": 21,
   "id": "449e47dd",
   "metadata": {},
   "outputs": [
    {
     "name": "stdout",
     "output_type": "stream",
     "text": [
      "Enter range: 100\n",
      "5050\n"
     ]
    }
   ],
   "source": [
    "def find_nat():\n",
    "    sum = 0\n",
    "    n = int(input('Enter range: '))\n",
    "    for i in range(n+1):\n",
    "        sum += i \n",
    "    print(sum)\n",
    "    \n",
    "find_nat()"
   ]
  },
  {
   "cell_type": "code",
   "execution_count": null,
   "id": "7fc2cbb1",
   "metadata": {},
   "outputs": [],
   "source": []
  }
 ],
 "metadata": {
  "kernelspec": {
   "display_name": "Python 3",
   "language": "python",
   "name": "python3"
  },
  "language_info": {
   "codemirror_mode": {
    "name": "ipython",
    "version": 3
   },
   "file_extension": ".py",
   "mimetype": "text/x-python",
   "name": "python",
   "nbconvert_exporter": "python",
   "pygments_lexer": "ipython3",
   "version": "3.8.8"
  }
 },
 "nbformat": 4,
 "nbformat_minor": 5
}
