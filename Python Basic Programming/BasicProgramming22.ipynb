{
 "cells": [
  {
   "cell_type": "markdown",
   "id": "9e7210d6",
   "metadata": {},
   "source": [
    "# Basic Programming 22"
   ]
  },
  {
   "cell_type": "markdown",
   "id": "25755779",
   "metadata": {},
   "source": [
    "## Question1\n",
    "Create a function that takes three parameters where:<br>\n",
    "•\tx is the start of the range (inclusive).<br>\n",
    "•\ty is the end of the range (inclusive).<br>\n",
    "•\tn is the divisor to be checked against.<br>\n",
    "Return an ordered list with numbers in the range that are divisible by the third parameter n. Return an empty list if there are no numbers that are divisible by n.<br>\n",
    "Examples<br>\n",
    "list_operation(1, 10, 3) ➞ [3, 6, 9]\n",
    "\n",
    "list_operation(7, 9, 2) ➞ [8]\n",
    "\n",
    "list_operation(15, 20, 7) ➞ []\n"
   ]
  },
  {
   "cell_type": "code",
   "execution_count": 3,
   "id": "c27e50ad",
   "metadata": {},
   "outputs": [],
   "source": [
    "def list_operation(x, y, num):\n",
    "    ls = []\n",
    "\n",
    "    for i in range(x,y):\n",
    "        if i % num == 0:\n",
    "            ls.append(i)\n",
    "\n",
    "    return ls"
   ]
  },
  {
   "cell_type": "code",
   "execution_count": 4,
   "id": "b26d783e",
   "metadata": {},
   "outputs": [
    {
     "name": "stdout",
     "output_type": "stream",
     "text": [
      "[3, 6, 9]\n",
      "[8]\n",
      "[]\n"
     ]
    }
   ],
   "source": [
    "print(list_operation(1, 10, 3))\n",
    "print(list_operation(7, 9, 2))\n",
    "print(list_operation(15, 20, 7))"
   ]
  },
  {
   "cell_type": "markdown",
   "id": "17f73d68",
   "metadata": {},
   "source": [
    "## Question2\n",
    "Create a function that takes in two lists and returns True if the second list follows the first list by one element, and False otherwise. In other words, determine if the second list is the first list shifted to the right by 1.<br>\n",
    "Examples<br>\n",
    "simon_says([1, 2], [5, 1]) ➞ True\n",
    "\n",
    "simon_says([1, 2], [5, 5]) ➞ False\n",
    "\n",
    "simon_says([1, 2, 3, 4, 5], [0, 1, 2, 3, 4]) ➞ True ([1,2,3,4] follows, hence should be False) \n",
    "\n",
    "simon_says([1, 2, 3, 4, 5], [5, 5, 1, 2, 3]) ➞ False<br>\n",
    "Notes<br>\n",
    "•\tBoth input lists will be of the same length, and will have a minimum length of 2.<br>\n",
    "•\tThe values of the 0-indexed element in the second list and the n-1th indexed element in the first list do not matter."
   ]
  },
  {
   "cell_type": "code",
   "execution_count": 36,
   "id": "ec793284",
   "metadata": {},
   "outputs": [],
   "source": [
    " def simon_says(list1, list2):\n",
    "    ls = []\n",
    "    for i in list1:\n",
    "        if i in list2:\n",
    "            ls.append(i)\n",
    "\n",
    "    if len(ls) > 1 or len(ls) == 0:\n",
    "        return False\n",
    "    else:\n",
    "        return True"
   ]
  },
  {
   "cell_type": "code",
   "execution_count": 37,
   "id": "17e72ba4",
   "metadata": {},
   "outputs": [
    {
     "name": "stdout",
     "output_type": "stream",
     "text": [
      "True\n",
      "False\n",
      "False\n",
      "False\n"
     ]
    }
   ],
   "source": [
    "print(simon_says([1, 2], [5, 1]))\n",
    "print(simon_says([1, 2], [5, 5]))\n",
    "print(simon_says([1, 2, 3, 4, 5], [0, 1, 2, 3, 4]))   #should be False as 1,2,3,4 follows\n",
    "print(simon_says([1, 2, 3, 4, 5], [5, 5, 1, 2, 3]))"
   ]
  },
  {
   "cell_type": "markdown",
   "id": "f7f7d69f",
   "metadata": {},
   "source": [
    "## Question3\n",
    "A group of friends have decided to start a secret society. The name will be the first letter of each of their names, sorted in alphabetical order.<br>\n",
    "Create a function that takes in a list of names and returns the name of the secret society.<br>\n",
    "Examples<br>\n",
    "society_name([\"Adam\", \"Sarah\", \"Malcolm\"]) ➞ \"AMS\"\n",
    "\n",
    "society_name([\"Harry\", \"Newt\", \"Luna\", \"Cho\"]) ➞ \"CHLN\"\n",
    "\n",
    "society_name([\"Phoebe\", \"Chandler\", \"Rachel\", \"Ross\", \"Monica\", \"Joey\"])"
   ]
  },
  {
   "cell_type": "code",
   "execution_count": 44,
   "id": "839c2ab3",
   "metadata": {},
   "outputs": [],
   "source": [
    "def society_name(list):\n",
    "    str = ''\n",
    "\n",
    "    for i in list:\n",
    "        str += i[0]\n",
    "\n",
    "    str = ''.join(sorted(str))\n",
    "    return str"
   ]
  },
  {
   "cell_type": "code",
   "execution_count": 45,
   "id": "f690be9b",
   "metadata": {},
   "outputs": [
    {
     "name": "stdout",
     "output_type": "stream",
     "text": [
      "AMS\n",
      "CHLN\n",
      "CJMPRR\n"
     ]
    }
   ],
   "source": [
    "print(society_name([\"Adam\", \"Sarah\", \"Malcolm\"]))\n",
    "print(society_name([\"Harry\", \"Newt\", \"Luna\", \"Cho\"]))\n",
    "print(society_name([\"Phoebe\", \"Chandler\", \"Rachel\", \"Ross\", \"Monica\", \"Joey\"]))"
   ]
  },
  {
   "cell_type": "markdown",
   "id": "a434480d",
   "metadata": {},
   "source": [
    "## Question4\n",
    "An isogram is a word that has no duplicate letters. Create a function that takes a string and returns either True or False depending on whether or not it's an \"isogram\".<br>\n",
    "Examples<br>\n",
    "is_isogram(\"Algorism\") ➞ True\n",
    "\n",
    "is_isogram(\"PasSword\") ➞ False<br>\n",
    "Not case sensitive.\n",
    "\n",
    "is_isogram(\"Consecutive\") ➞ False\n",
    "Notes<br>\n",
    "•\tIgnore letter case (should not be case sensitive).<br>\n",
    "•\tAll test cases contain valid one word strings\n"
   ]
  },
  {
   "cell_type": "code",
   "execution_count": 58,
   "id": "9ecb7d57",
   "metadata": {},
   "outputs": [],
   "source": [
    "def is_isogram(str):\n",
    "    str = str.lower()\n",
    "    h_str = set()\n",
    "\n",
    "    for i in str:\n",
    "        if i not in h_str:\n",
    "            h_str.add(i)\n",
    "        elif i in h_str:\n",
    "            return False\n",
    "    if len(h_str) == len(str):\n",
    "        return True"
   ]
  },
  {
   "cell_type": "code",
   "execution_count": 59,
   "id": "e6840d78",
   "metadata": {},
   "outputs": [
    {
     "name": "stdout",
     "output_type": "stream",
     "text": [
      "True\n",
      "False\n",
      "False\n"
     ]
    }
   ],
   "source": [
    "print(is_isogram(\"Algorism\") )\n",
    "print(is_isogram(\"PasSword\"))\n",
    "print(is_isogram(\"Consecutive\"))"
   ]
  },
  {
   "cell_type": "markdown",
   "id": "62a3eadd",
   "metadata": {},
   "source": [
    "## Question5\n",
    "Create a function that takes a string and returns True or False, depending on whether the characters are in order or not.\n",
    "Examples<br>\n",
    "is_in_order(\"abc\") ➞ True<br>\n",
    "\n",
    "is_in_order(\"edabit\") ➞ False\n",
    "\n",
    "is_in_order(\"123\") ➞ True\n",
    "\n",
    "is_in_order(\"xyzz\") ➞ True\n",
    "Notes<br>\n",
    "You don't have to handle empty strings.<br>"
   ]
  },
  {
   "cell_type": "code",
   "execution_count": 62,
   "id": "4dd42b2f",
   "metadata": {},
   "outputs": [],
   "source": [
    "def is_in_order(str):\n",
    "    try:\n",
    "        str1 = ''.join(sorted(str))\n",
    "\n",
    "        if str==str1:\n",
    "            return True\n",
    "        else:\n",
    "            return False\n",
    "    except Exception as e:\n",
    "        print(e)"
   ]
  },
  {
   "cell_type": "code",
   "execution_count": 63,
   "id": "59805b15",
   "metadata": {},
   "outputs": [
    {
     "name": "stdout",
     "output_type": "stream",
     "text": [
      "True\n",
      "False\n",
      "True\n",
      "True\n"
     ]
    }
   ],
   "source": [
    "print(is_in_order(\"abc\"))\n",
    "print(is_in_order(\"edabit\"))\n",
    "print(is_in_order(\"123\"))\n",
    "print(is_in_order(\"xyzz\"))"
   ]
  },
  {
   "cell_type": "code",
   "execution_count": null,
   "id": "9ef2acfd",
   "metadata": {},
   "outputs": [],
   "source": []
  }
 ],
 "metadata": {
  "kernelspec": {
   "display_name": "Python 3",
   "language": "python",
   "name": "python3"
  },
  "language_info": {
   "codemirror_mode": {
    "name": "ipython",
    "version": 3
   },
   "file_extension": ".py",
   "mimetype": "text/x-python",
   "name": "python",
   "nbconvert_exporter": "python",
   "pygments_lexer": "ipython3",
   "version": "3.8.8"
  }
 },
 "nbformat": 4,
 "nbformat_minor": 5
}
