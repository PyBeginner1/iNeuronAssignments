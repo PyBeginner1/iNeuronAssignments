{
 "cells": [
  {
   "cell_type": "markdown",
   "id": "9c411c32",
   "metadata": {},
   "source": [
    "# BasicProgramming11"
   ]
  },
  {
   "cell_type": "markdown",
   "id": "c52d5442",
   "metadata": {},
   "source": [
    "## 1.\tWrite a Python program to find words which are greater than given length k?"
   ]
  },
  {
   "cell_type": "code",
   "execution_count": 12,
   "id": "9b05cc65",
   "metadata": {},
   "outputs": [
    {
     "name": "stdout",
     "output_type": "stream",
     "text": [
      "Enter a passage: Random number generation is a process by which, often by means of a random number generator (RNG), a sequence of numbers or symbols that cannot be reasonably predicted better than by random chance is generated\n",
      "Enter a number: 7\n"
     ]
    },
    {
     "data": {
      "text/plain": [
       "['generation', 'generator', 'sequence', 'reasonably', 'predicted', 'generated']"
      ]
     },
     "execution_count": 12,
     "metadata": {},
     "output_type": "execute_result"
    }
   ],
   "source": [
    "def find_words():\n",
    "    try:\n",
    "        sentence = input('Enter a passage: ')\n",
    "        l = []\n",
    "        n = int(input('Enter a number: '))\n",
    "\n",
    "        split = sentence.split(' ')\n",
    "\n",
    "        for i in split:\n",
    "            if len(i) > n:\n",
    "                l.append(i)\n",
    "\n",
    "        return l\n",
    "    except Exception as e:\n",
    "        print(e)\n",
    "        \n",
    "find_words()"
   ]
  },
  {
   "cell_type": "markdown",
   "id": "a743e91c",
   "metadata": {},
   "source": [
    "## 2.\tWrite a Python program for removing i-th character from a string?"
   ]
  },
  {
   "cell_type": "code",
   "execution_count": 45,
   "id": "99f579b8",
   "metadata": {},
   "outputs": [
    {
     "name": "stdout",
     "output_type": "stream",
     "text": [
      "Enter a passage: My name is not Khan\n",
      "Enter the position of character you want to remove: 3\n"
     ]
    },
    {
     "data": {
      "text/plain": [
       "'My name is Khan'"
      ]
     },
     "execution_count": 45,
     "metadata": {},
     "output_type": "execute_result"
    }
   ],
   "source": [
    "def remove_string():\n",
    "    try:\n",
    "        string = input('Enter a passage: ')\n",
    "        n = int(input('Enter the position of character you want to remove: '))\n",
    "        f_str = ''\n",
    "\n",
    "        string = string.split(' ')\n",
    "\n",
    "        del string[n]\n",
    "        \n",
    "        f_str = ' '.join(string)\n",
    "\n",
    "        return f_str\n",
    "    except Exception as e:\n",
    "        print(e)\n",
    "        \n",
    "remove_string()"
   ]
  },
  {
   "cell_type": "markdown",
   "id": "983690ec",
   "metadata": {},
   "source": [
    "## 3.\tWrite a Python program to split and join a string?"
   ]
  },
  {
   "cell_type": "code",
   "execution_count": 51,
   "id": "74351901",
   "metadata": {},
   "outputs": [
    {
     "name": "stdout",
     "output_type": "stream",
     "text": [
      "Enter a sentence: Nothing is more badass than treating a woman with respect! – Mr. Torgue\n",
      "-------------------------------------------------------------------------------------------\n",
      "Split String:  ['Nothing', 'is', 'more', 'badass', 'than', 'treating', 'a', 'woman', 'with', 'respect!', '–', 'Mr.', 'Torgue']\n",
      "-------------------------------------------------------------------------------------------\n",
      "After joining the split string:  Nothing is more badass than treating a woman with respect! – Mr. Torgue\n"
     ]
    }
   ],
   "source": [
    "def split_join():\n",
    "    try:\n",
    "        string = input('Enter a sentence: ')\n",
    "        \n",
    "        print('-------------------------------------------------------------------------------------------')\n",
    "        string = string.split(' ')\n",
    "        print('Split String: ',string)\n",
    "        \n",
    "        print('-------------------------------------------------------------------------------------------')\n",
    "        j_string = ' '.join(string)\n",
    "        print('After joining the split string: ',j_string)\n",
    "    except Exception as e:\n",
    "        print(e)\n",
    "        \n",
    "split_join()"
   ]
  },
  {
   "cell_type": "markdown",
   "id": "79126026",
   "metadata": {},
   "source": [
    "## 4.\tWrite a Python to check if a given string is binary string or not?"
   ]
  },
  {
   "cell_type": "code",
   "execution_count": 68,
   "id": "efd8b2c8",
   "metadata": {},
   "outputs": [
    {
     "name": "stdout",
     "output_type": "stream",
     "text": [
      "Enter: 10101\n",
      "10101 is a Binary string\n"
     ]
    }
   ],
   "source": [
    "def check_binary():\n",
    "    try: \n",
    "        string = input('Enter: ')\n",
    "        binary = ['0','1']\n",
    "        flag = 0\n",
    "\n",
    "        for i in string:\n",
    "            if i in binary:\n",
    "                flag = 1\n",
    "            else:\n",
    "                flag = 0\n",
    "                break\n",
    "\n",
    "        if flag == 0:\n",
    "            print(f'{string} is not a Binary string')\n",
    "        else:\n",
    "            print(f'{string} is a Binary string')\n",
    "    except Exception as e:\n",
    "        print(e)\n",
    "            \n",
    "check_binary()"
   ]
  },
  {
   "cell_type": "code",
   "execution_count": 69,
   "id": "80e23e70",
   "metadata": {},
   "outputs": [
    {
     "name": "stdout",
     "output_type": "stream",
     "text": [
      "Enter: 123101010\n",
      "123101010 is not a Binary string\n"
     ]
    }
   ],
   "source": [
    "check_binary()"
   ]
  },
  {
   "cell_type": "markdown",
   "id": "5699cd7a",
   "metadata": {},
   "source": [
    "## 5.\tWrite a Python program to find uncommon words from two Strings?"
   ]
  },
  {
   "cell_type": "code",
   "execution_count": 123,
   "id": "a7908c0f",
   "metadata": {},
   "outputs": [
    {
     "name": "stdout",
     "output_type": "stream",
     "text": [
      "Enter: Royal Challengers Bangalore\n",
      "Enter: Bangalore Bulls\n"
     ]
    },
    {
     "data": {
      "text/plain": [
       "'Royal Challengers'"
      ]
     },
     "execution_count": 123,
     "metadata": {},
     "output_type": "execute_result"
    }
   ],
   "source": [
    "def uncommon_words():\n",
    "    try:\n",
    "        string1 = input('Enter: ').split(' ')\n",
    "        string2 = input('Enter: ').split(' ')\n",
    "        words_ls = []\n",
    "        words= ''\n",
    "\n",
    "        for i in string1:\n",
    "            if i not in string2:\n",
    "                words_ls.append(i)\n",
    "                \n",
    "        words = ' '.join(words_ls)\n",
    "\n",
    "        return words\n",
    "    except Exception as e:\n",
    "        print(e)\n",
    "        \n",
    "uncommon_words()"
   ]
  },
  {
   "cell_type": "markdown",
   "id": "cbb79fb9",
   "metadata": {},
   "source": [
    "## 6.\tWrite a Python to find all duplicate characters in string?"
   ]
  },
  {
   "cell_type": "code",
   "execution_count": 101,
   "id": "28a64b9e",
   "metadata": {},
   "outputs": [
    {
     "name": "stdout",
     "output_type": "stream",
     "text": [
      "Enter a string: Malayalam\n",
      "Unique characters: ['m', 'a', 'l', 'y']\n",
      "Duplicate:  ['a', 'a', 'l', 'a', 'm']\n"
     ]
    }
   ],
   "source": [
    "def duplicate():\n",
    "    try:\n",
    "        string1 = input('Enter a string: ').lower()\n",
    "        unique = []\n",
    "        duplicate= []\n",
    "\n",
    "        for i in string1:\n",
    "            if i not in unique:\n",
    "                unique.append(i)\n",
    "            else:\n",
    "                duplicate.append(i)\n",
    "\n",
    "        print('Unique characters:' , unique)\n",
    "        print('Duplicate: ',duplicate)\n",
    "    except Exception as e:\n",
    "        print(e)\n",
    "        \n",
    "duplicate()"
   ]
  },
  {
   "cell_type": "markdown",
   "id": "6eb3f4c5",
   "metadata": {},
   "source": [
    "## 7.\tWrite a Python Program to check if a string contains any special character?"
   ]
  },
  {
   "cell_type": "code",
   "execution_count": 124,
   "id": "08b6399e",
   "metadata": {},
   "outputs": [
    {
     "name": "stdout",
     "output_type": "stream",
     "text": [
      "Enter: sadagbjdgh#22@gmail.com\n",
      "There are 2 special characters in given string ---> # @\n"
     ]
    }
   ],
   "source": [
    "def check_special():\n",
    "    try:\n",
    "        string = input('Enter: ')\n",
    "        special = '@_!#$%^&*()<>?/\\|}{~:'\n",
    "        special_list = []\n",
    "        special_str = ''\n",
    "\n",
    "        for i in string:\n",
    "            if i in special:\n",
    "                special_list.append(i)\n",
    "                \n",
    "        special_str = ' '.join(special_list)\n",
    "\n",
    "        if len(special_list) > 0:\n",
    "            print(f'There are {len(special_list)} special characters in given string ---> {special_str}')\n",
    "        else:\n",
    "            print('There are no special characters')\n",
    "    except Exception as e:\n",
    "        print(e)\n",
    "        \n",
    "check_special()"
   ]
  },
  {
   "cell_type": "code",
   "execution_count": 126,
   "id": "776bc52a",
   "metadata": {},
   "outputs": [
    {
     "name": "stdout",
     "output_type": "stream",
     "text": [
      "Enter: sfklashfkla12123sk\n",
      "There are no special characters\n"
     ]
    }
   ],
   "source": [
    "check_special()"
   ]
  },
  {
   "cell_type": "code",
   "execution_count": null,
   "id": "e4957217",
   "metadata": {},
   "outputs": [],
   "source": []
  }
 ],
 "metadata": {
  "kernelspec": {
   "display_name": "Python 3",
   "language": "python",
   "name": "python3"
  },
  "language_info": {
   "codemirror_mode": {
    "name": "ipython",
    "version": 3
   },
   "file_extension": ".py",
   "mimetype": "text/x-python",
   "name": "python",
   "nbconvert_exporter": "python",
   "pygments_lexer": "ipython3",
   "version": "3.8.8"
  }
 },
 "nbformat": 4,
 "nbformat_minor": 5
}
