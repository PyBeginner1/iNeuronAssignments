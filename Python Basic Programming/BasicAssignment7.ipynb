{
 "cells": [
  {
   "cell_type": "markdown",
   "id": "9c4ca650",
   "metadata": {},
   "source": [
    "# Basic Assignment 7"
   ]
  },
  {
   "cell_type": "markdown",
   "id": "0164312e",
   "metadata": {},
   "source": [
    "## 1. Write a Python Program to find sum of array?"
   ]
  },
  {
   "cell_type": "code",
   "execution_count": 2,
   "id": "c5433b88",
   "metadata": {},
   "outputs": [
    {
     "data": {
      "text/plain": [
       "10"
      ]
     },
     "execution_count": 2,
     "metadata": {},
     "output_type": "execute_result"
    }
   ],
   "source": [
    "def sum_array(n):\n",
    "    sum = 0\n",
    "    for i in n:\n",
    "        sum += i\n",
    "    return sum\n",
    "        \n",
    "sum_array([1,2,3,4])"
   ]
  },
  {
   "cell_type": "markdown",
   "id": "c1f5ebc9",
   "metadata": {},
   "source": [
    "## 2.\tWrite a Python Program to find largest element in an array?"
   ]
  },
  {
   "cell_type": "code",
   "execution_count": 34,
   "id": "a711b4db",
   "metadata": {},
   "outputs": [
    {
     "name": "stdout",
     "output_type": "stream",
     "text": [
      "Enter number of elements: 5\n",
      "12\n",
      "34\n",
      "1\n",
      "55\n",
      "69\n",
      "Largest element in the array:  69\n"
     ]
    }
   ],
   "source": [
    "def largest_array():\n",
    "    l = []\n",
    "    n = int(input('Enter number of elements: '))\n",
    "    for i in range(0,n):\n",
    "        m = int(input(''))\n",
    "        l.append(m)\n",
    "    large = sorted(l)[-1]\n",
    "    print('Largest element in the array: ' ,large)\n",
    "    \n",
    "largest_array()"
   ]
  },
  {
   "cell_type": "markdown",
   "id": "2a2a553a",
   "metadata": {},
   "source": [
    "## 3.\tWrite a Python Program for array rotation?"
   ]
  },
  {
   "cell_type": "code",
   "execution_count": 39,
   "id": "a32907e9",
   "metadata": {},
   "outputs": [
    {
     "name": "stdout",
     "output_type": "stream",
     "text": [
      "Enter number of elements: 5\n",
      "11\n",
      "10\n",
      "1\n",
      "34\n",
      "56\n",
      "Original:  [11, 10, 1, 34, 56]\n",
      "After rotation:  [56, 34, 1, 10, 11]\n"
     ]
    }
   ],
   "source": [
    "def array_rotate():\n",
    "    l = []\n",
    "    n = int(input('Enter number of elements: '))\n",
    "    for i in range(0,n):\n",
    "        m = int(input(''))\n",
    "        l.append(m)\n",
    "    print('Original: ', l)\n",
    "    print('After rotation: ' ,l[::-1])\n",
    "\n",
    "array_rotate()"
   ]
  },
  {
   "cell_type": "markdown",
   "id": "13b38fcb",
   "metadata": {},
   "source": [
    "## 4.\tWrite a Python Program to Split the array and add the first part to the end?"
   ]
  },
  {
   "cell_type": "code",
   "execution_count": 42,
   "id": "5072b28e",
   "metadata": {},
   "outputs": [
    {
     "name": "stdout",
     "output_type": "stream",
     "text": [
      "Enter number of elements: 5\n",
      "12\n",
      "34\n",
      "56\n",
      "22\n",
      "34\n",
      "Before Addition of First and Last digit:  [12, 34, 56, 22, 34]\n",
      "After Addition of First and Last digit:  [12, 34, 56, 22, 34, 46]\n"
     ]
    }
   ],
   "source": [
    "#By above question assuming the question is to add first and last and then appending the sum ito array\n",
    "\n",
    "def sum_array():\n",
    "    l = []\n",
    "    n = int(input('Enter number of elements: '))\n",
    "    for i in range(0, n):\n",
    "        m = int(input())\n",
    "        l.append(m)\n",
    "    print('Before Addition of First and Last digit: ',l)\n",
    "    sum = l[0] + l[-1]\n",
    "    l.append(sum)\n",
    "    print('After Addition of First and Last digit: ',l)\n",
    "\n",
    "sum_array()"
   ]
  },
  {
   "cell_type": "markdown",
   "id": "3c857e16",
   "metadata": {},
   "source": [
    "## 5.\tWrite a Python Program to check if given array is Monotonic?"
   ]
  },
  {
   "cell_type": "code",
   "execution_count": 52,
   "id": "6d48b344",
   "metadata": {},
   "outputs": [
    {
     "data": {
      "text/plain": [
       "True"
      ]
     },
     "execution_count": 52,
     "metadata": {},
     "output_type": "execute_result"
    }
   ],
   "source": [
    "#The all() function returns True if all items in an iterable are true, otherwise it returns False.\n",
    "def monotonic_check(n):\n",
    "    if (all(n[i] > n[i+1]for i in range(len(n)-1)) or all(n[i] < n[i+1]for i in range(len(n)-1))):\n",
    "        return True\n",
    "    else:\n",
    "        return False\n",
    "\n",
    "monotonic_check([1,2,3,4])"
   ]
  },
  {
   "cell_type": "code",
   "execution_count": 53,
   "id": "0ce33610",
   "metadata": {},
   "outputs": [
    {
     "data": {
      "text/plain": [
       "False"
      ]
     },
     "execution_count": 53,
     "metadata": {},
     "output_type": "execute_result"
    }
   ],
   "source": [
    "monotonic_check([1,2,3,4,1])"
   ]
  },
  {
   "cell_type": "code",
   "execution_count": 54,
   "id": "a3270745",
   "metadata": {},
   "outputs": [
    {
     "data": {
      "text/plain": [
       "True"
      ]
     },
     "execution_count": 54,
     "metadata": {},
     "output_type": "execute_result"
    }
   ],
   "source": [
    "monotonic_check([4,3,2,1])"
   ]
  },
  {
   "cell_type": "code",
   "execution_count": 51,
   "id": "3771b489",
   "metadata": {},
   "outputs": [
    {
     "name": "stdout",
     "output_type": "stream",
     "text": [
      "<class 'bool'>\n",
      "<class 'bool'>\n",
      "<class 'bool'>\n"
     ]
    }
   ],
   "source": [
    "n = [1,2,3,4]\n",
    "for i in range(len(n)-1):\n",
    "    print(type(all(n)))"
   ]
  },
  {
   "cell_type": "code",
   "execution_count": null,
   "id": "5e0e35ae",
   "metadata": {},
   "outputs": [],
   "source": []
  }
 ],
 "metadata": {
  "kernelspec": {
   "display_name": "Python 3",
   "language": "python",
   "name": "python3"
  },
  "language_info": {
   "codemirror_mode": {
    "name": "ipython",
    "version": 3
   },
   "file_extension": ".py",
   "mimetype": "text/x-python",
   "name": "python",
   "nbconvert_exporter": "python",
   "pygments_lexer": "ipython3",
   "version": "3.8.8"
  }
 },
 "nbformat": 4,
 "nbformat_minor": 5
}
