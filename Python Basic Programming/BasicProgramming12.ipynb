{
 "cells": [
  {
   "cell_type": "markdown",
   "id": "d15ba649",
   "metadata": {},
   "source": [
    "# Basic Programming 12"
   ]
  },
  {
   "cell_type": "markdown",
   "id": "7106cd93",
   "metadata": {},
   "source": [
    "## 1.\tWrite a Python program to Extract Unique values dictionary values?"
   ]
  },
  {
   "cell_type": "code",
   "execution_count": 38,
   "id": "5e4dd887",
   "metadata": {},
   "outputs": [
    {
     "name": "stdout",
     "output_type": "stream",
     "text": [
      "Unique Vlaues:  {'a': 'Cricket', 'b': 'Football', 'e': 'Hockey'}\n"
     ]
    }
   ],
   "source": [
    "def get_unique():\n",
    "    try:\n",
    "        d = {'a': 'Cricket', 'b': 'Football', 'c' :'Basketball', 'd' :'Basketball', 'e': 'Hockey'}\n",
    "        unique = (d.values())\n",
    "        hash_u = set()\n",
    "        l = []\n",
    "        keys = []\n",
    "\n",
    "        for i in unique:\n",
    "            if i not in hash_u:\n",
    "                hash_u.add(i)\n",
    "            elif i in hash_u:\n",
    "                l.append(i)\n",
    "\n",
    "        for i, k in d.items():\n",
    "            for j in l:\n",
    "                if k == j:\n",
    "                    keys.append(i)\n",
    "\n",
    "        for i in keys:\n",
    "            d.pop(i)\n",
    "\n",
    "        print('Unique Vlaues: ',d)\n",
    "    except Exception as e:\n",
    "        print(e)\n",
    "        \n",
    "get_unique()"
   ]
  },
  {
   "cell_type": "markdown",
   "id": "127d6229",
   "metadata": {},
   "source": [
    "## 2.\tWrite a Python program to find the sum of all items in a dictionary?"
   ]
  },
  {
   "cell_type": "code",
   "execution_count": 40,
   "id": "97eb357e",
   "metadata": {},
   "outputs": [
    {
     "name": "stdout",
     "output_type": "stream",
     "text": [
      "Sum of all values in dictionary:  420\n"
     ]
    }
   ],
   "source": [
    "def sums():\n",
    "    try:\n",
    "        dic = {'a' : 120, 'b' : 100, 'c' : 200}\n",
    "        print('Sum of all values in dictionary: ',sum(dic.values()))\n",
    "    except Exception as e:\n",
    "        print(e)\n",
    "        \n",
    "sums()"
   ]
  },
  {
   "cell_type": "markdown",
   "id": "5f84c135",
   "metadata": {},
   "source": [
    "## 3.\tWrite a Python program to Merging two Dictionaries?"
   ]
  },
  {
   "cell_type": "code",
   "execution_count": 50,
   "id": "0170812a",
   "metadata": {},
   "outputs": [
    {
     "data": {
      "text/plain": [
       "{'a': 120, 'b': 100, 'c': 200, 'd': 240, 'e': 300, 'f': 500}"
      ]
     },
     "execution_count": 50,
     "metadata": {},
     "output_type": "execute_result"
    }
   ],
   "source": [
    "def merge():\n",
    "    try:\n",
    "        dic1 = {'a' : 120, 'b' : 100, 'c' : 200}\n",
    "        dic2 = {'d' : 240, 'e' : 300, 'f' : 500}\n",
    "        f_dic = {**dic1, **dic2}\n",
    "        return f_dic\n",
    "    except Exception as e:\n",
    "        print(e)\n",
    "        \n",
    "merge()"
   ]
  },
  {
   "cell_type": "markdown",
   "id": "a69e4efa",
   "metadata": {},
   "source": [
    "## 4.\tWrite a Python program to convert key-values list to flat dictionary?"
   ]
  },
  {
   "cell_type": "code",
   "execution_count": 53,
   "id": "b57b828f",
   "metadata": {},
   "outputs": [
    {
     "data": {
      "text/plain": [
       "{'a': 10, 'b': 20, 'c': 30}"
      ]
     },
     "execution_count": 53,
     "metadata": {},
     "output_type": "execute_result"
    }
   ],
   "source": [
    "ls = [['a', 10], ['b', 20], ['c', 30]]\n",
    "dict(ls)"
   ]
  },
  {
   "cell_type": "code",
   "execution_count": 56,
   "id": "a03ec0ed",
   "metadata": {},
   "outputs": [
    {
     "data": {
      "text/plain": [
       "{'a': 10, 'b': 20, 'c': 30}"
      ]
     },
     "execution_count": 56,
     "metadata": {},
     "output_type": "execute_result"
    }
   ],
   "source": [
    "d = {}\n",
    "for i in ls:\n",
    "    d[i[0]] = i[1] \n",
    "d"
   ]
  },
  {
   "cell_type": "markdown",
   "id": "9450dd54",
   "metadata": {},
   "source": [
    "## 5.\tWrite a Python program to insertion at the beginning in OrderedDict?"
   ]
  },
  {
   "cell_type": "code",
   "execution_count": 4,
   "id": "eeec431e",
   "metadata": {},
   "outputs": [
    {
     "name": "stdout",
     "output_type": "stream",
     "text": [
      "After update:  OrderedDict([('a', 123), ('b', 121), ('e', 1221), ('c', 1)])\n",
      "Final:  OrderedDict([('c', 1), ('a', 123), ('b', 121), ('e', 1221)])\n"
     ]
    }
   ],
   "source": [
    "from collections import OrderedDict\n",
    "\n",
    "o_dict = OrderedDict({'a' : 123, 'b' : 121, 'e' : 1221})\n",
    "n_dict = {'c' : 1}\n",
    "\n",
    "o_dict.update(n_dict)\n",
    "print('After update: ', o_dict)\n",
    "o_dict.move_to_end('c', last = False)\n",
    "print('Final: ' ,o_dict)"
   ]
  },
  {
   "cell_type": "markdown",
   "id": "6876968b",
   "metadata": {},
   "source": [
    "## 6.\tWrite a Python program to check order of character in string using OrderedDict()?"
   ]
  },
  {
   "cell_type": "code",
   "execution_count": 10,
   "id": "9af90e3a",
   "metadata": {},
   "outputs": [
    {
     "data": {
      "text/plain": [
       "True"
      ]
     },
     "execution_count": 10,
     "metadata": {},
     "output_type": "execute_result"
    }
   ],
   "source": [
    "from collections import OrderedDict \n",
    "\n",
    "def check_order(input, pattern):\n",
    "    o_dict = OrderedDict.fromkeys(input)\n",
    "    \n",
    "    count = 0\n",
    "    for i,j in o_dict.items():\n",
    "        if (i == pattern[count]):\n",
    "            count += 1\n",
    "            \n",
    "        if (count == len(pattern)):\n",
    "            return True\n",
    "    return False\n",
    "\n",
    "check_order('Gaming', 'ag')"
   ]
  },
  {
   "cell_type": "markdown",
   "id": "9d977adc",
   "metadata": {},
   "source": [
    "## 7.\tWrite a Python program to sort Python Dictionaries by Key or Value?"
   ]
  },
  {
   "cell_type": "code",
   "execution_count": 64,
   "id": "de216847",
   "metadata": {},
   "outputs": [
    {
     "name": "stdout",
     "output_type": "stream",
     "text": [
      "Sorted Keys:  {'a': 'z', 'b': 'y', 'c': 'x'}\n",
      "Sorted Values:  {'c': 'x', 'b': 'y', 'a': 'z'}\n"
     ]
    }
   ],
   "source": [
    "o_dict = {'a' : 'z', 'b' : 'y', 'c' : 'x'}\n",
    "\n",
    "def sort(input):    \n",
    "    key_dict = dict(sorted(o_dict.items(), key=lambda x:x[0]))\n",
    "    val_dict = dict(sorted(o_dict.items(), key=lambda x:x[1]))\n",
    "    print('Sorted Keys: ',key_dict)\n",
    "    print('Sorted Values: ',val_dict)\n",
    "    \n",
    "sort(o_dict)"
   ]
  },
  {
   "cell_type": "code",
   "execution_count": 59,
   "id": "5e183131",
   "metadata": {},
   "outputs": [
    {
     "data": {
      "text/plain": [
       "[('a', 'z'), ('b', 'y'), ('c', 'x')]"
      ]
     },
     "execution_count": 59,
     "metadata": {},
     "output_type": "execute_result"
    }
   ],
   "source": [
    "sorted(o_dict.items(), key = lambda x: x[0])"
   ]
  },
  {
   "cell_type": "code",
   "execution_count": 61,
   "id": "1dbada58",
   "metadata": {},
   "outputs": [
    {
     "data": {
      "text/plain": [
       "[('c', 'x'), ('b', 'y'), ('a', 'z')]"
      ]
     },
     "execution_count": 61,
     "metadata": {},
     "output_type": "execute_result"
    }
   ],
   "source": [
    "sorted(o_dict.items(), key = lambda x: x[1])"
   ]
  },
  {
   "cell_type": "code",
   "execution_count": null,
   "id": "7e02bf9a",
   "metadata": {},
   "outputs": [],
   "source": []
  }
 ],
 "metadata": {
  "kernelspec": {
   "display_name": "Python 3",
   "language": "python",
   "name": "python3"
  },
  "language_info": {
   "codemirror_mode": {
    "name": "ipython",
    "version": 3
   },
   "file_extension": ".py",
   "mimetype": "text/x-python",
   "name": "python",
   "nbconvert_exporter": "python",
   "pygments_lexer": "ipython3",
   "version": "3.8.8"
  }
 },
 "nbformat": 4,
 "nbformat_minor": 5
}
